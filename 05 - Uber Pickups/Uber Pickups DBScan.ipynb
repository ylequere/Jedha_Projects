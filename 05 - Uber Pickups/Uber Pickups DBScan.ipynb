{
 "cells": [
  {
   "cell_type": "markdown",
   "id": "2f9757bb-7213-44bc-862f-73d213aafe9b",
   "metadata": {},
   "source": [
    "## UBER Pickups clustering with DBScan"
   ]
  },
  {
   "cell_type": "code",
   "execution_count": 1,
   "id": "10550254-c3d0-4951-b320-4e8d0de7feb7",
   "metadata": {},
   "outputs": [],
   "source": [
    "import pandas as pd\n",
    "import seaborn as sns\n",
    "import numpy as np\n",
    "import matplotlib.pyplot as plt\n",
    "import plotly.express as px "
   ]
  },
  {
   "cell_type": "markdown",
   "id": "8a10a612-afc5-4e67-9ff5-fddf5d06dd6c",
   "metadata": {},
   "source": [
    "Like we did with KMeans algorithm, let's build a dataset by cleaning up the data, adding day of week and hour ands taking only 5% of data because DBScan alogrithm is more time consuming."
   ]
  },
  {
   "cell_type": "code",
   "execution_count": 2,
   "id": "7a4f5192-a89b-4f47-95bb-bdbdef2f972f",
   "metadata": {},
   "outputs": [
    {
     "name": "stdout",
     "output_type": "stream",
     "text": [
      "Loading uber-raw-data-apr14.csv in a dataset\n",
      "Loading uber-raw-data-aug14.csv in a dataset\n",
      "Loading uber-raw-data-jul14.csv in a dataset\n",
      "Loading uber-raw-data-jun14.csv in a dataset\n",
      "Loading uber-raw-data-may14.csv in a dataset\n",
      "Loading uber-raw-data-sep14.csv in a dataset\n",
      "Cleaning up data, calculating sample and needed columns...\n"
     ]
    }
   ],
   "source": [
    "import os\n",
    "\n",
    "filepath = './Sources'\n",
    "df = pd.DataFrame()\n",
    "for filename in os.listdir(filepath):\n",
    "    if 'uber-raw-data' in filename and '14.csv' in filename: \n",
    "        print(f'Loading {filename} in a dataset')\n",
    "        df_single_file = pd.read_csv(os.path.join(filepath, filename))\n",
    "        df = pd.concat([df, df_single_file])\n",
    "        \n",
    "print(\"Cleaning up data, calculating sample and needed columns...\")\n",
    "del df_single_file        \n",
    "\n",
    "df.drop(columns=['Base'], inplace = True)\n",
    "\n",
    "# We take a sample of 5% of data\n",
    "frac=0.05\n",
    "df_sample = df.sample(frac=frac, random_state=0)\n",
    "del df\n",
    "\n",
    "df_sample['datetime'] = pd.to_datetime(df_sample['Date/Time'])\n",
    "df_sample['day'] = df_sample['datetime'].dt.dayofweek\n",
    "df_sample['hour'] = df_sample['datetime'].dt.hour\n",
    "df_sample = df_sample.drop(columns=['datetime', 'Date/Time'])"
   ]
  },
  {
   "cell_type": "code",
   "execution_count": 3,
   "id": "d6d30028-3668-4068-a13b-5a8bd7ead7d8",
   "metadata": {},
   "outputs": [
    {
     "name": "stdout",
     "output_type": "stream",
     "text": [
      "Sample row count: 226716\n"
     ]
    },
    {
     "data": {
      "text/html": [
       "<div>\n",
       "<style scoped>\n",
       "    .dataframe tbody tr th:only-of-type {\n",
       "        vertical-align: middle;\n",
       "    }\n",
       "\n",
       "    .dataframe tbody tr th {\n",
       "        vertical-align: top;\n",
       "    }\n",
       "\n",
       "    .dataframe thead th {\n",
       "        text-align: right;\n",
       "    }\n",
       "</style>\n",
       "<table border=\"1\" class=\"dataframe\">\n",
       "  <thead>\n",
       "    <tr style=\"text-align: right;\">\n",
       "      <th></th>\n",
       "      <th>Lat</th>\n",
       "      <th>Lon</th>\n",
       "      <th>day</th>\n",
       "      <th>hour</th>\n",
       "    </tr>\n",
       "  </thead>\n",
       "  <tbody>\n",
       "    <tr>\n",
       "      <th>202260</th>\n",
       "      <td>40.7590</td>\n",
       "      <td>-73.9728</td>\n",
       "      <td>1</td>\n",
       "      <td>21</td>\n",
       "    </tr>\n",
       "    <tr>\n",
       "      <th>330654</th>\n",
       "      <td>40.7220</td>\n",
       "      <td>-73.9960</td>\n",
       "      <td>3</td>\n",
       "      <td>13</td>\n",
       "    </tr>\n",
       "    <tr>\n",
       "      <th>89280</th>\n",
       "      <td>40.7935</td>\n",
       "      <td>-73.9736</td>\n",
       "      <td>2</td>\n",
       "      <td>16</td>\n",
       "    </tr>\n",
       "    <tr>\n",
       "      <th>603330</th>\n",
       "      <td>40.7146</td>\n",
       "      <td>-73.9667</td>\n",
       "      <td>6</td>\n",
       "      <td>13</td>\n",
       "    </tr>\n",
       "    <tr>\n",
       "      <th>108908</th>\n",
       "      <td>40.6271</td>\n",
       "      <td>-73.9437</td>\n",
       "      <td>2</td>\n",
       "      <td>11</td>\n",
       "    </tr>\n",
       "  </tbody>\n",
       "</table>\n",
       "</div>"
      ],
      "text/plain": [
       "            Lat      Lon  day  hour\n",
       "202260  40.7590 -73.9728    1    21\n",
       "330654  40.7220 -73.9960    3    13\n",
       "89280   40.7935 -73.9736    2    16\n",
       "603330  40.7146 -73.9667    6    13\n",
       "108908  40.6271 -73.9437    2    11"
      ]
     },
     "execution_count": 3,
     "metadata": {},
     "output_type": "execute_result"
    }
   ],
   "source": [
    "print(\"Sample row count:\", df_sample.shape[0])\n",
    "df_sample.head()"
   ]
  },
  {
   "cell_type": "code",
   "execution_count": 4,
   "id": "42cb1048-829e-405b-8e8f-fa1f6c419001",
   "metadata": {},
   "outputs": [],
   "source": [
    "fields= ['Lat', 'Lon']"
   ]
  },
  {
   "cell_type": "markdown",
   "id": "f9e9571f-63a6-4aad-bf26-48b93a6e5470",
   "metadata": {},
   "source": [
    "Let's calculate and plot the clusters for all data whatever the day and hour first !"
   ]
  },
  {
   "cell_type": "code",
   "execution_count": 5,
   "id": "8931b189-cb66-47e6-a37e-726f2d44fce9",
   "metadata": {},
   "outputs": [
    {
     "data": {
      "text/html": [
       "<style>#sk-container-id-1 {color: black;background-color: white;}#sk-container-id-1 pre{padding: 0;}#sk-container-id-1 div.sk-toggleable {background-color: white;}#sk-container-id-1 label.sk-toggleable__label {cursor: pointer;display: block;width: 100%;margin-bottom: 0;padding: 0.3em;box-sizing: border-box;text-align: center;}#sk-container-id-1 label.sk-toggleable__label-arrow:before {content: \"▸\";float: left;margin-right: 0.25em;color: #696969;}#sk-container-id-1 label.sk-toggleable__label-arrow:hover:before {color: black;}#sk-container-id-1 div.sk-estimator:hover label.sk-toggleable__label-arrow:before {color: black;}#sk-container-id-1 div.sk-toggleable__content {max-height: 0;max-width: 0;overflow: hidden;text-align: left;background-color: #f0f8ff;}#sk-container-id-1 div.sk-toggleable__content pre {margin: 0.2em;color: black;border-radius: 0.25em;background-color: #f0f8ff;}#sk-container-id-1 input.sk-toggleable__control:checked~div.sk-toggleable__content {max-height: 200px;max-width: 100%;overflow: auto;}#sk-container-id-1 input.sk-toggleable__control:checked~label.sk-toggleable__label-arrow:before {content: \"▾\";}#sk-container-id-1 div.sk-estimator input.sk-toggleable__control:checked~label.sk-toggleable__label {background-color: #d4ebff;}#sk-container-id-1 div.sk-label input.sk-toggleable__control:checked~label.sk-toggleable__label {background-color: #d4ebff;}#sk-container-id-1 input.sk-hidden--visually {border: 0;clip: rect(1px 1px 1px 1px);clip: rect(1px, 1px, 1px, 1px);height: 1px;margin: -1px;overflow: hidden;padding: 0;position: absolute;width: 1px;}#sk-container-id-1 div.sk-estimator {font-family: monospace;background-color: #f0f8ff;border: 1px dotted black;border-radius: 0.25em;box-sizing: border-box;margin-bottom: 0.5em;}#sk-container-id-1 div.sk-estimator:hover {background-color: #d4ebff;}#sk-container-id-1 div.sk-parallel-item::after {content: \"\";width: 100%;border-bottom: 1px solid gray;flex-grow: 1;}#sk-container-id-1 div.sk-label:hover label.sk-toggleable__label {background-color: #d4ebff;}#sk-container-id-1 div.sk-serial::before {content: \"\";position: absolute;border-left: 1px solid gray;box-sizing: border-box;top: 0;bottom: 0;left: 50%;z-index: 0;}#sk-container-id-1 div.sk-serial {display: flex;flex-direction: column;align-items: center;background-color: white;padding-right: 0.2em;padding-left: 0.2em;position: relative;}#sk-container-id-1 div.sk-item {position: relative;z-index: 1;}#sk-container-id-1 div.sk-parallel {display: flex;align-items: stretch;justify-content: center;background-color: white;position: relative;}#sk-container-id-1 div.sk-item::before, #sk-container-id-1 div.sk-parallel-item::before {content: \"\";position: absolute;border-left: 1px solid gray;box-sizing: border-box;top: 0;bottom: 0;left: 50%;z-index: -1;}#sk-container-id-1 div.sk-parallel-item {display: flex;flex-direction: column;z-index: 1;position: relative;background-color: white;}#sk-container-id-1 div.sk-parallel-item:first-child::after {align-self: flex-end;width: 50%;}#sk-container-id-1 div.sk-parallel-item:last-child::after {align-self: flex-start;width: 50%;}#sk-container-id-1 div.sk-parallel-item:only-child::after {width: 0;}#sk-container-id-1 div.sk-dashed-wrapped {border: 1px dashed gray;margin: 0 0.4em 0.5em 0.4em;box-sizing: border-box;padding-bottom: 0.4em;background-color: white;}#sk-container-id-1 div.sk-label label {font-family: monospace;font-weight: bold;display: inline-block;line-height: 1.2em;}#sk-container-id-1 div.sk-label-container {text-align: center;}#sk-container-id-1 div.sk-container {/* jupyter's `normalize.less` sets `[hidden] { display: none; }` but bootstrap.min.css set `[hidden] { display: none !important; }` so we also need the `!important` here to be able to override the default hidden behavior on the sphinx rendered scikit-learn.org. See: https://github.com/scikit-learn/scikit-learn/issues/21755 */display: inline-block !important;position: relative;}#sk-container-id-1 div.sk-text-repr-fallback {display: none;}</style><div id=\"sk-container-id-1\" class=\"sk-top-container\"><div class=\"sk-text-repr-fallback\"><pre>DBSCAN(eps=0.003, metric=&#x27;manhattan&#x27;, min_samples=500)</pre><b>In a Jupyter environment, please rerun this cell to show the HTML representation or trust the notebook. <br />On GitHub, the HTML representation is unable to render, please try loading this page with nbviewer.org.</b></div><div class=\"sk-container\" hidden><div class=\"sk-item\"><div class=\"sk-estimator sk-toggleable\"><input class=\"sk-toggleable__control sk-hidden--visually\" id=\"sk-estimator-id-1\" type=\"checkbox\" checked><label for=\"sk-estimator-id-1\" class=\"sk-toggleable__label sk-toggleable__label-arrow\">DBSCAN</label><div class=\"sk-toggleable__content\"><pre>DBSCAN(eps=0.003, metric=&#x27;manhattan&#x27;, min_samples=500)</pre></div></div></div></div></div>"
      ],
      "text/plain": [
       "DBSCAN(eps=0.003, metric='manhattan', min_samples=500)"
      ]
     },
     "execution_count": 5,
     "metadata": {},
     "output_type": "execute_result"
    }
   ],
   "source": [
    "from sklearn.cluster import DBSCAN\n",
    "\n",
    "db = DBSCAN(eps=0.003, min_samples=500, metric=\"manhattan\")\n",
    "db.fit(df_sample[fields])"
   ]
  },
  {
   "cell_type": "code",
   "execution_count": 6,
   "id": "60988979-f086-4f9f-9a9b-adaec42479cc",
   "metadata": {},
   "outputs": [
    {
     "name": "stdout",
     "output_type": "stream",
     "text": [
      "[-1  0  1  2  3  4  5  6  7  8  9] [ 48528 162883   3638   2232    992   2008   1606    780   2655    802\n",
      "    592]\n"
     ]
    }
   ],
   "source": [
    "unique, counts = np.unique(db.labels_, return_counts=True)\n",
    "print(unique, counts)"
   ]
  },
  {
   "cell_type": "code",
   "execution_count": 7,
   "id": "53549343-3448-46e0-9c10-a4c4ed76eba7",
   "metadata": {},
   "outputs": [
    {
     "name": "stdout",
     "output_type": "stream",
     "text": [
      "Percentage of outliers is :  21 %\n"
     ]
    }
   ],
   "source": [
    "print('Percentage of outliers is : ', round(counts[0]*100/df_sample.shape[0]), '%')"
   ]
  },
  {
   "cell_type": "markdown",
   "id": "3b2122a0-e69d-4d15-90b9-4a1b481679cc",
   "metadata": {},
   "source": [
    "By taking DBSCAN(eps=0.03, metric='manhattan', min_samples=500) we get 10 clusters and not so many outliers (-1 value)."
   ]
  },
  {
   "cell_type": "code",
   "execution_count": 8,
   "id": "e8de70ec-f445-4116-a67a-6eab4ffeb2db",
   "metadata": {},
   "outputs": [],
   "source": [
    "df_sample['dbs_cluster'] = db.labels_"
   ]
  },
  {
   "cell_type": "code",
   "execution_count": 9,
   "id": "b664cc5b-dbc6-4958-bf60-f5f384e4da3d",
   "metadata": {},
   "outputs": [
    {
     "data": {
      "text/html": [
       "<iframe\n",
       "    scrolling=\"no\"\n",
       "    width=\"620px\"\n",
       "    height=\"520\"\n",
       "    src=\"iframe_figures/figure_9.html\"\n",
       "    frameborder=\"0\"\n",
       "    allowfullscreen\n",
       "></iframe>\n"
      ]
     },
     "metadata": {},
     "output_type": "display_data"
    }
   ],
   "source": [
    "fig = px.scatter_mapbox(\n",
    "        df_sample[df_sample.dbs_cluster!=-1], \n",
    "        # X_sample,\n",
    "        lat=\"Lat\", \n",
    "        lon=\"Lon\",\n",
    "        color=\"dbs_cluster\",\n",
    "        mapbox_style=\"carto-positron\"\n",
    ")\n",
    "\n",
    "# Add title and axis labels\n",
    "fig.update_layout(\n",
    "    title=f\"Static clusters with DBScan\",\n",
    "    width=600, height=500\n",
    ")\n",
    "\n",
    "# Render\n",
    "fig.show(renderer=\"iframe_connected\")"
   ]
  },
  {
   "cell_type": "markdown",
   "id": "338e805c-ab0d-4a85-87ec-5921858ce283",
   "metadata": {},
   "source": [
    "We can see the main hopspots with former plot. \n",
    "Let's generalize it to days and hours !"
   ]
  },
  {
   "cell_type": "code",
   "execution_count": 10,
   "id": "f5cc58ac-3b1a-4eae-9f88-bbb915a19133",
   "metadata": {},
   "outputs": [],
   "source": [
    "df_day_hour = []\n",
    "day_rows_counts=[]\n",
    "for day in range(7):\n",
    "    df_day_hour.append([])\n",
    "    day_hour_rows_counts = 0\n",
    "    for hour in range(24):\n",
    "        df_day_hour[day].append(df_sample[(df_sample.day==day) & (df_sample.hour==hour)].copy())\n",
    "        day_hour_rows_counts += df_day_hour[day][hour].shape[0]\n",
    "    day_rows_counts.append(day_hour_rows_counts)"
   ]
  },
  {
   "cell_type": "code",
   "execution_count": 11,
   "id": "dd46ed06-dcee-454c-96bb-dfe66e2dacb9",
   "metadata": {},
   "outputs": [
    {
     "data": {
      "text/html": [
       "<iframe\n",
       "    scrolling=\"no\"\n",
       "    width=\"620px\"\n",
       "    height=\"520\"\n",
       "    src=\"iframe_figures/figure_11.html\"\n",
       "    frameborder=\"0\"\n",
       "    allowfullscreen\n",
       "></iframe>\n"
      ]
     },
     "metadata": {},
     "output_type": "display_data"
    }
   ],
   "source": [
    "# Create figure\n",
    "fig = px.bar(x=range(7), y=day_rows_counts)\n",
    "\n",
    "# Add title and axis labels\n",
    "fig.update_layout(\n",
    "    yaxis_title=\"Row count\",\n",
    "    xaxis_title=\"DataFrame days\",\n",
    "    width=600, height=500\n",
    ")\n",
    "\n",
    "# Render\n",
    "fig.show(renderer=\"iframe_connected\")"
   ]
  },
  {
   "cell_type": "markdown",
   "id": "2816adb4-bd33-469e-93a9-37dd6b802464",
   "metadata": {},
   "source": [
    "Even with sampling, the data is pretty well distributed among the days of week."
   ]
  },
  {
   "cell_type": "markdown",
   "id": "4fc86b34-b8cb-449f-bb3b-f0e9acbec959",
   "metadata": {},
   "source": [
    "Let's calculate the clusters day per day and hour per hour within days of week.\n",
    "We change the dbscan parameters as the count of items is less than with full day."
   ]
  },
  {
   "cell_type": "code",
   "execution_count": 12,
   "id": "55f86d70-55ef-485d-99df-9debd9e2e342",
   "metadata": {},
   "outputs": [],
   "source": [
    "day_names={0:'Monday', 1:'Tuesday', 2:'Wednesday', 3:'Thursday', 4:'Friday', 5:'Saturday', 6: 'Sunday'}"
   ]
  },
  {
   "cell_type": "code",
   "execution_count": 13,
   "id": "5c43d837-d0e6-4d2f-bd09-5551673b609e",
   "metadata": {},
   "outputs": [
    {
     "name": "stdout",
     "output_type": "stream",
     "text": [
      "Day 0 fit\n",
      "Day 1 fit\n",
      "Day 2 fit\n",
      "Day 3 fit\n",
      "Day 4 fit\n",
      "Day 5 fit\n",
      "Day 6 fit\n"
     ]
    }
   ],
   "source": [
    "# We keep the number of clusters calculated hour per hour\n",
    "calculated_cluster_names = []\n",
    "calculated_cluster_numbers = []\n",
    "for day in range(7):\n",
    "    for hour in range(24):\n",
    "        db = DBSCAN(eps=0.01, min_samples=15, metric=\"manhattan\")\n",
    "        db.fit(df_day_hour[day][hour][fields])\n",
    "        df_day_hour[day][hour][\"dbs_cluster\"] = db.labels_\n",
    "        calculated_cluster_names.append(day_names[day][:2]+str(hour).zfill(2))\n",
    "        calculated_cluster_numbers.append(len(np.unique(db.labels_))-1)\n",
    "    print(f\"Day {day} fit\")"
   ]
  },
  {
   "cell_type": "code",
   "execution_count": 14,
   "id": "eb7d8e67-32aa-497b-9f5e-fc81b738b4b5",
   "metadata": {},
   "outputs": [
    {
     "data": {
      "text/html": [
       "<iframe\n",
       "    scrolling=\"no\"\n",
       "    width=\"100%\"\n",
       "    height=\"545px\"\n",
       "    src=\"iframe_figures/figure_14.html\"\n",
       "    frameborder=\"0\"\n",
       "    allowfullscreen\n",
       "></iframe>\n"
      ]
     },
     "metadata": {},
     "output_type": "display_data"
    }
   ],
   "source": [
    "# Create figure\n",
    "fig = px.bar(x=calculated_cluster_names, y=calculated_cluster_numbers)\n",
    "\n",
    "# Add title and axis labels\n",
    "fig.update_layout(\n",
    "    yaxis_title=\"Clusters count\",\n",
    "    xaxis_title=\"Day/Hour\",\n",
    "    title='Calculated clusters count per day and hour with DBScan on a sample of 5% of data.'\n",
    ")\n",
    "\n",
    "# Render\n",
    "fig.show(renderer=\"iframe_connected\")"
   ]
  },
  {
   "cell_type": "code",
   "execution_count": 15,
   "id": "1c297104-3f3d-47ad-a271-ac8cdace770a",
   "metadata": {},
   "outputs": [],
   "source": [
    "df_day = []\n",
    "for day in range(7):\n",
    "    df_day.append(pd.concat([df_day_hour[day][hour] for hour in range(24)]))"
   ]
  },
  {
   "cell_type": "code",
   "execution_count": 16,
   "id": "7901d733-742e-4fba-a8dd-b28297ae44fd",
   "metadata": {},
   "outputs": [
    {
     "data": {
      "text/html": [
       "<iframe\n",
       "    scrolling=\"no\"\n",
       "    width=\"620px\"\n",
       "    height=\"520\"\n",
       "    src=\"iframe_figures/figure_16.html\"\n",
       "    frameborder=\"0\"\n",
       "    allowfullscreen\n",
       "></iframe>\n"
      ]
     },
     "metadata": {},
     "output_type": "display_data"
    },
    {
     "data": {
      "text/html": [
       "<iframe\n",
       "    scrolling=\"no\"\n",
       "    width=\"620px\"\n",
       "    height=\"520\"\n",
       "    src=\"iframe_figures/figure_16.html\"\n",
       "    frameborder=\"0\"\n",
       "    allowfullscreen\n",
       "></iframe>\n"
      ]
     },
     "metadata": {},
     "output_type": "display_data"
    },
    {
     "data": {
      "text/html": [
       "<iframe\n",
       "    scrolling=\"no\"\n",
       "    width=\"620px\"\n",
       "    height=\"520\"\n",
       "    src=\"iframe_figures/figure_16.html\"\n",
       "    frameborder=\"0\"\n",
       "    allowfullscreen\n",
       "></iframe>\n"
      ]
     },
     "metadata": {},
     "output_type": "display_data"
    },
    {
     "data": {
      "text/html": [
       "<iframe\n",
       "    scrolling=\"no\"\n",
       "    width=\"620px\"\n",
       "    height=\"520\"\n",
       "    src=\"iframe_figures/figure_16.html\"\n",
       "    frameborder=\"0\"\n",
       "    allowfullscreen\n",
       "></iframe>\n"
      ]
     },
     "metadata": {},
     "output_type": "display_data"
    },
    {
     "data": {
      "text/html": [
       "<iframe\n",
       "    scrolling=\"no\"\n",
       "    width=\"620px\"\n",
       "    height=\"520\"\n",
       "    src=\"iframe_figures/figure_16.html\"\n",
       "    frameborder=\"0\"\n",
       "    allowfullscreen\n",
       "></iframe>\n"
      ]
     },
     "metadata": {},
     "output_type": "display_data"
    },
    {
     "data": {
      "text/html": [
       "<iframe\n",
       "    scrolling=\"no\"\n",
       "    width=\"620px\"\n",
       "    height=\"520\"\n",
       "    src=\"iframe_figures/figure_16.html\"\n",
       "    frameborder=\"0\"\n",
       "    allowfullscreen\n",
       "></iframe>\n"
      ]
     },
     "metadata": {},
     "output_type": "display_data"
    },
    {
     "data": {
      "text/html": [
       "<iframe\n",
       "    scrolling=\"no\"\n",
       "    width=\"620px\"\n",
       "    height=\"520\"\n",
       "    src=\"iframe_figures/figure_16.html\"\n",
       "    frameborder=\"0\"\n",
       "    allowfullscreen\n",
       "></iframe>\n"
      ]
     },
     "metadata": {},
     "output_type": "display_data"
    }
   ],
   "source": [
    "day_names={0:'Monday', 1:'Tuesday', 2:'Wednesday', 3:'Thursday', 4:'Friday', 5:'Saturday', 6: 'Sunday'}\n",
    "for day in range(7):\n",
    "    fig = px.scatter_mapbox(\n",
    "            df_day[day][df_day[day].dbs_cluster>=0],\n",
    "            lat=\"Lat\", \n",
    "            lon=\"Lon\",\n",
    "            color=\"dbs_cluster\",\n",
    "            mapbox_style=\"carto-positron\",\n",
    "            animation_frame=\"hour\"\n",
    "    )\n",
    "\n",
    "    # Add title and axis labels\n",
    "    fig.update_layout(title=f\"Clusters for {day_names[day]}\",width=600, height=500)\n",
    "\n",
    "    # Render\n",
    "    fig.show(renderer=\"iframe_connected\")"
   ]
  },
  {
   "cell_type": "code",
   "execution_count": 24,
   "id": "e45827ce-f96e-4761-9b68-e43e4dce394c",
   "metadata": {},
   "outputs": [
    {
     "data": {
      "text/html": [
       "<iframe\n",
       "    scrolling=\"no\"\n",
       "    width=\"620px\"\n",
       "    height=\"520\"\n",
       "    src=\"iframe_figures/figure_24.html\"\n",
       "    frameborder=\"0\"\n",
       "    allowfullscreen\n",
       "></iframe>\n"
      ]
     },
     "metadata": {},
     "output_type": "display_data"
    }
   ],
   "source": [
    "day=3\n",
    "hour=22\n",
    "fig = px.scatter_mapbox(\n",
    "        df_day[day][(df_day[day].dbs_cluster>=0) & (df_day[day].hour==hour)],\n",
    "        lat=\"Lat\", \n",
    "        lon=\"Lon\",\n",
    "        color=\"dbs_cluster\",\n",
    "        mapbox_style=\"carto-positron\",\n",
    "        zoom=9,\n",
    ")\n",
    "\n",
    "# Add title and axis labels\n",
    "fig.update_layout(title=f\"Clusters for {day_names[day]} @{hour}\",width=600, height=500)\n",
    "\n",
    "# Render\n",
    "fig.show(renderer=\"iframe_connected\")"
   ]
  },
  {
   "cell_type": "code",
   "execution_count": null,
   "id": "c129acbd-abed-4b75-94f8-2351184992b3",
   "metadata": {},
   "outputs": [],
   "source": []
  }
 ],
 "metadata": {
  "kernelspec": {
   "display_name": "Python 3 (ipykernel)",
   "language": "python",
   "name": "python3"
  },
  "language_info": {
   "codemirror_mode": {
    "name": "ipython",
    "version": 3
   },
   "file_extension": ".py",
   "mimetype": "text/x-python",
   "name": "python",
   "nbconvert_exporter": "python",
   "pygments_lexer": "ipython3",
   "version": "3.10.7"
  }
 },
 "nbformat": 4,
 "nbformat_minor": 5
}
