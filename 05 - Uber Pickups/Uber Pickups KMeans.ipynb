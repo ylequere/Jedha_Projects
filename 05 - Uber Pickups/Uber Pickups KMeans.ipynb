{
 "cells": [
  {
   "cell_type": "markdown",
   "id": "714a49db-966b-47e6-9af4-89fc627942df",
   "metadata": {},
   "source": [
    "## DATA ANALYSIS AND CLEANING"
   ]
  },
  {
   "cell_type": "code",
   "execution_count": 1,
   "id": "116bab62-3306-4823-8040-2bd2f8372853",
   "metadata": {},
   "outputs": [],
   "source": [
    "import pandas as pd\n",
    "import seaborn as sns\n",
    "import numpy as np\n",
    "import matplotlib.pyplot as plt"
   ]
  },
  {
   "cell_type": "markdown",
   "id": "e0e11cac-abb1-4109-b2b2-08bff078a7e4",
   "metadata": {},
   "source": [
    "We are going to create the full Dataset with all the data from Uber with only the *14.cdv files. Other files are not GPS located."
   ]
  },
  {
   "cell_type": "code",
   "execution_count": 2,
   "id": "ae6a89a2-1f4a-476c-9709-76ad09c27864",
   "metadata": {},
   "outputs": [
    {
     "name": "stdout",
     "output_type": "stream",
     "text": [
      "Loading uber-raw-data-apr14.csv in a dataset\n",
      "Loading uber-raw-data-aug14.csv in a dataset\n",
      "Loading uber-raw-data-jul14.csv in a dataset\n",
      "Loading uber-raw-data-jun14.csv in a dataset\n",
      "Loading uber-raw-data-may14.csv in a dataset\n",
      "Loading uber-raw-data-sep14.csv in a dataset\n"
     ]
    }
   ],
   "source": [
    "import os\n",
    "\n",
    "filepath = './Sources'\n",
    "df = pd.DataFrame()\n",
    "for filename in os.listdir(filepath):\n",
    "    if 'uber-raw-data' in filename and '14.csv' in filename: \n",
    "        print(f'Loading {filename} in a dataset')\n",
    "        df_single_file = pd.read_csv(os.path.join(filepath, filename))\n",
    "        df = pd.concat([df, df_single_file])"
   ]
  },
  {
   "cell_type": "code",
   "execution_count": 3,
   "id": "fa4a7338-199a-403c-aacc-925d5924781f",
   "metadata": {},
   "outputs": [
    {
     "data": {
      "text/html": [
       "<div>\n",
       "<style scoped>\n",
       "    .dataframe tbody tr th:only-of-type {\n",
       "        vertical-align: middle;\n",
       "    }\n",
       "\n",
       "    .dataframe tbody tr th {\n",
       "        vertical-align: top;\n",
       "    }\n",
       "\n",
       "    .dataframe thead th {\n",
       "        text-align: right;\n",
       "    }\n",
       "</style>\n",
       "<table border=\"1\" class=\"dataframe\">\n",
       "  <thead>\n",
       "    <tr style=\"text-align: right;\">\n",
       "      <th></th>\n",
       "      <th>Date/Time</th>\n",
       "      <th>Lat</th>\n",
       "      <th>Lon</th>\n",
       "      <th>Base</th>\n",
       "    </tr>\n",
       "  </thead>\n",
       "  <tbody>\n",
       "    <tr>\n",
       "      <th>0</th>\n",
       "      <td>4/1/2014 0:11:00</td>\n",
       "      <td>40.7690</td>\n",
       "      <td>-73.9549</td>\n",
       "      <td>B02512</td>\n",
       "    </tr>\n",
       "    <tr>\n",
       "      <th>1</th>\n",
       "      <td>4/1/2014 0:17:00</td>\n",
       "      <td>40.7267</td>\n",
       "      <td>-74.0345</td>\n",
       "      <td>B02512</td>\n",
       "    </tr>\n",
       "    <tr>\n",
       "      <th>2</th>\n",
       "      <td>4/1/2014 0:21:00</td>\n",
       "      <td>40.7316</td>\n",
       "      <td>-73.9873</td>\n",
       "      <td>B02512</td>\n",
       "    </tr>\n",
       "    <tr>\n",
       "      <th>3</th>\n",
       "      <td>4/1/2014 0:28:00</td>\n",
       "      <td>40.7588</td>\n",
       "      <td>-73.9776</td>\n",
       "      <td>B02512</td>\n",
       "    </tr>\n",
       "    <tr>\n",
       "      <th>4</th>\n",
       "      <td>4/1/2014 0:33:00</td>\n",
       "      <td>40.7594</td>\n",
       "      <td>-73.9722</td>\n",
       "      <td>B02512</td>\n",
       "    </tr>\n",
       "  </tbody>\n",
       "</table>\n",
       "</div>"
      ],
      "text/plain": [
       "          Date/Time      Lat      Lon    Base\n",
       "0  4/1/2014 0:11:00  40.7690 -73.9549  B02512\n",
       "1  4/1/2014 0:17:00  40.7267 -74.0345  B02512\n",
       "2  4/1/2014 0:21:00  40.7316 -73.9873  B02512\n",
       "3  4/1/2014 0:28:00  40.7588 -73.9776  B02512\n",
       "4  4/1/2014 0:33:00  40.7594 -73.9722  B02512"
      ]
     },
     "execution_count": 3,
     "metadata": {},
     "output_type": "execute_result"
    }
   ],
   "source": [
    "df.head()"
   ]
  },
  {
   "cell_type": "markdown",
   "id": "626ff619-66ac-4ee8-9536-48eabb832b32",
   "metadata": {},
   "source": [
    "We are going to remove the Base column as it is useless. We can't find any mapping with this ID in other file and it does not add any usefull information"
   ]
  },
  {
   "cell_type": "code",
   "execution_count": 4,
   "id": "51fce88e-0a6c-4b0f-b190-0d2fcfc07d52",
   "metadata": {},
   "outputs": [
    {
     "data": {
      "text/html": [
       "<div>\n",
       "<style scoped>\n",
       "    .dataframe tbody tr th:only-of-type {\n",
       "        vertical-align: middle;\n",
       "    }\n",
       "\n",
       "    .dataframe tbody tr th {\n",
       "        vertical-align: top;\n",
       "    }\n",
       "\n",
       "    .dataframe thead th {\n",
       "        text-align: right;\n",
       "    }\n",
       "</style>\n",
       "<table border=\"1\" class=\"dataframe\">\n",
       "  <thead>\n",
       "    <tr style=\"text-align: right;\">\n",
       "      <th></th>\n",
       "      <th>Date/Time</th>\n",
       "      <th>Lat</th>\n",
       "      <th>Lon</th>\n",
       "    </tr>\n",
       "  </thead>\n",
       "  <tbody>\n",
       "    <tr>\n",
       "      <th>0</th>\n",
       "      <td>4/1/2014 0:11:00</td>\n",
       "      <td>40.7690</td>\n",
       "      <td>-73.9549</td>\n",
       "    </tr>\n",
       "    <tr>\n",
       "      <th>1</th>\n",
       "      <td>4/1/2014 0:17:00</td>\n",
       "      <td>40.7267</td>\n",
       "      <td>-74.0345</td>\n",
       "    </tr>\n",
       "    <tr>\n",
       "      <th>2</th>\n",
       "      <td>4/1/2014 0:21:00</td>\n",
       "      <td>40.7316</td>\n",
       "      <td>-73.9873</td>\n",
       "    </tr>\n",
       "    <tr>\n",
       "      <th>3</th>\n",
       "      <td>4/1/2014 0:28:00</td>\n",
       "      <td>40.7588</td>\n",
       "      <td>-73.9776</td>\n",
       "    </tr>\n",
       "    <tr>\n",
       "      <th>4</th>\n",
       "      <td>4/1/2014 0:33:00</td>\n",
       "      <td>40.7594</td>\n",
       "      <td>-73.9722</td>\n",
       "    </tr>\n",
       "  </tbody>\n",
       "</table>\n",
       "</div>"
      ],
      "text/plain": [
       "          Date/Time      Lat      Lon\n",
       "0  4/1/2014 0:11:00  40.7690 -73.9549\n",
       "1  4/1/2014 0:17:00  40.7267 -74.0345\n",
       "2  4/1/2014 0:21:00  40.7316 -73.9873\n",
       "3  4/1/2014 0:28:00  40.7588 -73.9776\n",
       "4  4/1/2014 0:33:00  40.7594 -73.9722"
      ]
     },
     "execution_count": 4,
     "metadata": {},
     "output_type": "execute_result"
    }
   ],
   "source": [
    "df.drop(columns=['Base'], inplace = True)\n",
    "df.head()"
   ]
  },
  {
   "cell_type": "code",
   "execution_count": 5,
   "id": "87f9f542-7a16-4cbd-8328-1278a6130afe",
   "metadata": {},
   "outputs": [
    {
     "data": {
      "text/plain": [
       "(4534327, 3)"
      ]
     },
     "execution_count": 5,
     "metadata": {},
     "output_type": "execute_result"
    }
   ],
   "source": [
    "df.shape"
   ]
  },
  {
   "cell_type": "code",
   "execution_count": 6,
   "id": "376e775e-5786-4a16-983a-5979cdf806cb",
   "metadata": {},
   "outputs": [
    {
     "data": {
      "text/plain": [
       "Date/Time     object\n",
       "Lat          float64\n",
       "Lon          float64\n",
       "dtype: object"
      ]
     },
     "execution_count": 6,
     "metadata": {},
     "output_type": "execute_result"
    }
   ],
   "source": [
    "df.dtypes"
   ]
  },
  {
   "cell_type": "code",
   "execution_count": 7,
   "id": "df9537db-d722-4855-ab47-a306ffa7c203",
   "metadata": {},
   "outputs": [
    {
     "data": {
      "text/html": [
       "<div>\n",
       "<style scoped>\n",
       "    .dataframe tbody tr th:only-of-type {\n",
       "        vertical-align: middle;\n",
       "    }\n",
       "\n",
       "    .dataframe tbody tr th {\n",
       "        vertical-align: top;\n",
       "    }\n",
       "\n",
       "    .dataframe thead th {\n",
       "        text-align: right;\n",
       "    }\n",
       "</style>\n",
       "<table border=\"1\" class=\"dataframe\">\n",
       "  <thead>\n",
       "    <tr style=\"text-align: right;\">\n",
       "      <th></th>\n",
       "      <th>Date/Time</th>\n",
       "      <th>Lat</th>\n",
       "      <th>Lon</th>\n",
       "    </tr>\n",
       "  </thead>\n",
       "  <tbody>\n",
       "    <tr>\n",
       "      <th>count</th>\n",
       "      <td>4534327</td>\n",
       "      <td>4.534327e+06</td>\n",
       "      <td>4.534327e+06</td>\n",
       "    </tr>\n",
       "    <tr>\n",
       "      <th>unique</th>\n",
       "      <td>260093</td>\n",
       "      <td>NaN</td>\n",
       "      <td>NaN</td>\n",
       "    </tr>\n",
       "    <tr>\n",
       "      <th>top</th>\n",
       "      <td>4/7/2014 20:21:00</td>\n",
       "      <td>NaN</td>\n",
       "      <td>NaN</td>\n",
       "    </tr>\n",
       "    <tr>\n",
       "      <th>freq</th>\n",
       "      <td>97</td>\n",
       "      <td>NaN</td>\n",
       "      <td>NaN</td>\n",
       "    </tr>\n",
       "    <tr>\n",
       "      <th>mean</th>\n",
       "      <td>NaN</td>\n",
       "      <td>4.073926e+01</td>\n",
       "      <td>-7.397302e+01</td>\n",
       "    </tr>\n",
       "    <tr>\n",
       "      <th>std</th>\n",
       "      <td>NaN</td>\n",
       "      <td>3.994991e-02</td>\n",
       "      <td>5.726670e-02</td>\n",
       "    </tr>\n",
       "    <tr>\n",
       "      <th>min</th>\n",
       "      <td>NaN</td>\n",
       "      <td>3.965690e+01</td>\n",
       "      <td>-7.492900e+01</td>\n",
       "    </tr>\n",
       "    <tr>\n",
       "      <th>25%</th>\n",
       "      <td>NaN</td>\n",
       "      <td>4.072110e+01</td>\n",
       "      <td>-7.399650e+01</td>\n",
       "    </tr>\n",
       "    <tr>\n",
       "      <th>50%</th>\n",
       "      <td>NaN</td>\n",
       "      <td>4.074220e+01</td>\n",
       "      <td>-7.398340e+01</td>\n",
       "    </tr>\n",
       "    <tr>\n",
       "      <th>75%</th>\n",
       "      <td>NaN</td>\n",
       "      <td>4.076100e+01</td>\n",
       "      <td>-7.396530e+01</td>\n",
       "    </tr>\n",
       "    <tr>\n",
       "      <th>max</th>\n",
       "      <td>NaN</td>\n",
       "      <td>4.211660e+01</td>\n",
       "      <td>-7.206660e+01</td>\n",
       "    </tr>\n",
       "  </tbody>\n",
       "</table>\n",
       "</div>"
      ],
      "text/plain": [
       "                Date/Time           Lat           Lon\n",
       "count             4534327  4.534327e+06  4.534327e+06\n",
       "unique             260093           NaN           NaN\n",
       "top     4/7/2014 20:21:00           NaN           NaN\n",
       "freq                   97           NaN           NaN\n",
       "mean                  NaN  4.073926e+01 -7.397302e+01\n",
       "std                   NaN  3.994991e-02  5.726670e-02\n",
       "min                   NaN  3.965690e+01 -7.492900e+01\n",
       "25%                   NaN  4.072110e+01 -7.399650e+01\n",
       "50%                   NaN  4.074220e+01 -7.398340e+01\n",
       "75%                   NaN  4.076100e+01 -7.396530e+01\n",
       "max                   NaN  4.211660e+01 -7.206660e+01"
      ]
     },
     "execution_count": 7,
     "metadata": {},
     "output_type": "execute_result"
    }
   ],
   "source": [
    "df.describe(include='all')"
   ]
  },
  {
   "cell_type": "markdown",
   "id": "591bb787-b865-49e8-86a8-a3bd1faad21e",
   "metadata": {},
   "source": [
    "There is no missing data. \n",
    "Let's change Date/Time column into a real DateTime column."
   ]
  },
  {
   "cell_type": "code",
   "execution_count": 8,
   "id": "4629fed7-2459-47ba-9c89-59bc2fc0d985",
   "metadata": {},
   "outputs": [
    {
     "data": {
      "text/plain": [
       "Date/Time            object\n",
       "Lat                 float64\n",
       "Lon                 float64\n",
       "datetime     datetime64[ns]\n",
       "dtype: object"
      ]
     },
     "execution_count": 8,
     "metadata": {},
     "output_type": "execute_result"
    }
   ],
   "source": [
    "df['datetime'] = pd.to_datetime(df['Date/Time'])\n",
    "df.dtypes"
   ]
  },
  {
   "cell_type": "code",
   "execution_count": 9,
   "id": "3247f546-e529-4b48-8de4-2ccff242e380",
   "metadata": {},
   "outputs": [
    {
     "data": {
      "text/plain": [
       "False"
      ]
     },
     "execution_count": 9,
     "metadata": {},
     "output_type": "execute_result"
    }
   ],
   "source": [
    "df['datetime'].isnull().values.any()"
   ]
  },
  {
   "cell_type": "markdown",
   "id": "e1bec89e-de55-4072-aacb-08b85e27fccf",
   "metadata": {},
   "source": [
    "There is no null values in new datetime column. We can remove the former one."
   ]
  },
  {
   "cell_type": "code",
   "execution_count": 10,
   "id": "62fbbe23-3176-4552-b4cd-dcfe260ebdc5",
   "metadata": {},
   "outputs": [],
   "source": [
    "df.drop(columns=['Date/Time'], inplace=True)"
   ]
  },
  {
   "cell_type": "code",
   "execution_count": 11,
   "id": "39a43780-8037-4570-bb07-640bf73c13e9",
   "metadata": {},
   "outputs": [
    {
     "data": {
      "text/html": [
       "<div>\n",
       "<style scoped>\n",
       "    .dataframe tbody tr th:only-of-type {\n",
       "        vertical-align: middle;\n",
       "    }\n",
       "\n",
       "    .dataframe tbody tr th {\n",
       "        vertical-align: top;\n",
       "    }\n",
       "\n",
       "    .dataframe thead th {\n",
       "        text-align: right;\n",
       "    }\n",
       "</style>\n",
       "<table border=\"1\" class=\"dataframe\">\n",
       "  <thead>\n",
       "    <tr style=\"text-align: right;\">\n",
       "      <th></th>\n",
       "      <th>Lat</th>\n",
       "      <th>Lon</th>\n",
       "      <th>datetime</th>\n",
       "    </tr>\n",
       "  </thead>\n",
       "  <tbody>\n",
       "    <tr>\n",
       "      <th>0</th>\n",
       "      <td>40.7690</td>\n",
       "      <td>-73.9549</td>\n",
       "      <td>2014-04-01 00:11:00</td>\n",
       "    </tr>\n",
       "    <tr>\n",
       "      <th>1</th>\n",
       "      <td>40.7267</td>\n",
       "      <td>-74.0345</td>\n",
       "      <td>2014-04-01 00:17:00</td>\n",
       "    </tr>\n",
       "    <tr>\n",
       "      <th>2</th>\n",
       "      <td>40.7316</td>\n",
       "      <td>-73.9873</td>\n",
       "      <td>2014-04-01 00:21:00</td>\n",
       "    </tr>\n",
       "    <tr>\n",
       "      <th>3</th>\n",
       "      <td>40.7588</td>\n",
       "      <td>-73.9776</td>\n",
       "      <td>2014-04-01 00:28:00</td>\n",
       "    </tr>\n",
       "    <tr>\n",
       "      <th>4</th>\n",
       "      <td>40.7594</td>\n",
       "      <td>-73.9722</td>\n",
       "      <td>2014-04-01 00:33:00</td>\n",
       "    </tr>\n",
       "  </tbody>\n",
       "</table>\n",
       "</div>"
      ],
      "text/plain": [
       "       Lat      Lon            datetime\n",
       "0  40.7690 -73.9549 2014-04-01 00:11:00\n",
       "1  40.7267 -74.0345 2014-04-01 00:17:00\n",
       "2  40.7316 -73.9873 2014-04-01 00:21:00\n",
       "3  40.7588 -73.9776 2014-04-01 00:28:00\n",
       "4  40.7594 -73.9722 2014-04-01 00:33:00"
      ]
     },
     "execution_count": 11,
     "metadata": {},
     "output_type": "execute_result"
    }
   ],
   "source": [
    "df.head()"
   ]
  },
  {
   "cell_type": "markdown",
   "id": "dae88470-d59e-4e23-a53a-b4b20bedb76e",
   "metadata": {},
   "source": [
    "Let's add the hour and day of week from it and we want to determine some information reagrding the day of week and the hour."
   ]
  },
  {
   "cell_type": "code",
   "execution_count": 12,
   "id": "f4560c3b-6a91-446b-9ed3-1463aa35cbf4",
   "metadata": {},
   "outputs": [],
   "source": [
    "df['day'] = df['datetime'].dt.dayofweek\n",
    "df['hour'] = df['datetime'].dt.hour\n",
    "X = df.loc[:,df.columns != 'datetime']\n",
    "del df"
   ]
  },
  {
   "cell_type": "code",
   "execution_count": 13,
   "id": "cf2ea9a3-a3f7-4410-9ca5-ba010f852689",
   "metadata": {},
   "outputs": [
    {
     "data": {
      "text/html": [
       "<div>\n",
       "<style scoped>\n",
       "    .dataframe tbody tr th:only-of-type {\n",
       "        vertical-align: middle;\n",
       "    }\n",
       "\n",
       "    .dataframe tbody tr th {\n",
       "        vertical-align: top;\n",
       "    }\n",
       "\n",
       "    .dataframe thead th {\n",
       "        text-align: right;\n",
       "    }\n",
       "</style>\n",
       "<table border=\"1\" class=\"dataframe\">\n",
       "  <thead>\n",
       "    <tr style=\"text-align: right;\">\n",
       "      <th></th>\n",
       "      <th>Lat</th>\n",
       "      <th>Lon</th>\n",
       "      <th>day</th>\n",
       "      <th>hour</th>\n",
       "    </tr>\n",
       "  </thead>\n",
       "  <tbody>\n",
       "    <tr>\n",
       "      <th>0</th>\n",
       "      <td>40.7690</td>\n",
       "      <td>-73.9549</td>\n",
       "      <td>1</td>\n",
       "      <td>0</td>\n",
       "    </tr>\n",
       "    <tr>\n",
       "      <th>1</th>\n",
       "      <td>40.7267</td>\n",
       "      <td>-74.0345</td>\n",
       "      <td>1</td>\n",
       "      <td>0</td>\n",
       "    </tr>\n",
       "    <tr>\n",
       "      <th>2</th>\n",
       "      <td>40.7316</td>\n",
       "      <td>-73.9873</td>\n",
       "      <td>1</td>\n",
       "      <td>0</td>\n",
       "    </tr>\n",
       "    <tr>\n",
       "      <th>3</th>\n",
       "      <td>40.7588</td>\n",
       "      <td>-73.9776</td>\n",
       "      <td>1</td>\n",
       "      <td>0</td>\n",
       "    </tr>\n",
       "    <tr>\n",
       "      <th>4</th>\n",
       "      <td>40.7594</td>\n",
       "      <td>-73.9722</td>\n",
       "      <td>1</td>\n",
       "      <td>0</td>\n",
       "    </tr>\n",
       "  </tbody>\n",
       "</table>\n",
       "</div>"
      ],
      "text/plain": [
       "       Lat      Lon  day  hour\n",
       "0  40.7690 -73.9549    1     0\n",
       "1  40.7267 -74.0345    1     0\n",
       "2  40.7316 -73.9873    1     0\n",
       "3  40.7588 -73.9776    1     0\n",
       "4  40.7594 -73.9722    1     0"
      ]
     },
     "execution_count": 13,
     "metadata": {},
     "output_type": "execute_result"
    }
   ],
   "source": [
    "X.head()"
   ]
  },
  {
   "cell_type": "markdown",
   "id": "e6a5d91b-9968-4042-800e-35f114a8dd2b",
   "metadata": {},
   "source": [
    "## Clustering with KMeans"
   ]
  },
  {
   "cell_type": "markdown",
   "id": "58022698-3c9c-4120-9b40-1ede985cb388",
   "metadata": {},
   "source": [
    "Processing Elbow method to help to get the number of clusters."
   ]
  },
  {
   "cell_type": "code",
   "execution_count": 14,
   "id": "be66f42b-6b36-4f0b-9ad1-8c4e4d47d13c",
   "metadata": {},
   "outputs": [],
   "source": [
    "# Fields to calculate the clusters\n",
    "fields= ['Lat', 'Lon']"
   ]
  },
  {
   "cell_type": "code",
   "execution_count": 15,
   "id": "a35a31ca-f4cd-4bc4-9a14-1e057884e72c",
   "metadata": {},
   "outputs": [
    {
     "name": "stdout",
     "output_type": "stream",
     "text": [
      "Kmeans fit for 1 cluster(s)\n",
      "Kmeans fit for 2 cluster(s)\n",
      "Kmeans fit for 3 cluster(s)\n",
      "Kmeans fit for 4 cluster(s)\n",
      "Kmeans fit for 5 cluster(s)\n",
      "Kmeans fit for 6 cluster(s)\n",
      "Kmeans fit for 7 cluster(s)\n",
      "Kmeans fit for 8 cluster(s)\n",
      "Kmeans fit for 9 cluster(s)\n",
      "Kmeans fit for 10 cluster(s)\n"
     ]
    }
   ],
   "source": [
    "# Using the Elbow method to find the optimal number K of clusters\n",
    "from sklearn.cluster import KMeans\n",
    "wcss =  []\n",
    "for i in range (1,11): \n",
    "    kmeans = KMeans(n_clusters= i, init = \"k-means++\", random_state = 0, n_init='auto')\n",
    "    kmeans.fit(X[fields])\n",
    "    wcss.append(kmeans.inertia_)\n",
    "    print(f\"Kmeans fit for {i} cluster(s)\")"
   ]
  },
  {
   "cell_type": "code",
   "execution_count": 16,
   "id": "bdb4e531-da41-43e9-afdc-ebb27f39e40e",
   "metadata": {},
   "outputs": [
    {
     "data": {
      "text/html": [
       "<iframe\n",
       "    scrolling=\"no\"\n",
       "    width=\"620px\"\n",
       "    height=\"520\"\n",
       "    src=\"iframe_figures/figure_16.html\"\n",
       "    frameborder=\"0\"\n",
       "    allowfullscreen\n",
       "></iframe>\n"
      ]
     },
     "metadata": {},
     "output_type": "display_data"
    }
   ],
   "source": [
    "# Create a DataFrame that will be fed to plotly \n",
    "wcss_frame = pd.DataFrame(wcss)\n",
    "\n",
    "# Using Plotly to visualize elbow \n",
    "import plotly.express as px \n",
    "\n",
    "# Creating a line plot\n",
    "fig = px.line(wcss_frame, x=wcss_frame.index, y=wcss_frame.iloc[:, -1])\n",
    "\n",
    "# Creating layouts \n",
    "fig.update_layout(\n",
    "    title=\"Inertia per clusters\",\n",
    "    xaxis_title=\"# clusters\",\n",
    "    yaxis_title=\"Inertia\",\n",
    "    width=600, height=500\n",
    ")\n",
    "\n",
    "# Render\n",
    "fig.show(renderer=\"iframe_connected\")"
   ]
  },
  {
   "cell_type": "markdown",
   "id": "d491f856-e840-4bdb-b5db-f6a476bdb50d",
   "metadata": {},
   "source": [
    "Ideal cluster number seems to be between 4 and 6."
   ]
  },
  {
   "cell_type": "markdown",
   "id": "7d9a0a1f-888b-4174-acf2-f8ec80ae100b",
   "metadata": {},
   "source": [
    "Then we use the silhouette to fine tune cluster numbers. We need to calculate it on a sample of data (1%) as it takes a long time to compute silhouette score for all data."
   ]
  },
  {
   "cell_type": "code",
   "execution_count": 17,
   "id": "ca278f7f-2894-4790-8608-ca47978fea02",
   "metadata": {},
   "outputs": [
    {
     "name": "stdout",
     "output_type": "stream",
     "text": [
      "Sample contains 45343 rows.\n",
      "Kmeans fit for 3 clusters.\n",
      "Silhouette score for K=3 is 0.37547728029806743\n",
      "Kmeans fit for 4 clusters.\n",
      "Silhouette score for K=4 is 0.38451281944818094\n",
      "Kmeans fit for 5 clusters.\n",
      "Silhouette score for K=5 is 0.38790899527953243\n",
      "Kmeans fit for 6 clusters.\n",
      "Silhouette score for K=6 is 0.43087945270491873\n",
      "Kmeans fit for 7 clusters.\n",
      "Silhouette score for K=7 is 0.4505846744019787\n"
     ]
    }
   ],
   "source": [
    "# Import silhouette score\n",
    "from sklearn.metrics import silhouette_score\n",
    "\n",
    "# Computer mean silhouette score\n",
    "sil = []\n",
    "\n",
    "X_sample = X.sample(frac=0.01, random_state=0)\n",
    "print(f\"Sample contains {X_sample.shape[0]} rows.\")\n",
    "\n",
    "## Careful, you need to start at i=2 as silhouette score cannot accept less than 2 labels \n",
    "for i in range (3,8): \n",
    "    kmeans = KMeans(n_clusters= i, init = \"k-means++\", random_state = 0, n_init='auto')\n",
    "    kmeans.fit(X_sample[fields])\n",
    "    print(f\"Kmeans fit for {i} clusters.\")\n",
    "    sil.append(silhouette_score(X_sample[fields], kmeans.predict(X_sample[fields])))\n",
    "    print(\"Silhouette score for K={} is {}\".format(i, sil[-1]))"
   ]
  },
  {
   "cell_type": "code",
   "execution_count": 18,
   "id": "bd471fc1-7092-45af-9fcc-7bcf7ad88c8b",
   "metadata": {},
   "outputs": [
    {
     "data": {
      "text/html": [
       "<iframe\n",
       "    scrolling=\"no\"\n",
       "    width=\"620px\"\n",
       "    height=\"520\"\n",
       "    src=\"iframe_figures/figure_18.html\"\n",
       "    frameborder=\"0\"\n",
       "    allowfullscreen\n",
       "></iframe>\n"
      ]
     },
     "metadata": {},
     "output_type": "display_data"
    }
   ],
   "source": [
    "# Create a data frame \n",
    "cluster_scores=pd.DataFrame(sil, index=range(3,8))\n",
    "\n",
    "# Create figure\n",
    "fig = px.bar(data_frame=cluster_scores,  \n",
    "             x=cluster_scores.index, \n",
    "             y=cluster_scores.iloc[:, -1]\n",
    "            )\n",
    "\n",
    "# Add title and axis labels\n",
    "fig.update_layout(\n",
    "    yaxis_title=\"Silhouette Score\",\n",
    "    xaxis_title=\"# Clusters\",\n",
    "    title=\"Silhouette Score per cluster\",\n",
    "    width=600, height=500\n",
    ")\n",
    "\n",
    "# Render\n",
    "fig.show(renderer=\"iframe_connected\")"
   ]
  },
  {
   "cell_type": "markdown",
   "id": "68894f1f-1d5b-4d70-af38-8dabe68610d7",
   "metadata": {},
   "source": [
    "We will choose 6 clusters to continue."
   ]
  },
  {
   "cell_type": "code",
   "execution_count": 19,
   "id": "8f14580a-8f32-40ed-a904-73fee118c341",
   "metadata": {},
   "outputs": [],
   "source": [
    "n_clusters = 6"
   ]
  },
  {
   "cell_type": "markdown",
   "id": "b223babb-5e7e-46cf-b347-88fad0c9eeed",
   "metadata": {},
   "source": [
    "## DataFrame splitting by days and hours"
   ]
  },
  {
   "cell_type": "markdown",
   "id": "6133b64c-c0f5-4d28-aa93-10d8fe5a8759",
   "metadata": {},
   "source": [
    "We are going to build a list of 7 DataFrames corresponding to 7 days with 24 calculations of the 4 clusters during 24 hours per day."
   ]
  },
  {
   "cell_type": "code",
   "execution_count": 26,
   "id": "2915520c-c0d3-4808-bbe3-18c9270c9e4d",
   "metadata": {},
   "outputs": [],
   "source": [
    "df_day_hour = []\n",
    "day_rows_counts=[]\n",
    "for day in range(7):\n",
    "    df_day_hour.append([])\n",
    "    day_hour_rows_counts = 0\n",
    "    for hour in range(24):\n",
    "        df_day_hour[day].append(X[(X.day==day) & (X.hour==hour)].copy())\n",
    "        day_hour_rows_counts += df_day_hour[day][hour].shape[0]\n",
    "    day_rows_counts.append(day_hour_rows_counts)"
   ]
  },
  {
   "cell_type": "code",
   "execution_count": 27,
   "id": "3089ca8c-e027-49ff-8a1f-22ff67f3937e",
   "metadata": {},
   "outputs": [
    {
     "data": {
      "text/html": [
       "<iframe\n",
       "    scrolling=\"no\"\n",
       "    width=\"620px\"\n",
       "    height=\"520\"\n",
       "    src=\"iframe_figures/figure_13.html\"\n",
       "    frameborder=\"0\"\n",
       "    allowfullscreen\n",
       "></iframe>\n"
      ]
     },
     "metadata": {},
     "output_type": "display_data"
    }
   ],
   "source": [
    "# Create figure\n",
    "fig = px.bar(x=range(7), y=day_rows_counts)\n",
    "\n",
    "# Add title and axis labels\n",
    "fig.update_layout(\n",
    "    yaxis_title=\"Row count\",\n",
    "    xaxis_title=\"DataFrame days\",\n",
    "    width=600, height=500\n",
    ")\n",
    "\n",
    "# Render\n",
    "fig.show(renderer=\"iframe_connected\")"
   ]
  },
  {
   "cell_type": "markdown",
   "id": "e3bace63-0978-4be8-be00-a3de3d5f9be3",
   "metadata": {},
   "source": [
    "Then we calculate the kmeans clusters for each hour of each day, independantly."
   ]
  },
  {
   "cell_type": "code",
   "execution_count": 28,
   "id": "1d11e0c5-234f-4998-b8e7-72f3238c82f5",
   "metadata": {},
   "outputs": [
    {
     "name": "stdout",
     "output_type": "stream",
     "text": [
      "Day 0 fit\n",
      "Day 1 fit\n",
      "Day 2 fit\n",
      "Day 3 fit\n",
      "Day 4 fit\n",
      "Day 5 fit\n",
      "Day 6 fit\n"
     ]
    }
   ],
   "source": [
    "for day in range(7):\n",
    "    for hour in range(24):\n",
    "        kmeans = KMeans(n_clusters= 6, init = \"k-means++\", random_state = 0, n_init='auto')\n",
    "        kmeans.fit(df_day_hour[day][hour][fields])\n",
    "        df_day_hour[day][hour][\"kmean_cluster\"] = kmeans.labels_\n",
    "    print(f\"Day {day} fit\")"
   ]
  },
  {
   "cell_type": "code",
   "execution_count": 29,
   "id": "fb76f4cb-c68b-4fc1-b72a-5a22c2923c41",
   "metadata": {},
   "outputs": [
    {
     "data": {
      "text/html": [
       "<div>\n",
       "<style scoped>\n",
       "    .dataframe tbody tr th:only-of-type {\n",
       "        vertical-align: middle;\n",
       "    }\n",
       "\n",
       "    .dataframe tbody tr th {\n",
       "        vertical-align: top;\n",
       "    }\n",
       "\n",
       "    .dataframe thead th {\n",
       "        text-align: right;\n",
       "    }\n",
       "</style>\n",
       "<table border=\"1\" class=\"dataframe\">\n",
       "  <thead>\n",
       "    <tr style=\"text-align: right;\">\n",
       "      <th></th>\n",
       "      <th>Lat</th>\n",
       "      <th>Lon</th>\n",
       "      <th>day</th>\n",
       "      <th>hour</th>\n",
       "      <th>kmean_cluster</th>\n",
       "    </tr>\n",
       "  </thead>\n",
       "  <tbody>\n",
       "    <tr>\n",
       "      <th>7774</th>\n",
       "      <td>40.6880</td>\n",
       "      <td>-74.1810</td>\n",
       "      <td>6</td>\n",
       "      <td>23</td>\n",
       "      <td>3</td>\n",
       "    </tr>\n",
       "    <tr>\n",
       "      <th>7775</th>\n",
       "      <td>40.7145</td>\n",
       "      <td>-73.9906</td>\n",
       "      <td>6</td>\n",
       "      <td>23</td>\n",
       "      <td>0</td>\n",
       "    </tr>\n",
       "    <tr>\n",
       "      <th>7776</th>\n",
       "      <td>40.7415</td>\n",
       "      <td>-73.9875</td>\n",
       "      <td>6</td>\n",
       "      <td>23</td>\n",
       "      <td>0</td>\n",
       "    </tr>\n",
       "    <tr>\n",
       "      <th>7777</th>\n",
       "      <td>40.6449</td>\n",
       "      <td>-73.7820</td>\n",
       "      <td>6</td>\n",
       "      <td>23</td>\n",
       "      <td>1</td>\n",
       "    </tr>\n",
       "    <tr>\n",
       "      <th>7778</th>\n",
       "      <td>40.6950</td>\n",
       "      <td>-74.1782</td>\n",
       "      <td>6</td>\n",
       "      <td>23</td>\n",
       "      <td>3</td>\n",
       "    </tr>\n",
       "    <tr>\n",
       "      <th>...</th>\n",
       "      <td>...</td>\n",
       "      <td>...</td>\n",
       "      <td>...</td>\n",
       "      <td>...</td>\n",
       "      <td>...</td>\n",
       "    </tr>\n",
       "    <tr>\n",
       "      <th>1014138</th>\n",
       "      <td>40.6447</td>\n",
       "      <td>-73.7821</td>\n",
       "      <td>6</td>\n",
       "      <td>23</td>\n",
       "      <td>1</td>\n",
       "    </tr>\n",
       "    <tr>\n",
       "      <th>1014139</th>\n",
       "      <td>40.7513</td>\n",
       "      <td>-73.9941</td>\n",
       "      <td>6</td>\n",
       "      <td>23</td>\n",
       "      <td>0</td>\n",
       "    </tr>\n",
       "    <tr>\n",
       "      <th>1014140</th>\n",
       "      <td>40.6875</td>\n",
       "      <td>-74.1824</td>\n",
       "      <td>6</td>\n",
       "      <td>23</td>\n",
       "      <td>3</td>\n",
       "    </tr>\n",
       "    <tr>\n",
       "      <th>1014141</th>\n",
       "      <td>40.6482</td>\n",
       "      <td>-73.7823</td>\n",
       "      <td>6</td>\n",
       "      <td>23</td>\n",
       "      <td>1</td>\n",
       "    </tr>\n",
       "    <tr>\n",
       "      <th>1014142</th>\n",
       "      <td>40.6483</td>\n",
       "      <td>-73.7824</td>\n",
       "      <td>6</td>\n",
       "      <td>23</td>\n",
       "      <td>1</td>\n",
       "    </tr>\n",
       "  </tbody>\n",
       "</table>\n",
       "<p>12166 rows × 5 columns</p>\n",
       "</div>"
      ],
      "text/plain": [
       "             Lat      Lon  day  hour  kmean_cluster\n",
       "7774     40.6880 -74.1810    6    23              3\n",
       "7775     40.7145 -73.9906    6    23              0\n",
       "7776     40.7415 -73.9875    6    23              0\n",
       "7777     40.6449 -73.7820    6    23              1\n",
       "7778     40.6950 -74.1782    6    23              3\n",
       "...          ...      ...  ...   ...            ...\n",
       "1014138  40.6447 -73.7821    6    23              1\n",
       "1014139  40.7513 -73.9941    6    23              0\n",
       "1014140  40.6875 -74.1824    6    23              3\n",
       "1014141  40.6482 -73.7823    6    23              1\n",
       "1014142  40.6483 -73.7824    6    23              1\n",
       "\n",
       "[12166 rows x 5 columns]"
      ]
     },
     "execution_count": 29,
     "metadata": {},
     "output_type": "execute_result"
    }
   ],
   "source": [
    "df_day_hour[day][hour]"
   ]
  },
  {
   "cell_type": "markdown",
   "id": "b76aeca9-895f-4047-92fe-db85341e7dcc",
   "metadata": {},
   "source": [
    "Then we concatenate all hours per day in a day, in order to be able to plot data for each day, playing with hours."
   ]
  },
  {
   "cell_type": "code",
   "execution_count": 30,
   "id": "be267bca-c2d2-4a6a-ac25-a06611db9fad",
   "metadata": {},
   "outputs": [],
   "source": [
    "df_day = []\n",
    "for day in range(7):\n",
    "    df_day.append(pd.concat([df_day_hour[day][hour] for hour in range(24)]))"
   ]
  },
  {
   "cell_type": "code",
   "execution_count": 32,
   "id": "a022968b-b3b9-45a4-8cc7-5eeba55a6f85",
   "metadata": {},
   "outputs": [
    {
     "data": {
      "text/html": [
       "<iframe\n",
       "    scrolling=\"no\"\n",
       "    width=\"620px\"\n",
       "    height=\"520\"\n",
       "    src=\"iframe_figures/figure_13.html\"\n",
       "    frameborder=\"0\"\n",
       "    allowfullscreen\n",
       "></iframe>\n"
      ]
     },
     "metadata": {},
     "output_type": "display_data"
    },
    {
     "data": {
      "text/html": [
       "<iframe\n",
       "    scrolling=\"no\"\n",
       "    width=\"620px\"\n",
       "    height=\"520\"\n",
       "    src=\"iframe_figures/figure_13.html\"\n",
       "    frameborder=\"0\"\n",
       "    allowfullscreen\n",
       "></iframe>\n"
      ]
     },
     "metadata": {},
     "output_type": "display_data"
    },
    {
     "data": {
      "text/html": [
       "<iframe\n",
       "    scrolling=\"no\"\n",
       "    width=\"620px\"\n",
       "    height=\"520\"\n",
       "    src=\"iframe_figures/figure_13.html\"\n",
       "    frameborder=\"0\"\n",
       "    allowfullscreen\n",
       "></iframe>\n"
      ]
     },
     "metadata": {},
     "output_type": "display_data"
    },
    {
     "data": {
      "text/html": [
       "<iframe\n",
       "    scrolling=\"no\"\n",
       "    width=\"620px\"\n",
       "    height=\"520\"\n",
       "    src=\"iframe_figures/figure_13.html\"\n",
       "    frameborder=\"0\"\n",
       "    allowfullscreen\n",
       "></iframe>\n"
      ]
     },
     "metadata": {},
     "output_type": "display_data"
    },
    {
     "data": {
      "text/html": [
       "<iframe\n",
       "    scrolling=\"no\"\n",
       "    width=\"620px\"\n",
       "    height=\"520\"\n",
       "    src=\"iframe_figures/figure_13.html\"\n",
       "    frameborder=\"0\"\n",
       "    allowfullscreen\n",
       "></iframe>\n"
      ]
     },
     "metadata": {},
     "output_type": "display_data"
    },
    {
     "data": {
      "text/html": [
       "<iframe\n",
       "    scrolling=\"no\"\n",
       "    width=\"620px\"\n",
       "    height=\"520\"\n",
       "    src=\"iframe_figures/figure_13.html\"\n",
       "    frameborder=\"0\"\n",
       "    allowfullscreen\n",
       "></iframe>\n"
      ]
     },
     "metadata": {},
     "output_type": "display_data"
    },
    {
     "data": {
      "text/html": [
       "<iframe\n",
       "    scrolling=\"no\"\n",
       "    width=\"620px\"\n",
       "    height=\"520\"\n",
       "    src=\"iframe_figures/figure_13.html\"\n",
       "    frameborder=\"0\"\n",
       "    allowfullscreen\n",
       "></iframe>\n"
      ]
     },
     "metadata": {},
     "output_type": "display_data"
    }
   ],
   "source": [
    "day_names={0:'Monday', 1:'Tuesday', 2:'Wednesday', 3:'Thursday', 4:'Friday', 5:'Saturday', 6: 'Sunday'}\n",
    "\n",
    "for day in range(7):\n",
    "    fig = px.scatter_mapbox(\n",
    "            df_day[day], \n",
    "            lat=\"Lat\", \n",
    "            lon=\"Lon\",\n",
    "            color=\"kmean_cluster\",\n",
    "            mapbox_style=\"carto-positron\",\n",
    "            animation_frame=\"hour\"\n",
    "    )\n",
    "\n",
    "    # Add title and axis labels\n",
    "    fig.update_layout(\n",
    "        title=f\"Clusters for {day_names[day]}\",\n",
    "        width=600, height=500\n",
    "    )\n",
    "\n",
    "    # Render\n",
    "    fig.show(renderer=\"iframe_connected\")"
   ]
  },
  {
   "cell_type": "code",
   "execution_count": null,
   "id": "22b40973-c629-4932-9fb7-52f23a21af28",
   "metadata": {},
   "outputs": [],
   "source": []
  }
 ],
 "metadata": {
  "kernelspec": {
   "display_name": "Python 3 (ipykernel)",
   "language": "python",
   "name": "python3"
  },
  "language_info": {
   "codemirror_mode": {
    "name": "ipython",
    "version": 3
   },
   "file_extension": ".py",
   "mimetype": "text/x-python",
   "name": "python",
   "nbconvert_exporter": "python",
   "pygments_lexer": "ipython3",
   "version": "3.10.7"
  }
 },
 "nbformat": 4,
 "nbformat_minor": 5
}
