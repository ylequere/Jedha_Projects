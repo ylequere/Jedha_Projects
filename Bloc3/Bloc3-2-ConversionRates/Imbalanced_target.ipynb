{
 "cells": [
  {
   "cell_type": "code",
   "execution_count": 1,
   "id": "d196af98-21f5-4054-a555-a6935feb3d05",
   "metadata": {},
   "outputs": [],
   "source": [
    "import pandas as pd\n",
    "import numpy as np\n",
    "\n",
    "from sklearn.model_selection import train_test_split\n",
    "from sklearn.impute import SimpleImputer\n",
    "from sklearn.preprocessing import StandardScaler, OneHotEncoder\n",
    "from sklearn.compose import ColumnTransformer\n",
    "from sklearn.linear_model import LogisticRegression\n",
    "from sklearn.metrics import f1_score, ConfusionMatrixDisplay\n",
    "from sklearn.pipeline import Pipeline\n",
    "\n",
    "import matplotlib.pyplot as plt\n",
    "import plotly.express as px\n",
    "import plotly.graph_objects as go\n",
    "import plotly.io as pio\n",
    "# setting Jedha color palette as default\n",
    "pio.templates[\"jedha\"] = go.layout.Template(\n",
    "    layout_colorway=[\"#4B9AC7\", \"#4BE8E0\", \"#9DD4F3\", \"#97FBF6\", \"#2A7FAF\", \"#23B1AB\", \"#0E3449\", \"#015955\"]\n",
    ")\n",
    "pio.templates.default = \"jedha\"\n",
    "pio.renderers.default = \"svg\" # to be replaced by \"iframe\" if working on JULIE\n",
    "from IPython.display import display\n",
    "\n",
    "import warnings\n",
    "warnings.filterwarnings(\"ignore\", category=DeprecationWarning) # to avoid deprecation warnings"
   ]
  },
  {
   "cell_type": "code",
   "execution_count": 2,
   "id": "f2ff36ad-a225-4215-828c-8a14624aeb55",
   "metadata": {},
   "outputs": [
    {
     "name": "stdout",
     "output_type": "stream",
     "text": [
      "Set with labels (our train+test) : (284580, 6)\n"
     ]
    }
   ],
   "source": [
    "data = pd.read_csv('Sources/conversion_data_train.csv')\n",
    "print('Set with labels (our train+test) :', data.shape)"
   ]
  },
  {
   "cell_type": "code",
   "execution_count": 3,
   "id": "14cd11d7-8667-42a6-8c60-94ef166b1014",
   "metadata": {},
   "outputs": [
    {
     "data": {
      "text/html": [
       "<div>\n",
       "<style scoped>\n",
       "    .dataframe tbody tr th:only-of-type {\n",
       "        vertical-align: middle;\n",
       "    }\n",
       "\n",
       "    .dataframe tbody tr th {\n",
       "        vertical-align: top;\n",
       "    }\n",
       "\n",
       "    .dataframe thead th {\n",
       "        text-align: right;\n",
       "    }\n",
       "</style>\n",
       "<table border=\"1\" class=\"dataframe\">\n",
       "  <thead>\n",
       "    <tr style=\"text-align: right;\">\n",
       "      <th></th>\n",
       "      <th>country</th>\n",
       "      <th>age</th>\n",
       "      <th>new_user</th>\n",
       "      <th>source</th>\n",
       "      <th>total_pages_visited</th>\n",
       "      <th>converted</th>\n",
       "    </tr>\n",
       "  </thead>\n",
       "  <tbody>\n",
       "    <tr>\n",
       "      <th>0</th>\n",
       "      <td>China</td>\n",
       "      <td>22</td>\n",
       "      <td>1</td>\n",
       "      <td>Direct</td>\n",
       "      <td>2</td>\n",
       "      <td>0</td>\n",
       "    </tr>\n",
       "    <tr>\n",
       "      <th>1</th>\n",
       "      <td>UK</td>\n",
       "      <td>21</td>\n",
       "      <td>1</td>\n",
       "      <td>Ads</td>\n",
       "      <td>3</td>\n",
       "      <td>0</td>\n",
       "    </tr>\n",
       "    <tr>\n",
       "      <th>2</th>\n",
       "      <td>Germany</td>\n",
       "      <td>20</td>\n",
       "      <td>0</td>\n",
       "      <td>Seo</td>\n",
       "      <td>14</td>\n",
       "      <td>1</td>\n",
       "    </tr>\n",
       "    <tr>\n",
       "      <th>3</th>\n",
       "      <td>US</td>\n",
       "      <td>23</td>\n",
       "      <td>1</td>\n",
       "      <td>Seo</td>\n",
       "      <td>3</td>\n",
       "      <td>0</td>\n",
       "    </tr>\n",
       "    <tr>\n",
       "      <th>4</th>\n",
       "      <td>US</td>\n",
       "      <td>28</td>\n",
       "      <td>1</td>\n",
       "      <td>Direct</td>\n",
       "      <td>3</td>\n",
       "      <td>0</td>\n",
       "    </tr>\n",
       "  </tbody>\n",
       "</table>\n",
       "</div>"
      ],
      "text/plain": [
       "   country  age  new_user  source  total_pages_visited  converted\n",
       "0    China   22         1  Direct                    2          0\n",
       "1       UK   21         1     Ads                    3          0\n",
       "2  Germany   20         0     Seo                   14          1\n",
       "3       US   23         1     Seo                    3          0\n",
       "4       US   28         1  Direct                    3          0"
      ]
     },
     "execution_count": 3,
     "metadata": {},
     "output_type": "execute_result"
    }
   ],
   "source": [
    "data.head(5)"
   ]
  },
  {
   "cell_type": "code",
   "execution_count": 4,
   "id": "68726637-ff53-4117-ab3c-520b84e25494",
   "metadata": {},
   "outputs": [
    {
     "name": "stdout",
     "output_type": "stream",
     "text": [
      "Basics statistics: \n"
     ]
    },
    {
     "data": {
      "text/html": [
       "<div>\n",
       "<style scoped>\n",
       "    .dataframe tbody tr th:only-of-type {\n",
       "        vertical-align: middle;\n",
       "    }\n",
       "\n",
       "    .dataframe tbody tr th {\n",
       "        vertical-align: top;\n",
       "    }\n",
       "\n",
       "    .dataframe thead th {\n",
       "        text-align: right;\n",
       "    }\n",
       "</style>\n",
       "<table border=\"1\" class=\"dataframe\">\n",
       "  <thead>\n",
       "    <tr style=\"text-align: right;\">\n",
       "      <th></th>\n",
       "      <th>country</th>\n",
       "      <th>age</th>\n",
       "      <th>new_user</th>\n",
       "      <th>source</th>\n",
       "      <th>total_pages_visited</th>\n",
       "      <th>converted</th>\n",
       "    </tr>\n",
       "  </thead>\n",
       "  <tbody>\n",
       "    <tr>\n",
       "      <th>count</th>\n",
       "      <td>284580</td>\n",
       "      <td>284580.000000</td>\n",
       "      <td>284580.000000</td>\n",
       "      <td>284580</td>\n",
       "      <td>284580.000000</td>\n",
       "      <td>284580.000000</td>\n",
       "    </tr>\n",
       "    <tr>\n",
       "      <th>unique</th>\n",
       "      <td>4</td>\n",
       "      <td>NaN</td>\n",
       "      <td>NaN</td>\n",
       "      <td>3</td>\n",
       "      <td>NaN</td>\n",
       "      <td>NaN</td>\n",
       "    </tr>\n",
       "    <tr>\n",
       "      <th>top</th>\n",
       "      <td>US</td>\n",
       "      <td>NaN</td>\n",
       "      <td>NaN</td>\n",
       "      <td>Seo</td>\n",
       "      <td>NaN</td>\n",
       "      <td>NaN</td>\n",
       "    </tr>\n",
       "    <tr>\n",
       "      <th>freq</th>\n",
       "      <td>160124</td>\n",
       "      <td>NaN</td>\n",
       "      <td>NaN</td>\n",
       "      <td>139477</td>\n",
       "      <td>NaN</td>\n",
       "      <td>NaN</td>\n",
       "    </tr>\n",
       "    <tr>\n",
       "      <th>mean</th>\n",
       "      <td>NaN</td>\n",
       "      <td>30.564203</td>\n",
       "      <td>0.685452</td>\n",
       "      <td>NaN</td>\n",
       "      <td>4.873252</td>\n",
       "      <td>0.032258</td>\n",
       "    </tr>\n",
       "    <tr>\n",
       "      <th>std</th>\n",
       "      <td>NaN</td>\n",
       "      <td>8.266789</td>\n",
       "      <td>0.464336</td>\n",
       "      <td>NaN</td>\n",
       "      <td>3.341995</td>\n",
       "      <td>0.176685</td>\n",
       "    </tr>\n",
       "    <tr>\n",
       "      <th>min</th>\n",
       "      <td>NaN</td>\n",
       "      <td>17.000000</td>\n",
       "      <td>0.000000</td>\n",
       "      <td>NaN</td>\n",
       "      <td>1.000000</td>\n",
       "      <td>0.000000</td>\n",
       "    </tr>\n",
       "    <tr>\n",
       "      <th>25%</th>\n",
       "      <td>NaN</td>\n",
       "      <td>24.000000</td>\n",
       "      <td>0.000000</td>\n",
       "      <td>NaN</td>\n",
       "      <td>2.000000</td>\n",
       "      <td>0.000000</td>\n",
       "    </tr>\n",
       "    <tr>\n",
       "      <th>50%</th>\n",
       "      <td>NaN</td>\n",
       "      <td>30.000000</td>\n",
       "      <td>1.000000</td>\n",
       "      <td>NaN</td>\n",
       "      <td>4.000000</td>\n",
       "      <td>0.000000</td>\n",
       "    </tr>\n",
       "    <tr>\n",
       "      <th>75%</th>\n",
       "      <td>NaN</td>\n",
       "      <td>36.000000</td>\n",
       "      <td>1.000000</td>\n",
       "      <td>NaN</td>\n",
       "      <td>7.000000</td>\n",
       "      <td>0.000000</td>\n",
       "    </tr>\n",
       "    <tr>\n",
       "      <th>max</th>\n",
       "      <td>NaN</td>\n",
       "      <td>123.000000</td>\n",
       "      <td>1.000000</td>\n",
       "      <td>NaN</td>\n",
       "      <td>29.000000</td>\n",
       "      <td>1.000000</td>\n",
       "    </tr>\n",
       "  </tbody>\n",
       "</table>\n",
       "</div>"
      ],
      "text/plain": [
       "       country            age       new_user  source  total_pages_visited  \\\n",
       "count   284580  284580.000000  284580.000000  284580        284580.000000   \n",
       "unique       4            NaN            NaN       3                  NaN   \n",
       "top         US            NaN            NaN     Seo                  NaN   \n",
       "freq    160124            NaN            NaN  139477                  NaN   \n",
       "mean       NaN      30.564203       0.685452     NaN             4.873252   \n",
       "std        NaN       8.266789       0.464336     NaN             3.341995   \n",
       "min        NaN      17.000000       0.000000     NaN             1.000000   \n",
       "25%        NaN      24.000000       0.000000     NaN             2.000000   \n",
       "50%        NaN      30.000000       1.000000     NaN             4.000000   \n",
       "75%        NaN      36.000000       1.000000     NaN             7.000000   \n",
       "max        NaN     123.000000       1.000000     NaN            29.000000   \n",
       "\n",
       "            converted  \n",
       "count   284580.000000  \n",
       "unique            NaN  \n",
       "top               NaN  \n",
       "freq              NaN  \n",
       "mean         0.032258  \n",
       "std          0.176685  \n",
       "min          0.000000  \n",
       "25%          0.000000  \n",
       "50%          0.000000  \n",
       "75%          0.000000  \n",
       "max          1.000000  "
      ]
     },
     "metadata": {},
     "output_type": "display_data"
    },
    {
     "name": "stdout",
     "output_type": "stream",
     "text": [
      "\n",
      "Percentage of missing values: \n"
     ]
    },
    {
     "data": {
      "text/plain": [
       "country                0.0\n",
       "age                    0.0\n",
       "new_user               0.0\n",
       "source                 0.0\n",
       "total_pages_visited    0.0\n",
       "converted              0.0\n",
       "dtype: float64"
      ]
     },
     "metadata": {},
     "output_type": "display_data"
    }
   ],
   "source": [
    "print(\"Basics statistics: \")\n",
    "data_desc = data.describe(include='all')\n",
    "display(data_desc)\n",
    "print()\n",
    "\n",
    "print(\"Percentage of missing values: \")\n",
    "display(100*data.isnull().sum()/data.shape[0])"
   ]
  },
  {
   "cell_type": "code",
   "execution_count": 5,
   "id": "3895b44f-3d3e-4c0d-8b85-d6460d11bd6a",
   "metadata": {},
   "outputs": [
    {
     "data": {
      "text/plain": [
       "0    275400\n",
       "1      9180\n",
       "Name: converted, dtype: int64"
      ]
     },
     "execution_count": 5,
     "metadata": {},
     "output_type": "execute_result"
    }
   ],
   "source": [
    "vc = data['converted'].value_counts()\n",
    "vc"
   ]
  },
  {
   "cell_type": "code",
   "execution_count": 6,
   "id": "eaee0494-c4e0-4b35-b227-d8289536333a",
   "metadata": {},
   "outputs": [],
   "source": [
    "data = data[data['age'] < 56]"
   ]
  },
  {
   "attachments": {
    "b68c0291-5388-42e0-92db-48afd8fd7cc6.png": {
     "image/png": "[encoded data removed]"
    }
   },
   "cell_type": "markdown",
   "id": "6ec05211-2432-4458-8ba2-ead01619ed5d",
   "metadata": {},
   "source": [
    "# The data is imbalanced in target results ! ![image.png](attachment:b68c0291-5388-42e0-92db-48afd8fd7cc6.png)"
   ]
  },
  {
   "cell_type": "code",
   "execution_count": 7,
   "id": "c4f8532b-1c6b-4cdc-b922-0a2603e7282d",
   "metadata": {},
   "outputs": [
    {
     "name": "stdout",
     "output_type": "stream",
     "text": [
      "0 value is 97 % of all results.\n",
      "1 value is 3 % of all results.\n"
     ]
    }
   ],
   "source": [
    "vc = data['converted'].value_counts()\n",
    "row_size = data.shape[0]\n",
    "print('0 value is', round((vc[0]/row_size)*100), \"% of all results.\")\n",
    "print('1 value is', round((vc[1]/row_size)*100), \"% of all results.\")"
   ]
  },
  {
   "cell_type": "code",
   "execution_count": 8,
   "id": "2ec63d93-6f91-4cf6-a02f-7fe4dbb7b00b",
   "metadata": {},
   "outputs": [],
   "source": [
    "from sklearn.preprocessing import StandardScaler, OneHotEncoder\n",
    "from sklearn.compose import ColumnTransformer\n",
    "target = 'converted'\n",
    "X = data.drop(target, axis=1)\n",
    "Y = data[target]\n",
    "X_train, X_test, Y_train, Y_test = train_test_split(X, Y, test_size=0.1, random_state=0, stratify = Y)\n",
    "\n",
    "numeric_features = ['new_user', 'total_pages_visited', 'age']\n",
    "categorical_features = ['country', 'source']\n",
    "\n",
    "numeric_transformer = Pipeline(steps=[\n",
    "    ('imputer', SimpleImputer(strategy='mean')), # missing values will be replaced by columns' mean\n",
    "    ('scaler', StandardScaler())\n",
    "])\n",
    "categorical_transformer = OneHotEncoder(drop='first')\n",
    "preprocessor = ColumnTransformer(\n",
    "    transformers=[\n",
    "        ('num', numeric_transformer, numeric_features),\n",
    "        ('cat', categorical_transformer, categorical_features)\n",
    "    ])"
   ]
  },
  {
   "cell_type": "code",
   "execution_count": 9,
   "id": "90df9dcb-c029-4c28-83b5-2335c5d9e74c",
   "metadata": {},
   "outputs": [],
   "source": [
    "X_train = preprocessor.fit_transform(X_train)\n",
    "X_test = preprocessor.transform(X_test)"
   ]
  },
  {
   "cell_type": "markdown",
   "id": "fbe6a41f-33e0-4037-987b-db6f528d3e01",
   "metadata": {},
   "source": [
    "## Let's try to add some weight in the SGDClassifier model training."
   ]
  },
  {
   "cell_type": "code",
   "execution_count": 10,
   "id": "0c9b2778-39cf-4804-8b47-8be5d48eb227",
   "metadata": {},
   "outputs": [
    {
     "name": "stdout",
     "output_type": "stream",
     "text": [
      "Current weight :  0.0\n",
      "Current weight :  0.1\n",
      "Current weight :  0.2\n",
      "Current weight :  0.3\n",
      "Current weight :  0.4\n",
      "Current weight :  0.5\n",
      "Current weight :  0.6\n",
      "Current weight :  0.7\n",
      "Current weight :  0.8\n",
      "Current weight :  0.9\n",
      "f1-score on train set :  0.7685202521375524\n",
      "f1-score on test set :  0.7694974003466205\n",
      "best weight :  0.37\n",
      "\n",
      "It took 37.33 seconds to achieve !\n"
     ]
    }
   ],
   "source": [
    "from sklearn.linear_model import SGDClassifier\n",
    "from time import time\n",
    "import numpy as np\n",
    "\n",
    "s = time()\n",
    "\n",
    "best_weight = 0\n",
    "f1_score_test = 0\n",
    "f1_score_train = 0\n",
    "for weight in np.arange(0, 1, 0.01):\n",
    "    if (weight * 100)%10==0:\n",
    "        print(\"Current weight : \", round(weight, 1))\n",
    "    classifier = SGDClassifier(n_jobs=-1, random_state=0, class_weight={0:weight, 1:1-weight}\n",
    "                              , early_stopping=True, )\n",
    "    classifier.fit(X_train, Y_train)\n",
    "    Y_train_pred = classifier.predict(X_train)\n",
    "    Y_test_pred = classifier.predict(X_test)\n",
    "    if f1_score(Y_test, Y_test_pred) > f1_score_test:\n",
    "        f1_score_train = f1_score(Y_train, Y_train_pred)\n",
    "        f1_score_test = f1_score(Y_test, Y_test_pred)\n",
    "        best_weight = weight\n",
    "\n",
    "print(\"f1-score on train set : \", f1_score_train)\n",
    "print(\"f1-score on test set : \", f1_score_test)\n",
    "print(\"best weight : \", best_weight)\n",
    "print(\"\")\n",
    "print(f\"It took {round(time()-s, 2)} seconds to achieve !\")"
   ]
  },
  {
   "cell_type": "markdown",
   "id": "0de5204b-1476-465e-baa9-34a9be4d35e2",
   "metadata": {},
   "source": [
    "## F1 score : Train = 0.7685, Test = 0.7694"
   ]
  },
  {
   "cell_type": "code",
   "execution_count": 11,
   "id": "e948c397-a9b8-4939-953b-74b3ab4cf130",
   "metadata": {},
   "outputs": [
    {
     "data": {
      "image/png": "[encoded data removed]",
      "text/plain": [
       "<Figure size 640x480 with 2 Axes>"
      ]
     },
     "metadata": {},
     "output_type": "display_data"
    }
   ],
   "source": [
    "import matplotlib.pyplot as plt\n",
    "from sklearn.metrics import confusion_matrix, ConfusionMatrixDisplay\n",
    "\n",
    "matrix = confusion_matrix(y_true=Y_test, y_pred=Y_test_pred)\n",
    "ConfusionMatrixDisplay(confusion_matrix=matrix).plot()\n",
    "plt.show()"
   ]
  },
  {
   "cell_type": "markdown",
   "id": "70c6e9bf-62c4-4707-98f3-f6c0aad968e2",
   "metadata": {},
   "source": [
    "## Confusion matrix is not so good because there are a lot of False Negative (741) values."
   ]
  },
  {
   "cell_type": "code",
   "execution_count": 17,
   "id": "fbb9fbc9-4c51-404c-8bd2-decc2db0be59",
   "metadata": {},
   "outputs": [
    {
     "name": "stdout",
     "output_type": "stream",
     "text": [
      "f1-score on train set :  0.7674837108284208\n",
      "f1-score on test set :  0.7696726019529005\n",
      "best validation_fraction :  0.4\n",
      "\n",
      "It took 15.31 seconds to achieve !\n"
     ]
    }
   ],
   "source": [
    "from sklearn.linear_model import SGDClassifier\n",
    "from time import time\n",
    "import numpy as np\n",
    "\n",
    "s = time()\n",
    "\n",
    "weight = 0.37\n",
    "f1_score_test = 0\n",
    "f1_score_train = 0\n",
    "best_validation_fraction = 0\n",
    "for validation_fraction in np.arange(0.1, 0.5, 0.01):\n",
    "    classifier = SGDClassifier(n_jobs=-1, random_state=0, class_weight={0:weight, 1:1-weight}\n",
    "                              , early_stopping=True, validation_fraction=validation_fraction)\n",
    "    classifier.fit(X_train, Y_train)\n",
    "    Y_train_pred = classifier.predict(X_train)\n",
    "    Y_test_pred = classifier.predict(X_test)\n",
    "    if f1_score(Y_test, Y_test_pred) > f1_score_test:\n",
    "        f1_score_train = f1_score(Y_train, Y_train_pred)\n",
    "        f1_score_test = f1_score(Y_test, Y_test_pred)\n",
    "        best_validation_fraction = validation_fraction\n",
    "\n",
    "print(\"f1-score on train set : \", f1_score_train)\n",
    "print(\"f1-score on test set : \", f1_score_test)\n",
    "print(\"best validation_fraction : \", round(best_validation_fraction, 2))\n",
    "print(\"\")\n",
    "print(f\"It took {round(time()-s, 2)} seconds to achieve !\")"
   ]
  },
  {
   "cell_type": "markdown",
   "id": "bcb60059-55eb-4f13-af3b-d03518d86a77",
   "metadata": {},
   "source": [
    "## F1 score : Train = 0.7674, Test = 0.7696"
   ]
  },
  {
   "cell_type": "code",
   "execution_count": 19,
   "id": "f6861ce7-f995-4db5-9833-9a7b75e1fc0e",
   "metadata": {},
   "outputs": [
    {
     "data": {
      "image/png": "[encoded data removed]",
      "text/plain": [
       "<Figure size 640x480 with 2 Axes>"
      ]
     },
     "metadata": {},
     "output_type": "display_data"
    }
   ],
   "source": [
    "import matplotlib.pyplot as plt\n",
    "from sklearn.metrics import confusion_matrix, ConfusionMatrixDisplay\n",
    "\n",
    "matrix = confusion_matrix(y_true=Y_test, y_pred=Y_test_pred)\n",
    "ConfusionMatrixDisplay(confusion_matrix=matrix).plot()\n",
    "plt.show()"
   ]
  },
  {
   "cell_type": "markdown",
   "id": "65ae7f8c-503c-47ce-922f-5c0488213b64",
   "metadata": {},
   "source": [
    "## Confusion matrix can seem to be better as we have much more True positive (674) than before and that's we want to detect."
   ]
  },
  {
   "cell_type": "code",
   "execution_count": 20,
   "id": "c198f7ac-2306-418f-b8bf-fe1d76389e42",
   "metadata": {
    "tags": []
   },
   "outputs": [
    {
     "name": "stdout",
     "output_type": "stream",
     "text": [
      "Features are: ['new_user', 'total_pages_visited', 'age', 'country', 'source']\n",
      "Prediction set (without labels) : (31620, 5)\n"
     ]
    }
   ],
   "source": [
    "# Read data without labels\n",
    "features_list = numeric_features + categorical_features\n",
    "print(\"Features are:\", features_list)\n",
    "data_without_labels = pd.read_csv('Sources/conversion_data_test.csv')\n",
    "print('Prediction set (without labels) :', data_without_labels.shape)\n",
    "X_without_labels = data_without_labels[features_list]\n",
    "X_without_labels = preprocessor.transform(X_without_labels)"
   ]
  },
  {
   "cell_type": "code",
   "execution_count": 21,
   "id": "be4d40dc-5c1a-46f9-917b-37e29671cb8b",
   "metadata": {
    "tags": []
   },
   "outputs": [
    {
     "name": "stdout",
     "output_type": "stream",
     "text": [
      "Results saved as: Results/conversion_data_test_predictions_SGDClassifier_Tuned.csv\n"
     ]
    }
   ],
   "source": [
    "classifier = SGDClassifier(random_state=42, loss='log_loss', alpha=0.0002, max_iter=1000, tol=1e-3, penalty=None)\n",
    "classifier.fit(X_train, Y_train)\n",
    "data_ = {'converted': classifier.predict(X_without_labels)}\n",
    "Y_predictions = pd.DataFrame(columns=['converted'], data=data_)\n",
    "filename='Results/conversion_data_test_predictions_SGDClassifier_Tuned.csv'\n",
    "Y_predictions.to_csv(filename, index=False)\n",
    "print('Results saved as:', filename)"
   ]
  },
  {
   "cell_type": "code",
   "execution_count": null,
   "id": "557a7209-9f68-4490-81b9-c51d2d1ef2ca",
   "metadata": {},
   "outputs": [],
   "source": []
  }
 ],
 "metadata": {
  "kernelspec": {
   "display_name": "Python 3 (ipykernel)",
   "language": "python",
   "name": "python3"
  },
  "language_info": {
   "codemirror_mode": {
    "name": "ipython",
    "version": 3
   },
   "file_extension": ".py",
   "mimetype": "text/x-python",
   "name": "python",
   "nbconvert_exporter": "python",
   "pygments_lexer": "ipython3",
   "version": "3.10.7"
  }
 },
 "nbformat": 4,
 "nbformat_minor": 5
}
