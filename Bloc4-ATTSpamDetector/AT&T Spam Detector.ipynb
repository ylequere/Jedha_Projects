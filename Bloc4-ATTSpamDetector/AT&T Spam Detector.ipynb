{
  "cells": [
    {
      "cell_type": "markdown",
      "id": "3d0fc4de-14df-49f7-94ae-7d66f77382dd",
      "metadata": {
        "id": "3d0fc4de-14df-49f7-94ae-7d66f77382dd"
      },
      "source": [
        "# This notebook has been released on Google collab as it was faster than executing locally."
      ]
    },
    {
      "cell_type": "code",
      "execution_count": 1,
      "id": "3f0f6f10-8b66-417d-89a5-5640c0bd35aa",
      "metadata": {
        "colab": {
          "base_uri": "https://localhost:8080/"
        },
        "id": "3f0f6f10-8b66-417d-89a5-5640c0bd35aa",
        "outputId": "707a27ec-64f0-49d1-a567-b423e6aa56d3"
      },
      "outputs": [
        {
          "output_type": "stream",
          "name": "stdout",
          "text": [
            "Tensforflow version : 2.9.2\n",
            "Num GPUs Available:  0\n"
          ]
        }
      ],
      "source": [
        "import tensorflow as tf\n",
        "tf.get_logger().setLevel('ERROR')\n",
        "tf.autograph.set_verbosity(0, alsologtostdout=False)\n",
        "print(\"Tensforflow version :\", tf.__version__)\n",
        "print(\"Num GPUs Available: \", len(tf.config.list_physical_devices('GPU')))"
      ]
    },
    {
      "cell_type": "markdown",
      "id": "70f7d3cd-5c8c-4854-9a03-7d2dc325b39b",
      "metadata": {
        "id": "70f7d3cd-5c8c-4854-9a03-7d2dc325b39b"
      },
      "source": [
        "## Analysis and preprocessing of the source file"
      ]
    },
    {
      "cell_type": "code",
      "execution_count": 2,
      "id": "6855f87e-0471-4328-a5a8-216d875c98f1",
      "metadata": {
        "colab": {
          "base_uri": "https://localhost:8080/",
          "height": 206
        },
        "id": "6855f87e-0471-4328-a5a8-216d875c98f1",
        "outputId": "b8177079-46d6-4031-ac45-9a065fd91a42"
      },
      "outputs": [
        {
          "output_type": "execute_result",
          "data": {
            "text/plain": [
              "     v1                                                 v2 Unnamed: 2  \\\n",
              "0   ham  Go until jurong point, crazy.. Available only ...              \n",
              "1   ham                      Ok lar... Joking wif u oni...              \n",
              "2  spam  Free entry in 2 a wkly comp to win FA Cup fina...              \n",
              "3   ham  U dun say so early hor... U c already then say...              \n",
              "4   ham  Nah I don't think he goes to usf, he lives aro...              \n",
              "\n",
              "  Unnamed: 3 Unnamed: 4  \n",
              "0                        \n",
              "1                        \n",
              "2                        \n",
              "3                        \n",
              "4                        "
            ],
            "text/html": [
              "\n",
              "  <div id=\"df-2ae1cb3f-fb2e-4083-b6bf-ce3577052d23\">\n",
              "    <div class=\"colab-df-container\">\n",
              "      <div>\n",
              "<style scoped>\n",
              "    .dataframe tbody tr th:only-of-type {\n",
              "        vertical-align: middle;\n",
              "    }\n",
              "\n",
              "    .dataframe tbody tr th {\n",
              "        vertical-align: top;\n",
              "    }\n",
              "\n",
              "    .dataframe thead th {\n",
              "        text-align: right;\n",
              "    }\n",
              "</style>\n",
              "<table border=\"1\" class=\"dataframe\">\n",
              "  <thead>\n",
              "    <tr style=\"text-align: right;\">\n",
              "      <th></th>\n",
              "      <th>v1</th>\n",
              "      <th>v2</th>\n",
              "      <th>Unnamed: 2</th>\n",
              "      <th>Unnamed: 3</th>\n",
              "      <th>Unnamed: 4</th>\n",
              "    </tr>\n",
              "  </thead>\n",
              "  <tbody>\n",
              "    <tr>\n",
              "      <th>0</th>\n",
              "      <td>ham</td>\n",
              "      <td>Go until jurong point, crazy.. Available only ...</td>\n",
              "      <td></td>\n",
              "      <td></td>\n",
              "      <td></td>\n",
              "    </tr>\n",
              "    <tr>\n",
              "      <th>1</th>\n",
              "      <td>ham</td>\n",
              "      <td>Ok lar... Joking wif u oni...</td>\n",
              "      <td></td>\n",
              "      <td></td>\n",
              "      <td></td>\n",
              "    </tr>\n",
              "    <tr>\n",
              "      <th>2</th>\n",
              "      <td>spam</td>\n",
              "      <td>Free entry in 2 a wkly comp to win FA Cup fina...</td>\n",
              "      <td></td>\n",
              "      <td></td>\n",
              "      <td></td>\n",
              "    </tr>\n",
              "    <tr>\n",
              "      <th>3</th>\n",
              "      <td>ham</td>\n",
              "      <td>U dun say so early hor... U c already then say...</td>\n",
              "      <td></td>\n",
              "      <td></td>\n",
              "      <td></td>\n",
              "    </tr>\n",
              "    <tr>\n",
              "      <th>4</th>\n",
              "      <td>ham</td>\n",
              "      <td>Nah I don't think he goes to usf, he lives aro...</td>\n",
              "      <td></td>\n",
              "      <td></td>\n",
              "      <td></td>\n",
              "    </tr>\n",
              "  </tbody>\n",
              "</table>\n",
              "</div>\n",
              "      <button class=\"colab-df-convert\" onclick=\"convertToInteractive('df-2ae1cb3f-fb2e-4083-b6bf-ce3577052d23')\"\n",
              "              title=\"Convert this dataframe to an interactive table.\"\n",
              "              style=\"display:none;\">\n",
              "        \n",
              "  <svg xmlns=\"http://www.w3.org/2000/svg\" height=\"24px\"viewBox=\"0 0 24 24\"\n",
              "       width=\"24px\">\n",
              "    <path d=\"M0 0h24v24H0V0z\" fill=\"none\"/>\n",
              "    <path d=\"M18.56 5.44l.94 2.06.94-2.06 2.06-.94-2.06-.94-.94-2.06-.94 2.06-2.06.94zm-11 1L8.5 8.5l.94-2.06 2.06-.94-2.06-.94L8.5 2.5l-.94 2.06-2.06.94zm10 10l.94 2.06.94-2.06 2.06-.94-2.06-.94-.94-2.06-.94 2.06-2.06.94z\"/><path d=\"M17.41 7.96l-1.37-1.37c-.4-.4-.92-.59-1.43-.59-.52 0-1.04.2-1.43.59L10.3 9.45l-7.72 7.72c-.78.78-.78 2.05 0 2.83L4 21.41c.39.39.9.59 1.41.59.51 0 1.02-.2 1.41-.59l7.78-7.78 2.81-2.81c.8-.78.8-2.07 0-2.86zM5.41 20L4 18.59l7.72-7.72 1.47 1.35L5.41 20z\"/>\n",
              "  </svg>\n",
              "      </button>\n",
              "      \n",
              "  <style>\n",
              "    .colab-df-container {\n",
              "      display:flex;\n",
              "      flex-wrap:wrap;\n",
              "      gap: 12px;\n",
              "    }\n",
              "\n",
              "    .colab-df-convert {\n",
              "      background-color: #E8F0FE;\n",
              "      border: none;\n",
              "      border-radius: 50%;\n",
              "      cursor: pointer;\n",
              "      display: none;\n",
              "      fill: #1967D2;\n",
              "      height: 32px;\n",
              "      padding: 0 0 0 0;\n",
              "      width: 32px;\n",
              "    }\n",
              "\n",
              "    .colab-df-convert:hover {\n",
              "      background-color: #E2EBFA;\n",
              "      box-shadow: 0px 1px 2px rgba(60, 64, 67, 0.3), 0px 1px 3px 1px rgba(60, 64, 67, 0.15);\n",
              "      fill: #174EA6;\n",
              "    }\n",
              "\n",
              "    [theme=dark] .colab-df-convert {\n",
              "      background-color: #3B4455;\n",
              "      fill: #D2E3FC;\n",
              "    }\n",
              "\n",
              "    [theme=dark] .colab-df-convert:hover {\n",
              "      background-color: #434B5C;\n",
              "      box-shadow: 0px 1px 3px 1px rgba(0, 0, 0, 0.15);\n",
              "      filter: drop-shadow(0px 1px 2px rgba(0, 0, 0, 0.3));\n",
              "      fill: #FFFFFF;\n",
              "    }\n",
              "  </style>\n",
              "\n",
              "      <script>\n",
              "        const buttonEl =\n",
              "          document.querySelector('#df-2ae1cb3f-fb2e-4083-b6bf-ce3577052d23 button.colab-df-convert');\n",
              "        buttonEl.style.display =\n",
              "          google.colab.kernel.accessAllowed ? 'block' : 'none';\n",
              "\n",
              "        async function convertToInteractive(key) {\n",
              "          const element = document.querySelector('#df-2ae1cb3f-fb2e-4083-b6bf-ce3577052d23');\n",
              "          const dataTable =\n",
              "            await google.colab.kernel.invokeFunction('convertToInteractive',\n",
              "                                                     [key], {});\n",
              "          if (!dataTable) return;\n",
              "\n",
              "          const docLinkHtml = 'Like what you see? Visit the ' +\n",
              "            '<a target=\"_blank\" href=https://colab.research.google.com/notebooks/data_table.ipynb>data table notebook</a>'\n",
              "            + ' to learn more about interactive tables.';\n",
              "          element.innerHTML = '';\n",
              "          dataTable['output_type'] = 'display_data';\n",
              "          await google.colab.output.renderOutput(dataTable, element);\n",
              "          const docLink = document.createElement('div');\n",
              "          docLink.innerHTML = docLinkHtml;\n",
              "          element.appendChild(docLink);\n",
              "        }\n",
              "      </script>\n",
              "    </div>\n",
              "  </div>\n",
              "  "
            ]
          },
          "metadata": {},
          "execution_count": 2
        }
      ],
      "source": [
        "import pandas as pd\n",
        "df = pd.read_csv('https://full-stack-bigdata-datasets.s3.eu-west-3.amazonaws.com/Deep+Learning/project/spam.csv', encoding='latin', quotechar='\"').fillna('')\n",
        "df.head()"
      ]
    },
    {
      "cell_type": "code",
      "execution_count": 3,
      "id": "973fb890-08bb-4da7-9221-8e6ecc6ecced",
      "metadata": {
        "colab": {
          "base_uri": "https://localhost:8080/"
        },
        "id": "973fb890-08bb-4da7-9221-8e6ecc6ecced",
        "outputId": "f1d9018d-f26c-4b15-edd5-ef4905844f4a"
      },
      "outputs": [
        {
          "output_type": "execute_result",
          "data": {
            "text/plain": [
              "(5572, 5)"
            ]
          },
          "metadata": {},
          "execution_count": 3
        }
      ],
      "source": [
        "df.shape"
      ]
    },
    {
      "cell_type": "code",
      "execution_count": 4,
      "id": "874e06af-9fdb-4ba9-a931-f70cd737ee2e",
      "metadata": {
        "colab": {
          "base_uri": "https://localhost:8080/"
        },
        "id": "874e06af-9fdb-4ba9-a931-f70cd737ee2e",
        "outputId": "5d307c9e-17d3-42e5-f4d4-2b24f0048acc"
      },
      "outputs": [
        {
          "output_type": "execute_result",
          "data": {
            "text/plain": [
              "ham     4825\n",
              "spam     747\n",
              "Name: v1, dtype: int64"
            ]
          },
          "metadata": {},
          "execution_count": 4
        }
      ],
      "source": [
        "df['v1'].value_counts()"
      ]
    },
    {
      "cell_type": "code",
      "execution_count": 5,
      "id": "a4acf857-393e-4b21-af11-f2f4654d9731",
      "metadata": {
        "colab": {
          "base_uri": "https://localhost:8080/"
        },
        "id": "a4acf857-393e-4b21-af11-f2f4654d9731",
        "outputId": "4809a766-e7e8-4049-e3ab-3fa8dfd19a8b"
      },
      "outputs": [
        {
          "output_type": "stream",
          "name": "stdout",
          "text": [
            "Percentage of spam messages is 13.41%\n"
          ]
        }
      ],
      "source": [
        "ham_count = df['v1'].value_counts()[0]\n",
        "spam_count = df['v1'].value_counts()[1]\n",
        "print(\"Percentage of spam messages is\",str(round(spam_count/(spam_count+ham_count)*100,2))+'%')"
      ]
    },
    {
      "cell_type": "markdown",
      "id": "f8472834-3fd1-4f39-a7ce-ff71ee38064d",
      "metadata": {
        "id": "f8472834-3fd1-4f39-a7ce-ff71ee38064d"
      },
      "source": [
        "### The dataset is unbalanced with 86,59% of ham and 13,41% of spam messages."
      ]
    },
    {
      "cell_type": "markdown",
      "id": "d7084f57-ba9a-4290-a7ed-66719e2c8eaa",
      "metadata": {
        "id": "d7084f57-ba9a-4290-a7ed-66719e2c8eaa"
      },
      "source": [
        "## Preprocessing"
      ]
    },
    {
      "cell_type": "markdown",
      "id": "fcac8574-d146-49a7-a1dd-65341600b9a5",
      "metadata": {
        "id": "fcac8574-d146-49a7-a1dd-65341600b9a5"
      },
      "source": [
        "First we clean up the columns it self."
      ]
    },
    {
      "cell_type": "code",
      "execution_count": 6,
      "id": "a9bcf4a7-1731-4108-9f3c-226799ce19ec",
      "metadata": {
        "colab": {
          "base_uri": "https://localhost:8080/",
          "height": 363
        },
        "id": "a9bcf4a7-1731-4108-9f3c-226799ce19ec",
        "outputId": "13b00256-6036-4dfc-8061-dc1294ba2db9"
      },
      "outputs": [
        {
          "output_type": "execute_result",
          "data": {
            "text/plain": [
              "        v1                                                 v2  \\\n",
              "95    spam  Your free ringtone is waiting to be collected....   \n",
              "281    ham                                \\Wen u miss someone   \n",
              "444    ham  \\HEY HEY WERETHE MONKEESPEOPLE SAY WE MONKEYAR...   \n",
              "671   spam         SMS. ac sun0819 posts HELLO:\\You seem cool   \n",
              "710    ham  Height of Confidence: All the Aeronautics prof...   \n",
              "899   spam  Your free ringtone is waiting to be collected....   \n",
              "1038   ham  Edison has rightly said, \\A fool can ask more ...   \n",
              "1127   ham  Height of \\Oh shit....!!\\\" situation: A guy th...   \n",
              "1266   ham    \\Hey sorry I didntgive ya a a bellearlier hunny   \n",
              "1384   ham  Storming msg: Wen u lift d phne, u say \\HELLO\\...   \n",
              "\n",
              "                                             Unnamed: 2  \\\n",
              "95                                          PO Box 5249   \n",
              "281    the person is definitely special for u..... B...   \n",
              "444    HOWU DOIN? FOUNDURSELF A JOBYET SAUSAGE?LOVE ...   \n",
              "671    wanted to say hi. HI!!!\\\" Stop? Send STOP to ...   \n",
              "710     this wont even start........ Datz confidence..\"   \n",
              "899                                         PO Box 5249   \n",
              "1038                                                 GN   \n",
              "1127                                           .;-):-D\"   \n",
              "1266  just been in bedbut mite go 2 thepub l8tr if u...   \n",
              "1384   bt not his girlfrnd... G o o d n i g h t . . .@\"   \n",
              "\n",
              "                 Unnamed: 3                      Unnamed: 4  \n",
              "95     MK17 92H. 450Ppw 16\"                                  \n",
              "281        why to miss them   just Keep-in-touch\\\" gdeve..\"  \n",
              "444                                                          \n",
              "671                                                          \n",
              "710                                                          \n",
              "899    MK17 92H. 450Ppw 16\"                                  \n",
              "1038                     GE                         GNT:-)\"  \n",
              "1127                                                         \n",
              "1266                                                         \n",
              "1384                                                         "
            ],
            "text/html": [
              "\n",
              "  <div id=\"df-c534b4f1-60d9-4d04-9d83-5cea9c36d390\">\n",
              "    <div class=\"colab-df-container\">\n",
              "      <div>\n",
              "<style scoped>\n",
              "    .dataframe tbody tr th:only-of-type {\n",
              "        vertical-align: middle;\n",
              "    }\n",
              "\n",
              "    .dataframe tbody tr th {\n",
              "        vertical-align: top;\n",
              "    }\n",
              "\n",
              "    .dataframe thead th {\n",
              "        text-align: right;\n",
              "    }\n",
              "</style>\n",
              "<table border=\"1\" class=\"dataframe\">\n",
              "  <thead>\n",
              "    <tr style=\"text-align: right;\">\n",
              "      <th></th>\n",
              "      <th>v1</th>\n",
              "      <th>v2</th>\n",
              "      <th>Unnamed: 2</th>\n",
              "      <th>Unnamed: 3</th>\n",
              "      <th>Unnamed: 4</th>\n",
              "    </tr>\n",
              "  </thead>\n",
              "  <tbody>\n",
              "    <tr>\n",
              "      <th>95</th>\n",
              "      <td>spam</td>\n",
              "      <td>Your free ringtone is waiting to be collected....</td>\n",
              "      <td>PO Box 5249</td>\n",
              "      <td>MK17 92H. 450Ppw 16\"</td>\n",
              "      <td></td>\n",
              "    </tr>\n",
              "    <tr>\n",
              "      <th>281</th>\n",
              "      <td>ham</td>\n",
              "      <td>\\Wen u miss someone</td>\n",
              "      <td>the person is definitely special for u..... B...</td>\n",
              "      <td>why to miss them</td>\n",
              "      <td>just Keep-in-touch\\\" gdeve..\"</td>\n",
              "    </tr>\n",
              "    <tr>\n",
              "      <th>444</th>\n",
              "      <td>ham</td>\n",
              "      <td>\\HEY HEY WERETHE MONKEESPEOPLE SAY WE MONKEYAR...</td>\n",
              "      <td>HOWU DOIN? FOUNDURSELF A JOBYET SAUSAGE?LOVE ...</td>\n",
              "      <td></td>\n",
              "      <td></td>\n",
              "    </tr>\n",
              "    <tr>\n",
              "      <th>671</th>\n",
              "      <td>spam</td>\n",
              "      <td>SMS. ac sun0819 posts HELLO:\\You seem cool</td>\n",
              "      <td>wanted to say hi. HI!!!\\\" Stop? Send STOP to ...</td>\n",
              "      <td></td>\n",
              "      <td></td>\n",
              "    </tr>\n",
              "    <tr>\n",
              "      <th>710</th>\n",
              "      <td>ham</td>\n",
              "      <td>Height of Confidence: All the Aeronautics prof...</td>\n",
              "      <td>this wont even start........ Datz confidence..\"</td>\n",
              "      <td></td>\n",
              "      <td></td>\n",
              "    </tr>\n",
              "    <tr>\n",
              "      <th>899</th>\n",
              "      <td>spam</td>\n",
              "      <td>Your free ringtone is waiting to be collected....</td>\n",
              "      <td>PO Box 5249</td>\n",
              "      <td>MK17 92H. 450Ppw 16\"</td>\n",
              "      <td></td>\n",
              "    </tr>\n",
              "    <tr>\n",
              "      <th>1038</th>\n",
              "      <td>ham</td>\n",
              "      <td>Edison has rightly said, \\A fool can ask more ...</td>\n",
              "      <td>GN</td>\n",
              "      <td>GE</td>\n",
              "      <td>GNT:-)\"</td>\n",
              "    </tr>\n",
              "    <tr>\n",
              "      <th>1127</th>\n",
              "      <td>ham</td>\n",
              "      <td>Height of \\Oh shit....!!\\\" situation: A guy th...</td>\n",
              "      <td>.;-):-D\"</td>\n",
              "      <td></td>\n",
              "      <td></td>\n",
              "    </tr>\n",
              "    <tr>\n",
              "      <th>1266</th>\n",
              "      <td>ham</td>\n",
              "      <td>\\Hey sorry I didntgive ya a a bellearlier hunny</td>\n",
              "      <td>just been in bedbut mite go 2 thepub l8tr if u...</td>\n",
              "      <td></td>\n",
              "      <td></td>\n",
              "    </tr>\n",
              "    <tr>\n",
              "      <th>1384</th>\n",
              "      <td>ham</td>\n",
              "      <td>Storming msg: Wen u lift d phne, u say \\HELLO\\...</td>\n",
              "      <td>bt not his girlfrnd... G o o d n i g h t . . .@\"</td>\n",
              "      <td></td>\n",
              "      <td></td>\n",
              "    </tr>\n",
              "  </tbody>\n",
              "</table>\n",
              "</div>\n",
              "      <button class=\"colab-df-convert\" onclick=\"convertToInteractive('df-c534b4f1-60d9-4d04-9d83-5cea9c36d390')\"\n",
              "              title=\"Convert this dataframe to an interactive table.\"\n",
              "              style=\"display:none;\">\n",
              "        \n",
              "  <svg xmlns=\"http://www.w3.org/2000/svg\" height=\"24px\"viewBox=\"0 0 24 24\"\n",
              "       width=\"24px\">\n",
              "    <path d=\"M0 0h24v24H0V0z\" fill=\"none\"/>\n",
              "    <path d=\"M18.56 5.44l.94 2.06.94-2.06 2.06-.94-2.06-.94-.94-2.06-.94 2.06-2.06.94zm-11 1L8.5 8.5l.94-2.06 2.06-.94-2.06-.94L8.5 2.5l-.94 2.06-2.06.94zm10 10l.94 2.06.94-2.06 2.06-.94-2.06-.94-.94-2.06-.94 2.06-2.06.94z\"/><path d=\"M17.41 7.96l-1.37-1.37c-.4-.4-.92-.59-1.43-.59-.52 0-1.04.2-1.43.59L10.3 9.45l-7.72 7.72c-.78.78-.78 2.05 0 2.83L4 21.41c.39.39.9.59 1.41.59.51 0 1.02-.2 1.41-.59l7.78-7.78 2.81-2.81c.8-.78.8-2.07 0-2.86zM5.41 20L4 18.59l7.72-7.72 1.47 1.35L5.41 20z\"/>\n",
              "  </svg>\n",
              "      </button>\n",
              "      \n",
              "  <style>\n",
              "    .colab-df-container {\n",
              "      display:flex;\n",
              "      flex-wrap:wrap;\n",
              "      gap: 12px;\n",
              "    }\n",
              "\n",
              "    .colab-df-convert {\n",
              "      background-color: #E8F0FE;\n",
              "      border: none;\n",
              "      border-radius: 50%;\n",
              "      cursor: pointer;\n",
              "      display: none;\n",
              "      fill: #1967D2;\n",
              "      height: 32px;\n",
              "      padding: 0 0 0 0;\n",
              "      width: 32px;\n",
              "    }\n",
              "\n",
              "    .colab-df-convert:hover {\n",
              "      background-color: #E2EBFA;\n",
              "      box-shadow: 0px 1px 2px rgba(60, 64, 67, 0.3), 0px 1px 3px 1px rgba(60, 64, 67, 0.15);\n",
              "      fill: #174EA6;\n",
              "    }\n",
              "\n",
              "    [theme=dark] .colab-df-convert {\n",
              "      background-color: #3B4455;\n",
              "      fill: #D2E3FC;\n",
              "    }\n",
              "\n",
              "    [theme=dark] .colab-df-convert:hover {\n",
              "      background-color: #434B5C;\n",
              "      box-shadow: 0px 1px 3px 1px rgba(0, 0, 0, 0.15);\n",
              "      filter: drop-shadow(0px 1px 2px rgba(0, 0, 0, 0.3));\n",
              "      fill: #FFFFFF;\n",
              "    }\n",
              "  </style>\n",
              "\n",
              "      <script>\n",
              "        const buttonEl =\n",
              "          document.querySelector('#df-c534b4f1-60d9-4d04-9d83-5cea9c36d390 button.colab-df-convert');\n",
              "        buttonEl.style.display =\n",
              "          google.colab.kernel.accessAllowed ? 'block' : 'none';\n",
              "\n",
              "        async function convertToInteractive(key) {\n",
              "          const element = document.querySelector('#df-c534b4f1-60d9-4d04-9d83-5cea9c36d390');\n",
              "          const dataTable =\n",
              "            await google.colab.kernel.invokeFunction('convertToInteractive',\n",
              "                                                     [key], {});\n",
              "          if (!dataTable) return;\n",
              "\n",
              "          const docLinkHtml = 'Like what you see? Visit the ' +\n",
              "            '<a target=\"_blank\" href=https://colab.research.google.com/notebooks/data_table.ipynb>data table notebook</a>'\n",
              "            + ' to learn more about interactive tables.';\n",
              "          element.innerHTML = '';\n",
              "          dataTable['output_type'] = 'display_data';\n",
              "          await google.colab.output.renderOutput(dataTable, element);\n",
              "          const docLink = document.createElement('div');\n",
              "          docLink.innerHTML = docLinkHtml;\n",
              "          element.appendChild(docLink);\n",
              "        }\n",
              "      </script>\n",
              "    </div>\n",
              "  </div>\n",
              "  "
            ]
          },
          "metadata": {},
          "execution_count": 6
        }
      ],
      "source": [
        "df[df['Unnamed: 2']!=''].head(10)"
      ]
    },
    {
      "cell_type": "markdown",
      "id": "48b2dad5-ff1b-43d9-a69c-fa49fb4be4e0",
      "metadata": {
        "id": "48b2dad5-ff1b-43d9-a69c-fa49fb4be4e0"
      },
      "source": [
        "Here we can see that 'Unnamed' columns contains other parts of the messages. We choose to concatenate it with first part of the message and to rename columns as well."
      ]
    },
    {
      "cell_type": "code",
      "execution_count": 7,
      "id": "dc1e63c1-5782-4134-a704-7d86ad424051",
      "metadata": {
        "colab": {
          "base_uri": "https://localhost:8080/",
          "height": 206
        },
        "id": "dc1e63c1-5782-4134-a704-7d86ad424051",
        "outputId": "f00f0e1e-0cf9-4a59-f344-aa75c1a004d3"
      },
      "outputs": [
        {
          "output_type": "execute_result",
          "data": {
            "text/plain": [
              "  Category                                            Message\n",
              "0      ham  Go until jurong point, crazy.. Available only ...\n",
              "1      ham                   Ok lar... Joking wif u oni...   \n",
              "2     spam  Free entry in 2 a wkly comp to win FA Cup fina...\n",
              "3      ham  U dun say so early hor... U c already then say...\n",
              "4      ham  Nah I don't think he goes to usf, he lives aro..."
            ],
            "text/html": [
              "\n",
              "  <div id=\"df-26712125-b7d1-4bbc-b8b0-4f833efdf347\">\n",
              "    <div class=\"colab-df-container\">\n",
              "      <div>\n",
              "<style scoped>\n",
              "    .dataframe tbody tr th:only-of-type {\n",
              "        vertical-align: middle;\n",
              "    }\n",
              "\n",
              "    .dataframe tbody tr th {\n",
              "        vertical-align: top;\n",
              "    }\n",
              "\n",
              "    .dataframe thead th {\n",
              "        text-align: right;\n",
              "    }\n",
              "</style>\n",
              "<table border=\"1\" class=\"dataframe\">\n",
              "  <thead>\n",
              "    <tr style=\"text-align: right;\">\n",
              "      <th></th>\n",
              "      <th>Category</th>\n",
              "      <th>Message</th>\n",
              "    </tr>\n",
              "  </thead>\n",
              "  <tbody>\n",
              "    <tr>\n",
              "      <th>0</th>\n",
              "      <td>ham</td>\n",
              "      <td>Go until jurong point, crazy.. Available only ...</td>\n",
              "    </tr>\n",
              "    <tr>\n",
              "      <th>1</th>\n",
              "      <td>ham</td>\n",
              "      <td>Ok lar... Joking wif u oni...</td>\n",
              "    </tr>\n",
              "    <tr>\n",
              "      <th>2</th>\n",
              "      <td>spam</td>\n",
              "      <td>Free entry in 2 a wkly comp to win FA Cup fina...</td>\n",
              "    </tr>\n",
              "    <tr>\n",
              "      <th>3</th>\n",
              "      <td>ham</td>\n",
              "      <td>U dun say so early hor... U c already then say...</td>\n",
              "    </tr>\n",
              "    <tr>\n",
              "      <th>4</th>\n",
              "      <td>ham</td>\n",
              "      <td>Nah I don't think he goes to usf, he lives aro...</td>\n",
              "    </tr>\n",
              "  </tbody>\n",
              "</table>\n",
              "</div>\n",
              "      <button class=\"colab-df-convert\" onclick=\"convertToInteractive('df-26712125-b7d1-4bbc-b8b0-4f833efdf347')\"\n",
              "              title=\"Convert this dataframe to an interactive table.\"\n",
              "              style=\"display:none;\">\n",
              "        \n",
              "  <svg xmlns=\"http://www.w3.org/2000/svg\" height=\"24px\"viewBox=\"0 0 24 24\"\n",
              "       width=\"24px\">\n",
              "    <path d=\"M0 0h24v24H0V0z\" fill=\"none\"/>\n",
              "    <path d=\"M18.56 5.44l.94 2.06.94-2.06 2.06-.94-2.06-.94-.94-2.06-.94 2.06-2.06.94zm-11 1L8.5 8.5l.94-2.06 2.06-.94-2.06-.94L8.5 2.5l-.94 2.06-2.06.94zm10 10l.94 2.06.94-2.06 2.06-.94-2.06-.94-.94-2.06-.94 2.06-2.06.94z\"/><path d=\"M17.41 7.96l-1.37-1.37c-.4-.4-.92-.59-1.43-.59-.52 0-1.04.2-1.43.59L10.3 9.45l-7.72 7.72c-.78.78-.78 2.05 0 2.83L4 21.41c.39.39.9.59 1.41.59.51 0 1.02-.2 1.41-.59l7.78-7.78 2.81-2.81c.8-.78.8-2.07 0-2.86zM5.41 20L4 18.59l7.72-7.72 1.47 1.35L5.41 20z\"/>\n",
              "  </svg>\n",
              "      </button>\n",
              "      \n",
              "  <style>\n",
              "    .colab-df-container {\n",
              "      display:flex;\n",
              "      flex-wrap:wrap;\n",
              "      gap: 12px;\n",
              "    }\n",
              "\n",
              "    .colab-df-convert {\n",
              "      background-color: #E8F0FE;\n",
              "      border: none;\n",
              "      border-radius: 50%;\n",
              "      cursor: pointer;\n",
              "      display: none;\n",
              "      fill: #1967D2;\n",
              "      height: 32px;\n",
              "      padding: 0 0 0 0;\n",
              "      width: 32px;\n",
              "    }\n",
              "\n",
              "    .colab-df-convert:hover {\n",
              "      background-color: #E2EBFA;\n",
              "      box-shadow: 0px 1px 2px rgba(60, 64, 67, 0.3), 0px 1px 3px 1px rgba(60, 64, 67, 0.15);\n",
              "      fill: #174EA6;\n",
              "    }\n",
              "\n",
              "    [theme=dark] .colab-df-convert {\n",
              "      background-color: #3B4455;\n",
              "      fill: #D2E3FC;\n",
              "    }\n",
              "\n",
              "    [theme=dark] .colab-df-convert:hover {\n",
              "      background-color: #434B5C;\n",
              "      box-shadow: 0px 1px 3px 1px rgba(0, 0, 0, 0.15);\n",
              "      filter: drop-shadow(0px 1px 2px rgba(0, 0, 0, 0.3));\n",
              "      fill: #FFFFFF;\n",
              "    }\n",
              "  </style>\n",
              "\n",
              "      <script>\n",
              "        const buttonEl =\n",
              "          document.querySelector('#df-26712125-b7d1-4bbc-b8b0-4f833efdf347 button.colab-df-convert');\n",
              "        buttonEl.style.display =\n",
              "          google.colab.kernel.accessAllowed ? 'block' : 'none';\n",
              "\n",
              "        async function convertToInteractive(key) {\n",
              "          const element = document.querySelector('#df-26712125-b7d1-4bbc-b8b0-4f833efdf347');\n",
              "          const dataTable =\n",
              "            await google.colab.kernel.invokeFunction('convertToInteractive',\n",
              "                                                     [key], {});\n",
              "          if (!dataTable) return;\n",
              "\n",
              "          const docLinkHtml = 'Like what you see? Visit the ' +\n",
              "            '<a target=\"_blank\" href=https://colab.research.google.com/notebooks/data_table.ipynb>data table notebook</a>'\n",
              "            + ' to learn more about interactive tables.';\n",
              "          element.innerHTML = '';\n",
              "          dataTable['output_type'] = 'display_data';\n",
              "          await google.colab.output.renderOutput(dataTable, element);\n",
              "          const docLink = document.createElement('div');\n",
              "          docLink.innerHTML = docLinkHtml;\n",
              "          element.appendChild(docLink);\n",
              "        }\n",
              "      </script>\n",
              "    </div>\n",
              "  </div>\n",
              "  "
            ]
          },
          "metadata": {},
          "execution_count": 7
        }
      ],
      "source": [
        "df[\"v2\"] = df['v2'].astype(\"string\") + \" \" + df['Unnamed: 2'].astype(\"string\") + \" \" + df['Unnamed: 3'].astype(\"string\") + \" \" + df['Unnamed: 4'].astype(\"string\")\n",
        "df.drop(columns=['Unnamed: 2', 'Unnamed: 3', 'Unnamed: 4'], axis=1, inplace=True)\n",
        "df.rename(columns={'v1':'Category', 'v2':'Message'}, inplace=True)\n",
        "df.head()"
      ]
    },
    {
      "cell_type": "markdown",
      "id": "7191b844-efe1-4b13-ad1e-5f52a9845685",
      "metadata": {
        "id": "7191b844-efe1-4b13-ad1e-5f52a9845685"
      },
      "source": [
        "Then we cleanup the content of the Message column using spacy library, English language."
      ]
    },
    {
      "cell_type": "code",
      "execution_count": 8,
      "id": "e08b43fb-0340-4a03-a726-dfe1f14d1ee3",
      "metadata": {
        "id": "e08b43fb-0340-4a03-a726-dfe1f14d1ee3"
      },
      "outputs": [],
      "source": [
        "# !python -m spacy download en_core_web_sm -q"
      ]
    },
    {
      "cell_type": "code",
      "execution_count": 9,
      "id": "6178b303-ae87-42a4-b9c3-255561a96706",
      "metadata": {
        "colab": {
          "base_uri": "https://localhost:8080/"
        },
        "id": "6178b303-ae87-42a4-b9c3-255561a96706",
        "outputId": "12634cea-19b2-49ac-f0c5-5347361b4ad1"
      },
      "outputs": [
        {
          "output_type": "stream",
          "name": "stderr",
          "text": [
            "/usr/local/lib/python3.8/dist-packages/torch/cuda/__init__.py:497: UserWarning: Can't initialize NVML\n",
            "  warnings.warn(\"Can't initialize NVML\")\n"
          ]
        }
      ],
      "source": [
        "# Import Spacy and English initialisation\n",
        "import en_core_web_sm\n",
        "nlp = en_core_web_sm.load()"
      ]
    },
    {
      "cell_type": "code",
      "execution_count": 10,
      "id": "8a0e23d1-3014-4368-bf8e-9594dc9f55f3",
      "metadata": {
        "id": "8a0e23d1-3014-4368-bf8e-9594dc9f55f3"
      },
      "outputs": [],
      "source": [
        "# Import Stop words \n",
        "from spacy.lang.en.stop_words import STOP_WORDS"
      ]
    },
    {
      "cell_type": "code",
      "execution_count": 11,
      "id": "572a076b-18ff-4dee-bf97-c159d398ef7b",
      "metadata": {
        "colab": {
          "base_uri": "https://localhost:8080/",
          "height": 260
        },
        "id": "572a076b-18ff-4dee-bf97-c159d398ef7b",
        "outputId": "769dd5b2-779e-4945-fd49-31bc37b498a9"
      },
      "outputs": [
        {
          "output_type": "stream",
          "name": "stdout",
          "text": [
            "Cleaning Step 1 ok...\n",
            "Cleaning Step 2 ok...\n",
            "Cleaning Step 3 ok.\n"
          ]
        },
        {
          "output_type": "execute_result",
          "data": {
            "text/plain": [
              "  Category                                            Message  \\\n",
              "0      ham  Go until jurong point, crazy.. Available only ...   \n",
              "1      ham                   Ok lar... Joking wif u oni...      \n",
              "2     spam  Free entry in 2 a wkly comp to win FA Cup fina...   \n",
              "3      ham  U dun say so early hor... U c already then say...   \n",
              "4      ham  Nah I don't think he goes to usf, he lives aro...   \n",
              "\n",
              "                                       Message_clean  \n",
              "0  jurong point crazy available bugis n great wor...  \n",
              "1                            ok lar joking wif u oni  \n",
              "2  free entry 2 wkly comp win fa cup final tkts 2...  \n",
              "3                                u dun early hor u c  \n",
              "4                                 nah think usf live  "
            ],
            "text/html": [
              "\n",
              "  <div id=\"df-e030ec8c-7a7f-4beb-939f-c30689a97fd7\">\n",
              "    <div class=\"colab-df-container\">\n",
              "      <div>\n",
              "<style scoped>\n",
              "    .dataframe tbody tr th:only-of-type {\n",
              "        vertical-align: middle;\n",
              "    }\n",
              "\n",
              "    .dataframe tbody tr th {\n",
              "        vertical-align: top;\n",
              "    }\n",
              "\n",
              "    .dataframe thead th {\n",
              "        text-align: right;\n",
              "    }\n",
              "</style>\n",
              "<table border=\"1\" class=\"dataframe\">\n",
              "  <thead>\n",
              "    <tr style=\"text-align: right;\">\n",
              "      <th></th>\n",
              "      <th>Category</th>\n",
              "      <th>Message</th>\n",
              "      <th>Message_clean</th>\n",
              "    </tr>\n",
              "  </thead>\n",
              "  <tbody>\n",
              "    <tr>\n",
              "      <th>0</th>\n",
              "      <td>ham</td>\n",
              "      <td>Go until jurong point, crazy.. Available only ...</td>\n",
              "      <td>jurong point crazy available bugis n great wor...</td>\n",
              "    </tr>\n",
              "    <tr>\n",
              "      <th>1</th>\n",
              "      <td>ham</td>\n",
              "      <td>Ok lar... Joking wif u oni...</td>\n",
              "      <td>ok lar joking wif u oni</td>\n",
              "    </tr>\n",
              "    <tr>\n",
              "      <th>2</th>\n",
              "      <td>spam</td>\n",
              "      <td>Free entry in 2 a wkly comp to win FA Cup fina...</td>\n",
              "      <td>free entry 2 wkly comp win fa cup final tkts 2...</td>\n",
              "    </tr>\n",
              "    <tr>\n",
              "      <th>3</th>\n",
              "      <td>ham</td>\n",
              "      <td>U dun say so early hor... U c already then say...</td>\n",
              "      <td>u dun early hor u c</td>\n",
              "    </tr>\n",
              "    <tr>\n",
              "      <th>4</th>\n",
              "      <td>ham</td>\n",
              "      <td>Nah I don't think he goes to usf, he lives aro...</td>\n",
              "      <td>nah think usf live</td>\n",
              "    </tr>\n",
              "  </tbody>\n",
              "</table>\n",
              "</div>\n",
              "      <button class=\"colab-df-convert\" onclick=\"convertToInteractive('df-e030ec8c-7a7f-4beb-939f-c30689a97fd7')\"\n",
              "              title=\"Convert this dataframe to an interactive table.\"\n",
              "              style=\"display:none;\">\n",
              "        \n",
              "  <svg xmlns=\"http://www.w3.org/2000/svg\" height=\"24px\"viewBox=\"0 0 24 24\"\n",
              "       width=\"24px\">\n",
              "    <path d=\"M0 0h24v24H0V0z\" fill=\"none\"/>\n",
              "    <path d=\"M18.56 5.44l.94 2.06.94-2.06 2.06-.94-2.06-.94-.94-2.06-.94 2.06-2.06.94zm-11 1L8.5 8.5l.94-2.06 2.06-.94-2.06-.94L8.5 2.5l-.94 2.06-2.06.94zm10 10l.94 2.06.94-2.06 2.06-.94-2.06-.94-.94-2.06-.94 2.06-2.06.94z\"/><path d=\"M17.41 7.96l-1.37-1.37c-.4-.4-.92-.59-1.43-.59-.52 0-1.04.2-1.43.59L10.3 9.45l-7.72 7.72c-.78.78-.78 2.05 0 2.83L4 21.41c.39.39.9.59 1.41.59.51 0 1.02-.2 1.41-.59l7.78-7.78 2.81-2.81c.8-.78.8-2.07 0-2.86zM5.41 20L4 18.59l7.72-7.72 1.47 1.35L5.41 20z\"/>\n",
              "  </svg>\n",
              "      </button>\n",
              "      \n",
              "  <style>\n",
              "    .colab-df-container {\n",
              "      display:flex;\n",
              "      flex-wrap:wrap;\n",
              "      gap: 12px;\n",
              "    }\n",
              "\n",
              "    .colab-df-convert {\n",
              "      background-color: #E8F0FE;\n",
              "      border: none;\n",
              "      border-radius: 50%;\n",
              "      cursor: pointer;\n",
              "      display: none;\n",
              "      fill: #1967D2;\n",
              "      height: 32px;\n",
              "      padding: 0 0 0 0;\n",
              "      width: 32px;\n",
              "    }\n",
              "\n",
              "    .colab-df-convert:hover {\n",
              "      background-color: #E2EBFA;\n",
              "      box-shadow: 0px 1px 2px rgba(60, 64, 67, 0.3), 0px 1px 3px 1px rgba(60, 64, 67, 0.15);\n",
              "      fill: #174EA6;\n",
              "    }\n",
              "\n",
              "    [theme=dark] .colab-df-convert {\n",
              "      background-color: #3B4455;\n",
              "      fill: #D2E3FC;\n",
              "    }\n",
              "\n",
              "    [theme=dark] .colab-df-convert:hover {\n",
              "      background-color: #434B5C;\n",
              "      box-shadow: 0px 1px 3px 1px rgba(0, 0, 0, 0.15);\n",
              "      filter: drop-shadow(0px 1px 2px rgba(0, 0, 0, 0.3));\n",
              "      fill: #FFFFFF;\n",
              "    }\n",
              "  </style>\n",
              "\n",
              "      <script>\n",
              "        const buttonEl =\n",
              "          document.querySelector('#df-e030ec8c-7a7f-4beb-939f-c30689a97fd7 button.colab-df-convert');\n",
              "        buttonEl.style.display =\n",
              "          google.colab.kernel.accessAllowed ? 'block' : 'none';\n",
              "\n",
              "        async function convertToInteractive(key) {\n",
              "          const element = document.querySelector('#df-e030ec8c-7a7f-4beb-939f-c30689a97fd7');\n",
              "          const dataTable =\n",
              "            await google.colab.kernel.invokeFunction('convertToInteractive',\n",
              "                                                     [key], {});\n",
              "          if (!dataTable) return;\n",
              "\n",
              "          const docLinkHtml = 'Like what you see? Visit the ' +\n",
              "            '<a target=\"_blank\" href=https://colab.research.google.com/notebooks/data_table.ipynb>data table notebook</a>'\n",
              "            + ' to learn more about interactive tables.';\n",
              "          element.innerHTML = '';\n",
              "          dataTable['output_type'] = 'display_data';\n",
              "          await google.colab.output.renderOutput(dataTable, element);\n",
              "          const docLink = document.createElement('div');\n",
              "          docLink.innerHTML = docLinkHtml;\n",
              "          element.appendChild(docLink);\n",
              "        }\n",
              "      </script>\n",
              "    </div>\n",
              "  </div>\n",
              "  "
            ]
          },
          "metadata": {},
          "execution_count": 11
        }
      ],
      "source": [
        "df[\"Message_clean\"] = df[\"Message\"].apply(lambda x:''.join(ch for ch in x if ch.isalnum() or ch==\" \"))\n",
        "print(\"Cleaning Step 1 ok...\")\n",
        "df[\"Message_clean\"] = df[\"Message_clean\"].apply(lambda x: x.replace(\" +\",\" \").lower().strip())\n",
        "print(\"Cleaning Step 2 ok...\")\n",
        "df[\"Message_clean\"] = df[\"Message_clean\"].apply(lambda x: \" \".join([token.lemma_ for token in nlp(x) if (token.lemma_ not in STOP_WORDS) & (token.text not in STOP_WORDS)]))\n",
        "print(\"Cleaning Step 3 ok.\")\n",
        "df.head()"
      ]
    },
    {
      "cell_type": "code",
      "execution_count": 12,
      "id": "4b9269d0-be99-41c5-ae71-f50ad523efc0",
      "metadata": {
        "colab": {
          "base_uri": "https://localhost:8080/"
        },
        "id": "4b9269d0-be99-41c5-ae71-f50ad523efc0",
        "outputId": "208397fb-aa2f-4290-c0a7-b28881f2f315"
      },
      "outputs": [
        {
          "output_type": "stream",
          "name": "stdout",
          "text": [
            "Row count before row cleaning: 5572\n",
            "Row count after row cleaning: 5572\n"
          ]
        }
      ],
      "source": [
        "print(\"Row count before row cleaning:\", df.shape[0])\n",
        "# We remove rows with empty messages\n",
        "df = df[df[\"Message_clean\"].isna()==False]\n",
        "print(\"Row count after row cleaning:\", df.shape[0])"
      ]
    },
    {
      "cell_type": "markdown",
      "id": "8a41611d-163c-4f87-a0fc-4919f33d8be1",
      "metadata": {
        "id": "8a41611d-163c-4f87-a0fc-4919f33d8be1"
      },
      "source": [
        "No row with empty messages after having removed the stop words. Fine."
      ]
    },
    {
      "cell_type": "code",
      "execution_count": 13,
      "id": "31076361-88cc-4462-8a59-7a42c3324208",
      "metadata": {
        "colab": {
          "base_uri": "https://localhost:8080/",
          "height": 206
        },
        "id": "31076361-88cc-4462-8a59-7a42c3324208",
        "outputId": "50111375-0598-4bb4-e44c-89dd7fad47d2"
      },
      "outputs": [
        {
          "output_type": "execute_result",
          "data": {
            "text/plain": [
              "  Category                                            Message  \\\n",
              "0      ham  Go until jurong point, crazy.. Available only ...   \n",
              "1      ham                   Ok lar... Joking wif u oni...      \n",
              "2     spam  Free entry in 2 a wkly comp to win FA Cup fina...   \n",
              "3      ham  U dun say so early hor... U c already then say...   \n",
              "4      ham  Nah I don't think he goes to usf, he lives aro...   \n",
              "\n",
              "                                       Message_clean  \\\n",
              "0  jurong point crazy available bugis n great wor...   \n",
              "1                            ok lar joking wif u oni   \n",
              "2  free entry 2 wkly comp win fa cup final tkts 2...   \n",
              "3                                u dun early hor u c   \n",
              "4                                 nah think usf live   \n",
              "\n",
              "                                     Message_encoded  \n",
              "0  [233, 446, 461, 947, 35, 52, 205, 948, 79, 237...  \n",
              "1                             [9, 193, 290, 1, 1460]  \n",
              "2  [12, 300, 3, 535, 659, 33, 1461, 858, 423, 146...  \n",
              "3                         [1, 125, 150, 2378, 1, 85]  \n",
              "4                                [710, 22, 660, 128]  "
            ],
            "text/html": [
              "\n",
              "  <div id=\"df-685e003c-d27d-4151-8e11-e332bff11de1\">\n",
              "    <div class=\"colab-df-container\">\n",
              "      <div>\n",
              "<style scoped>\n",
              "    .dataframe tbody tr th:only-of-type {\n",
              "        vertical-align: middle;\n",
              "    }\n",
              "\n",
              "    .dataframe tbody tr th {\n",
              "        vertical-align: top;\n",
              "    }\n",
              "\n",
              "    .dataframe thead th {\n",
              "        text-align: right;\n",
              "    }\n",
              "</style>\n",
              "<table border=\"1\" class=\"dataframe\">\n",
              "  <thead>\n",
              "    <tr style=\"text-align: right;\">\n",
              "      <th></th>\n",
              "      <th>Category</th>\n",
              "      <th>Message</th>\n",
              "      <th>Message_clean</th>\n",
              "      <th>Message_encoded</th>\n",
              "    </tr>\n",
              "  </thead>\n",
              "  <tbody>\n",
              "    <tr>\n",
              "      <th>0</th>\n",
              "      <td>ham</td>\n",
              "      <td>Go until jurong point, crazy.. Available only ...</td>\n",
              "      <td>jurong point crazy available bugis n great wor...</td>\n",
              "      <td>[233, 446, 461, 947, 35, 52, 205, 948, 79, 237...</td>\n",
              "    </tr>\n",
              "    <tr>\n",
              "      <th>1</th>\n",
              "      <td>ham</td>\n",
              "      <td>Ok lar... Joking wif u oni...</td>\n",
              "      <td>ok lar joking wif u oni</td>\n",
              "      <td>[9, 193, 290, 1, 1460]</td>\n",
              "    </tr>\n",
              "    <tr>\n",
              "      <th>2</th>\n",
              "      <td>spam</td>\n",
              "      <td>Free entry in 2 a wkly comp to win FA Cup fina...</td>\n",
              "      <td>free entry 2 wkly comp win fa cup final tkts 2...</td>\n",
              "      <td>[12, 300, 3, 535, 659, 33, 1461, 858, 423, 146...</td>\n",
              "    </tr>\n",
              "    <tr>\n",
              "      <th>3</th>\n",
              "      <td>ham</td>\n",
              "      <td>U dun say so early hor... U c already then say...</td>\n",
              "      <td>u dun early hor u c</td>\n",
              "      <td>[1, 125, 150, 2378, 1, 85]</td>\n",
              "    </tr>\n",
              "    <tr>\n",
              "      <th>4</th>\n",
              "      <td>ham</td>\n",
              "      <td>Nah I don't think he goes to usf, he lives aro...</td>\n",
              "      <td>nah think usf live</td>\n",
              "      <td>[710, 22, 660, 128]</td>\n",
              "    </tr>\n",
              "  </tbody>\n",
              "</table>\n",
              "</div>\n",
              "      <button class=\"colab-df-convert\" onclick=\"convertToInteractive('df-685e003c-d27d-4151-8e11-e332bff11de1')\"\n",
              "              title=\"Convert this dataframe to an interactive table.\"\n",
              "              style=\"display:none;\">\n",
              "        \n",
              "  <svg xmlns=\"http://www.w3.org/2000/svg\" height=\"24px\"viewBox=\"0 0 24 24\"\n",
              "       width=\"24px\">\n",
              "    <path d=\"M0 0h24v24H0V0z\" fill=\"none\"/>\n",
              "    <path d=\"M18.56 5.44l.94 2.06.94-2.06 2.06-.94-2.06-.94-.94-2.06-.94 2.06-2.06.94zm-11 1L8.5 8.5l.94-2.06 2.06-.94-2.06-.94L8.5 2.5l-.94 2.06-2.06.94zm10 10l.94 2.06.94-2.06 2.06-.94-2.06-.94-.94-2.06-.94 2.06-2.06.94z\"/><path d=\"M17.41 7.96l-1.37-1.37c-.4-.4-.92-.59-1.43-.59-.52 0-1.04.2-1.43.59L10.3 9.45l-7.72 7.72c-.78.78-.78 2.05 0 2.83L4 21.41c.39.39.9.59 1.41.59.51 0 1.02-.2 1.41-.59l7.78-7.78 2.81-2.81c.8-.78.8-2.07 0-2.86zM5.41 20L4 18.59l7.72-7.72 1.47 1.35L5.41 20z\"/>\n",
              "  </svg>\n",
              "      </button>\n",
              "      \n",
              "  <style>\n",
              "    .colab-df-container {\n",
              "      display:flex;\n",
              "      flex-wrap:wrap;\n",
              "      gap: 12px;\n",
              "    }\n",
              "\n",
              "    .colab-df-convert {\n",
              "      background-color: #E8F0FE;\n",
              "      border: none;\n",
              "      border-radius: 50%;\n",
              "      cursor: pointer;\n",
              "      display: none;\n",
              "      fill: #1967D2;\n",
              "      height: 32px;\n",
              "      padding: 0 0 0 0;\n",
              "      width: 32px;\n",
              "    }\n",
              "\n",
              "    .colab-df-convert:hover {\n",
              "      background-color: #E2EBFA;\n",
              "      box-shadow: 0px 1px 2px rgba(60, 64, 67, 0.3), 0px 1px 3px 1px rgba(60, 64, 67, 0.15);\n",
              "      fill: #174EA6;\n",
              "    }\n",
              "\n",
              "    [theme=dark] .colab-df-convert {\n",
              "      background-color: #3B4455;\n",
              "      fill: #D2E3FC;\n",
              "    }\n",
              "\n",
              "    [theme=dark] .colab-df-convert:hover {\n",
              "      background-color: #434B5C;\n",
              "      box-shadow: 0px 1px 3px 1px rgba(0, 0, 0, 0.15);\n",
              "      filter: drop-shadow(0px 1px 2px rgba(0, 0, 0, 0.3));\n",
              "      fill: #FFFFFF;\n",
              "    }\n",
              "  </style>\n",
              "\n",
              "      <script>\n",
              "        const buttonEl =\n",
              "          document.querySelector('#df-685e003c-d27d-4151-8e11-e332bff11de1 button.colab-df-convert');\n",
              "        buttonEl.style.display =\n",
              "          google.colab.kernel.accessAllowed ? 'block' : 'none';\n",
              "\n",
              "        async function convertToInteractive(key) {\n",
              "          const element = document.querySelector('#df-685e003c-d27d-4151-8e11-e332bff11de1');\n",
              "          const dataTable =\n",
              "            await google.colab.kernel.invokeFunction('convertToInteractive',\n",
              "                                                     [key], {});\n",
              "          if (!dataTable) return;\n",
              "\n",
              "          const docLinkHtml = 'Like what you see? Visit the ' +\n",
              "            '<a target=\"_blank\" href=https://colab.research.google.com/notebooks/data_table.ipynb>data table notebook</a>'\n",
              "            + ' to learn more about interactive tables.';\n",
              "          element.innerHTML = '';\n",
              "          dataTable['output_type'] = 'display_data';\n",
              "          await google.colab.output.renderOutput(dataTable, element);\n",
              "          const docLink = document.createElement('div');\n",
              "          docLink.innerHTML = docLinkHtml;\n",
              "          element.appendChild(docLink);\n",
              "        }\n",
              "      </script>\n",
              "    </div>\n",
              "  </div>\n",
              "  "
            ]
          },
          "metadata": {},
          "execution_count": 13
        }
      ],
      "source": [
        "# Instanciate the tokenizer by keeping the first 3000 words found.\n",
        "tokenizer = tf.keras.preprocessing.text.Tokenizer(num_words=3000) \n",
        "tokenizer.fit_on_texts(df[\"Message_clean\"])\n",
        "df[\"Message_encoded\"] = tokenizer.texts_to_sequences(df[\"Message_clean\"])\n",
        "df.head()"
      ]
    },
    {
      "cell_type": "code",
      "execution_count": 14,
      "id": "1ac95fb4-3e1a-4b06-a7ee-b0930f6ffa47",
      "metadata": {
        "colab": {
          "base_uri": "https://localhost:8080/"
        },
        "id": "1ac95fb4-3e1a-4b06-a7ee-b0930f6ffa47",
        "outputId": "fb9689ad-3d70-4922-9dba-9a1d5cab0951"
      },
      "outputs": [
        {
          "output_type": "stream",
          "name": "stdout",
          "text": [
            "Row count before row cleaning: 5572\n",
            "Row count after row cleaning: 5504\n"
          ]
        }
      ],
      "source": [
        "print(\"Row count before row cleaning:\", df.shape[0])\n",
        "df[\"Message_len\"] = df[\"Message_encoded\"].apply(lambda x: len(x))\n",
        "df = df[df[\"Message_len\"]!=0]\n",
        "print(\"Row count after row cleaning:\", df.shape[0])"
      ]
    },
    {
      "cell_type": "markdown",
      "id": "27d968c3-fd6f-4883-9c5e-dda90d84b26e",
      "metadata": {
        "id": "27d968c3-fd6f-4883-9c5e-dda90d84b26e"
      },
      "source": [
        "Some empty rows are removed because all the words have not been tokenized."
      ]
    },
    {
      "cell_type": "code",
      "execution_count": 15,
      "id": "c581bdb2-92f5-4eb7-8095-af26310530f5",
      "metadata": {
        "colab": {
          "base_uri": "https://localhost:8080/"
        },
        "id": "c581bdb2-92f5-4eb7-8095-af26310530f5",
        "outputId": "4dd37b87-75c7-4494-a73a-e8897bc61160"
      },
      "outputs": [
        {
          "output_type": "execute_result",
          "data": {
            "text/plain": [
              "(5504, 58)"
            ]
          },
          "metadata": {},
          "execution_count": 15
        }
      ],
      "source": [
        "# Padding of the messages tokens in order for the messages tokens list to have all the same length\n",
        "messages_pad = tf.keras.preprocessing.sequence.pad_sequences(df[\"Message_encoded\"], padding=\"post\")\n",
        "messages_pad.shape"
      ]
    },
    {
      "cell_type": "markdown",
      "id": "8e38c7aa-c344-41df-98b7-458c417dc70d",
      "metadata": {
        "id": "8e38c7aa-c344-41df-98b7-458c417dc70d"
      },
      "source": [
        "Maximum count of words/tokens in messages is 58."
      ]
    },
    {
      "cell_type": "markdown",
      "id": "3e51ad8a-9da2-496b-a459-ff2e4a8277a4",
      "metadata": {
        "id": "3e51ad8a-9da2-496b-a459-ff2e4a8277a4"
      },
      "source": [
        "Now that the Message column has been encoded, we need to encode the Category one : 'spam' -> 1, 'ham' -> 0."
      ]
    },
    {
      "cell_type": "code",
      "execution_count": 16,
      "id": "4982b3bb-8cea-4efe-874d-2f9bf1494c11",
      "metadata": {
        "colab": {
          "base_uri": "https://localhost:8080/",
          "height": 313
        },
        "id": "4982b3bb-8cea-4efe-874d-2f9bf1494c11",
        "outputId": "7be0ad2a-c768-4805-f67b-82e1e41169ae"
      },
      "outputs": [
        {
          "output_type": "stream",
          "name": "stderr",
          "text": [
            "<ipython-input-16-78403eefa430>:1: SettingWithCopyWarning: \n",
            "A value is trying to be set on a copy of a slice from a DataFrame.\n",
            "Try using .loc[row_indexer,col_indexer] = value instead\n",
            "\n",
            "See the caveats in the documentation: https://pandas.pydata.org/pandas-docs/stable/user_guide/indexing.html#returning-a-view-versus-a-copy\n",
            "  df['spam'] = df['Category'].apply(lambda x:1 if x=='spam' else 0)\n"
          ]
        },
        {
          "output_type": "execute_result",
          "data": {
            "text/plain": [
              "  Category                                            Message  \\\n",
              "0      ham  Go until jurong point, crazy.. Available only ...   \n",
              "1      ham                   Ok lar... Joking wif u oni...      \n",
              "2     spam  Free entry in 2 a wkly comp to win FA Cup fina...   \n",
              "3      ham  U dun say so early hor... U c already then say...   \n",
              "4      ham  Nah I don't think he goes to usf, he lives aro...   \n",
              "\n",
              "                                       Message_clean  \\\n",
              "0  jurong point crazy available bugis n great wor...   \n",
              "1                            ok lar joking wif u oni   \n",
              "2  free entry 2 wkly comp win fa cup final tkts 2...   \n",
              "3                                u dun early hor u c   \n",
              "4                                 nah think usf live   \n",
              "\n",
              "                                     Message_encoded  Message_len  spam  \n",
              "0  [233, 446, 461, 947, 35, 52, 205, 948, 79, 237...           12     0  \n",
              "1                             [9, 193, 290, 1, 1460]            5     0  \n",
              "2  [12, 300, 3, 535, 659, 33, 1461, 858, 423, 146...           22     1  \n",
              "3                         [1, 125, 150, 2378, 1, 85]            6     0  \n",
              "4                                [710, 22, 660, 128]            4     0  "
            ],
            "text/html": [
              "\n",
              "  <div id=\"df-bcbc4e02-9de3-4df8-a1c8-212db8c309d1\">\n",
              "    <div class=\"colab-df-container\">\n",
              "      <div>\n",
              "<style scoped>\n",
              "    .dataframe tbody tr th:only-of-type {\n",
              "        vertical-align: middle;\n",
              "    }\n",
              "\n",
              "    .dataframe tbody tr th {\n",
              "        vertical-align: top;\n",
              "    }\n",
              "\n",
              "    .dataframe thead th {\n",
              "        text-align: right;\n",
              "    }\n",
              "</style>\n",
              "<table border=\"1\" class=\"dataframe\">\n",
              "  <thead>\n",
              "    <tr style=\"text-align: right;\">\n",
              "      <th></th>\n",
              "      <th>Category</th>\n",
              "      <th>Message</th>\n",
              "      <th>Message_clean</th>\n",
              "      <th>Message_encoded</th>\n",
              "      <th>Message_len</th>\n",
              "      <th>spam</th>\n",
              "    </tr>\n",
              "  </thead>\n",
              "  <tbody>\n",
              "    <tr>\n",
              "      <th>0</th>\n",
              "      <td>ham</td>\n",
              "      <td>Go until jurong point, crazy.. Available only ...</td>\n",
              "      <td>jurong point crazy available bugis n great wor...</td>\n",
              "      <td>[233, 446, 461, 947, 35, 52, 205, 948, 79, 237...</td>\n",
              "      <td>12</td>\n",
              "      <td>0</td>\n",
              "    </tr>\n",
              "    <tr>\n",
              "      <th>1</th>\n",
              "      <td>ham</td>\n",
              "      <td>Ok lar... Joking wif u oni...</td>\n",
              "      <td>ok lar joking wif u oni</td>\n",
              "      <td>[9, 193, 290, 1, 1460]</td>\n",
              "      <td>5</td>\n",
              "      <td>0</td>\n",
              "    </tr>\n",
              "    <tr>\n",
              "      <th>2</th>\n",
              "      <td>spam</td>\n",
              "      <td>Free entry in 2 a wkly comp to win FA Cup fina...</td>\n",
              "      <td>free entry 2 wkly comp win fa cup final tkts 2...</td>\n",
              "      <td>[12, 300, 3, 535, 659, 33, 1461, 858, 423, 146...</td>\n",
              "      <td>22</td>\n",
              "      <td>1</td>\n",
              "    </tr>\n",
              "    <tr>\n",
              "      <th>3</th>\n",
              "      <td>ham</td>\n",
              "      <td>U dun say so early hor... U c already then say...</td>\n",
              "      <td>u dun early hor u c</td>\n",
              "      <td>[1, 125, 150, 2378, 1, 85]</td>\n",
              "      <td>6</td>\n",
              "      <td>0</td>\n",
              "    </tr>\n",
              "    <tr>\n",
              "      <th>4</th>\n",
              "      <td>ham</td>\n",
              "      <td>Nah I don't think he goes to usf, he lives aro...</td>\n",
              "      <td>nah think usf live</td>\n",
              "      <td>[710, 22, 660, 128]</td>\n",
              "      <td>4</td>\n",
              "      <td>0</td>\n",
              "    </tr>\n",
              "  </tbody>\n",
              "</table>\n",
              "</div>\n",
              "      <button class=\"colab-df-convert\" onclick=\"convertToInteractive('df-bcbc4e02-9de3-4df8-a1c8-212db8c309d1')\"\n",
              "              title=\"Convert this dataframe to an interactive table.\"\n",
              "              style=\"display:none;\">\n",
              "        \n",
              "  <svg xmlns=\"http://www.w3.org/2000/svg\" height=\"24px\"viewBox=\"0 0 24 24\"\n",
              "       width=\"24px\">\n",
              "    <path d=\"M0 0h24v24H0V0z\" fill=\"none\"/>\n",
              "    <path d=\"M18.56 5.44l.94 2.06.94-2.06 2.06-.94-2.06-.94-.94-2.06-.94 2.06-2.06.94zm-11 1L8.5 8.5l.94-2.06 2.06-.94-2.06-.94L8.5 2.5l-.94 2.06-2.06.94zm10 10l.94 2.06.94-2.06 2.06-.94-2.06-.94-.94-2.06-.94 2.06-2.06.94z\"/><path d=\"M17.41 7.96l-1.37-1.37c-.4-.4-.92-.59-1.43-.59-.52 0-1.04.2-1.43.59L10.3 9.45l-7.72 7.72c-.78.78-.78 2.05 0 2.83L4 21.41c.39.39.9.59 1.41.59.51 0 1.02-.2 1.41-.59l7.78-7.78 2.81-2.81c.8-.78.8-2.07 0-2.86zM5.41 20L4 18.59l7.72-7.72 1.47 1.35L5.41 20z\"/>\n",
              "  </svg>\n",
              "      </button>\n",
              "      \n",
              "  <style>\n",
              "    .colab-df-container {\n",
              "      display:flex;\n",
              "      flex-wrap:wrap;\n",
              "      gap: 12px;\n",
              "    }\n",
              "\n",
              "    .colab-df-convert {\n",
              "      background-color: #E8F0FE;\n",
              "      border: none;\n",
              "      border-radius: 50%;\n",
              "      cursor: pointer;\n",
              "      display: none;\n",
              "      fill: #1967D2;\n",
              "      height: 32px;\n",
              "      padding: 0 0 0 0;\n",
              "      width: 32px;\n",
              "    }\n",
              "\n",
              "    .colab-df-convert:hover {\n",
              "      background-color: #E2EBFA;\n",
              "      box-shadow: 0px 1px 2px rgba(60, 64, 67, 0.3), 0px 1px 3px 1px rgba(60, 64, 67, 0.15);\n",
              "      fill: #174EA6;\n",
              "    }\n",
              "\n",
              "    [theme=dark] .colab-df-convert {\n",
              "      background-color: #3B4455;\n",
              "      fill: #D2E3FC;\n",
              "    }\n",
              "\n",
              "    [theme=dark] .colab-df-convert:hover {\n",
              "      background-color: #434B5C;\n",
              "      box-shadow: 0px 1px 3px 1px rgba(0, 0, 0, 0.15);\n",
              "      filter: drop-shadow(0px 1px 2px rgba(0, 0, 0, 0.3));\n",
              "      fill: #FFFFFF;\n",
              "    }\n",
              "  </style>\n",
              "\n",
              "      <script>\n",
              "        const buttonEl =\n",
              "          document.querySelector('#df-bcbc4e02-9de3-4df8-a1c8-212db8c309d1 button.colab-df-convert');\n",
              "        buttonEl.style.display =\n",
              "          google.colab.kernel.accessAllowed ? 'block' : 'none';\n",
              "\n",
              "        async function convertToInteractive(key) {\n",
              "          const element = document.querySelector('#df-bcbc4e02-9de3-4df8-a1c8-212db8c309d1');\n",
              "          const dataTable =\n",
              "            await google.colab.kernel.invokeFunction('convertToInteractive',\n",
              "                                                     [key], {});\n",
              "          if (!dataTable) return;\n",
              "\n",
              "          const docLinkHtml = 'Like what you see? Visit the ' +\n",
              "            '<a target=\"_blank\" href=https://colab.research.google.com/notebooks/data_table.ipynb>data table notebook</a>'\n",
              "            + ' to learn more about interactive tables.';\n",
              "          element.innerHTML = '';\n",
              "          dataTable['output_type'] = 'display_data';\n",
              "          await google.colab.output.renderOutput(dataTable, element);\n",
              "          const docLink = document.createElement('div');\n",
              "          docLink.innerHTML = docLinkHtml;\n",
              "          element.appendChild(docLink);\n",
              "        }\n",
              "      </script>\n",
              "    </div>\n",
              "  </div>\n",
              "  "
            ]
          },
          "metadata": {},
          "execution_count": 16
        }
      ],
      "source": [
        "df['spam'] = df['Category'].apply(lambda x:1 if x=='spam' else 0)\n",
        "df.head()"
      ]
    },
    {
      "cell_type": "markdown",
      "id": "1b3a01d7-99a3-4e26-8f1d-e25570ab5063",
      "metadata": {
        "id": "1b3a01d7-99a3-4e26-8f1d-e25570ab5063"
      },
      "source": [
        "We can then now create the tensors to be used by the DL models."
      ]
    },
    {
      "cell_type": "code",
      "execution_count": 17,
      "id": "cb9d2c2e-e9d9-43aa-91b9-3b3a1f86e1f9",
      "metadata": {
        "colab": {
          "base_uri": "https://localhost:8080/"
        },
        "id": "cb9d2c2e-e9d9-43aa-91b9-3b3a1f86e1f9",
        "outputId": "f06189f3-ae90-4d2a-c749-47593fd94e3e"
      },
      "outputs": [
        {
          "output_type": "execute_result",
          "data": {
            "text/plain": [
              "<TensorSliceDataset element_spec=(TensorSpec(shape=(58,), dtype=tf.int32, name=None), TensorSpec(shape=(), dtype=tf.int64, name=None))>"
            ]
          },
          "metadata": {},
          "execution_count": 17
        }
      ],
      "source": [
        "full_ds = tf.data.Dataset.from_tensor_slices((messages_pad, df['spam']))\n",
        "full_ds"
      ]
    },
    {
      "cell_type": "markdown",
      "id": "0101619c-b8b7-4de0-b7f4-3ba4c76c08f3",
      "metadata": {
        "id": "0101619c-b8b7-4de0-b7f4-3ba4c76c08f3"
      },
      "source": [
        "# Training of the model with DL RNN models"
      ]
    },
    {
      "cell_type": "code",
      "execution_count": 18,
      "id": "a9734477-006a-4d22-b3b7-f05d18d3ddcf",
      "metadata": {
        "id": "a9734477-006a-4d22-b3b7-f05d18d3ddcf"
      },
      "outputs": [],
      "source": [
        "# Train Test Split\n",
        "BATCH_SIZE = 64\n",
        "TRAIN_SIZE = int(0.7*df.shape[0])\n",
        "VAL_SIZE = int(0.15*df.shape[0])\n",
        "TEST_SIZE =  df.shape[0] - TRAIN_SIZE - VAL_SIZE\n",
        "\n",
        "train_data = full_ds.take(TRAIN_SIZE).shuffle(TRAIN_SIZE, seed=0)\n",
        "train_data = train_data.batch(BATCH_SIZE)\n",
        "\n",
        "val_data = full_ds.skip(TRAIN_SIZE).take(VAL_SIZE)\n",
        "val_data = val_data.batch(BATCH_SIZE)\n",
        "\n",
        "test_data = full_ds.skip(TRAIN_SIZE).skip(VAL_SIZE)"
      ]
    },
    {
      "cell_type": "code",
      "execution_count": 19,
      "id": "cbc7d387-331c-4bf5-932d-6a6d836ebb5e",
      "metadata": {
        "colab": {
          "base_uri": "https://localhost:8080/"
        },
        "id": "cbc7d387-331c-4bf5-932d-6a6d836ebb5e",
        "outputId": "e8d82d10-4311-48f1-b8c1-ddec01104924"
      },
      "outputs": [
        {
          "output_type": "stream",
          "name": "stdout",
          "text": [
            "tf.Tensor(\n",
            "[[1130 1298 1902 ...    0    0    0]\n",
            " [ 287 1236  104 ...    0    0    0]\n",
            " [ 735  376  161 ...    0    0    0]\n",
            " ...\n",
            " [  22  327  142 ...    0    0    0]\n",
            " [   2  388 1327 ...    0    0    0]\n",
            " [   1    5    3 ...    0    0    0]], shape=(64, 58), dtype=int32) tf.Tensor(\n",
            "[0 0 1 0 0 0 0 0 0 0 0 1 0 0 0 0 0 1 1 0 0 1 0 0 0 0 0 0 0 1 0 0 0 0 0 0 0\n",
            " 0 1 0 0 1 0 1 0 1 0 0 0 0 0 1 0 0 0 0 0 0 0 1 0 0 0 0], shape=(64,), dtype=int64)\n"
          ]
        }
      ],
      "source": [
        "for message, category in train_data.take(1):\n",
        "  print(message, category)"
      ]
    },
    {
      "cell_type": "markdown",
      "id": "d08ce463-69be-4b90-afe0-cee26b7bc9a1",
      "metadata": {
        "id": "d08ce463-69be-4b90-afe0-cee26b7bc9a1"
      },
      "source": [
        "## Model is unbalanced as we have seen previously. We add some weight to the model in order to indicate this unbalancing."
      ]
    },
    {
      "cell_type": "code",
      "execution_count": 20,
      "id": "a18fd0c2-debe-49c5-8c2d-d96daa9e3ea1",
      "metadata": {
        "colab": {
          "base_uri": "https://localhost:8080/"
        },
        "id": "a18fd0c2-debe-49c5-8c2d-d96daa9e3ea1",
        "outputId": "290ab35e-991d-404f-d179-e8c0296b0d70"
      },
      "outputs": [
        {
          "output_type": "execute_result",
          "data": {
            "text/plain": [
              "{0: 0.5783942833123161, 1: 3.689008042895442}"
            ]
          },
          "metadata": {},
          "execution_count": 20
        }
      ],
      "source": [
        "from sklearn.utils.class_weight import compute_class_weight\n",
        "import numpy as np\n",
        "weights = compute_class_weight(class_weight='balanced', classes=np.unique(df[\"spam\"]), y=df[\"spam\"])\n",
        "weights = dict(zip(np.unique(df[\"spam\"]), weights))\n",
        "weights"
      ]
    },
    {
      "cell_type": "markdown",
      "id": "d9e91f0d-437d-4813-98ff-1cc1f9d46477",
      "metadata": {
        "id": "d9e91f0d-437d-4813-98ff-1cc1f9d46477"
      },
      "source": [
        "## Attempt with Simple RNN"
      ]
    },
    {
      "cell_type": "code",
      "execution_count": 21,
      "id": "d88ec1ed-6691-42f6-a042-859cc41d7553",
      "metadata": {
        "colab": {
          "base_uri": "https://localhost:8080/"
        },
        "id": "d88ec1ed-6691-42f6-a042-859cc41d7553",
        "outputId": "9c4c0cf9-ca72-4728-beb7-53e41e39c865"
      },
      "outputs": [
        {
          "output_type": "stream",
          "name": "stdout",
          "text": [
            "Model: \"sequential\"\n",
            "_________________________________________________________________\n",
            " Layer (type)                Output Shape              Param #   \n",
            "=================================================================\n",
            " embedding (Embedding)       (None, 58, 64)            530176    \n",
            "                                                                 \n",
            " simple_rnn (SimpleRNN)      (None, 58, 64)            8256      \n",
            "                                                                 \n",
            " simple_rnn_1 (SimpleRNN)    (None, 32)                3104      \n",
            "                                                                 \n",
            " dense (Dense)               (None, 16)                528       \n",
            "                                                                 \n",
            " dense_1 (Dense)             (None, 8)                 136       \n",
            "                                                                 \n",
            " dense_2 (Dense)             (None, 1)                 9         \n",
            "                                                                 \n",
            "=================================================================\n",
            "Total params: 542,209\n",
            "Trainable params: 542,209\n",
            "Non-trainable params: 0\n",
            "_________________________________________________________________\n"
          ]
        }
      ],
      "source": [
        "from tensorflow.keras.layers import Embedding, SimpleRNN, Dense\n",
        "\n",
        "vocab_size = len(tokenizer.word_index)\n",
        "model = tf.keras.Sequential([\n",
        "                  # Word Embedding layer           \n",
        "                  Embedding(vocab_size+1, 64, input_shape=[message.shape[1],],name=\"embedding\"),\n",
        "                  # Gobal average pooling\n",
        "                  SimpleRNN(units=64, return_sequences=True), # maintains the sequential nature\n",
        "                  SimpleRNN(units=32, return_sequences=False), # returns the last output\n",
        "                  # Dense layers once the data is flat\n",
        "                  Dense(16, activation='relu'),\n",
        "                  Dense(8, activation='relu'),\n",
        "\n",
        "                  # output layer with 1 neuron containing the value between 0 (ham value) and 1 (spam value).\n",
        "                  Dense(1, activation=\"sigmoid\")\n",
        "])\n",
        "model.summary()"
      ]
    },
    {
      "cell_type": "code",
      "execution_count": 22,
      "id": "592652dc-dba2-44d3-8238-5c3615fcd33d",
      "metadata": {
        "id": "592652dc-dba2-44d3-8238-5c3615fcd33d"
      },
      "outputs": [],
      "source": [
        "optimizer= tf.keras.optimizers.Adam()\n",
        "\n",
        "# We choose to estimate a binary (0, 1) value at the end.\n",
        "model.compile(optimizer=optimizer,\n",
        "              loss=tf.keras.losses.binary_crossentropy,\n",
        "              metrics=[tf.keras.metrics.BinaryAccuracy()])"
      ]
    },
    {
      "cell_type": "code",
      "execution_count": 23,
      "id": "aa39d6ef-10a9-4339-b313-ab2df07b7272",
      "metadata": {
        "colab": {
          "base_uri": "https://localhost:8080/"
        },
        "id": "aa39d6ef-10a9-4339-b313-ab2df07b7272",
        "outputId": "2a2d0d10-52a7-43aa-a915-3c2892e8abeb"
      },
      "outputs": [
        {
          "output_type": "stream",
          "name": "stdout",
          "text": [
            "Epoch 1/20\n",
            "61/61 [==============================] - 5s 51ms/step - loss: 0.5587 - binary_accuracy: 0.6025 - val_loss: 0.6210 - val_binary_accuracy: 0.9042\n",
            "Epoch 2/20\n",
            "61/61 [==============================] - 3s 44ms/step - loss: 0.3645 - binary_accuracy: 0.9569 - val_loss: 0.4159 - val_binary_accuracy: 0.9588\n",
            "Epoch 3/20\n",
            "61/61 [==============================] - 3s 45ms/step - loss: 0.1878 - binary_accuracy: 0.9834 - val_loss: 0.2004 - val_binary_accuracy: 0.9673\n",
            "Epoch 4/20\n",
            "61/61 [==============================] - 3s 42ms/step - loss: 0.2582 - binary_accuracy: 0.9437 - val_loss: 0.1807 - val_binary_accuracy: 0.9697\n",
            "Epoch 5/20\n",
            "61/61 [==============================] - 3s 43ms/step - loss: 0.1419 - binary_accuracy: 0.9779 - val_loss: 0.1364 - val_binary_accuracy: 0.9758\n",
            "Epoch 6/20\n",
            "61/61 [==============================] - 4s 65ms/step - loss: 0.1195 - binary_accuracy: 0.9834 - val_loss: 0.1843 - val_binary_accuracy: 0.9515\n",
            "Epoch 7/20\n",
            "61/61 [==============================] - 4s 66ms/step - loss: 0.0874 - binary_accuracy: 0.9849 - val_loss: 0.0924 - val_binary_accuracy: 0.9794\n",
            "Epoch 8/20\n",
            "61/61 [==============================] - 3s 43ms/step - loss: 0.0653 - binary_accuracy: 0.9891 - val_loss: 0.1862 - val_binary_accuracy: 0.9600\n",
            "Epoch 9/20\n",
            "61/61 [==============================] - 3s 43ms/step - loss: 0.0850 - binary_accuracy: 0.9860 - val_loss: 0.1460 - val_binary_accuracy: 0.9673\n",
            "Epoch 10/20\n",
            "61/61 [==============================] - 3s 47ms/step - loss: 0.3152 - binary_accuracy: 0.9019 - val_loss: 0.3207 - val_binary_accuracy: 0.8206\n",
            "Epoch 11/20\n",
            "61/61 [==============================] - 3s 44ms/step - loss: 0.1302 - binary_accuracy: 0.9772 - val_loss: 0.1791 - val_binary_accuracy: 0.9503\n",
            "Epoch 12/20\n",
            "61/61 [==============================] - 3s 42ms/step - loss: 0.0632 - binary_accuracy: 0.9912 - val_loss: 0.1382 - val_binary_accuracy: 0.9648\n",
            "Epoch 13/20\n",
            "61/61 [==============================] - 3s 42ms/step - loss: 0.0859 - binary_accuracy: 0.9782 - val_loss: 0.1007 - val_binary_accuracy: 0.9709\n",
            "Epoch 14/20\n",
            "61/61 [==============================] - 3s 42ms/step - loss: 0.0659 - binary_accuracy: 0.9873 - val_loss: 0.1326 - val_binary_accuracy: 0.9685\n",
            "Epoch 15/20\n",
            "61/61 [==============================] - 3s 44ms/step - loss: 0.0541 - binary_accuracy: 0.9925 - val_loss: 0.1382 - val_binary_accuracy: 0.9673\n",
            "Epoch 16/20\n",
            "61/61 [==============================] - 3s 42ms/step - loss: 0.0447 - binary_accuracy: 0.9948 - val_loss: 0.1347 - val_binary_accuracy: 0.9697\n",
            "Epoch 17/20\n",
            "61/61 [==============================] - 3s 42ms/step - loss: 0.0368 - binary_accuracy: 0.9948 - val_loss: 0.1194 - val_binary_accuracy: 0.9709\n",
            "Epoch 18/20\n",
            "61/61 [==============================] - 3s 41ms/step - loss: 0.0340 - binary_accuracy: 0.9943 - val_loss: 0.1219 - val_binary_accuracy: 0.9697\n",
            "Epoch 19/20\n",
            "61/61 [==============================] - 3s 41ms/step - loss: 0.0177 - binary_accuracy: 0.9966 - val_loss: 0.1389 - val_binary_accuracy: 0.9697\n",
            "Epoch 20/20\n",
            "61/61 [==============================] - 2s 41ms/step - loss: 0.0115 - binary_accuracy: 0.9982 - val_loss: 0.1373 - val_binary_accuracy: 0.9697\n"
          ]
        },
        {
          "output_type": "execute_result",
          "data": {
            "text/plain": [
              "<keras.callbacks.History at 0x7f6eeec955e0>"
            ]
          },
          "metadata": {},
          "execution_count": 23
        }
      ],
      "source": [
        "# Model training \n",
        "model.fit(train_data,\n",
        "          epochs=20, \n",
        "          validation_data=val_data,\n",
        "          class_weight=weights)"
      ]
    },
    {
      "cell_type": "code",
      "execution_count": 24,
      "id": "cf4aa7ce-3e03-46df-a41e-b4a6c8fea5c2",
      "metadata": {
        "colab": {
          "base_uri": "https://localhost:8080/",
          "height": 279
        },
        "id": "cf4aa7ce-3e03-46df-a41e-b4a6c8fea5c2",
        "outputId": "38f411c0-88c0-413b-e967-5d583b5502fd"
      },
      "outputs": [
        {
          "output_type": "display_data",
          "data": {
            "text/plain": [
              "<Figure size 432x288 with 1 Axes>"
            ],
            "image/png": "[encoded data removed]"
          },
          "metadata": {
            "needs_background": "light"
          }
        }
      ],
      "source": [
        "import matplotlib.pyplot as plt\n",
        "\n",
        "# Visualization of the training process on the loss function \n",
        "plt.plot(model.history.history[\"loss\"], color=\"b\", label = \"loss\")\n",
        "plt.plot(model.history.history[\"val_loss\"], color=\"r\", label = \"val_loss\")\n",
        "plt.plot(model.history.history[\"binary_accuracy\"], color=\"g\", label = \"binary_accuracy\")\n",
        "plt.plot(model.history.history[\"val_binary_accuracy\"], color=\"y\", label = \"val_binary_accuracy\")\n",
        "plt.legend()\n",
        "plt.xlabel(\"Epochs\")\n",
        "plt.show()"
      ]
    },
    {
      "cell_type": "markdown",
      "id": "dd4ae74a-ab99-444c-901e-d964564c576a",
      "metadata": {
        "id": "dd4ae74a-ab99-444c-901e-d964564c576a"
      },
      "source": [
        "## Simple RNN Model is overfitting as the validation loss curve does not tend to follow the loss curve at the end. Let's try to introduce some dropout to fight this overfitting."
      ]
    },
    {
      "cell_type": "code",
      "execution_count": 25,
      "id": "kjp0rs7HemKt",
      "metadata": {
        "colab": {
          "base_uri": "https://localhost:8080/"
        },
        "id": "kjp0rs7HemKt",
        "outputId": "0d4a97e3-f8a2-4d16-9fdf-28c472ece8f0"
      },
      "outputs": [
        {
          "output_type": "stream",
          "name": "stdout",
          "text": [
            "Model: \"sequential_1\"\n",
            "_________________________________________________________________\n",
            " Layer (type)                Output Shape              Param #   \n",
            "=================================================================\n",
            " embedding (Embedding)       (None, 58, 64)            530176    \n",
            "                                                                 \n",
            " simple_rnn_2 (SimpleRNN)    (None, 58, 64)            8256      \n",
            "                                                                 \n",
            " simple_rnn_3 (SimpleRNN)    (None, 32)                3104      \n",
            "                                                                 \n",
            " dense_3 (Dense)             (None, 16)                528       \n",
            "                                                                 \n",
            " dense_4 (Dense)             (None, 8)                 136       \n",
            "                                                                 \n",
            " dropout (Dropout)           (None, 8)                 0         \n",
            "                                                                 \n",
            " dense_5 (Dense)             (None, 1)                 9         \n",
            "                                                                 \n",
            "=================================================================\n",
            "Total params: 542,209\n",
            "Trainable params: 542,209\n",
            "Non-trainable params: 0\n",
            "_________________________________________________________________\n"
          ]
        }
      ],
      "source": [
        "from tensorflow.keras.layers import Embedding, SimpleRNN, Dense, Dropout\n",
        "\n",
        "vocab_size = len(tokenizer.word_index)\n",
        "model_rnn_do = tf.keras.Sequential([\n",
        "                  # Word Embedding layer           \n",
        "                  Embedding(vocab_size+1, 64, input_shape=[message.shape[1],],name=\"embedding\"),\n",
        "                  # Gobal average pooling\n",
        "                  SimpleRNN(units=64, return_sequences=True), # maintains the sequential nature\n",
        "                  SimpleRNN(units=32, return_sequences=False), # returns the last output\n",
        "                  # Dense layers once the data is flat\n",
        "                  Dense(16, activation='relu'),\n",
        "                  Dense(8, activation='relu'),\n",
        "\n",
        "                  Dropout(0.2),\n",
        "                          \n",
        "                  # output layer with 1 neuron containing the value between 0 (ham value) and 1 (spam value).\n",
        "                  Dense(1, activation=\"sigmoid\")\n",
        "])\n",
        "model_rnn_do.summary()"
      ]
    },
    {
      "cell_type": "code",
      "execution_count": 26,
      "id": "BeC3JGgNemKv",
      "metadata": {
        "id": "BeC3JGgNemKv"
      },
      "outputs": [],
      "source": [
        "optimizer= tf.keras.optimizers.Adam()\n",
        "\n",
        "# We choose to estimate a binary (0, 1) value at the end.\n",
        "model_rnn_do.compile(optimizer=optimizer,\n",
        "              loss=tf.keras.losses.binary_crossentropy,\n",
        "              metrics=[tf.keras.metrics.BinaryAccuracy()])"
      ]
    },
    {
      "cell_type": "code",
      "execution_count": 27,
      "id": "mmSERRc1emKx",
      "metadata": {
        "colab": {
          "base_uri": "https://localhost:8080/"
        },
        "id": "mmSERRc1emKx",
        "outputId": "2e6de9d3-d006-4db8-a11a-f6d46acbdb2a"
      },
      "outputs": [
        {
          "output_type": "stream",
          "name": "stdout",
          "text": [
            "Epoch 1/15\n",
            "61/61 [==============================] - 5s 49ms/step - loss: 0.5238 - binary_accuracy: 0.8668 - val_loss: 0.2960 - val_binary_accuracy: 0.9164\n",
            "Epoch 2/15\n",
            "61/61 [==============================] - 3s 44ms/step - loss: 0.3322 - binary_accuracy: 0.9411 - val_loss: 0.3404 - val_binary_accuracy: 0.9236\n",
            "Epoch 3/15\n",
            "61/61 [==============================] - 3s 44ms/step - loss: 0.3292 - binary_accuracy: 0.9367 - val_loss: 0.2774 - val_binary_accuracy: 0.9261\n",
            "Epoch 4/15\n",
            "61/61 [==============================] - 3s 43ms/step - loss: 0.3344 - binary_accuracy: 0.9403 - val_loss: 0.3128 - val_binary_accuracy: 0.9236\n",
            "Epoch 5/15\n",
            "61/61 [==============================] - 3s 42ms/step - loss: 0.3247 - binary_accuracy: 0.9413 - val_loss: 0.3272 - val_binary_accuracy: 0.9236\n",
            "Epoch 6/15\n",
            "61/61 [==============================] - 5s 89ms/step - loss: 0.3207 - binary_accuracy: 0.9416 - val_loss: 0.2952 - val_binary_accuracy: 0.9236\n",
            "Epoch 7/15\n",
            "61/61 [==============================] - 3s 43ms/step - loss: 0.3252 - binary_accuracy: 0.9421 - val_loss: 0.3341 - val_binary_accuracy: 0.9236\n",
            "Epoch 8/15\n",
            "61/61 [==============================] - 3s 44ms/step - loss: 0.3130 - binary_accuracy: 0.9421 - val_loss: 0.3259 - val_binary_accuracy: 0.9236\n",
            "Epoch 9/15\n",
            "61/61 [==============================] - 3s 44ms/step - loss: 0.3245 - binary_accuracy: 0.9418 - val_loss: 0.3468 - val_binary_accuracy: 0.9236\n",
            "Epoch 10/15\n",
            "61/61 [==============================] - 3s 43ms/step - loss: 0.3203 - binary_accuracy: 0.9418 - val_loss: 0.3357 - val_binary_accuracy: 0.9236\n",
            "Epoch 11/15\n",
            "61/61 [==============================] - 3s 46ms/step - loss: 0.3208 - binary_accuracy: 0.9426 - val_loss: 0.3206 - val_binary_accuracy: 0.9236\n",
            "Epoch 12/15\n",
            "61/61 [==============================] - 3s 45ms/step - loss: 0.3231 - binary_accuracy: 0.9418 - val_loss: 0.3301 - val_binary_accuracy: 0.9236\n",
            "Epoch 13/15\n",
            "61/61 [==============================] - 3s 43ms/step - loss: 0.3258 - binary_accuracy: 0.9429 - val_loss: 0.3389 - val_binary_accuracy: 0.9224\n",
            "Epoch 14/15\n",
            "61/61 [==============================] - 3s 45ms/step - loss: 0.3368 - binary_accuracy: 0.9429 - val_loss: 0.3478 - val_binary_accuracy: 0.9236\n",
            "Epoch 15/15\n",
            "61/61 [==============================] - 3s 44ms/step - loss: 0.3238 - binary_accuracy: 0.9434 - val_loss: 0.3246 - val_binary_accuracy: 0.9236\n"
          ]
        },
        {
          "output_type": "execute_result",
          "data": {
            "text/plain": [
              "<keras.callbacks.History at 0x7f6ee8574430>"
            ]
          },
          "metadata": {},
          "execution_count": 27
        }
      ],
      "source": [
        "# Model training \n",
        "model_rnn_do.fit(train_data,\n",
        "          epochs=15, \n",
        "          validation_data=val_data,\n",
        "          class_weight=weights)"
      ]
    },
    {
      "cell_type": "code",
      "execution_count": 28,
      "id": "Y3HX8fGFemKy",
      "metadata": {
        "colab": {
          "base_uri": "https://localhost:8080/",
          "height": 279
        },
        "id": "Y3HX8fGFemKy",
        "outputId": "8c4912d3-7bd9-430a-9632-eca4a9ca308e"
      },
      "outputs": [
        {
          "output_type": "display_data",
          "data": {
            "text/plain": [
              "<Figure size 432x288 with 1 Axes>"
            ],
            "image/png": "[encoded data removed]"
          },
          "metadata": {
            "needs_background": "light"
          }
        }
      ],
      "source": [
        "import matplotlib.pyplot as plt\n",
        "\n",
        "# Visualization of the training process on the loss function \n",
        "plt.plot(model_rnn_do.history.history[\"loss\"], color=\"b\", label = \"loss\")\n",
        "plt.plot(model_rnn_do.history.history[\"val_loss\"], color=\"r\", label = \"val_loss\")\n",
        "plt.plot(model_rnn_do.history.history[\"binary_accuracy\"], color=\"g\", label = \"binary_accuracy\")\n",
        "plt.plot(model_rnn_do.history.history[\"val_binary_accuracy\"], color=\"y\", label = \"val_binary_accuracy\")\n",
        "plt.legend()\n",
        "plt.xlabel(\"Epochs\")\n",
        "plt.show()"
      ]
    },
    {
      "cell_type": "markdown",
      "id": "cc1ce30b-6a92-41ca-a19b-db81ce6edfef",
      "metadata": {
        "id": "cc1ce30b-6a92-41ca-a19b-db81ce6edfef"
      },
      "source": [
        "# Adding some dropout helped a bit to stabilize the model. Curves are good.\n"
      ]
    },
    {
      "cell_type": "markdown",
      "source": [
        "## Let's try with LSTM model to compare with."
      ],
      "metadata": {
        "id": "1922u4jhPbhO"
      },
      "id": "1922u4jhPbhO"
    },
    {
      "cell_type": "code",
      "execution_count": 29,
      "id": "90181df6-ff81-4031-8b1a-31e1eb93f47a",
      "metadata": {
        "id": "90181df6-ff81-4031-8b1a-31e1eb93f47a",
        "colab": {
          "base_uri": "https://localhost:8080/"
        },
        "outputId": "3ad52da9-6a9e-4221-eb31-cfff7c3bad4d"
      },
      "outputs": [
        {
          "output_type": "stream",
          "name": "stdout",
          "text": [
            "Model: \"sequential_2\"\n",
            "_________________________________________________________________\n",
            " Layer (type)                Output Shape              Param #   \n",
            "=================================================================\n",
            " embedding (Embedding)       (None, 58, 64)            530176    \n",
            "                                                                 \n",
            " lstm (LSTM)                 (None, 58, 64)            33024     \n",
            "                                                                 \n",
            " lstm_1 (LSTM)               (None, 32)                12416     \n",
            "                                                                 \n",
            " dense_6 (Dense)             (None, 16)                528       \n",
            "                                                                 \n",
            " dense_7 (Dense)             (None, 8)                 136       \n",
            "                                                                 \n",
            " dense_8 (Dense)             (None, 1)                 9         \n",
            "                                                                 \n",
            "=================================================================\n",
            "Total params: 576,289\n",
            "Trainable params: 576,289\n",
            "Non-trainable params: 0\n",
            "_________________________________________________________________\n"
          ]
        }
      ],
      "source": [
        "from tensorflow.keras.layers import Embedding, Dense, LSTM\n",
        "\n",
        "vocab_size = len(tokenizer.word_index)\n",
        "model_lstm = tf.keras.Sequential([\n",
        "                  # Word Embedding layer           \n",
        "                  Embedding(vocab_size+1, 64, input_shape=[message.shape[1],],name=\"embedding\"),\n",
        "                  # Gobal average pooling\n",
        "                  LSTM(units=64, return_sequences=True), # maintains the sequential nature\n",
        "                  LSTM(units=32, return_sequences=False), # returns the last output\n",
        "                  # Dense layers once the data is flat\n",
        "                  Dense(16, activation='relu'),\n",
        "                  Dense(8, activation='relu'),\n",
        "\n",
        "                  # output layer with 1 neuron containing the value between 0 (ham value) and 1 (spam value).\n",
        "                  Dense(1, activation=\"sigmoid\")\n",
        "])\n",
        "model_lstm.summary()"
      ]
    },
    {
      "cell_type": "code",
      "execution_count": 30,
      "id": "ceb7e061-64fa-4ced-9640-3158a9e8eba8",
      "metadata": {
        "id": "ceb7e061-64fa-4ced-9640-3158a9e8eba8"
      },
      "outputs": [],
      "source": [
        "optimizer= tf.keras.optimizers.Adam()\n",
        "\n",
        "# We choose to estimate a binary (0, 1) value at the end.\n",
        "model_lstm.compile(optimizer=optimizer,\n",
        "              loss=tf.keras.losses.binary_crossentropy,\n",
        "              metrics=[tf.keras.metrics.BinaryAccuracy()])"
      ]
    },
    {
      "cell_type": "code",
      "execution_count": 31,
      "id": "ef2d488d-eb05-4e19-87cd-5d1120aaaddf",
      "metadata": {
        "colab": {
          "base_uri": "https://localhost:8080/"
        },
        "id": "ef2d488d-eb05-4e19-87cd-5d1120aaaddf",
        "outputId": "9d8d18bc-5037-4cbd-a1ff-17cea37aa12a"
      },
      "outputs": [
        {
          "output_type": "stream",
          "name": "stdout",
          "text": [
            "Epoch 1/20\n",
            "61/61 [==============================] - 11s 114ms/step - loss: 0.6917 - binary_accuracy: 0.6937 - val_loss: 0.6628 - val_binary_accuracy: 0.8582\n",
            "Epoch 2/20\n",
            "61/61 [==============================] - 6s 97ms/step - loss: 0.5727 - binary_accuracy: 0.9089 - val_loss: 0.1610 - val_binary_accuracy: 0.9806\n",
            "Epoch 3/20\n",
            "61/61 [==============================] - 6s 98ms/step - loss: 0.1787 - binary_accuracy: 0.9743 - val_loss: 0.1567 - val_binary_accuracy: 0.9685\n",
            "Epoch 4/20\n",
            "61/61 [==============================] - 6s 96ms/step - loss: 0.1585 - binary_accuracy: 0.9761 - val_loss: 0.1593 - val_binary_accuracy: 0.9685\n",
            "Epoch 5/20\n",
            "61/61 [==============================] - 6s 100ms/step - loss: 0.1461 - binary_accuracy: 0.9774 - val_loss: 0.1615 - val_binary_accuracy: 0.9685\n",
            "Epoch 6/20\n",
            "61/61 [==============================] - 6s 94ms/step - loss: 0.1410 - binary_accuracy: 0.9787 - val_loss: 0.1526 - val_binary_accuracy: 0.9697\n",
            "Epoch 7/20\n",
            "61/61 [==============================] - 6s 93ms/step - loss: 0.1429 - binary_accuracy: 0.9787 - val_loss: 0.1552 - val_binary_accuracy: 0.9709\n",
            "Epoch 8/20\n",
            "61/61 [==============================] - 6s 95ms/step - loss: 0.1340 - binary_accuracy: 0.9800 - val_loss: 0.1425 - val_binary_accuracy: 0.9709\n",
            "Epoch 9/20\n",
            "61/61 [==============================] - 6s 93ms/step - loss: 0.1327 - binary_accuracy: 0.9803 - val_loss: 0.1490 - val_binary_accuracy: 0.9709\n",
            "Epoch 10/20\n",
            "61/61 [==============================] - 6s 94ms/step - loss: 0.1277 - binary_accuracy: 0.9803 - val_loss: 0.1409 - val_binary_accuracy: 0.9709\n",
            "Epoch 11/20\n",
            "61/61 [==============================] - 6s 94ms/step - loss: 0.1240 - binary_accuracy: 0.9805 - val_loss: 0.1524 - val_binary_accuracy: 0.9697\n",
            "Epoch 12/20\n",
            "61/61 [==============================] - 6s 96ms/step - loss: 0.1243 - binary_accuracy: 0.9805 - val_loss: 0.1503 - val_binary_accuracy: 0.9697\n",
            "Epoch 13/20\n",
            "61/61 [==============================] - 6s 94ms/step - loss: 0.1214 - binary_accuracy: 0.9810 - val_loss: 0.1429 - val_binary_accuracy: 0.9721\n",
            "Epoch 14/20\n",
            "61/61 [==============================] - 6s 94ms/step - loss: 0.1194 - binary_accuracy: 0.9805 - val_loss: 0.1415 - val_binary_accuracy: 0.9709\n",
            "Epoch 15/20\n",
            "61/61 [==============================] - 6s 100ms/step - loss: 0.1099 - binary_accuracy: 0.9821 - val_loss: 0.1381 - val_binary_accuracy: 0.9721\n",
            "Epoch 16/20\n",
            "61/61 [==============================] - 6s 93ms/step - loss: 0.1060 - binary_accuracy: 0.9826 - val_loss: 0.1360 - val_binary_accuracy: 0.9721\n",
            "Epoch 17/20\n",
            "61/61 [==============================] - 6s 93ms/step - loss: 0.1024 - binary_accuracy: 0.9831 - val_loss: 0.1361 - val_binary_accuracy: 0.9721\n",
            "Epoch 18/20\n",
            "61/61 [==============================] - 6s 94ms/step - loss: 0.1026 - binary_accuracy: 0.9831 - val_loss: 0.1324 - val_binary_accuracy: 0.9721\n",
            "Epoch 19/20\n",
            "61/61 [==============================] - 6s 95ms/step - loss: 0.1011 - binary_accuracy: 0.9834 - val_loss: 0.1364 - val_binary_accuracy: 0.9721\n",
            "Epoch 20/20\n",
            "61/61 [==============================] - 6s 93ms/step - loss: 0.1001 - binary_accuracy: 0.9839 - val_loss: 0.1351 - val_binary_accuracy: 0.9721\n"
          ]
        },
        {
          "output_type": "execute_result",
          "data": {
            "text/plain": [
              "<keras.callbacks.History at 0x7f6ee8574c10>"
            ]
          },
          "metadata": {},
          "execution_count": 31
        }
      ],
      "source": [
        "model_lstm.fit(train_data,\n",
        "              epochs=20, \n",
        "              validation_data=val_data,\n",
        "              class_weight=weights)"
      ]
    },
    {
      "cell_type": "code",
      "execution_count": 32,
      "id": "4055372c-a737-4488-a336-9b69316d882a",
      "metadata": {
        "colab": {
          "base_uri": "https://localhost:8080/",
          "height": 279
        },
        "id": "4055372c-a737-4488-a336-9b69316d882a",
        "outputId": "6375d495-f056-44a3-cc2a-6e2902b44129"
      },
      "outputs": [
        {
          "output_type": "display_data",
          "data": {
            "text/plain": [
              "<Figure size 432x288 with 1 Axes>"
            ],
            "image/png": "[encoded data removed]"
          },
          "metadata": {
            "needs_background": "light"
          }
        }
      ],
      "source": [
        "import matplotlib.pyplot as plt\n",
        "\n",
        "# Visualization of the training process on the loss function \n",
        "plt.plot(model_lstm.history.history[\"loss\"], color=\"b\", label = \"loss\")\n",
        "plt.plot(model_lstm.history.history[\"val_loss\"], color=\"r\", label = \"val_loss\")\n",
        "plt.plot(model_lstm.history.history[\"binary_accuracy\"], color=\"g\", label = \"binary_accuracy\")\n",
        "plt.plot(model_lstm.history.history[\"val_binary_accuracy\"], color=\"y\", label = \"val_binary_accuracy\")\n",
        "plt.legend()\n",
        "plt.xlabel(\"Epochs\")\n",
        "plt.show()"
      ]
    },
    {
      "cell_type": "markdown",
      "id": "gHY3FugLiQ7N",
      "metadata": {
        "id": "gHY3FugLiQ7N"
      },
      "source": [
        "## LSTM model is pretty good after some epochs."
      ]
    },
    {
      "cell_type": "markdown",
      "metadata": {
        "id": "tQWLaINoSJ_H"
      },
      "source": [
        "## Let's test the LSTM model on a sample test of the full Dataset."
      ],
      "id": "tQWLaINoSJ_H"
    },
    {
      "cell_type": "code",
      "source": [
        "X_test = []\n",
        "y_test = []\n",
        "for mess, spam in test_data.take(TEST_SIZE):\n",
        "  X_test.append(mess)\n",
        "  y_test.append(spam)\n",
        "X_test = np.array(X_test)\n",
        "y_test = np.array(y_test)"
      ],
      "metadata": {
        "id": "6x2FyW88mGUE"
      },
      "execution_count": 33,
      "outputs": [],
      "id": "6x2FyW88mGUE"
    },
    {
      "cell_type": "code",
      "source": [
        "# Let's check the count of spam messages in the test dataset\n",
        "pd.value_counts(np.array(y_test))"
      ],
      "metadata": {
        "colab": {
          "base_uri": "https://localhost:8080/"
        },
        "id": "S8uESSTiTHID",
        "outputId": "026ddeb4-964e-48e9-a4aa-9c63b5430ebc"
      },
      "id": "S8uESSTiTHID",
      "execution_count": 34,
      "outputs": [
        {
          "output_type": "execute_result",
          "data": {
            "text/plain": [
              "0    717\n",
              "1    110\n",
              "dtype: int64"
            ]
          },
          "metadata": {},
          "execution_count": 34
        }
      ]
    },
    {
      "cell_type": "code",
      "source": [
        "X_test"
      ],
      "metadata": {
        "colab": {
          "base_uri": "https://localhost:8080/"
        },
        "id": "zACR1iB4mV7_",
        "outputId": "d587bc34-c0df-40c0-ffac-172f30b30bb7"
      },
      "execution_count": 35,
      "outputs": [
        {
          "output_type": "execute_result",
          "data": {
            "text/plain": [
              "array([[ 190,  441,  636, ...,    0,    0,    0],\n",
              "       [  87,  294,  346, ...,    0,    0,    0],\n",
              "       [ 863,    1,   15, ...,    0,    0,    0],\n",
              "       ...,\n",
              "       [ 943,    0,    0, ...,    0,    0,    0],\n",
              "       [ 113, 1348,   14, ...,    0,    0,    0],\n",
              "       [2095,  312,    0, ...,    0,    0,    0]], dtype=int32)"
            ]
          },
          "metadata": {},
          "execution_count": 35
        }
      ],
      "id": "zACR1iB4mV7_"
    },
    {
      "cell_type": "code",
      "execution_count": 36,
      "metadata": {
        "id": "pMxNU6wYSJ_K",
        "outputId": "eb98f29f-0164-4638-dafc-400b2a15d36b",
        "colab": {
          "base_uri": "https://localhost:8080/"
        }
      },
      "outputs": [
        {
          "output_type": "stream",
          "name": "stdout",
          "text": [
            "26/26 [==============================] - 1s 21ms/step - loss: 0.1647 - binary_accuracy: 0.9649\n"
          ]
        },
        {
          "output_type": "execute_result",
          "data": {
            "text/plain": [
              "[0.1646621823310852, 0.9649335145950317]"
            ]
          },
          "metadata": {},
          "execution_count": 36
        }
      ],
      "source": [
        "# Let's evaluate the model with tes values\n",
        "model_lstm.evaluate(X_test, y_test)"
      ],
      "id": "pMxNU6wYSJ_K"
    },
    {
      "cell_type": "code",
      "source": [
        "# Getting y_pred by predicting over X_text and flattening it\n",
        "y_pred=(model_lstm.predict(X_test) > 0.5).astype(\"int32\")\n",
        "# It requires to be in one-dimensional array , for easy manipulation\n",
        "y_pred = y_pred.flatten()"
      ],
      "metadata": {
        "colab": {
          "base_uri": "https://localhost:8080/"
        },
        "id": "h_O2HeHneGBB",
        "outputId": "c404e0dc-8d7b-4d5a-8a5d-48479be1d4a2"
      },
      "id": "h_O2HeHneGBB",
      "execution_count": 37,
      "outputs": [
        {
          "output_type": "stream",
          "name": "stdout",
          "text": [
            "26/26 [==============================] - 1s 19ms/step\n"
          ]
        }
      ]
    },
    {
      "cell_type": "code",
      "execution_count": 38,
      "metadata": {
        "id": "P1r1qPj5SJ_L",
        "outputId": "0c788d9e-530d-42f9-c5a8-31feca36ad82",
        "colab": {
          "base_uri": "https://localhost:8080/",
          "height": 297
        }
      },
      "outputs": [
        {
          "output_type": "execute_result",
          "data": {
            "text/plain": [
              "Text(33.0, 0.5, 'Actual')"
            ]
          },
          "metadata": {},
          "execution_count": 38
        },
        {
          "output_type": "display_data",
          "data": {
            "text/plain": [
              "<Figure size 432x288 with 2 Axes>"
            ],
            "image/png": "[encoded data removed]"
          },
          "metadata": {
            "needs_background": "light"
          }
        }
      ],
      "source": [
        "from sklearn.metrics import confusion_matrix, classification_report\n",
        "# Let's see the results with confusion matrix \n",
        "cm = confusion_matrix(y_test,y_pred)\n",
        "import seaborn as sns\n",
        "sns.heatmap(cm, annot = True, fmt = 'd')\n",
        "plt.xlabel('Predicted')\n",
        "plt.ylabel('Actual')"
      ],
      "id": "P1r1qPj5SJ_L"
    },
    {
      "cell_type": "markdown",
      "source": [
        "## Let's test the Simple RNN Dropout model on a sample test of the full Dataset."
      ],
      "metadata": {
        "id": "FTl0Binss8-R"
      },
      "id": "FTl0Binss8-R"
    },
    {
      "cell_type": "code",
      "execution_count": 39,
      "metadata": {
        "outputId": "a5ed2a96-8c8f-4a5b-aea7-e514d49a4029",
        "colab": {
          "base_uri": "https://localhost:8080/"
        },
        "id": "IvfqWb15tHt9"
      },
      "outputs": [
        {
          "output_type": "stream",
          "name": "stdout",
          "text": [
            "26/26 [==============================] - 0s 11ms/step - loss: 0.3136 - binary_accuracy: 0.9287\n"
          ]
        },
        {
          "output_type": "execute_result",
          "data": {
            "text/plain": [
              "[0.31356945633888245, 0.9286577701568604]"
            ]
          },
          "metadata": {},
          "execution_count": 39
        }
      ],
      "source": [
        "# Let's evaluate the model with tes values\n",
        "model_rnn_do.evaluate(X_test, y_test)"
      ],
      "id": "IvfqWb15tHt9"
    },
    {
      "cell_type": "code",
      "source": [
        "# Getting y_pred by predicting over X_text and flattening it\n",
        "y_pred=(model_rnn_do.predict(X_test) > 0.5).astype(\"int32\")\n",
        "# It requires to be in one-dimensional array , for easy manipulation\n",
        "y_pred = y_pred.flatten()"
      ],
      "metadata": {
        "colab": {
          "base_uri": "https://localhost:8080/"
        },
        "outputId": "c8173a1f-e133-455d-a666-a8c122537777",
        "id": "hP9Z5Nk2tHt_"
      },
      "execution_count": 40,
      "outputs": [
        {
          "output_type": "stream",
          "name": "stdout",
          "text": [
            "26/26 [==============================] - 1s 10ms/step\n"
          ]
        }
      ],
      "id": "hP9Z5Nk2tHt_"
    },
    {
      "cell_type": "code",
      "execution_count": 41,
      "metadata": {
        "outputId": "cd4a5b9d-d5db-4d84-c906-d05afa1c6334",
        "colab": {
          "base_uri": "https://localhost:8080/",
          "height": 297
        },
        "id": "Q30itX5utHuB"
      },
      "outputs": [
        {
          "output_type": "execute_result",
          "data": {
            "text/plain": [
              "Text(33.0, 0.5, 'Actual')"
            ]
          },
          "metadata": {},
          "execution_count": 41
        },
        {
          "output_type": "display_data",
          "data": {
            "text/plain": [
              "<Figure size 432x288 with 2 Axes>"
            ],
            "image/png": "[encoded data removed]"
          },
          "metadata": {
            "needs_background": "light"
          }
        }
      ],
      "source": [
        "from sklearn.metrics import confusion_matrix, classification_report\n",
        "# Let's see the results with confusion matrix \n",
        "cm = confusion_matrix(y_test,y_pred)\n",
        "import seaborn as sns\n",
        "sns.heatmap(cm, annot = True, fmt = 'd')\n",
        "plt.xlabel('Predicted')\n",
        "plt.ylabel('Actual')"
      ],
      "id": "Q30itX5utHuB"
    },
    {
      "cell_type": "markdown",
      "source": [
        "# The LSTM model is better than the simple RNN dropout model !!!"
      ],
      "metadata": {
        "id": "CVtFuJI0tVR_"
      },
      "id": "CVtFuJI0tVR_"
    },
    {
      "cell_type": "markdown",
      "source": [
        "## Let's try to use some BERT processer and encoder in the next notebook !"
      ],
      "metadata": {
        "id": "DOBr61AeSYR-"
      },
      "id": "DOBr61AeSYR-"
    }
  ],
  "metadata": {
    "colab": {
      "provenance": []
    },
    "kernelspec": {
      "display_name": "Python 3 (ipykernel)",
      "language": "python",
      "name": "python3"
    },
    "language_info": {
      "codemirror_mode": {
        "name": "ipython",
        "version": 3
      },
      "file_extension": ".py",
      "mimetype": "text/x-python",
      "name": "python",
      "nbconvert_exporter": "python",
      "pygments_lexer": "ipython3",
      "version": "3.10.7"
    }
  },
  "nbformat": 4,
  "nbformat_minor": 5
}