{
 "cells": [
  {
   "cell_type": "markdown",
   "id": "a0bf9363-5b75-4ee2-8b34-c89730aad9f1",
   "metadata": {},
   "source": [
    "# Testing of the model"
   ]
  },
  {
   "cell_type": "code",
   "execution_count": 10,
   "id": "3e0db3a6-ab7d-4979-ac4a-91042407a512",
   "metadata": {},
   "outputs": [],
   "source": [
    "import pandas as pd"
   ]
  },
  {
   "cell_type": "code",
   "execution_count": 11,
   "id": "800f3e48-c894-4fb7-a33f-3c9eeadef57a",
   "metadata": {},
   "outputs": [],
   "source": [
    "# Loading saved model\n",
    "from xgboost.sklearn import XGBRegressor\n",
    "regressor = XGBRegressor(n_jobs=-1)\n",
    "regressor.load_model('./ModelFiles/RealEstate_PARIS_FR_2022.xgbmodel')"
   ]
  },
  {
   "cell_type": "code",
   "execution_count": 12,
   "id": "f2f353ed-0980-4623-9dbf-a8c5028511e0",
   "metadata": {},
   "outputs": [],
   "source": [
    "# Loading saved preprocessor\n",
    "from pickle import load\n",
    "preprocessor = load(open('./ModelFiles/preprocessor.dmp', 'rb'))"
   ]
  },
  {
   "cell_type": "code",
   "execution_count": 13,
   "id": "e64ca0ae-1a41-483d-a900-ba86d3901c8e",
   "metadata": {},
   "outputs": [],
   "source": [
    "# Building tests DF\n",
    "df_real_test = pd.DataFrame({'Nature mutation':['Vente', 'Vente', 'Vente',  \"Vente\",  \"Vente\"]\n",
    "                             , 'Type local':['Appartement', 'Maison', 'Appartement', 'Appartement', 'Appartement']\n",
    "                             , 'Nombre pieces principales': [5, 3, 6, 3, 4]\n",
    "                             , 'Surface': [107, 60, 179, 83, 110]\n",
    "                             , 'Adresse':['RUE MONGE 75005 PARIS FRANCE', \"Rue de l'Estrapade 75005 PARIS FRANCE\", 'Madeleine 75008 PARIS FRANCE', '75017 PARIS FRANCE', 'Place Vendome 75001 PARIS FRANCE']})"
   ]
  },
  {
   "cell_type": "code",
   "execution_count": 14,
   "id": "8e5bf8c7-c140-43f7-9d36-9d65a2365a05",
   "metadata": {},
   "outputs": [
    {
     "data": {
      "text/html": [
       "<div>\n",
       "<style scoped>\n",
       "    .dataframe tbody tr th:only-of-type {\n",
       "        vertical-align: middle;\n",
       "    }\n",
       "\n",
       "    .dataframe tbody tr th {\n",
       "        vertical-align: top;\n",
       "    }\n",
       "\n",
       "    .dataframe thead th {\n",
       "        text-align: right;\n",
       "    }\n",
       "</style>\n",
       "<table border=\"1\" class=\"dataframe\">\n",
       "  <thead>\n",
       "    <tr style=\"text-align: right;\">\n",
       "      <th></th>\n",
       "      <th>Nature mutation</th>\n",
       "      <th>Type local</th>\n",
       "      <th>Nombre pieces principales</th>\n",
       "      <th>Surface</th>\n",
       "      <th>Adresse</th>\n",
       "    </tr>\n",
       "  </thead>\n",
       "  <tbody>\n",
       "    <tr>\n",
       "      <th>0</th>\n",
       "      <td>Vente</td>\n",
       "      <td>Appartement</td>\n",
       "      <td>5</td>\n",
       "      <td>107</td>\n",
       "      <td>RUE MONGE 75005 PARIS FRANCE</td>\n",
       "    </tr>\n",
       "    <tr>\n",
       "      <th>1</th>\n",
       "      <td>Vente</td>\n",
       "      <td>Maison</td>\n",
       "      <td>3</td>\n",
       "      <td>60</td>\n",
       "      <td>Rue de l'Estrapade 75005 PARIS FRANCE</td>\n",
       "    </tr>\n",
       "    <tr>\n",
       "      <th>2</th>\n",
       "      <td>Vente</td>\n",
       "      <td>Appartement</td>\n",
       "      <td>6</td>\n",
       "      <td>179</td>\n",
       "      <td>Madeleine 75008 PARIS FRANCE</td>\n",
       "    </tr>\n",
       "    <tr>\n",
       "      <th>3</th>\n",
       "      <td>Vente</td>\n",
       "      <td>Appartement</td>\n",
       "      <td>3</td>\n",
       "      <td>83</td>\n",
       "      <td>75017 PARIS FRANCE</td>\n",
       "    </tr>\n",
       "    <tr>\n",
       "      <th>4</th>\n",
       "      <td>Vente</td>\n",
       "      <td>Appartement</td>\n",
       "      <td>4</td>\n",
       "      <td>110</td>\n",
       "      <td>Place Vendome 75001 PARIS FRANCE</td>\n",
       "    </tr>\n",
       "  </tbody>\n",
       "</table>\n",
       "</div>"
      ],
      "text/plain": [
       "  Nature mutation   Type local  Nombre pieces principales  Surface  \\\n",
       "0           Vente  Appartement                          5      107   \n",
       "1           Vente       Maison                          3       60   \n",
       "2           Vente  Appartement                          6      179   \n",
       "3           Vente  Appartement                          3       83   \n",
       "4           Vente  Appartement                          4      110   \n",
       "\n",
       "                                 Adresse  \n",
       "0           RUE MONGE 75005 PARIS FRANCE  \n",
       "1  Rue de l'Estrapade 75005 PARIS FRANCE  \n",
       "2           Madeleine 75008 PARIS FRANCE  \n",
       "3                     75017 PARIS FRANCE  \n",
       "4       Place Vendome 75001 PARIS FRANCE  "
      ]
     },
     "execution_count": 14,
     "metadata": {},
     "output_type": "execute_result"
    }
   ],
   "source": [
    "df_real_test"
   ]
  },
  {
   "cell_type": "code",
   "execution_count": 15,
   "id": "edcc528d-92d7-491e-9aff-4e08edeb31ad",
   "metadata": {},
   "outputs": [
    {
     "data": {
      "text/html": [
       "<div>\n",
       "<style scoped>\n",
       "    .dataframe tbody tr th:only-of-type {\n",
       "        vertical-align: middle;\n",
       "    }\n",
       "\n",
       "    .dataframe tbody tr th {\n",
       "        vertical-align: top;\n",
       "    }\n",
       "\n",
       "    .dataframe thead th {\n",
       "        text-align: right;\n",
       "    }\n",
       "</style>\n",
       "<table border=\"1\" class=\"dataframe\">\n",
       "  <thead>\n",
       "    <tr style=\"text-align: right;\">\n",
       "      <th></th>\n",
       "      <th>Nature mutation</th>\n",
       "      <th>Type local</th>\n",
       "      <th>Nombre pieces principales</th>\n",
       "      <th>Surface</th>\n",
       "      <th>Latitude</th>\n",
       "      <th>Longitude</th>\n",
       "    </tr>\n",
       "  </thead>\n",
       "  <tbody>\n",
       "    <tr>\n",
       "      <th>0</th>\n",
       "      <td>Vente</td>\n",
       "      <td>Appartement</td>\n",
       "      <td>5</td>\n",
       "      <td>107</td>\n",
       "      <td>48.847810</td>\n",
       "      <td>2.350713</td>\n",
       "    </tr>\n",
       "    <tr>\n",
       "      <th>1</th>\n",
       "      <td>Vente</td>\n",
       "      <td>Maison</td>\n",
       "      <td>3</td>\n",
       "      <td>60</td>\n",
       "      <td>48.844558</td>\n",
       "      <td>2.347557</td>\n",
       "    </tr>\n",
       "    <tr>\n",
       "      <th>2</th>\n",
       "      <td>Vente</td>\n",
       "      <td>Appartement</td>\n",
       "      <td>6</td>\n",
       "      <td>179</td>\n",
       "      <td>48.871027</td>\n",
       "      <td>2.319279</td>\n",
       "    </tr>\n",
       "    <tr>\n",
       "      <th>3</th>\n",
       "      <td>Vente</td>\n",
       "      <td>Appartement</td>\n",
       "      <td>3</td>\n",
       "      <td>83</td>\n",
       "      <td>48.885676</td>\n",
       "      <td>2.308889</td>\n",
       "    </tr>\n",
       "    <tr>\n",
       "      <th>4</th>\n",
       "      <td>Vente</td>\n",
       "      <td>Appartement</td>\n",
       "      <td>4</td>\n",
       "      <td>110</td>\n",
       "      <td>48.867463</td>\n",
       "      <td>2.329428</td>\n",
       "    </tr>\n",
       "  </tbody>\n",
       "</table>\n",
       "</div>"
      ],
      "text/plain": [
       "  Nature mutation   Type local  Nombre pieces principales  Surface   Latitude  \\\n",
       "0           Vente  Appartement                          5      107  48.847810   \n",
       "1           Vente       Maison                          3       60  48.844558   \n",
       "2           Vente  Appartement                          6      179  48.871027   \n",
       "3           Vente  Appartement                          3       83  48.885676   \n",
       "4           Vente  Appartement                          4      110  48.867463   \n",
       "\n",
       "   Longitude  \n",
       "0   2.350713  \n",
       "1   2.347557  \n",
       "2   2.319279  \n",
       "3   2.308889  \n",
       "4   2.329428  "
      ]
     },
     "execution_count": 15,
     "metadata": {},
     "output_type": "execute_result"
    }
   ],
   "source": [
    "# Computing GPS coordonates for testing\n",
    "from geopy.geocoders import Nominatim\n",
    "from geopy.extra.rate_limiter import RateLimiter\n",
    "\n",
    "geolocator = Nominatim(user_agent=\"MyAppRE75\")\n",
    "geocode = RateLimiter(geolocator.geocode, min_delay_seconds=1)\n",
    "\n",
    "df_real_test['location'] = df_real_test['Adresse'].apply(geocode)\n",
    "df_real_test['Latitude'] = df_real_test['location'].apply(lambda loc: loc.point[0] if loc else None)\n",
    "df_real_test['Longitude'] = df_real_test['location'].apply(lambda loc: loc.point[1] if loc else None)\n",
    "df_real_test.drop(columns=['Adresse', 'location'], axis=1, inplace=True)\n",
    "df_real_test"
   ]
  },
  {
   "cell_type": "code",
   "execution_count": 16,
   "id": "4ae550cc-d865-4dd7-9f02-668714fc3697",
   "metadata": {},
   "outputs": [],
   "source": [
    "# Transforming tests\n",
    "X_real_test = preprocessor.transform(df_real_test)\n",
    "# Predicting target value\n",
    "Y_real_test = regressor.predict(X_real_test)\n",
    "\n",
    "# Expected values : \n",
    "# 1 300 000 : https://www.logic-immo.com/detail-vente-7be64076-668e-fc49-6abb-18b74ab0a503.htm?mea=extend-boost-3\n",
    "# 1 200 000 : https://www.logic-immo.com/detail-vente-84f94262-d46f-f5e7-10e4-babc1d4476dc.htm?mea=extend-boost-3\n",
    "# 2 850 000 : https://www.logic-immo.com/detail-vente-fe46a133-b06a-422f-8fb3-b05e0b0f816d.htm?mea=extend-boost-3\n",
    "#   920 000 : https://www.logic-immo.com/detail-vente-3c97ccf4-c50a-d3c8-5a7b-d5592979ff62.htm?mea=extend-boost-3\n",
    "# 1 825 000 : https://www.logic-immo.com/detail-vente-431b3570-2302-80f9-3bf6-480615bf146e.htm?mea=extend-boost-3"
   ]
  },
  {
   "cell_type": "code",
   "execution_count": 17,
   "id": "180742e8-e439-4d0f-89ed-783421d0c1aa",
   "metadata": {},
   "outputs": [
    {
     "name": "stdout",
     "output_type": "stream",
     "text": [
      "1 433 078 €\n",
      "1 183 345 €\n",
      "2 202 865 €\n",
      "789 806 €\n",
      "1 492 349 €\n"
     ]
    }
   ],
   "source": [
    "for i in Y_real_test:\n",
    "    print('{:,} €'.format(round(i)).replace(',', ' '))"
   ]
  },
  {
   "cell_type": "code",
   "execution_count": null,
   "id": "3953c4be-159c-4969-a27a-0215c1f6c26f",
   "metadata": {},
   "outputs": [],
   "source": []
  }
 ],
 "metadata": {
  "kernelspec": {
   "display_name": "Python 3 (ipykernel)",
   "language": "python",
   "name": "python3"
  },
  "language_info": {
   "codemirror_mode": {
    "name": "ipython",
    "version": 3
   },
   "file_extension": ".py",
   "mimetype": "text/x-python",
   "name": "python",
   "nbconvert_exporter": "python",
   "pygments_lexer": "ipython3",
   "version": "3.10.7"
  }
 },
 "nbformat": 4,
 "nbformat_minor": 5
}
