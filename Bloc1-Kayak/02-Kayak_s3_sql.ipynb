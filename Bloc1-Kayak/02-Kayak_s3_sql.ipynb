{
 "cells": [
  {
   "cell_type": "markdown",
   "id": "be2e8ba5-a5b4-4667-a8b5-e2fede1d126b",
   "metadata": {},
   "source": [
    "# 2/3 We load files from S3 to build an AWS RDS Database"
   ]
  },
  {
   "cell_type": "markdown",
   "id": "a414da53-6220-4000-9c61-2533adafaef5",
   "metadata": {},
   "source": [
    "## First we load files from S3"
   ]
  },
  {
   "cell_type": "code",
   "execution_count": 34,
   "id": "88d4a809-033b-4794-8a94-2c3596a070e2",
   "metadata": {},
   "outputs": [
    {
     "name": "stdout",
     "output_type": "stream",
     "text": [
      "Loading Kayak csv files from S3 ylequere-jedha bucket.\n",
      "\n",
      "!!! The credentials are needed to achieve this task. Please contact ylequere@gmail.com to obtain it !!!\n",
      "\n",
      "# Downloading locations_weather.csv from https://ylequere-jedha.s3.eu-west-3.amazonaws.com/02-Kayak/locations_weather.csv\n",
      "\n",
      "# Downloading hotels.csv from https://ylequere-jedha.s3.eu-west-3.amazonaws.com/02-Kayak/hotels.csv\n"
     ]
    }
   ],
   "source": [
    "import boto3\n",
    "import pandas as pd\n",
    "\n",
    "BUCKET_NAME = 'ylequere-jedha'\n",
    "print(f\"Loading Kayak csv files from S3 {BUCKET_NAME} bucket.\")\n",
    "print(\"\\n!!! The credentials are needed to achieve this task. Please contact ylequere@gmail.com to obtain it !!!\")\n",
    "s3 = boto3.resource(\"s3\")\n",
    "bucket = s3.Bucket(BUCKET_NAME)\n",
    "\n",
    "print(\"\\n# Downloading locations_weather.csv from https://ylequere-jedha.s3.eu-west-3.amazonaws.com/02-Kayak/locations_weather.csv\")\n",
    "df_locations_weather = pd.read_csv(bucket.Object('02-Kayak/locations_weather.csv').get()['Body'])\n",
    "\n",
    "print(\"\\n# Downloading hotels.csv from https://ylequere-jedha.s3.eu-west-3.amazonaws.com/02-Kayak/hotels.csv\")\n",
    "df_hotels = pd.read_csv(bucket.Object('02-Kayak/hotels.csv').get()['Body'])"
   ]
  },
  {
   "cell_type": "code",
   "execution_count": 35,
   "id": "555053d0-3271-4b9c-a081-8a34a4463c8d",
   "metadata": {},
   "outputs": [
    {
     "data": {
      "text/html": [
       "<div>\n",
       "<style scoped>\n",
       "    .dataframe tbody tr th:only-of-type {\n",
       "        vertical-align: middle;\n",
       "    }\n",
       "\n",
       "    .dataframe tbody tr th {\n",
       "        vertical-align: top;\n",
       "    }\n",
       "\n",
       "    .dataframe thead th {\n",
       "        text-align: right;\n",
       "    }\n",
       "</style>\n",
       "<table border=\"1\" class=\"dataframe\">\n",
       "  <thead>\n",
       "    <tr style=\"text-align: right;\">\n",
       "      <th></th>\n",
       "      <th>Id</th>\n",
       "      <th>location</th>\n",
       "      <th>pop</th>\n",
       "      <th>perceived_temperature</th>\n",
       "      <th>display_name</th>\n",
       "      <th>lat</th>\n",
       "      <th>lon</th>\n",
       "    </tr>\n",
       "  </thead>\n",
       "  <tbody>\n",
       "    <tr>\n",
       "      <th>0</th>\n",
       "      <td>0</td>\n",
       "      <td>Aigues Mortes</td>\n",
       "      <td>25</td>\n",
       "      <td>16</td>\n",
       "      <td>Aigues-Mortes, Nîmes, Gard, Occitanie, France ...</td>\n",
       "      <td>43.565823</td>\n",
       "      <td>4.191284</td>\n",
       "    </tr>\n",
       "    <tr>\n",
       "      <th>1</th>\n",
       "      <td>1</td>\n",
       "      <td>Aix en Provence</td>\n",
       "      <td>15</td>\n",
       "      <td>15</td>\n",
       "      <td>Aix-en-Provence, Bouches-du-Rhône, Provence-Al...</td>\n",
       "      <td>43.529842</td>\n",
       "      <td>5.447474</td>\n",
       "    </tr>\n",
       "    <tr>\n",
       "      <th>2</th>\n",
       "      <td>2</td>\n",
       "      <td>Amiens</td>\n",
       "      <td>33</td>\n",
       "      <td>12</td>\n",
       "      <td>Amiens, Somme, Hauts-de-France, France métropo...</td>\n",
       "      <td>49.894171</td>\n",
       "      <td>2.295695</td>\n",
       "    </tr>\n",
       "    <tr>\n",
       "      <th>3</th>\n",
       "      <td>3</td>\n",
       "      <td>Annecy</td>\n",
       "      <td>24</td>\n",
       "      <td>10</td>\n",
       "      <td>Annecy, Haute-Savoie, Auvergne-Rhône-Alpes, Fr...</td>\n",
       "      <td>45.899235</td>\n",
       "      <td>6.128885</td>\n",
       "    </tr>\n",
       "    <tr>\n",
       "      <th>4</th>\n",
       "      <td>4</td>\n",
       "      <td>Ariege</td>\n",
       "      <td>23</td>\n",
       "      <td>7</td>\n",
       "      <td>Ariège, Occitanie, France métropolitaine, France</td>\n",
       "      <td>42.945537</td>\n",
       "      <td>1.406554</td>\n",
       "    </tr>\n",
       "  </tbody>\n",
       "</table>\n",
       "</div>"
      ],
      "text/plain": [
       "   Id         location  pop  perceived_temperature  \\\n",
       "0   0    Aigues Mortes   25                     16   \n",
       "1   1  Aix en Provence   15                     15   \n",
       "2   2           Amiens   33                     12   \n",
       "3   3           Annecy   24                     10   \n",
       "4   4           Ariege   23                      7   \n",
       "\n",
       "                                        display_name        lat       lon  \n",
       "0  Aigues-Mortes, Nîmes, Gard, Occitanie, France ...  43.565823  4.191284  \n",
       "1  Aix-en-Provence, Bouches-du-Rhône, Provence-Al...  43.529842  5.447474  \n",
       "2  Amiens, Somme, Hauts-de-France, France métropo...  49.894171  2.295695  \n",
       "3  Annecy, Haute-Savoie, Auvergne-Rhône-Alpes, Fr...  45.899235  6.128885  \n",
       "4   Ariège, Occitanie, France métropolitaine, France  42.945537  1.406554  "
      ]
     },
     "execution_count": 35,
     "metadata": {},
     "output_type": "execute_result"
    }
   ],
   "source": [
    "df_locations_weather.head(5)"
   ]
  },
  {
   "cell_type": "code",
   "execution_count": 36,
   "id": "f2db9b01-83ea-48d2-be38-b88fb55591ad",
   "metadata": {},
   "outputs": [
    {
     "data": {
      "text/html": [
       "<div>\n",
       "<style scoped>\n",
       "    .dataframe tbody tr th:only-of-type {\n",
       "        vertical-align: middle;\n",
       "    }\n",
       "\n",
       "    .dataframe tbody tr th {\n",
       "        vertical-align: top;\n",
       "    }\n",
       "\n",
       "    .dataframe thead th {\n",
       "        text-align: right;\n",
       "    }\n",
       "</style>\n",
       "<table border=\"1\" class=\"dataframe\">\n",
       "  <thead>\n",
       "    <tr style=\"text-align: right;\">\n",
       "      <th></th>\n",
       "      <th>Id</th>\n",
       "      <th>title</th>\n",
       "      <th>score</th>\n",
       "      <th>desc</th>\n",
       "      <th>url</th>\n",
       "      <th>lat</th>\n",
       "      <th>lon</th>\n",
       "      <th>location</th>\n",
       "    </tr>\n",
       "  </thead>\n",
       "  <tbody>\n",
       "    <tr>\n",
       "      <th>0</th>\n",
       "      <td>0</td>\n",
       "      <td>le coin des hirondelles</td>\n",
       "      <td>9.7</td>\n",
       "      <td>Situé à Pontorson, l'établissement le coin des...</td>\n",
       "      <td>https://www.booking.com/hotel/fr/le-coin-des-h...</td>\n",
       "      <td>48.602864</td>\n",
       "      <td>-1.474069</td>\n",
       "      <td>Mont Saint Michel</td>\n",
       "    </tr>\n",
       "    <tr>\n",
       "      <th>1</th>\n",
       "      <td>1</td>\n",
       "      <td>L'ancien Presbytère d'Ardevon</td>\n",
       "      <td>9.6</td>\n",
       "      <td>Situé à Pontorson, L'ancien Presbytère d'Ardev...</td>\n",
       "      <td>https://www.booking.com/hotel/fr/l-39-ancien-p...</td>\n",
       "      <td>48.603324</td>\n",
       "      <td>-1.476397</td>\n",
       "      <td>Mont Saint Michel</td>\n",
       "    </tr>\n",
       "    <tr>\n",
       "      <th>2</th>\n",
       "      <td>2</td>\n",
       "      <td>Maison chaleureuse, spacieuse et familiale</td>\n",
       "      <td>9.5</td>\n",
       "      <td>Dotée d'une connexion Wi-Fi gratuite, la Maiso...</td>\n",
       "      <td>https://www.booking.com/hotel/fr/maison-chaleu...</td>\n",
       "      <td>48.596577</td>\n",
       "      <td>-1.505204</td>\n",
       "      <td>Mont Saint Michel</td>\n",
       "    </tr>\n",
       "    <tr>\n",
       "      <th>3</th>\n",
       "      <td>3</td>\n",
       "      <td>Gîtes le Mont Desclos Saint Michel</td>\n",
       "      <td>9.4</td>\n",
       "      <td>Situé à Beauvoir, à 5,7 km de l'abbaye du Mont...</td>\n",
       "      <td>https://www.booking.com/hotel/fr/gites-le-mont...</td>\n",
       "      <td>48.596656</td>\n",
       "      <td>-1.504449</td>\n",
       "      <td>Mont Saint Michel</td>\n",
       "    </tr>\n",
       "    <tr>\n",
       "      <th>4</th>\n",
       "      <td>4</td>\n",
       "      <td>Résidence Beauvoir le Mont-Saint-Michel (9 gît...</td>\n",
       "      <td>9.3</td>\n",
       "      <td>Installée à 4,4 km de l'abbaye du Mont-Saint-M...</td>\n",
       "      <td>https://www.booking.com/hotel/fr/residence-bea...</td>\n",
       "      <td>48.597878</td>\n",
       "      <td>-1.508419</td>\n",
       "      <td>Mont Saint Michel</td>\n",
       "    </tr>\n",
       "  </tbody>\n",
       "</table>\n",
       "</div>"
      ],
      "text/plain": [
       "   Id                                              title  score  \\\n",
       "0   0                            le coin des hirondelles    9.7   \n",
       "1   1                      L'ancien Presbytère d'Ardevon    9.6   \n",
       "2   2         Maison chaleureuse, spacieuse et familiale    9.5   \n",
       "3   3                 Gîtes le Mont Desclos Saint Michel    9.4   \n",
       "4   4  Résidence Beauvoir le Mont-Saint-Michel (9 gît...    9.3   \n",
       "\n",
       "                                                desc  \\\n",
       "0  Situé à Pontorson, l'établissement le coin des...   \n",
       "1  Situé à Pontorson, L'ancien Presbytère d'Ardev...   \n",
       "2  Dotée d'une connexion Wi-Fi gratuite, la Maiso...   \n",
       "3  Situé à Beauvoir, à 5,7 km de l'abbaye du Mont...   \n",
       "4  Installée à 4,4 km de l'abbaye du Mont-Saint-M...   \n",
       "\n",
       "                                                 url        lat       lon  \\\n",
       "0  https://www.booking.com/hotel/fr/le-coin-des-h...  48.602864 -1.474069   \n",
       "1  https://www.booking.com/hotel/fr/l-39-ancien-p...  48.603324 -1.476397   \n",
       "2  https://www.booking.com/hotel/fr/maison-chaleu...  48.596577 -1.505204   \n",
       "3  https://www.booking.com/hotel/fr/gites-le-mont...  48.596656 -1.504449   \n",
       "4  https://www.booking.com/hotel/fr/residence-bea...  48.597878 -1.508419   \n",
       "\n",
       "            location  \n",
       "0  Mont Saint Michel  \n",
       "1  Mont Saint Michel  \n",
       "2  Mont Saint Michel  \n",
       "3  Mont Saint Michel  \n",
       "4  Mont Saint Michel  "
      ]
     },
     "execution_count": 36,
     "metadata": {},
     "output_type": "execute_result"
    }
   ],
   "source": [
    "df_hotels.head(5)"
   ]
  },
  {
   "attachments": {
    "96149ed0-1086-4a3a-85f4-7edc3e1fb232.png": {
     "image/png": "[encoded data removed]"
    }
   },
   "cell_type": "markdown",
   "id": "40525e35-74b9-4f6f-933b-ae2f111c4244",
   "metadata": {},
   "source": [
    "## ![image.png](attachment:96149ed0-1086-4a3a-85f4-7edc3e1fb232.png) Files are loaded successfully !"
   ]
  },
  {
   "cell_type": "markdown",
   "id": "fe290879-4aff-4d55-93df-aadb145f34a3",
   "metadata": {},
   "source": [
    "## Second, we build the AWS MySQL DB"
   ]
  },
  {
   "cell_type": "code",
   "execution_count": 38,
   "id": "9f5ecdf0-6977-423e-b73e-22b96a66ff9c",
   "metadata": {},
   "outputs": [
    {
     "name": "stdout",
     "output_type": "stream",
     "text": [
      "\n",
      "# Saving data under MySQL DB in AWS RDS as admin:DBPASS@kayak.cw9vzlqtne1z.eu-west-3.rds.amazonaws.com:3306\n",
      "\n",
      " !!! The KAYAK DB password is needed to achieve this. Please contact ylequere@gmail.com to obtain it !!!\n",
      "\n",
      "# Creating kayakdb\n"
     ]
    },
    {
     "data": {
      "text/plain": [
       "<sqlalchemy.engine.cursor.LegacyCursorResult at 0x11b62c57790>"
      ]
     },
     "execution_count": 38,
     "metadata": {},
     "output_type": "execute_result"
    }
   ],
   "source": [
    "import pandas as pd\n",
    "import os\n",
    "\n",
    "# Saving data under MySQL DB in AWS RDS\n",
    "from sqlalchemy import create_engine\n",
    "DBUSER = 'admin'\n",
    "DBHOST = 'kayak.cw9vzlqtne1z.eu-west-3.rds.amazonaws.com'\n",
    "PORT = 3306\n",
    "print(f\"\\n# Saving data under MySQL DB in AWS RDS as {DBUSER}:DBPASS@{DBHOST}:{PORT}\")\n",
    "print(\"\\n !!! The KAYAK DB password is needed to achieve this. Please contact ylequere@gmail.com to obtain it !!!\")\n",
    "DBPASS = os.getenv('KAYAK_DB_PASSWORD')\n",
    "engine = create_engine(f\"mysql+pymysql://{DBUSER}:{DBPASS}@{DBHOST}:{PORT}/\", echo=False)\n",
    "\n",
    "print(\"\\n# Creating kayakdb\")\n",
    "engine.execute(\"CREATE DATABASE IF NOT EXISTS kayakdb\")\n",
    "engine.execute(\"USE kayakdb\")\n",
    "engine.execute(\"DROP TABLE IF EXISTS LOCATIONS_WEATHER\")\n",
    "engine.execute(\"DROP TABLE IF EXISTS HOTELS\")"
   ]
  },
  {
   "attachments": {
    "96149ed0-1086-4a3a-85f4-7edc3e1fb232.png": {
     "image/png": "[encoded data removed]"
    }
   },
   "cell_type": "markdown",
   "id": "4867e00d-55ed-4a3d-b478-6627e3408c22",
   "metadata": {},
   "source": [
    "## ![image.png](attachment:96149ed0-1086-4a3a-85f4-7edc3e1fb232.png)DB is created and tables are dropped."
   ]
  },
  {
   "cell_type": "code",
   "execution_count": 39,
   "id": "e5e6cfa8-f7f4-4181-8cde-a3ad6ecb6b28",
   "metadata": {},
   "outputs": [],
   "source": [
    "try:\n",
    "    df_locations_weather.to_sql('LOCATIONS_WEATHER', engine, index=False)\n",
    "# Unexpected error which not prevents to save data in DB\n",
    "except AttributeError:\n",
    "    pass"
   ]
  },
  {
   "cell_type": "code",
   "execution_count": 40,
   "id": "70b317eb-3107-468e-9198-6970a0a2bfff",
   "metadata": {},
   "outputs": [],
   "source": [
    "try:\n",
    "    df_hotels.to_sql('HOTELS', engine, index=False)\n",
    "# Unexpected error which not prevents to save data in DB\n",
    "except AttributeError:\n",
    "    pass"
   ]
  },
  {
   "attachments": {
    "96149ed0-1086-4a3a-85f4-7edc3e1fb232.png": {
     "image/png": "[encoded data removed]"
    }
   },
   "cell_type": "markdown",
   "id": "1cbe3a3a-6190-4214-8181-efc89674e62a",
   "metadata": {},
   "source": [
    "## ![image.png](attachment:96149ed0-1086-4a3a-85f4-7edc3e1fb232.png)Tables are created and fed in the DB."
   ]
  },
  {
   "cell_type": "markdown",
   "id": "d06208a4-c03d-4066-b5b0-8be5292217b4",
   "metadata": {},
   "source": [
    "## Let's test some query !"
   ]
  },
  {
   "cell_type": "code",
   "execution_count": 41,
   "id": "da3c0da4-dc68-4057-a6d1-24f5f62a4cac",
   "metadata": {},
   "outputs": [
    {
     "name": "stdout",
     "output_type": "stream",
     "text": [
      "\n",
      "# Get result of join between location_weather and hotels on location into a list (first row)\n",
      "('Mont Saint Michel', 54, 12, 'Mont Saint-Michel, Plateforme du Saut-\\xadGaultier, Le Mont-Saint-Michel, Avranches, Manche, Normandie, France métropolitaine, 50170, France', 48.6359541, -1.511459954959514, 'le coin des hirondelles', 9.7, \"Situé à Pontorson, l'établissement le coin des hirondelles propose un service de prêt de vélos, un jardin, une terrasse et une connexion Wi-Fi gratuite. \", 'https://www.booking.com/hotel/fr/le-coin-des-hirondelles.fr.html')\n",
      "=> Size of query result : 1005 rows\n",
      "\n",
      "# Get result of join between location_weather and hotels on location into a DataFrame (5 first rows)\n",
      "            location  pop  perceived_temperature  \\\n",
      "0  Mont Saint Michel   54                     12   \n",
      "1  Mont Saint Michel   54                     12   \n",
      "2  Mont Saint Michel   54                     12   \n",
      "3  Mont Saint Michel   54                     12   \n",
      "4  Mont Saint Michel   54                     12   \n",
      "\n",
      "                                        display_name        lat      lon  \\\n",
      "0  Mont Saint-Michel, Plateforme du Saut-­Gaultie...  48.635954 -1.51146   \n",
      "1  Mont Saint-Michel, Plateforme du Saut-­Gaultie...  48.635954 -1.51146   \n",
      "2  Mont Saint-Michel, Plateforme du Saut-­Gaultie...  48.635954 -1.51146   \n",
      "3  Mont Saint-Michel, Plateforme du Saut-­Gaultie...  48.635954 -1.51146   \n",
      "4  Mont Saint-Michel, Plateforme du Saut-­Gaultie...  48.635954 -1.51146   \n",
      "\n",
      "                                               title  score  \\\n",
      "0                            le coin des hirondelles    9.7   \n",
      "1                      L'ancien Presbytère d'Ardevon    9.6   \n",
      "2         Maison chaleureuse, spacieuse et familiale    9.5   \n",
      "3                 Gîtes le Mont Desclos Saint Michel    9.4   \n",
      "4  Résidence Beauvoir le Mont-Saint-Michel (9 gît...    9.3   \n",
      "\n",
      "                                                desc  \\\n",
      "0  Situé à Pontorson, l'établissement le coin des...   \n",
      "1  Situé à Pontorson, L'ancien Presbytère d'Ardev...   \n",
      "2  Dotée d'une connexion Wi-Fi gratuite, la Maiso...   \n",
      "3  Situé à Beauvoir, à 5,7 km de l'abbaye du Mont...   \n",
      "4  Installée à 4,4 km de l'abbaye du Mont-Saint-M...   \n",
      "\n",
      "                                                 url  \n",
      "0  https://www.booking.com/hotel/fr/le-coin-des-h...  \n",
      "1  https://www.booking.com/hotel/fr/l-39-ancien-p...  \n",
      "2  https://www.booking.com/hotel/fr/maison-chaleu...  \n",
      "3  https://www.booking.com/hotel/fr/gites-le-mont...  \n",
      "4  https://www.booking.com/hotel/fr/residence-bea...  \n",
      "=> Size of query result: 1005 rows\n"
     ]
    }
   ],
   "source": [
    "join_query = \"\"\"SELECT L.location, L.pop, L.perceived_temperature, L.display_name, L.lat, L.lon\n",
    ",  H.title, H.score, H.desc, H.url\n",
    "FROM LOCATIONS_WEATHER L \n",
    "INNER JOIN HOTELS H \n",
    "ON L.location=H.location\n",
    "\"\"\"\n",
    "# Get result of join between location_weather and hotels on location into a list\n",
    "print(\"\\n# Get result of join between location_weather and hotels on location into a list (first row)\")\n",
    "l_w = engine.execute(join_query).fetchall()\n",
    "print(l_w[0])\n",
    "print(f\"=> Size of query result : {len(l_w)} rows\")\n",
    "\n",
    "# Get result of join between location_weather and hotels on location into a DataFrame\n",
    "print(\"\\n# Get result of join between location_weather and hotels on location into a DataFrame (5 first rows)\")\n",
    "df_result = pd.read_sql(join_query, engine)\n",
    "print(df_result.head())    \n",
    "print(f\"=> Size of query result: {len(df_result.index)} rows\")"
   ]
  },
  {
   "attachments": {
    "96149ed0-1086-4a3a-85f4-7edc3e1fb232.png": {
     "image/png": "[encoded data removed]"
    }
   },
   "cell_type": "markdown",
   "id": "f7709003-820b-476b-9d11-9ed1e53e5d07",
   "metadata": {},
   "source": [
    "## ![image.png](attachment:96149ed0-1086-4a3a-85f4-7edc3e1fb232.png)The KAYAK DB is in place !"
   ]
  },
  {
   "cell_type": "code",
   "execution_count": null,
   "id": "7580a091-8ab3-4a93-adc6-709db94d9cba",
   "metadata": {},
   "outputs": [],
   "source": []
  }
 ],
 "metadata": {
  "kernelspec": {
   "display_name": "Python 3 (ipykernel)",
   "language": "python",
   "name": "python3"
  },
  "language_info": {
   "codemirror_mode": {
    "name": "ipython",
    "version": 3
   },
   "file_extension": ".py",
   "mimetype": "text/x-python",
   "name": "python",
   "nbconvert_exporter": "python",
   "pygments_lexer": "ipython3",
   "version": "3.10.7"
  }
 },
 "nbformat": 4,
 "nbformat_minor": 5
}
