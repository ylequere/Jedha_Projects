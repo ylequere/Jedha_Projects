{
 "cells": [
  {
   "cell_type": "markdown",
   "id": "771d31d1-3f78-449f-a2eb-fca89eb41323",
   "metadata": {},
   "source": [
    "# 1/3 First, we build the files to be uploaded at the end to S3\n",
    "## We will build the list of towns with associated weather.\n",
    "## And we will build the list of 30 best hotels for these towns."
   ]
  },
  {
   "cell_type": "code",
   "execution_count": 2,
   "id": "17be5a1a-ef82-40db-afd6-3af06993eda3",
   "metadata": {},
   "outputs": [
    {
     "name": "stdout",
     "output_type": "stream",
     "text": [
      "Building locations dataframe\n",
      "Location DF contains 35 items.\n"
     ]
    }
   ],
   "source": [
    "import pandas as pd\n",
    "\n",
    "locations = [\n",
    "\"Mont Saint Michel\",\n",
    "\"St Malo\",\n",
    "\"Bayeux\",\n",
    "\"Le Havre\",\n",
    "\"Rouen\",\n",
    "\"Paris\",\n",
    "\"Amiens\",\n",
    "\"Lille\",\n",
    "\"Strasbourg\",\n",
    "\"Chateau du Haut Koenigsbourg\",\n",
    "\"Colmar\",\n",
    "\"Eguisheim\",\n",
    "\"Besancon\",\n",
    "\"Dijon\",\n",
    "\"Annecy\",\n",
    "\"Grenoble\",\n",
    "\"Lyon\",\n",
    "\"Gorges du Verdon\",\n",
    "\"Bormes les Mimosas\",\n",
    "\"Cassis\",\n",
    "\"Marseille\",\n",
    "\"Aix en Provence\",\n",
    "\"Avignon\",\n",
    "\"Uzes\",\n",
    "\"Nimes\",\n",
    "\"Aigues Mortes\",\n",
    "\"Saintes Maries de la mer\",\n",
    "\"Collioure\",\n",
    "\"Carcassonne\",\n",
    "\"Ariege\",\n",
    "\"Toulouse\",\n",
    "\"Montauban\",\n",
    "\"Biarritz\",\n",
    "\"Bayonne\",\n",
    "\"La Rochelle\"\n",
    "]\n",
    "\n",
    "# Build locations dataframe\n",
    "print(\"Building locations dataframe\")\n",
    "df_locations = pd.DataFrame(data=locations, columns=['location'])\n",
    "print(f\"Location DF contains {len(df_locations.index)} items.\")"
   ]
  },
  {
   "cell_type": "code",
   "execution_count": 3,
   "id": "4b6ed9b9-507b-49dd-ac8f-900a18032dfb",
   "metadata": {},
   "outputs": [
    {
     "name": "stdout",
     "output_type": "stream",
     "text": [
      "\n",
      "Building GPS coordinates for all towns\n"
     ]
    },
    {
     "data": {
      "application/vnd.jupyter.widget-view+json": {
       "model_id": "cf15ac8f84794649a224385014db8b9e",
       "version_major": 2,
       "version_minor": 0
      },
      "text/plain": [
       "  0%|          | 0/35 [00:00<?, ?it/s]"
      ]
     },
     "metadata": {},
     "output_type": "display_data"
    }
   ],
   "source": [
    "# Buiding GPS coordinates\n",
    "import requests\n",
    "from tqdm.notebook import tqdm\n",
    "print(\"\\nBuilding GPS coordinates for all towns\")\n",
    "display_names = []\n",
    "lon = []\n",
    "lat = []\n",
    "for row in tqdm(df_locations.itertuples(), total=df_locations.shape[0]):\n",
    "    location = row.location.replace(' ', '+')\n",
    "    url = f\"https://nominatim.openstreetmap.org/?q={location}&country=France&format=json\"\n",
    "    r = requests.get(url)\n",
    "    if r.reason == 'OK':\n",
    "        r_json = r.json()\n",
    "        if r_json:\n",
    "            display_names.append(r_json[0]['display_name'])\n",
    "            lat.append(float(r_json[0]['lat']))\n",
    "            lon.append(float(r_json[0]['lon']))\n",
    "        else:\n",
    "            raise Exception(f'No openstreetmap json for {location} location')\n",
    "    else:\n",
    "        raise Exception(url, \"NOK !\")"
   ]
  },
  {
   "cell_type": "code",
   "execution_count": 5,
   "id": "ceed0341-76c5-42e3-b82f-3e263f4a74cc",
   "metadata": {},
   "outputs": [
    {
     "name": "stdout",
     "output_type": "stream",
     "text": [
      "            location                                       display_name  \\\n",
      "0  Mont Saint Michel  Mont Saint-Michel, Terrasse de l'Abside, Le Mo...   \n",
      "1            St Malo  Saint-Malo, Ille-et-Vilaine, Bretagne, France ...   \n",
      "2             Bayeux  Bayeux, Calvados, Normandie, France métropolit...   \n",
      "3           Le Havre  Le Havre, Seine-Maritime, Normandie, France mé...   \n",
      "4              Rouen  Rouen, Seine-Maritime, Normandie, France métro...   \n",
      "\n",
      "         lat       lon  \n",
      "0  48.635954 -1.511460  \n",
      "1  48.649518 -2.026041  \n",
      "2  49.276462 -0.702474  \n",
      "3  49.493898  0.107973  \n",
      "4  49.440459  1.093966  \n"
     ]
    }
   ],
   "source": [
    "# Adding GPS and display name to main Dataframe\n",
    "df_locations['display_name'] = display_names\n",
    "df_locations['lat'] = lat\n",
    "df_locations['lon'] = lon\n",
    "print(df_locations.head())"
   ]
  },
  {
   "attachments": {
    "223e17f3-83f1-4328-9f96-537af7f560bf.png": {
     "image/png": "[encoded data removed]"
    }
   },
   "cell_type": "markdown",
   "id": "ba2e1702-da4c-47b8-a5d2-fd6b77aa73bc",
   "metadata": {},
   "source": [
    "## ![image.png](attachment:223e17f3-83f1-4328-9f96-537af7f560bf.png)List of locations and associated GPS coordinates is created."
   ]
  },
  {
   "cell_type": "markdown",
   "id": "e31432f1-34bf-4676-b389-1bae6bc55832",
   "metadata": {},
   "source": [
    "## Getting the weather for those towns, helped by ther GPS coordinates"
   ]
  },
  {
   "cell_type": "code",
   "execution_count": 6,
   "id": "9c5d0405-c680-442d-9ac0-ae7f450e8638",
   "metadata": {},
   "outputs": [
    {
     "name": "stdout",
     "output_type": "stream",
     "text": [
      "\n",
      "Building weather dataframe\n"
     ]
    },
    {
     "data": {
      "application/vnd.jupyter.widget-view+json": {
       "model_id": "7cad8a754b2f4150af79b704701526c5",
       "version_major": 2,
       "version_minor": 0
      },
      "text/plain": [
       "  0%|          | 0/35 [00:00<?, ?it/s]"
      ]
     },
     "metadata": {},
     "output_type": "display_data"
    },
    {
     "name": "stdout",
     "output_type": "stream",
     "text": [
      "          location  pop  perceived_temperature\n",
      "0    Aigues Mortes   44                      6\n",
      "1  Aix en Provence   41                      7\n",
      "2           Amiens    4                      1\n",
      "3           Annecy    6                      5\n",
      "4           Ariege   42                     -4\n",
      "\n",
      "Weathers DF contains 35 items, with mean weather at noon (probability of precipitation & perceived temperature) of 5 next days.\n"
     ]
    }
   ],
   "source": [
    "# Building weather dataframe\n",
    "print(\"\\nBuilding weather dataframe\")\n",
    "df_weather = None\n",
    "for row in tqdm(df_locations.itertuples(), total=df_locations.shape[0]):\n",
    "    location = row.location\n",
    "    lon = row.lon\n",
    "    lat = row.lat\n",
    "\n",
    "    API_KEY = \"32c093b568434c56f5ee763fa5341101\"\n",
    "    url = f\"https://api.openweathermap.org/data/2.5/forecast?lat={lat}&lon={lon}&units=metric&lang=fr&appid={API_KEY}\"\n",
    "    r = requests.get(url)\n",
    "    if r.reason != 'OK':\n",
    "        raise Exception(url, \"NOK !\")\n",
    "        \n",
    "    r_json = r.json()\n",
    "    if not r_json:\n",
    "        raise Exception(f'No openweathermap json for {location} location')\n",
    "\n",
    "    df_local_weather = pd.json_normalize(r_json['list'])\n",
    "    # We keep only weather at noon, not every 3h\n",
    "    df_local_weather = df_local_weather[df_local_weather['dt_txt'].str.contains('12:00:00')]\n",
    "    # We remove unwanted columns\n",
    "    df_local_weather.drop(columns=['dt', 'weather', 'dt_txt', 'visibility', 'main.temp', 'main.temp_min', 'main.temp_max', 'main.pressure', 'main.sea_level', 'main.grnd_level', 'main.humidity',\n",
    "                             'main.temp_kf', 'clouds.all', 'wind.speed', 'wind.deg', 'wind.gust', 'sys.pod', 'description', 'rain.3h'], inplace=True, errors='ignore')\n",
    "    df_local_weather.rename(columns={'main.feels_like':'perceived_temperature'}, inplace = True)\n",
    "    # We add the location for local weather\n",
    "    df_local_weather['location'] = location\n",
    "    # Concatenation of the weather for all locations\n",
    "    df_weather = (df_local_weather if df_weather is None else pd.concat([df_weather, df_local_weather], ignore_index=True))\n",
    "\n",
    "df_weather = df_weather.groupby('location', as_index=False)[['pop', 'perceived_temperature']].mean()\n",
    "df_weather['pop'] = df_weather['pop'].apply(lambda x : int(round(x, 2)*100))\n",
    "df_weather['perceived_temperature'] = df_weather['perceived_temperature'].apply(lambda x : int(x))\n",
    "print(df_weather.head())\n",
    "print(f\"\\nWeathers DF contains {len(df_weather.index)} items, with mean weather at noon (probability of precipitation & perceived temperature) of 5 next days.\")"
   ]
  },
  {
   "cell_type": "code",
   "execution_count": 8,
   "id": "287a0ad6-149c-4c4f-8b78-d93d62d132d1",
   "metadata": {},
   "outputs": [
    {
     "name": "stdout",
     "output_type": "stream",
     "text": [
      "\n",
      "Merging locations and weathers\n",
      "          location  pop  perceived_temperature  \\\n",
      "0    Aigues Mortes   44                      6   \n",
      "1  Aix en Provence   41                      7   \n",
      "2           Amiens    4                      1   \n",
      "3           Annecy    6                      5   \n",
      "4           Ariege   42                     -4   \n",
      "\n",
      "                                        display_name        lat       lon  \n",
      "0  Aigues-Mortes, Nîmes, Gard, Occitanie, France ...  43.565823  4.191284  \n",
      "1  Aix-en-Provence, Bouches-du-Rhône, Provence-Al...  43.529842  5.447474  \n",
      "2  Amiens, Somme, Hauts-de-France, France métropo...  49.894171  2.295695  \n",
      "3  Annecy, Haute-Savoie, Auvergne-Rhône-Alpes, Fr...  45.899235  6.128885  \n",
      "4   Ariège, Occitanie, France métropolitaine, France  42.945537  1.406554  \n",
      "Merged DF contains 35 items, with mean weather at noon of 5 next days.\n"
     ]
    }
   ],
   "source": [
    "# Merging locations and weathers\n",
    "print(\"\\nMerging locations and weathers\")\n",
    "df_locations_weathers = pd.merge(df_weather, df_locations, on='location')\n",
    "# Saving as csv\n",
    "df_locations_weathers.to_csv(r'./csv/df_locations_weather.csv', index_label='Id', encoding='utf-8')\n",
    "print(df_locations_weathers.head())\n",
    "print(f\"Merged DF contains {len(df_locations_weathers.index)} items, with mean weather at noon of 5 next days.\")"
   ]
  },
  {
   "attachments": {
    "b3f9acbc-6f6f-49b4-95cd-d4c2c86cee25.png": {
     "image/png": "[encoded data removed]"
    }
   },
   "cell_type": "markdown",
   "id": "76157f11-8d4a-4f86-b28d-6d2dafef34c2",
   "metadata": {},
   "source": [
    "## ![image.png](attachment:b3f9acbc-6f6f-49b4-95cd-d4c2c86cee25.png)List of locations and associated weather is created. "
   ]
  },
  {
   "cell_type": "markdown",
   "id": "9061cf79-e47a-42e7-8c45-5ebb35a4c224",
   "metadata": {},
   "source": [
    "## Getting the best hotels dataframe by scraping booking.com"
   ]
  },
  {
   "cell_type": "code",
   "execution_count": 51,
   "id": "1f74e512-b3bd-44a6-b0a0-534372080892",
   "metadata": {},
   "outputs": [
    {
     "name": "stdout",
     "output_type": "stream",
     "text": [
      "\n",
      "Building hotels dataframe\n"
     ]
    },
    {
     "data": {
      "application/vnd.jupyter.widget-view+json": {
       "model_id": "d4665c40cf164baa8383bd47783c1ab6",
       "version_major": 2,
       "version_minor": 0
      },
      "text/plain": [
       "Locations:   0%|          | 0/35 [00:00<?, ?it/s]"
      ]
     },
     "metadata": {},
     "output_type": "display_data"
    },
    {
     "name": "stdout",
     "output_type": "stream",
     "text": [
      "\n",
      "Getting hotels for Location Mont Saint Michel on booking.com\n",
      "30 best hotels found !\n",
      "Getting hotels data for Mont Saint Michel location\n"
     ]
    },
    {
     "data": {
      "application/vnd.jupyter.widget-view+json": {
       "model_id": "92fbc21b8e40401dad7ea48cde677848",
       "version_major": 2,
       "version_minor": 0
      },
      "text/plain": [
       "Hotels:   0%|          | 0/30 [00:00<?, ?it/s]"
      ]
     },
     "metadata": {},
     "output_type": "display_data"
    },
    {
     "name": "stdout",
     "output_type": "stream",
     "text": [
      "\n",
      "Getting hotels for Location St Malo on booking.com\n",
      "30 best hotels found !\n",
      "Getting hotels data for St Malo location\n"
     ]
    },
    {
     "data": {
      "application/vnd.jupyter.widget-view+json": {
       "model_id": "30cae722138844ba8377791855965e81",
       "version_major": 2,
       "version_minor": 0
      },
      "text/plain": [
       "Hotels:   0%|          | 0/30 [00:00<?, ?it/s]"
      ]
     },
     "metadata": {},
     "output_type": "display_data"
    },
    {
     "name": "stdout",
     "output_type": "stream",
     "text": [
      "\n",
      "Getting hotels for Location Bayeux on booking.com\n",
      "30 best hotels found !\n",
      "Getting hotels data for Bayeux location\n"
     ]
    },
    {
     "data": {
      "application/vnd.jupyter.widget-view+json": {
       "model_id": "c0ccc565b6a34b8a98b39a80b282a999",
       "version_major": 2,
       "version_minor": 0
      },
      "text/plain": [
       "Hotels:   0%|          | 0/30 [00:00<?, ?it/s]"
      ]
     },
     "metadata": {},
     "output_type": "display_data"
    },
    {
     "name": "stdout",
     "output_type": "stream",
     "text": [
      "\n",
      "Getting hotels for Location Le Havre on booking.com\n",
      "30 best hotels found !\n",
      "Getting hotels data for Le Havre location\n"
     ]
    },
    {
     "data": {
      "application/vnd.jupyter.widget-view+json": {
       "model_id": "ec457fd01fff4601bac71c469c02eb64",
       "version_major": 2,
       "version_minor": 0
      },
      "text/plain": [
       "Hotels:   0%|          | 0/30 [00:00<?, ?it/s]"
      ]
     },
     "metadata": {},
     "output_type": "display_data"
    },
    {
     "name": "stdout",
     "output_type": "stream",
     "text": [
      "\n",
      "Getting hotels for Location Rouen on booking.com\n",
      "30 best hotels found !\n",
      "Getting hotels data for Rouen location\n"
     ]
    },
    {
     "data": {
      "application/vnd.jupyter.widget-view+json": {
       "model_id": "47c503a6ccdc48edbf04273a2f8304b9",
       "version_major": 2,
       "version_minor": 0
      },
      "text/plain": [
       "Hotels:   0%|          | 0/30 [00:00<?, ?it/s]"
      ]
     },
     "metadata": {},
     "output_type": "display_data"
    },
    {
     "name": "stdout",
     "output_type": "stream",
     "text": [
      "\n",
      "Getting hotels for Location Paris on booking.com\n",
      "30 best hotels found !\n",
      "Getting hotels data for Paris location\n"
     ]
    },
    {
     "data": {
      "application/vnd.jupyter.widget-view+json": {
       "model_id": "8d9572250e8445e9998b7a60c262dd27",
       "version_major": 2,
       "version_minor": 0
      },
      "text/plain": [
       "Hotels:   0%|          | 0/30 [00:00<?, ?it/s]"
      ]
     },
     "metadata": {},
     "output_type": "display_data"
    },
    {
     "name": "stdout",
     "output_type": "stream",
     "text": [
      "\n",
      "Getting hotels for Location Amiens on booking.com\n",
      "30 best hotels found !\n",
      "Getting hotels data for Amiens location\n"
     ]
    },
    {
     "data": {
      "application/vnd.jupyter.widget-view+json": {
       "model_id": "4b88974d93c44f23869615a2baa68088",
       "version_major": 2,
       "version_minor": 0
      },
      "text/plain": [
       "Hotels:   0%|          | 0/30 [00:00<?, ?it/s]"
      ]
     },
     "metadata": {},
     "output_type": "display_data"
    },
    {
     "name": "stdout",
     "output_type": "stream",
     "text": [
      "\n",
      "Getting hotels for Location Lille on booking.com\n",
      "30 best hotels found !\n",
      "Getting hotels data for Lille location\n"
     ]
    },
    {
     "data": {
      "application/vnd.jupyter.widget-view+json": {
       "model_id": "4fab00bed4f44cb18b9aa9a6f1d41e85",
       "version_major": 2,
       "version_minor": 0
      },
      "text/plain": [
       "Hotels:   0%|          | 0/30 [00:00<?, ?it/s]"
      ]
     },
     "metadata": {},
     "output_type": "display_data"
    },
    {
     "name": "stdout",
     "output_type": "stream",
     "text": [
      "\n",
      "Getting hotels for Location Strasbourg on booking.com\n",
      "30 best hotels found !\n",
      "Getting hotels data for Strasbourg location\n"
     ]
    },
    {
     "data": {
      "application/vnd.jupyter.widget-view+json": {
       "model_id": "2edeec1743d24c318f587095729eeb4a",
       "version_major": 2,
       "version_minor": 0
      },
      "text/plain": [
       "Hotels:   0%|          | 0/30 [00:00<?, ?it/s]"
      ]
     },
     "metadata": {},
     "output_type": "display_data"
    },
    {
     "name": "stdout",
     "output_type": "stream",
     "text": [
      "\n",
      "Getting hotels for Location Chateau du Haut Koenigsbourg on booking.com\n",
      "30 best hotels found !\n",
      "Getting hotels data for Chateau du Haut Koenigsbourg location\n"
     ]
    },
    {
     "data": {
      "application/vnd.jupyter.widget-view+json": {
       "model_id": "4b359aced1514955aa2cfb788d3850e0",
       "version_major": 2,
       "version_minor": 0
      },
      "text/plain": [
       "Hotels:   0%|          | 0/30 [00:00<?, ?it/s]"
      ]
     },
     "metadata": {},
     "output_type": "display_data"
    },
    {
     "name": "stdout",
     "output_type": "stream",
     "text": [
      "\n",
      "Getting hotels for Location Colmar on booking.com\n",
      "30 best hotels found !\n",
      "Getting hotels data for Colmar location\n"
     ]
    },
    {
     "data": {
      "application/vnd.jupyter.widget-view+json": {
       "model_id": "7419f458fc2f4a59b26ee25a5c14b33a",
       "version_major": 2,
       "version_minor": 0
      },
      "text/plain": [
       "Hotels:   0%|          | 0/30 [00:00<?, ?it/s]"
      ]
     },
     "metadata": {},
     "output_type": "display_data"
    },
    {
     "name": "stdout",
     "output_type": "stream",
     "text": [
      "\n",
      "Getting hotels for Location Eguisheim on booking.com\n",
      "30 best hotels found !\n",
      "Getting hotels data for Eguisheim location\n"
     ]
    },
    {
     "data": {
      "application/vnd.jupyter.widget-view+json": {
       "model_id": "a3f9a86d83204bb090798961111ea285",
       "version_major": 2,
       "version_minor": 0
      },
      "text/plain": [
       "Hotels:   0%|          | 0/30 [00:00<?, ?it/s]"
      ]
     },
     "metadata": {},
     "output_type": "display_data"
    },
    {
     "name": "stdout",
     "output_type": "stream",
     "text": [
      "\n",
      "Getting hotels for Location Besancon on booking.com\n",
      "30 best hotels found !\n",
      "Getting hotels data for Besancon location\n"
     ]
    },
    {
     "data": {
      "application/vnd.jupyter.widget-view+json": {
       "model_id": "043804f2ca5b418ba6f8ea0a6430592f",
       "version_major": 2,
       "version_minor": 0
      },
      "text/plain": [
       "Hotels:   0%|          | 0/30 [00:00<?, ?it/s]"
      ]
     },
     "metadata": {},
     "output_type": "display_data"
    },
    {
     "name": "stdout",
     "output_type": "stream",
     "text": [
      "\n",
      "Getting hotels for Location Dijon on booking.com\n",
      "30 best hotels found !\n",
      "Getting hotels data for Dijon location\n"
     ]
    },
    {
     "data": {
      "application/vnd.jupyter.widget-view+json": {
       "model_id": "5ecdad2d7c8d44fcbc8affdcf9a6e800",
       "version_major": 2,
       "version_minor": 0
      },
      "text/plain": [
       "Hotels:   0%|          | 0/30 [00:00<?, ?it/s]"
      ]
     },
     "metadata": {},
     "output_type": "display_data"
    },
    {
     "name": "stdout",
     "output_type": "stream",
     "text": [
      "\n",
      "Getting hotels for Location Annecy on booking.com\n",
      "30 best hotels found !\n",
      "Getting hotels data for Annecy location\n"
     ]
    },
    {
     "data": {
      "application/vnd.jupyter.widget-view+json": {
       "model_id": "911446bdd3df4ea49d41df15b76b5bd7",
       "version_major": 2,
       "version_minor": 0
      },
      "text/plain": [
       "Hotels:   0%|          | 0/30 [00:00<?, ?it/s]"
      ]
     },
     "metadata": {},
     "output_type": "display_data"
    },
    {
     "name": "stdout",
     "output_type": "stream",
     "text": [
      "\n",
      "Getting hotels for Location Grenoble on booking.com\n",
      "30 best hotels found !\n",
      "Getting hotels data for Grenoble location\n"
     ]
    },
    {
     "data": {
      "application/vnd.jupyter.widget-view+json": {
       "model_id": "d47436719509432b8f469d391d13edfc",
       "version_major": 2,
       "version_minor": 0
      },
      "text/plain": [
       "Hotels:   0%|          | 0/30 [00:00<?, ?it/s]"
      ]
     },
     "metadata": {},
     "output_type": "display_data"
    },
    {
     "name": "stdout",
     "output_type": "stream",
     "text": [
      "\n",
      "Getting hotels for Location Lyon on booking.com\n",
      "30 best hotels found !\n",
      "Getting hotels data for Lyon location\n"
     ]
    },
    {
     "data": {
      "application/vnd.jupyter.widget-view+json": {
       "model_id": "6286e12f092649c59bb7af1b31d6e858",
       "version_major": 2,
       "version_minor": 0
      },
      "text/plain": [
       "Hotels:   0%|          | 0/30 [00:00<?, ?it/s]"
      ]
     },
     "metadata": {},
     "output_type": "display_data"
    },
    {
     "name": "stdout",
     "output_type": "stream",
     "text": [
      "\n",
      "Getting hotels for Location Gorges du Verdon on booking.com\n",
      "11 best hotels found !\n",
      "Getting hotels data for Gorges du Verdon location\n"
     ]
    },
    {
     "data": {
      "application/vnd.jupyter.widget-view+json": {
       "model_id": "7965d0ce9f204dc99d8b9613596cf7d4",
       "version_major": 2,
       "version_minor": 0
      },
      "text/plain": [
       "Hotels:   0%|          | 0/11 [00:00<?, ?it/s]"
      ]
     },
     "metadata": {},
     "output_type": "display_data"
    },
    {
     "name": "stdout",
     "output_type": "stream",
     "text": [
      "\n",
      "Getting hotels for Location Bormes les Mimosas on booking.com\n",
      "30 best hotels found !\n",
      "Getting hotels data for Bormes les Mimosas location\n"
     ]
    },
    {
     "data": {
      "application/vnd.jupyter.widget-view+json": {
       "model_id": "a28de993b388416095b95132e4004304",
       "version_major": 2,
       "version_minor": 0
      },
      "text/plain": [
       "Hotels:   0%|          | 0/30 [00:00<?, ?it/s]"
      ]
     },
     "metadata": {},
     "output_type": "display_data"
    },
    {
     "name": "stdout",
     "output_type": "stream",
     "text": [
      "\n",
      "Getting hotels for Location Cassis on booking.com\n",
      "30 best hotels found !\n",
      "Getting hotels data for Cassis location\n"
     ]
    },
    {
     "data": {
      "application/vnd.jupyter.widget-view+json": {
       "model_id": "75efa71038e2496f90d96c767cc8fcc8",
       "version_major": 2,
       "version_minor": 0
      },
      "text/plain": [
       "Hotels:   0%|          | 0/30 [00:00<?, ?it/s]"
      ]
     },
     "metadata": {},
     "output_type": "display_data"
    },
    {
     "name": "stdout",
     "output_type": "stream",
     "text": [
      "\n",
      "Getting hotels for Location Marseille on booking.com\n",
      "30 best hotels found !\n",
      "Getting hotels data for Marseille location\n"
     ]
    },
    {
     "data": {
      "application/vnd.jupyter.widget-view+json": {
       "model_id": "67ad8e5b928344a9b8b453ab151ef4f1",
       "version_major": 2,
       "version_minor": 0
      },
      "text/plain": [
       "Hotels:   0%|          | 0/30 [00:00<?, ?it/s]"
      ]
     },
     "metadata": {},
     "output_type": "display_data"
    },
    {
     "name": "stdout",
     "output_type": "stream",
     "text": [
      "\n",
      "Getting hotels for Location Aix en Provence on booking.com\n",
      "30 best hotels found !\n",
      "Getting hotels data for Aix en Provence location\n"
     ]
    },
    {
     "data": {
      "application/vnd.jupyter.widget-view+json": {
       "model_id": "69c1456971a24a47a801b512331478b8",
       "version_major": 2,
       "version_minor": 0
      },
      "text/plain": [
       "Hotels:   0%|          | 0/30 [00:00<?, ?it/s]"
      ]
     },
     "metadata": {},
     "output_type": "display_data"
    },
    {
     "name": "stdout",
     "output_type": "stream",
     "text": [
      "\n",
      "Getting hotels for Location Avignon on booking.com\n",
      "30 best hotels found !\n",
      "Getting hotels data for Avignon location\n"
     ]
    },
    {
     "data": {
      "application/vnd.jupyter.widget-view+json": {
       "model_id": "fdccd2e9ab6549f0a8943e0930fe72eb",
       "version_major": 2,
       "version_minor": 0
      },
      "text/plain": [
       "Hotels:   0%|          | 0/30 [00:00<?, ?it/s]"
      ]
     },
     "metadata": {},
     "output_type": "display_data"
    },
    {
     "name": "stdout",
     "output_type": "stream",
     "text": [
      "\n",
      "Getting hotels for Location Uzes on booking.com\n",
      "30 best hotels found !\n",
      "Getting hotels data for Uzes location\n"
     ]
    },
    {
     "data": {
      "application/vnd.jupyter.widget-view+json": {
       "model_id": "851f955b2c2a4c5d9675d1d4c0f206a7",
       "version_major": 2,
       "version_minor": 0
      },
      "text/plain": [
       "Hotels:   0%|          | 0/30 [00:00<?, ?it/s]"
      ]
     },
     "metadata": {},
     "output_type": "display_data"
    },
    {
     "name": "stdout",
     "output_type": "stream",
     "text": [
      "\n",
      "Getting hotels for Location Nimes on booking.com\n",
      "30 best hotels found !\n",
      "Getting hotels data for Nimes location\n"
     ]
    },
    {
     "data": {
      "application/vnd.jupyter.widget-view+json": {
       "model_id": "5edc2d1b49324eaab80b15dc287bd581",
       "version_major": 2,
       "version_minor": 0
      },
      "text/plain": [
       "Hotels:   0%|          | 0/30 [00:00<?, ?it/s]"
      ]
     },
     "metadata": {},
     "output_type": "display_data"
    },
    {
     "name": "stdout",
     "output_type": "stream",
     "text": [
      "\n",
      "Getting hotels for Location Aigues Mortes on booking.com\n",
      "30 best hotels found !\n",
      "Getting hotels data for Aigues Mortes location\n"
     ]
    },
    {
     "data": {
      "application/vnd.jupyter.widget-view+json": {
       "model_id": "b8261c4558c4482995438b1cd26295ca",
       "version_major": 2,
       "version_minor": 0
      },
      "text/plain": [
       "Hotels:   0%|          | 0/30 [00:00<?, ?it/s]"
      ]
     },
     "metadata": {},
     "output_type": "display_data"
    },
    {
     "name": "stdout",
     "output_type": "stream",
     "text": [
      "\n",
      "Getting hotels for Location Saintes Maries de la mer on booking.com\n",
      "30 best hotels found !\n",
      "Getting hotels data for Saintes Maries de la mer location\n"
     ]
    },
    {
     "data": {
      "application/vnd.jupyter.widget-view+json": {
       "model_id": "4afd9bb7e29f447091429cb40a7ccca3",
       "version_major": 2,
       "version_minor": 0
      },
      "text/plain": [
       "Hotels:   0%|          | 0/30 [00:00<?, ?it/s]"
      ]
     },
     "metadata": {},
     "output_type": "display_data"
    },
    {
     "name": "stdout",
     "output_type": "stream",
     "text": [
      "\n",
      "Getting hotels for Location Collioure on booking.com\n",
      "30 best hotels found !\n",
      "Getting hotels data for Collioure location\n"
     ]
    },
    {
     "data": {
      "application/vnd.jupyter.widget-view+json": {
       "model_id": "117c017bc9c54f06876921b61c650355",
       "version_major": 2,
       "version_minor": 0
      },
      "text/plain": [
       "Hotels:   0%|          | 0/30 [00:00<?, ?it/s]"
      ]
     },
     "metadata": {},
     "output_type": "display_data"
    },
    {
     "name": "stdout",
     "output_type": "stream",
     "text": [
      "\n",
      "Getting hotels for Location Carcassonne on booking.com\n",
      "30 best hotels found !\n",
      "Getting hotels data for Carcassonne location\n"
     ]
    },
    {
     "data": {
      "application/vnd.jupyter.widget-view+json": {
       "model_id": "9f833dc707d14e85865ecb12233d3e6d",
       "version_major": 2,
       "version_minor": 0
      },
      "text/plain": [
       "Hotels:   0%|          | 0/30 [00:00<?, ?it/s]"
      ]
     },
     "metadata": {},
     "output_type": "display_data"
    },
    {
     "name": "stdout",
     "output_type": "stream",
     "text": [
      "\n",
      "Getting hotels for Location Ariege on booking.com\n",
      "4 best hotels found !\n",
      "Getting hotels data for Ariege location\n"
     ]
    },
    {
     "data": {
      "application/vnd.jupyter.widget-view+json": {
       "model_id": "f2fbf80d84344f689d55f061e485824d",
       "version_major": 2,
       "version_minor": 0
      },
      "text/plain": [
       "Hotels:   0%|          | 0/4 [00:00<?, ?it/s]"
      ]
     },
     "metadata": {},
     "output_type": "display_data"
    },
    {
     "name": "stdout",
     "output_type": "stream",
     "text": [
      "\n",
      "Getting hotels for Location Toulouse on booking.com\n",
      "30 best hotels found !\n",
      "Getting hotels data for Toulouse location\n"
     ]
    },
    {
     "data": {
      "application/vnd.jupyter.widget-view+json": {
       "model_id": "606bbf91e6ff42caae029d53ce39f03f",
       "version_major": 2,
       "version_minor": 0
      },
      "text/plain": [
       "Hotels:   0%|          | 0/30 [00:00<?, ?it/s]"
      ]
     },
     "metadata": {},
     "output_type": "display_data"
    },
    {
     "name": "stdout",
     "output_type": "stream",
     "text": [
      "\n",
      "Getting hotels for Location Montauban on booking.com\n",
      "30 best hotels found !\n",
      "Getting hotels data for Montauban location\n"
     ]
    },
    {
     "data": {
      "application/vnd.jupyter.widget-view+json": {
       "model_id": "eee7f3a09dd245daae01041c82944047",
       "version_major": 2,
       "version_minor": 0
      },
      "text/plain": [
       "Hotels:   0%|          | 0/30 [00:00<?, ?it/s]"
      ]
     },
     "metadata": {},
     "output_type": "display_data"
    },
    {
     "name": "stdout",
     "output_type": "stream",
     "text": [
      "\n",
      "Getting hotels for Location Biarritz on booking.com\n",
      "30 best hotels found !\n",
      "Getting hotels data for Biarritz location\n"
     ]
    },
    {
     "data": {
      "application/vnd.jupyter.widget-view+json": {
       "model_id": "449188e0ec464c94a8d5f18a36c274f5",
       "version_major": 2,
       "version_minor": 0
      },
      "text/plain": [
       "Hotels:   0%|          | 0/30 [00:00<?, ?it/s]"
      ]
     },
     "metadata": {},
     "output_type": "display_data"
    },
    {
     "name": "stdout",
     "output_type": "stream",
     "text": [
      "\n",
      "Getting hotels for Location Bayonne on booking.com\n",
      "30 best hotels found !\n",
      "Getting hotels data for Bayonne location\n"
     ]
    },
    {
     "data": {
      "application/vnd.jupyter.widget-view+json": {
       "model_id": "310cf696e4e04f339d66dbf607b60632",
       "version_major": 2,
       "version_minor": 0
      },
      "text/plain": [
       "Hotels:   0%|          | 0/30 [00:00<?, ?it/s]"
      ]
     },
     "metadata": {},
     "output_type": "display_data"
    },
    {
     "name": "stdout",
     "output_type": "stream",
     "text": [
      "\n",
      "Getting hotels for Location La Rochelle on booking.com\n",
      "30 best hotels found !\n",
      "Getting hotels data for La Rochelle location\n"
     ]
    },
    {
     "data": {
      "application/vnd.jupyter.widget-view+json": {
       "model_id": "e19a1c280676410099d717053f912105",
       "version_major": 2,
       "version_minor": 0
      },
      "text/plain": [
       "Hotels:   0%|          | 0/30 [00:00<?, ?it/s]"
      ]
     },
     "metadata": {},
     "output_type": "display_data"
    }
   ],
   "source": [
    "# Building hotels dataframe by scraping booking.com\n",
    "from bs4 import BeautifulSoup\n",
    "print(\"\\nBuilding hotels dataframe\")\n",
    "df_hotels = None\n",
    "session = requests.Session()\n",
    "for row in tqdm(df_locations.itertuples(), total=df_locations.shape[0], desc='Locations'):\n",
    "    location = row.location\n",
    "\n",
    "    print(f\"\\nGetting hotels for Location {location} on booking.com\")\n",
    "    lon = row.lon\n",
    "    lat = row.lat    \n",
    "    url = f\"https://www.booking.com/searchresults.fr.html?place_id_lat={lat}&place_id_lon={lon}&order=score&nflt=distance%3D5000\"\n",
    "    \n",
    "    r = session.get(url, headers={\"Accept-Language\" : \"fr,en-US;q=0.7,en;q=0.3\", \"User-Agent\" : \"Mozilla/5.0 (Windows NT 10.0; Win64; x64; rv:106.0) Gecko/20100101 Firefox/106.0)\"})\n",
    "    if r.reason != 'OK':\n",
    "        raise Exception(url, \"NOK !\")\n",
    "    soup = BeautifulSoup(r.text, features=\"lxml\")\n",
    "    \n",
    "    titles = []\n",
    "    for m in soup.findAll(\"div\", class_=\"fcab3ed991 a23c043802\"):\n",
    "        titles.append(m.text)\n",
    "        \n",
    "    if titles == []:\n",
    "        raise Exception(f'titles not found for {location} location')\n",
    "    \n",
    "    scores = []\n",
    "    for m in soup.findAll(\"div\", class_=\"b5cd09854e d10a6220b4\"):\n",
    "        scores.append(float(m.text.replace(',','.')))\n",
    "\n",
    "    if scores == []:\n",
    "        raise Exception(f'scores not found for {location} location')\n",
    "        \n",
    "    # Complete missing scores with null value (no score hotels are listed at the end)\n",
    "    for i in range(len(titles) - len(scores)):\n",
    "        scores.append(0)    \n",
    "    \n",
    "    urls_hotels = []\n",
    "    for m in soup.findAll(\"a\", class_=\"e13098a59f\"):\n",
    "        urls_hotels.append(m.attrs['href'].split('?')[0])\n",
    "\n",
    "    if urls_hotels == []:\n",
    "        raise Exception(f'urls hotels not found for {location} location')\n",
    "    \n",
    "    desc = []\n",
    "    for m in soup.findAll(\"div\", class_=\"a1b3f50dcd\"):\n",
    "        n = m.findChild(\"div\", class_=\"d8eab2cf7f\", recursive=False)\n",
    "        if n:\n",
    "            desc.append(n.text)\n",
    "\n",
    "    if desc == []:\n",
    "        raise Exception(f'desc not found for {location} location')\n",
    "    \n",
    "    gps = []\n",
    "    print(f\"{len(urls_hotels)} best hotels found !\")\n",
    "    print(f\"Getting hotels data for {location} location\")\n",
    "    for url_hotel in tqdm(urls_hotels, desc='Hotels'):\n",
    "        r = session.get(url_hotel, headers={\"Accept-Language\" : \"fr,en-US;q=0.7,en;q=0.3\", \"User-Agent\" : \"Mozilla/5.0 (Windows NT 10.0; Win64; x64; rv:106.0) Gecko/20100101 Firefox/106.0)\"})\n",
    "        soup = BeautifulSoup(r.text, features=\"lxml\")\n",
    "        latlng = soup.find(\"a\", id=\"hotel_address\").attrs['data-atlas-latlng']\n",
    "        gps.append({'lat' : float(latlng.split(',')[0]), 'lon' : float(latlng.split(',')[1])})\n",
    "\n",
    "    if gps == []:\n",
    "        raise Exception(f'GPS not found for {location} location')\n",
    "\n",
    "    df_local_hotel = pd.DataFrame(data={'title':titles, 'score':scores, 'desc':desc, 'url':urls_hotels, 'lat':[x ['lat'] for x in gps], 'lon':[x ['lon'] for x in gps]})\n",
    "    df_local_hotel['location'] = location\n",
    "\n",
    "    # Concatenation of the weather for all locations\n",
    "    df_hotels = (df_local_hotel if df_hotels is None else pd.concat([df_hotels, df_local_hotel], ignore_index=True))"
   ]
  },
  {
   "cell_type": "code",
   "execution_count": 52,
   "id": "883e3999-970d-4ccc-8ae0-f83fe0ecdda8",
   "metadata": {},
   "outputs": [
    {
     "data": {
      "text/html": [
       "<div>\n",
       "<style scoped>\n",
       "    .dataframe tbody tr th:only-of-type {\n",
       "        vertical-align: middle;\n",
       "    }\n",
       "\n",
       "    .dataframe tbody tr th {\n",
       "        vertical-align: top;\n",
       "    }\n",
       "\n",
       "    .dataframe thead th {\n",
       "        text-align: right;\n",
       "    }\n",
       "</style>\n",
       "<table border=\"1\" class=\"dataframe\">\n",
       "  <thead>\n",
       "    <tr style=\"text-align: right;\">\n",
       "      <th></th>\n",
       "      <th>title</th>\n",
       "      <th>score</th>\n",
       "      <th>desc</th>\n",
       "      <th>url</th>\n",
       "      <th>lat</th>\n",
       "      <th>lon</th>\n",
       "      <th>location</th>\n",
       "    </tr>\n",
       "  </thead>\n",
       "  <tbody>\n",
       "    <tr>\n",
       "      <th>0</th>\n",
       "      <td>le coin des hirondelles</td>\n",
       "      <td>9.7</td>\n",
       "      <td>Situé à Pontorson, l'établissement le coin des...</td>\n",
       "      <td>https://www.booking.com/hotel/fr/le-coin-des-h...</td>\n",
       "      <td>48.602864</td>\n",
       "      <td>-1.474069</td>\n",
       "      <td>Mont Saint Michel</td>\n",
       "    </tr>\n",
       "    <tr>\n",
       "      <th>1</th>\n",
       "      <td>L'ancien Presbytère d'Ardevon</td>\n",
       "      <td>9.6</td>\n",
       "      <td>Situé à Pontorson, L'ancien Presbytère d'Ardev...</td>\n",
       "      <td>https://www.booking.com/hotel/fr/l-39-ancien-p...</td>\n",
       "      <td>48.603324</td>\n",
       "      <td>-1.476397</td>\n",
       "      <td>Mont Saint Michel</td>\n",
       "    </tr>\n",
       "    <tr>\n",
       "      <th>2</th>\n",
       "      <td>Maison chaleureuse, spacieuse et familiale</td>\n",
       "      <td>9.5</td>\n",
       "      <td>Dotée d'une connexion Wi-Fi gratuite, la Maiso...</td>\n",
       "      <td>https://www.booking.com/hotel/fr/maison-chaleu...</td>\n",
       "      <td>48.596577</td>\n",
       "      <td>-1.505204</td>\n",
       "      <td>Mont Saint Michel</td>\n",
       "    </tr>\n",
       "    <tr>\n",
       "      <th>3</th>\n",
       "      <td>Gîtes le Mont Desclos Saint Michel</td>\n",
       "      <td>9.4</td>\n",
       "      <td>Situé à Beauvoir, à 5,7 km de l'abbaye du Mont...</td>\n",
       "      <td>https://www.booking.com/hotel/fr/gites-le-mont...</td>\n",
       "      <td>48.596656</td>\n",
       "      <td>-1.504449</td>\n",
       "      <td>Mont Saint Michel</td>\n",
       "    </tr>\n",
       "    <tr>\n",
       "      <th>4</th>\n",
       "      <td>Résidence Beauvoir le Mont-Saint-Michel (9 gît...</td>\n",
       "      <td>9.3</td>\n",
       "      <td>Installée à 4,4 km de l'abbaye du Mont-Saint-M...</td>\n",
       "      <td>https://www.booking.com/hotel/fr/residence-bea...</td>\n",
       "      <td>48.597878</td>\n",
       "      <td>-1.508419</td>\n",
       "      <td>Mont Saint Michel</td>\n",
       "    </tr>\n",
       "    <tr>\n",
       "      <th>5</th>\n",
       "      <td>Chambres d'Hôtes Les Vieilles Digues</td>\n",
       "      <td>9.3</td>\n",
       "      <td>Occupant une maison bretonne restaurée, l'étab...</td>\n",
       "      <td>https://www.booking.com/hotel/fr/chambres-d-ha...</td>\n",
       "      <td>48.604188</td>\n",
       "      <td>-1.511599</td>\n",
       "      <td>Mont Saint Michel</td>\n",
       "    </tr>\n",
       "    <tr>\n",
       "      <th>6</th>\n",
       "      <td>Maison proche Mont Saint Michel</td>\n",
       "      <td>9.3</td>\n",
       "      <td>À moins de 23 km de Scriptorial d'Avranches, m...</td>\n",
       "      <td>https://www.booking.com/hotel/fr/maison-proche...</td>\n",
       "      <td>48.597071</td>\n",
       "      <td>-1.504222</td>\n",
       "      <td>Mont Saint Michel</td>\n",
       "    </tr>\n",
       "    <tr>\n",
       "      <th>7</th>\n",
       "      <td>Gites Bellevue</td>\n",
       "      <td>9.3</td>\n",
       "      <td>Situé à seulement 2 km du célèbre Mont-Saint-M...</td>\n",
       "      <td>https://www.booking.com/hotel/fr/gites-bellevu...</td>\n",
       "      <td>48.607880</td>\n",
       "      <td>-1.517224</td>\n",
       "      <td>Mont Saint Michel</td>\n",
       "    </tr>\n",
       "    <tr>\n",
       "      <th>8</th>\n",
       "      <td>Etoile des Grèves</td>\n",
       "      <td>9.3</td>\n",
       "      <td>Situé à 8,1 km de l'abbaye du Mont-Saint-Miche...</td>\n",
       "      <td>https://www.booking.com/hotel/fr/etoile-des-gr...</td>\n",
       "      <td>48.615509</td>\n",
       "      <td>-1.491524</td>\n",
       "      <td>Mont Saint Michel</td>\n",
       "    </tr>\n",
       "    <tr>\n",
       "      <th>9</th>\n",
       "      <td>La Jacotière</td>\n",
       "      <td>9.3</td>\n",
       "      <td>Implantée à Ardevon, la maison d'hôtes La Jaco...</td>\n",
       "      <td>https://www.booking.com/hotel/fr/la-jacotia-re...</td>\n",
       "      <td>48.614114</td>\n",
       "      <td>-1.504314</td>\n",
       "      <td>Mont Saint Michel</td>\n",
       "    </tr>\n",
       "    <tr>\n",
       "      <th>10</th>\n",
       "      <td>Maison au pied du Mont Saint Michel</td>\n",
       "      <td>9.2</td>\n",
       "      <td>Offrant une vue sur le jardin, la Maison au pi...</td>\n",
       "      <td>https://www.booking.com/hotel/fr/maison-au-pie...</td>\n",
       "      <td>48.612674</td>\n",
       "      <td>-1.485531</td>\n",
       "      <td>Mont Saint Michel</td>\n",
       "    </tr>\n",
       "    <tr>\n",
       "      <th>11</th>\n",
       "      <td>Vent des Grèves</td>\n",
       "      <td>9.2</td>\n",
       "      <td>Offrant une vue sur le jardin, le Vent des Grè...</td>\n",
       "      <td>https://www.booking.com/hotel/fr/vent-des-grev...</td>\n",
       "      <td>48.615403</td>\n",
       "      <td>-1.491440</td>\n",
       "      <td>Mont Saint Michel</td>\n",
       "    </tr>\n",
       "    <tr>\n",
       "      <th>12</th>\n",
       "      <td>Au Mont Chez Nous Jaccuzi et Sauna</td>\n",
       "      <td>9.2</td>\n",
       "      <td>Situé à Pontorson, à 8,6 km de l'abbaye du Mon...</td>\n",
       "      <td>https://www.booking.com/hotel/fr/26-route-de-l...</td>\n",
       "      <td>48.613455</td>\n",
       "      <td>-1.485872</td>\n",
       "      <td>Mont Saint Michel</td>\n",
       "    </tr>\n",
       "    <tr>\n",
       "      <th>13</th>\n",
       "      <td>Le Goeland</td>\n",
       "      <td>9.1</td>\n",
       "      <td>Le Goeland est situé à Beauvoir, à 23 km du Sc...</td>\n",
       "      <td>https://www.booking.com/hotel/fr/le-goeland-be...</td>\n",
       "      <td>48.597503</td>\n",
       "      <td>-1.504173</td>\n",
       "      <td>Mont Saint Michel</td>\n",
       "    </tr>\n",
       "    <tr>\n",
       "      <th>14</th>\n",
       "      <td>La Greve Saint Michel</td>\n",
       "      <td>9.0</td>\n",
       "      <td>Situé à Beauvoir, à 5 km de l'abbaye du Mont-S...</td>\n",
       "      <td>https://www.booking.com/hotel/fr/la-greve-sain...</td>\n",
       "      <td>48.597758</td>\n",
       "      <td>-1.512284</td>\n",
       "      <td>Mont Saint Michel</td>\n",
       "    </tr>\n",
       "    <tr>\n",
       "      <th>15</th>\n",
       "      <td>A L'Ombre du Mont St Michel</td>\n",
       "      <td>8.9</td>\n",
       "      <td>Dotée d'une piscine extérieure et d'un jardin,...</td>\n",
       "      <td>https://www.booking.com/hotel/fr/a-l-ombre-du-...</td>\n",
       "      <td>48.615914</td>\n",
       "      <td>-1.465602</td>\n",
       "      <td>Mont Saint Michel</td>\n",
       "    </tr>\n",
       "    <tr>\n",
       "      <th>16</th>\n",
       "      <td>Gites les 2 Clos au pied du Mont</td>\n",
       "      <td>8.9</td>\n",
       "      <td>Gites les 2 Clos au pied du Mont features acco...</td>\n",
       "      <td>https://www.booking.com/hotel/fr/les-deux-clos...</td>\n",
       "      <td>48.613966</td>\n",
       "      <td>-1.485792</td>\n",
       "      <td>Mont Saint Michel</td>\n",
       "    </tr>\n",
       "    <tr>\n",
       "      <th>17</th>\n",
       "      <td>Mon Saint Michel</td>\n",
       "      <td>8.8</td>\n",
       "      <td>Situé à Ardevon, le Mon Saint Michel propose u...</td>\n",
       "      <td>https://www.booking.com/hotel/fr/mon-saint-mic...</td>\n",
       "      <td>48.613627</td>\n",
       "      <td>-1.485791</td>\n",
       "      <td>Mont Saint Michel</td>\n",
       "    </tr>\n",
       "    <tr>\n",
       "      <th>18</th>\n",
       "      <td>L'Hirondelle</td>\n",
       "      <td>8.8</td>\n",
       "      <td>La maison de vacances L'Hirondelle, située à P...</td>\n",
       "      <td>https://www.booking.com/hotel/fr/l-39-hirondel...</td>\n",
       "      <td>48.615795</td>\n",
       "      <td>-1.488712</td>\n",
       "      <td>Mont Saint Michel</td>\n",
       "    </tr>\n",
       "    <tr>\n",
       "      <th>19</th>\n",
       "      <td>La Mouette</td>\n",
       "      <td>8.7</td>\n",
       "      <td>La Mouette est située à Beauvoir, à 23 km du S...</td>\n",
       "      <td>https://www.booking.com/hotel/fr/la-mouette-be...</td>\n",
       "      <td>48.597304</td>\n",
       "      <td>-1.504539</td>\n",
       "      <td>Mont Saint Michel</td>\n",
       "    </tr>\n",
       "  </tbody>\n",
       "</table>\n",
       "</div>"
      ],
      "text/plain": [
       "                                                title  score                                               desc                                                url        lat       lon  \\\n",
       "0                             le coin des hirondelles    9.7  Situé à Pontorson, l'établissement le coin des...  https://www.booking.com/hotel/fr/le-coin-des-h...  48.602864 -1.474069   \n",
       "1                       L'ancien Presbytère d'Ardevon    9.6  Situé à Pontorson, L'ancien Presbytère d'Ardev...  https://www.booking.com/hotel/fr/l-39-ancien-p...  48.603324 -1.476397   \n",
       "2          Maison chaleureuse, spacieuse et familiale    9.5  Dotée d'une connexion Wi-Fi gratuite, la Maiso...  https://www.booking.com/hotel/fr/maison-chaleu...  48.596577 -1.505204   \n",
       "3                  Gîtes le Mont Desclos Saint Michel    9.4  Situé à Beauvoir, à 5,7 km de l'abbaye du Mont...  https://www.booking.com/hotel/fr/gites-le-mont...  48.596656 -1.504449   \n",
       "4   Résidence Beauvoir le Mont-Saint-Michel (9 gît...    9.3  Installée à 4,4 km de l'abbaye du Mont-Saint-M...  https://www.booking.com/hotel/fr/residence-bea...  48.597878 -1.508419   \n",
       "5                Chambres d'Hôtes Les Vieilles Digues    9.3  Occupant une maison bretonne restaurée, l'étab...  https://www.booking.com/hotel/fr/chambres-d-ha...  48.604188 -1.511599   \n",
       "6                     Maison proche Mont Saint Michel    9.3  À moins de 23 km de Scriptorial d'Avranches, m...  https://www.booking.com/hotel/fr/maison-proche...  48.597071 -1.504222   \n",
       "7                                      Gites Bellevue    9.3  Situé à seulement 2 km du célèbre Mont-Saint-M...  https://www.booking.com/hotel/fr/gites-bellevu...  48.607880 -1.517224   \n",
       "8                                   Etoile des Grèves    9.3  Situé à 8,1 km de l'abbaye du Mont-Saint-Miche...  https://www.booking.com/hotel/fr/etoile-des-gr...  48.615509 -1.491524   \n",
       "9                                        La Jacotière    9.3  Implantée à Ardevon, la maison d'hôtes La Jaco...  https://www.booking.com/hotel/fr/la-jacotia-re...  48.614114 -1.504314   \n",
       "10                Maison au pied du Mont Saint Michel    9.2  Offrant une vue sur le jardin, la Maison au pi...  https://www.booking.com/hotel/fr/maison-au-pie...  48.612674 -1.485531   \n",
       "11                                    Vent des Grèves    9.2  Offrant une vue sur le jardin, le Vent des Grè...  https://www.booking.com/hotel/fr/vent-des-grev...  48.615403 -1.491440   \n",
       "12                 Au Mont Chez Nous Jaccuzi et Sauna    9.2  Situé à Pontorson, à 8,6 km de l'abbaye du Mon...  https://www.booking.com/hotel/fr/26-route-de-l...  48.613455 -1.485872   \n",
       "13                                         Le Goeland    9.1  Le Goeland est situé à Beauvoir, à 23 km du Sc...  https://www.booking.com/hotel/fr/le-goeland-be...  48.597503 -1.504173   \n",
       "14                              La Greve Saint Michel    9.0  Situé à Beauvoir, à 5 km de l'abbaye du Mont-S...  https://www.booking.com/hotel/fr/la-greve-sain...  48.597758 -1.512284   \n",
       "15                        A L'Ombre du Mont St Michel    8.9  Dotée d'une piscine extérieure et d'un jardin,...  https://www.booking.com/hotel/fr/a-l-ombre-du-...  48.615914 -1.465602   \n",
       "16                   Gites les 2 Clos au pied du Mont    8.9  Gites les 2 Clos au pied du Mont features acco...  https://www.booking.com/hotel/fr/les-deux-clos...  48.613966 -1.485792   \n",
       "17                                   Mon Saint Michel    8.8  Situé à Ardevon, le Mon Saint Michel propose u...  https://www.booking.com/hotel/fr/mon-saint-mic...  48.613627 -1.485791   \n",
       "18                                       L'Hirondelle    8.8  La maison de vacances L'Hirondelle, située à P...  https://www.booking.com/hotel/fr/l-39-hirondel...  48.615795 -1.488712   \n",
       "19                                         La Mouette    8.7  La Mouette est située à Beauvoir, à 23 km du S...  https://www.booking.com/hotel/fr/la-mouette-be...  48.597304 -1.504539   \n",
       "\n",
       "             location  \n",
       "0   Mont Saint Michel  \n",
       "1   Mont Saint Michel  \n",
       "2   Mont Saint Michel  \n",
       "3   Mont Saint Michel  \n",
       "4   Mont Saint Michel  \n",
       "5   Mont Saint Michel  \n",
       "6   Mont Saint Michel  \n",
       "7   Mont Saint Michel  \n",
       "8   Mont Saint Michel  \n",
       "9   Mont Saint Michel  \n",
       "10  Mont Saint Michel  \n",
       "11  Mont Saint Michel  \n",
       "12  Mont Saint Michel  \n",
       "13  Mont Saint Michel  \n",
       "14  Mont Saint Michel  \n",
       "15  Mont Saint Michel  \n",
       "16  Mont Saint Michel  \n",
       "17  Mont Saint Michel  \n",
       "18  Mont Saint Michel  \n",
       "19  Mont Saint Michel  "
      ]
     },
     "execution_count": 52,
     "metadata": {},
     "output_type": "execute_result"
    }
   ],
   "source": [
    "df_hotels.head(20)"
   ]
  },
  {
   "cell_type": "code",
   "execution_count": 53,
   "id": "dc15f9c5-9c9b-43d9-bf8e-b87669734455",
   "metadata": {},
   "outputs": [],
   "source": [
    "df_hotels.to_csv(r'./csv/df_hotels.csv', index_label='Id',encoding='utf-8')"
   ]
  },
  {
   "attachments": {
    "96149ed0-1086-4a3a-85f4-7edc3e1fb232.png": {
     "image/png": "[encoded data removed]"
    }
   },
   "cell_type": "markdown",
   "id": "e71cacc2-d2d0-42e9-8722-e91ae3829ce0",
   "metadata": {},
   "source": [
    "## ![image.png](attachment:96149ed0-1086-4a3a-85f4-7edc3e1fb232.png)List of best hotels for the 35 locations is created. "
   ]
  },
  {
   "cell_type": "markdown",
   "id": "60d6f1fd-d67d-4a97-ac2a-f57e8a1cf7eb",
   "metadata": {},
   "source": [
    "## Now we upload the 2 saved files to S3 bucket"
   ]
  },
  {
   "cell_type": "code",
   "execution_count": 1,
   "id": "9f9b9b76-4a78-4b2d-9ded-c8756f4f3a9b",
   "metadata": {},
   "outputs": [
    {
     "name": "stdout",
     "output_type": "stream",
     "text": [
      "\n",
      "# Saving Kayak csv files under S3 in ylequere-jedha bucket.\n",
      "\n",
      "!!! The credentials are needed to achieve this task. Please contact ylequere@gmail.com to obtain it.\n",
      "\n",
      "# Uploading locations_weather.csv as https://ylequere-jedha.s3.eu-west-3.amazonaws.com/02-Kayak/locations_weather.csv\n",
      "\n",
      "# Uploading hotels.csv as https://ylequere-jedha.s3.eu-west-3.amazonaws.com/02-Kayak/hotels.csv\n"
     ]
    }
   ],
   "source": [
    "import boto3\n",
    "# Saving under S3\n",
    "BUCKET_NAME = 'ylequere-jedha'\n",
    "print(f\"\\n# Saving Kayak csv files under S3 in {BUCKET_NAME} bucket.\")\n",
    "print(\"\\n!!! The credentials are needed to achieve this task. Please contact ylequere@gmail.com to obtain it.\")\n",
    "s3 = boto3.resource(\"s3\")\n",
    "bucket = s3.Bucket(BUCKET_NAME)\n",
    "\n",
    "print(\"\\n# Uploading locations_weather.csv as https://ylequere-jedha.s3.eu-west-3.amazonaws.com/02-Kayak/locations_weather.csv\")\n",
    "bucket.upload_file('./csv/df_locations_weather.csv', Key='02-Kayak/locations_weather.csv')\n",
    "print(\"\\n# Uploading hotels.csv as https://ylequere-jedha.s3.eu-west-3.amazonaws.com/02-Kayak/hotels.csv\")\n",
    "bucket.upload_file('./csv/df_hotels.csv', Key='02-Kayak/hotels.csv')"
   ]
  },
  {
   "attachments": {
    "96149ed0-1086-4a3a-85f4-7edc3e1fb232.png": {
     "image/png": "[encoded data removed]"
    }
   },
   "cell_type": "markdown",
   "id": "89bd512e-da47-44fa-9e65-a2ce65e19994",
   "metadata": {},
   "source": [
    "## ![image.png](attachment:96149ed0-1086-4a3a-85f4-7edc3e1fb232.png)df_hotels.csv & locations_weather.csv files are upload on S3 bucket."
   ]
  }
 ],
 "metadata": {
  "kernelspec": {
   "display_name": "Python 3 (ipykernel)",
   "language": "python",
   "name": "python3"
  },
  "language_info": {
   "codemirror_mode": {
    "name": "ipython",
    "version": 3
   },
   "file_extension": ".py",
   "mimetype": "text/x-python",
   "name": "python",
   "nbconvert_exporter": "python",
   "pygments_lexer": "ipython3",
   "version": "3.10.7"
  }
 },
 "nbformat": 4,
 "nbformat_minor": 5
}
