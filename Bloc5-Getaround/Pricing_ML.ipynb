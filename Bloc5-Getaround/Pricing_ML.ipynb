{
 "cells": [
  {
   "cell_type": "markdown",
   "id": "f0dd5966-2d01-4bd9-a06f-f1eb71ef3f12",
   "metadata": {},
   "source": [
    "# RENTAL PRICE PREDICTION"
   ]
  },
  {
   "cell_type": "code",
   "execution_count": 55,
   "id": "742a80e8-133b-4f99-8ec8-af9b323b8619",
   "metadata": {},
   "outputs": [
    {
     "name": "stdout",
     "output_type": "stream",
     "text": [
      "Requirement already satisfied: openpyxl in c:\\users\\ylequ\\appdata\\local\\programs\\python\\python310\\lib\\site-packages (3.1.1)\n",
      "Requirement already satisfied: et-xmlfile in c:\\users\\ylequ\\appdata\\local\\programs\\python\\python310\\lib\\site-packages (from openpyxl) (1.1.0)\n"
     ]
    }
   ],
   "source": [
    "! pip install openpyxl"
   ]
  },
  {
   "cell_type": "code",
   "execution_count": 56,
   "id": "b2baef17-9375-404b-aa1d-1865d03eb97e",
   "metadata": {},
   "outputs": [],
   "source": [
    "import pandas as pd\n",
    "import openpyxl"
   ]
  },
  {
   "cell_type": "code",
   "execution_count": 57,
   "id": "eb836f12-76a9-4f41-b72b-3d3feeb313b9",
   "metadata": {},
   "outputs": [
    {
     "data": {
      "text/html": [
       "<div>\n",
       "<style scoped>\n",
       "    .dataframe tbody tr th:only-of-type {\n",
       "        vertical-align: middle;\n",
       "    }\n",
       "\n",
       "    .dataframe tbody tr th {\n",
       "        vertical-align: top;\n",
       "    }\n",
       "\n",
       "    .dataframe thead th {\n",
       "        text-align: right;\n",
       "    }\n",
       "</style>\n",
       "<table border=\"1\" class=\"dataframe\">\n",
       "  <thead>\n",
       "    <tr style=\"text-align: right;\">\n",
       "      <th></th>\n",
       "      <th>model_key</th>\n",
       "      <th>mileage</th>\n",
       "      <th>engine_power</th>\n",
       "      <th>fuel</th>\n",
       "      <th>paint_color</th>\n",
       "      <th>car_type</th>\n",
       "      <th>private_parking_available</th>\n",
       "      <th>has_gps</th>\n",
       "      <th>has_air_conditioning</th>\n",
       "      <th>automatic_car</th>\n",
       "      <th>has_getaround_connect</th>\n",
       "      <th>has_speed_regulator</th>\n",
       "      <th>winter_tires</th>\n",
       "      <th>rental_price_per_day</th>\n",
       "    </tr>\n",
       "  </thead>\n",
       "  <tbody>\n",
       "    <tr>\n",
       "      <th>0</th>\n",
       "      <td>Citroën</td>\n",
       "      <td>140411</td>\n",
       "      <td>100</td>\n",
       "      <td>diesel</td>\n",
       "      <td>black</td>\n",
       "      <td>convertible</td>\n",
       "      <td>True</td>\n",
       "      <td>True</td>\n",
       "      <td>False</td>\n",
       "      <td>False</td>\n",
       "      <td>True</td>\n",
       "      <td>True</td>\n",
       "      <td>True</td>\n",
       "      <td>106</td>\n",
       "    </tr>\n",
       "    <tr>\n",
       "      <th>1</th>\n",
       "      <td>Citroën</td>\n",
       "      <td>13929</td>\n",
       "      <td>317</td>\n",
       "      <td>petrol</td>\n",
       "      <td>grey</td>\n",
       "      <td>convertible</td>\n",
       "      <td>True</td>\n",
       "      <td>True</td>\n",
       "      <td>False</td>\n",
       "      <td>False</td>\n",
       "      <td>False</td>\n",
       "      <td>True</td>\n",
       "      <td>True</td>\n",
       "      <td>264</td>\n",
       "    </tr>\n",
       "    <tr>\n",
       "      <th>2</th>\n",
       "      <td>Citroën</td>\n",
       "      <td>183297</td>\n",
       "      <td>120</td>\n",
       "      <td>diesel</td>\n",
       "      <td>white</td>\n",
       "      <td>convertible</td>\n",
       "      <td>False</td>\n",
       "      <td>False</td>\n",
       "      <td>False</td>\n",
       "      <td>False</td>\n",
       "      <td>True</td>\n",
       "      <td>False</td>\n",
       "      <td>True</td>\n",
       "      <td>101</td>\n",
       "    </tr>\n",
       "    <tr>\n",
       "      <th>3</th>\n",
       "      <td>Citroën</td>\n",
       "      <td>128035</td>\n",
       "      <td>135</td>\n",
       "      <td>diesel</td>\n",
       "      <td>red</td>\n",
       "      <td>convertible</td>\n",
       "      <td>True</td>\n",
       "      <td>True</td>\n",
       "      <td>False</td>\n",
       "      <td>False</td>\n",
       "      <td>True</td>\n",
       "      <td>True</td>\n",
       "      <td>True</td>\n",
       "      <td>158</td>\n",
       "    </tr>\n",
       "    <tr>\n",
       "      <th>4</th>\n",
       "      <td>Citroën</td>\n",
       "      <td>97097</td>\n",
       "      <td>160</td>\n",
       "      <td>diesel</td>\n",
       "      <td>silver</td>\n",
       "      <td>convertible</td>\n",
       "      <td>True</td>\n",
       "      <td>True</td>\n",
       "      <td>False</td>\n",
       "      <td>False</td>\n",
       "      <td>False</td>\n",
       "      <td>True</td>\n",
       "      <td>True</td>\n",
       "      <td>183</td>\n",
       "    </tr>\n",
       "    <tr>\n",
       "      <th>...</th>\n",
       "      <td>...</td>\n",
       "      <td>...</td>\n",
       "      <td>...</td>\n",
       "      <td>...</td>\n",
       "      <td>...</td>\n",
       "      <td>...</td>\n",
       "      <td>...</td>\n",
       "      <td>...</td>\n",
       "      <td>...</td>\n",
       "      <td>...</td>\n",
       "      <td>...</td>\n",
       "      <td>...</td>\n",
       "      <td>...</td>\n",
       "      <td>...</td>\n",
       "    </tr>\n",
       "    <tr>\n",
       "      <th>4838</th>\n",
       "      <td>Toyota</td>\n",
       "      <td>39743</td>\n",
       "      <td>110</td>\n",
       "      <td>diesel</td>\n",
       "      <td>black</td>\n",
       "      <td>van</td>\n",
       "      <td>False</td>\n",
       "      <td>True</td>\n",
       "      <td>False</td>\n",
       "      <td>False</td>\n",
       "      <td>False</td>\n",
       "      <td>False</td>\n",
       "      <td>True</td>\n",
       "      <td>121</td>\n",
       "    </tr>\n",
       "    <tr>\n",
       "      <th>4839</th>\n",
       "      <td>Toyota</td>\n",
       "      <td>49832</td>\n",
       "      <td>100</td>\n",
       "      <td>diesel</td>\n",
       "      <td>grey</td>\n",
       "      <td>van</td>\n",
       "      <td>False</td>\n",
       "      <td>True</td>\n",
       "      <td>False</td>\n",
       "      <td>False</td>\n",
       "      <td>False</td>\n",
       "      <td>False</td>\n",
       "      <td>True</td>\n",
       "      <td>132</td>\n",
       "    </tr>\n",
       "    <tr>\n",
       "      <th>4840</th>\n",
       "      <td>Toyota</td>\n",
       "      <td>19633</td>\n",
       "      <td>110</td>\n",
       "      <td>diesel</td>\n",
       "      <td>grey</td>\n",
       "      <td>van</td>\n",
       "      <td>False</td>\n",
       "      <td>True</td>\n",
       "      <td>False</td>\n",
       "      <td>False</td>\n",
       "      <td>False</td>\n",
       "      <td>False</td>\n",
       "      <td>True</td>\n",
       "      <td>130</td>\n",
       "    </tr>\n",
       "    <tr>\n",
       "      <th>4841</th>\n",
       "      <td>Toyota</td>\n",
       "      <td>27920</td>\n",
       "      <td>110</td>\n",
       "      <td>diesel</td>\n",
       "      <td>brown</td>\n",
       "      <td>van</td>\n",
       "      <td>True</td>\n",
       "      <td>True</td>\n",
       "      <td>False</td>\n",
       "      <td>False</td>\n",
       "      <td>False</td>\n",
       "      <td>False</td>\n",
       "      <td>True</td>\n",
       "      <td>151</td>\n",
       "    </tr>\n",
       "    <tr>\n",
       "      <th>4842</th>\n",
       "      <td>Audi</td>\n",
       "      <td>195840</td>\n",
       "      <td>160</td>\n",
       "      <td>diesel</td>\n",
       "      <td>grey</td>\n",
       "      <td>van</td>\n",
       "      <td>True</td>\n",
       "      <td>True</td>\n",
       "      <td>False</td>\n",
       "      <td>False</td>\n",
       "      <td>True</td>\n",
       "      <td>False</td>\n",
       "      <td>True</td>\n",
       "      <td>124</td>\n",
       "    </tr>\n",
       "  </tbody>\n",
       "</table>\n",
       "<p>4843 rows × 14 columns</p>\n",
       "</div>"
      ],
      "text/plain": [
       "     model_key  mileage  engine_power    fuel paint_color     car_type  \\\n",
       "0      Citroën   140411           100  diesel       black  convertible   \n",
       "1      Citroën    13929           317  petrol        grey  convertible   \n",
       "2      Citroën   183297           120  diesel       white  convertible   \n",
       "3      Citroën   128035           135  diesel         red  convertible   \n",
       "4      Citroën    97097           160  diesel      silver  convertible   \n",
       "...        ...      ...           ...     ...         ...          ...   \n",
       "4838    Toyota    39743           110  diesel       black          van   \n",
       "4839    Toyota    49832           100  diesel        grey          van   \n",
       "4840    Toyota    19633           110  diesel        grey          van   \n",
       "4841    Toyota    27920           110  diesel       brown          van   \n",
       "4842      Audi   195840           160  diesel        grey          van   \n",
       "\n",
       "      private_parking_available  has_gps  has_air_conditioning  automatic_car  \\\n",
       "0                          True     True                 False          False   \n",
       "1                          True     True                 False          False   \n",
       "2                         False    False                 False          False   \n",
       "3                          True     True                 False          False   \n",
       "4                          True     True                 False          False   \n",
       "...                         ...      ...                   ...            ...   \n",
       "4838                      False     True                 False          False   \n",
       "4839                      False     True                 False          False   \n",
       "4840                      False     True                 False          False   \n",
       "4841                       True     True                 False          False   \n",
       "4842                       True     True                 False          False   \n",
       "\n",
       "      has_getaround_connect  has_speed_regulator  winter_tires  \\\n",
       "0                      True                 True          True   \n",
       "1                     False                 True          True   \n",
       "2                      True                False          True   \n",
       "3                      True                 True          True   \n",
       "4                     False                 True          True   \n",
       "...                     ...                  ...           ...   \n",
       "4838                  False                False          True   \n",
       "4839                  False                False          True   \n",
       "4840                  False                False          True   \n",
       "4841                  False                False          True   \n",
       "4842                   True                False          True   \n",
       "\n",
       "      rental_price_per_day  \n",
       "0                      106  \n",
       "1                      264  \n",
       "2                      101  \n",
       "3                      158  \n",
       "4                      183  \n",
       "...                    ...  \n",
       "4838                   121  \n",
       "4839                   132  \n",
       "4840                   130  \n",
       "4841                   151  \n",
       "4842                   124  \n",
       "\n",
       "[4843 rows x 14 columns]"
      ]
     },
     "execution_count": 57,
     "metadata": {},
     "output_type": "execute_result"
    }
   ],
   "source": [
    "df_pricing = pd.read_csv('https://full-stack-assets.s3.eu-west-3.amazonaws.com/Deployment/get_around_pricing_project.csv')\n",
    "df_pricing.drop(columns='Unnamed: 0', inplace=True, axis=1)\n",
    "df_pricing"
   ]
  },
  {
   "cell_type": "markdown",
   "id": "ad0cb262-733d-4495-8432-d5c2bddc0749",
   "metadata": {},
   "source": [
    "## EDA of pricing dataset"
   ]
  },
  {
   "cell_type": "code",
   "execution_count": 58,
   "id": "9ed6c36c-2df1-4a97-99a3-6d58bdbe7eae",
   "metadata": {},
   "outputs": [
    {
     "data": {
      "text/html": [
       "<div>\n",
       "<style scoped>\n",
       "    .dataframe tbody tr th:only-of-type {\n",
       "        vertical-align: middle;\n",
       "    }\n",
       "\n",
       "    .dataframe tbody tr th {\n",
       "        vertical-align: top;\n",
       "    }\n",
       "\n",
       "    .dataframe thead th {\n",
       "        text-align: right;\n",
       "    }\n",
       "</style>\n",
       "<table border=\"1\" class=\"dataframe\">\n",
       "  <thead>\n",
       "    <tr style=\"text-align: right;\">\n",
       "      <th></th>\n",
       "      <th>model_key</th>\n",
       "      <th>mileage</th>\n",
       "      <th>engine_power</th>\n",
       "      <th>fuel</th>\n",
       "      <th>paint_color</th>\n",
       "      <th>car_type</th>\n",
       "      <th>private_parking_available</th>\n",
       "      <th>has_gps</th>\n",
       "      <th>has_air_conditioning</th>\n",
       "      <th>automatic_car</th>\n",
       "      <th>has_getaround_connect</th>\n",
       "      <th>has_speed_regulator</th>\n",
       "      <th>winter_tires</th>\n",
       "      <th>rental_price_per_day</th>\n",
       "    </tr>\n",
       "  </thead>\n",
       "  <tbody>\n",
       "    <tr>\n",
       "      <th>count</th>\n",
       "      <td>4843</td>\n",
       "      <td>4.843000e+03</td>\n",
       "      <td>4843.00000</td>\n",
       "      <td>4843</td>\n",
       "      <td>4843</td>\n",
       "      <td>4843</td>\n",
       "      <td>4843</td>\n",
       "      <td>4843</td>\n",
       "      <td>4843</td>\n",
       "      <td>4843</td>\n",
       "      <td>4843</td>\n",
       "      <td>4843</td>\n",
       "      <td>4843</td>\n",
       "      <td>4843.000000</td>\n",
       "    </tr>\n",
       "    <tr>\n",
       "      <th>unique</th>\n",
       "      <td>28</td>\n",
       "      <td>NaN</td>\n",
       "      <td>NaN</td>\n",
       "      <td>4</td>\n",
       "      <td>10</td>\n",
       "      <td>8</td>\n",
       "      <td>2</td>\n",
       "      <td>2</td>\n",
       "      <td>2</td>\n",
       "      <td>2</td>\n",
       "      <td>2</td>\n",
       "      <td>2</td>\n",
       "      <td>2</td>\n",
       "      <td>NaN</td>\n",
       "    </tr>\n",
       "    <tr>\n",
       "      <th>top</th>\n",
       "      <td>Citroën</td>\n",
       "      <td>NaN</td>\n",
       "      <td>NaN</td>\n",
       "      <td>diesel</td>\n",
       "      <td>black</td>\n",
       "      <td>estate</td>\n",
       "      <td>True</td>\n",
       "      <td>True</td>\n",
       "      <td>False</td>\n",
       "      <td>False</td>\n",
       "      <td>False</td>\n",
       "      <td>False</td>\n",
       "      <td>True</td>\n",
       "      <td>NaN</td>\n",
       "    </tr>\n",
       "    <tr>\n",
       "      <th>freq</th>\n",
       "      <td>969</td>\n",
       "      <td>NaN</td>\n",
       "      <td>NaN</td>\n",
       "      <td>4641</td>\n",
       "      <td>1633</td>\n",
       "      <td>1606</td>\n",
       "      <td>2662</td>\n",
       "      <td>3839</td>\n",
       "      <td>3865</td>\n",
       "      <td>3881</td>\n",
       "      <td>2613</td>\n",
       "      <td>3674</td>\n",
       "      <td>4514</td>\n",
       "      <td>NaN</td>\n",
       "    </tr>\n",
       "    <tr>\n",
       "      <th>mean</th>\n",
       "      <td>NaN</td>\n",
       "      <td>1.409628e+05</td>\n",
       "      <td>128.98823</td>\n",
       "      <td>NaN</td>\n",
       "      <td>NaN</td>\n",
       "      <td>NaN</td>\n",
       "      <td>NaN</td>\n",
       "      <td>NaN</td>\n",
       "      <td>NaN</td>\n",
       "      <td>NaN</td>\n",
       "      <td>NaN</td>\n",
       "      <td>NaN</td>\n",
       "      <td>NaN</td>\n",
       "      <td>121.214536</td>\n",
       "    </tr>\n",
       "    <tr>\n",
       "      <th>std</th>\n",
       "      <td>NaN</td>\n",
       "      <td>6.019674e+04</td>\n",
       "      <td>38.99336</td>\n",
       "      <td>NaN</td>\n",
       "      <td>NaN</td>\n",
       "      <td>NaN</td>\n",
       "      <td>NaN</td>\n",
       "      <td>NaN</td>\n",
       "      <td>NaN</td>\n",
       "      <td>NaN</td>\n",
       "      <td>NaN</td>\n",
       "      <td>NaN</td>\n",
       "      <td>NaN</td>\n",
       "      <td>33.568268</td>\n",
       "    </tr>\n",
       "    <tr>\n",
       "      <th>min</th>\n",
       "      <td>NaN</td>\n",
       "      <td>-6.400000e+01</td>\n",
       "      <td>0.00000</td>\n",
       "      <td>NaN</td>\n",
       "      <td>NaN</td>\n",
       "      <td>NaN</td>\n",
       "      <td>NaN</td>\n",
       "      <td>NaN</td>\n",
       "      <td>NaN</td>\n",
       "      <td>NaN</td>\n",
       "      <td>NaN</td>\n",
       "      <td>NaN</td>\n",
       "      <td>NaN</td>\n",
       "      <td>10.000000</td>\n",
       "    </tr>\n",
       "    <tr>\n",
       "      <th>25%</th>\n",
       "      <td>NaN</td>\n",
       "      <td>1.029135e+05</td>\n",
       "      <td>100.00000</td>\n",
       "      <td>NaN</td>\n",
       "      <td>NaN</td>\n",
       "      <td>NaN</td>\n",
       "      <td>NaN</td>\n",
       "      <td>NaN</td>\n",
       "      <td>NaN</td>\n",
       "      <td>NaN</td>\n",
       "      <td>NaN</td>\n",
       "      <td>NaN</td>\n",
       "      <td>NaN</td>\n",
       "      <td>104.000000</td>\n",
       "    </tr>\n",
       "    <tr>\n",
       "      <th>50%</th>\n",
       "      <td>NaN</td>\n",
       "      <td>1.410800e+05</td>\n",
       "      <td>120.00000</td>\n",
       "      <td>NaN</td>\n",
       "      <td>NaN</td>\n",
       "      <td>NaN</td>\n",
       "      <td>NaN</td>\n",
       "      <td>NaN</td>\n",
       "      <td>NaN</td>\n",
       "      <td>NaN</td>\n",
       "      <td>NaN</td>\n",
       "      <td>NaN</td>\n",
       "      <td>NaN</td>\n",
       "      <td>119.000000</td>\n",
       "    </tr>\n",
       "    <tr>\n",
       "      <th>75%</th>\n",
       "      <td>NaN</td>\n",
       "      <td>1.751955e+05</td>\n",
       "      <td>135.00000</td>\n",
       "      <td>NaN</td>\n",
       "      <td>NaN</td>\n",
       "      <td>NaN</td>\n",
       "      <td>NaN</td>\n",
       "      <td>NaN</td>\n",
       "      <td>NaN</td>\n",
       "      <td>NaN</td>\n",
       "      <td>NaN</td>\n",
       "      <td>NaN</td>\n",
       "      <td>NaN</td>\n",
       "      <td>136.000000</td>\n",
       "    </tr>\n",
       "    <tr>\n",
       "      <th>max</th>\n",
       "      <td>NaN</td>\n",
       "      <td>1.000376e+06</td>\n",
       "      <td>423.00000</td>\n",
       "      <td>NaN</td>\n",
       "      <td>NaN</td>\n",
       "      <td>NaN</td>\n",
       "      <td>NaN</td>\n",
       "      <td>NaN</td>\n",
       "      <td>NaN</td>\n",
       "      <td>NaN</td>\n",
       "      <td>NaN</td>\n",
       "      <td>NaN</td>\n",
       "      <td>NaN</td>\n",
       "      <td>422.000000</td>\n",
       "    </tr>\n",
       "  </tbody>\n",
       "</table>\n",
       "</div>"
      ],
      "text/plain": [
       "       model_key       mileage  engine_power    fuel paint_color car_type  \\\n",
       "count       4843  4.843000e+03    4843.00000    4843        4843     4843   \n",
       "unique        28           NaN           NaN       4          10        8   \n",
       "top      Citroën           NaN           NaN  diesel       black   estate   \n",
       "freq         969           NaN           NaN    4641        1633     1606   \n",
       "mean         NaN  1.409628e+05     128.98823     NaN         NaN      NaN   \n",
       "std          NaN  6.019674e+04      38.99336     NaN         NaN      NaN   \n",
       "min          NaN -6.400000e+01       0.00000     NaN         NaN      NaN   \n",
       "25%          NaN  1.029135e+05     100.00000     NaN         NaN      NaN   \n",
       "50%          NaN  1.410800e+05     120.00000     NaN         NaN      NaN   \n",
       "75%          NaN  1.751955e+05     135.00000     NaN         NaN      NaN   \n",
       "max          NaN  1.000376e+06     423.00000     NaN         NaN      NaN   \n",
       "\n",
       "       private_parking_available has_gps has_air_conditioning automatic_car  \\\n",
       "count                       4843    4843                 4843          4843   \n",
       "unique                         2       2                    2             2   \n",
       "top                         True    True                False         False   \n",
       "freq                        2662    3839                 3865          3881   \n",
       "mean                         NaN     NaN                  NaN           NaN   \n",
       "std                          NaN     NaN                  NaN           NaN   \n",
       "min                          NaN     NaN                  NaN           NaN   \n",
       "25%                          NaN     NaN                  NaN           NaN   \n",
       "50%                          NaN     NaN                  NaN           NaN   \n",
       "75%                          NaN     NaN                  NaN           NaN   \n",
       "max                          NaN     NaN                  NaN           NaN   \n",
       "\n",
       "       has_getaround_connect has_speed_regulator winter_tires  \\\n",
       "count                   4843                4843         4843   \n",
       "unique                     2                   2            2   \n",
       "top                    False               False         True   \n",
       "freq                    2613                3674         4514   \n",
       "mean                     NaN                 NaN          NaN   \n",
       "std                      NaN                 NaN          NaN   \n",
       "min                      NaN                 NaN          NaN   \n",
       "25%                      NaN                 NaN          NaN   \n",
       "50%                      NaN                 NaN          NaN   \n",
       "75%                      NaN                 NaN          NaN   \n",
       "max                      NaN                 NaN          NaN   \n",
       "\n",
       "        rental_price_per_day  \n",
       "count            4843.000000  \n",
       "unique                   NaN  \n",
       "top                      NaN  \n",
       "freq                     NaN  \n",
       "mean              121.214536  \n",
       "std                33.568268  \n",
       "min                10.000000  \n",
       "25%               104.000000  \n",
       "50%               119.000000  \n",
       "75%               136.000000  \n",
       "max               422.000000  "
      ]
     },
     "execution_count": 58,
     "metadata": {},
     "output_type": "execute_result"
    }
   ],
   "source": [
    "df_pricing.describe(include='all')"
   ]
  },
  {
   "cell_type": "markdown",
   "id": "d766d441-f86c-4fa9-90fc-2b9ffa85a971",
   "metadata": {},
   "source": [
    "### Models"
   ]
  },
  {
   "cell_type": "code",
   "execution_count": 59,
   "id": "83f58da6-87f6-460d-8620-df880f9285be",
   "metadata": {},
   "outputs": [
    {
     "data": {
      "text/plain": [
       "Alfa Romeo       3\n",
       "Audi           526\n",
       "BMW            827\n",
       "Citroën        969\n",
       "Ferrari         33\n",
       "Fiat             2\n",
       "Ford             5\n",
       "Honda            1\n",
       "KIA Motors       3\n",
       "Lamborghini      2\n",
       "Lexus            2\n",
       "Maserati        18\n",
       "Mazda            1\n",
       "Mercedes        97\n",
       "Mini             1\n",
       "Mitsubishi     231\n",
       "Nissan         275\n",
       "Opel            33\n",
       "PGO             33\n",
       "Peugeot        642\n",
       "Porsche          6\n",
       "Renault        916\n",
       "SEAT            46\n",
       "Subaru          44\n",
       "Suzuki           8\n",
       "Toyota          53\n",
       "Volkswagen      65\n",
       "Yamaha           1\n",
       "Name: model_key, dtype: int64"
      ]
     },
     "execution_count": 59,
     "metadata": {},
     "output_type": "execute_result"
    }
   ],
   "source": [
    "df_pricing.model_key.value_counts(dropna=False).sort_index()"
   ]
  },
  {
   "cell_type": "markdown",
   "id": "47ac48c0-7206-476a-8ed2-997bce303c7d",
   "metadata": {},
   "source": [
    "### Model data is ok."
   ]
  },
  {
   "cell_type": "markdown",
   "id": "ff3354ef-28d8-4fef-8999-f45a09078a0a",
   "metadata": {},
   "source": [
    "### Mileage check"
   ]
  },
  {
   "cell_type": "code",
   "execution_count": 60,
   "id": "171d7975-de68-4b8e-9836-27464f2a019d",
   "metadata": {},
   "outputs": [
    {
     "data": {
      "text/plain": [
       "True     4842\n",
       "False       1\n",
       "Name: mileage, dtype: int64"
      ]
     },
     "execution_count": 60,
     "metadata": {},
     "output_type": "execute_result"
    }
   ],
   "source": [
    "(df_pricing.mileage > 0).value_counts()"
   ]
  },
  {
   "cell_type": "markdown",
   "id": "aa3e90c4-f4b5-4951-b553-4baaf9106669",
   "metadata": {},
   "source": [
    "### There is one rental with a car's mileage that is negative or zero. We remove it. "
   ]
  },
  {
   "cell_type": "code",
   "execution_count": 61,
   "id": "c63854ac-ab4b-41df-b019-120b27e2113b",
   "metadata": {},
   "outputs": [
    {
     "name": "stdout",
     "output_type": "stream",
     "text": [
      "Row count before filtering : 4843\n",
      "Row count after filtering : 4842\n"
     ]
    }
   ],
   "source": [
    "print(\"Row count before filtering :\", df_pricing.shape[0])\n",
    "df_pricing = df_pricing[df_pricing.mileage > 0]\n",
    "print(\"Row count after filtering :\", df_pricing.shape[0])"
   ]
  },
  {
   "cell_type": "markdown",
   "id": "f418b528-1edc-4899-903e-229ce8ad484b",
   "metadata": {},
   "source": [
    "### Checking mileage outliers"
   ]
  },
  {
   "cell_type": "code",
   "execution_count": 62,
   "id": "7b1a8479-f862-438a-87d7-dd47ac603ff6",
   "metadata": {},
   "outputs": [
    {
     "data": {
      "text/plain": [
       "<AxesSubplot: >"
      ]
     },
     "execution_count": 62,
     "metadata": {},
     "output_type": "execute_result"
    },
    {
     "data": {
      "image/png": "[encoded data removed]",
      "text/plain": [
       "<Figure size 1500x200 with 1 Axes>"
      ]
     },
     "metadata": {},
     "output_type": "display_data"
    }
   ],
   "source": [
    "from matplotlib import pyplot\n",
    "import seaborn as sns\n",
    "fig, ax = pyplot.subplots(figsize=(15,2))\n",
    "sns.boxplot(ax=ax, data=df_pricing.mileage, orient=\"h\")"
   ]
  },
  {
   "cell_type": "markdown",
   "id": "4115c8f8-d6b0-4b29-9987-7ef95d3bc9d5",
   "metadata": {},
   "source": [
    "### There is some extreme value. We are going to determine it and remove the corresponding rentals."
   ]
  },
  {
   "cell_type": "code",
   "execution_count": 63,
   "id": "0aa35eaa-906c-4d3b-8b6c-8086b5c03f5d",
   "metadata": {},
   "outputs": [
    {
     "data": {
      "text/html": [
       "<div>\n",
       "<style scoped>\n",
       "    .dataframe tbody tr th:only-of-type {\n",
       "        vertical-align: middle;\n",
       "    }\n",
       "\n",
       "    .dataframe tbody tr th {\n",
       "        vertical-align: top;\n",
       "    }\n",
       "\n",
       "    .dataframe thead th {\n",
       "        text-align: right;\n",
       "    }\n",
       "</style>\n",
       "<table border=\"1\" class=\"dataframe\">\n",
       "  <thead>\n",
       "    <tr style=\"text-align: right;\">\n",
       "      <th></th>\n",
       "      <th>model_key</th>\n",
       "      <th>mileage</th>\n",
       "      <th>engine_power</th>\n",
       "      <th>fuel</th>\n",
       "      <th>paint_color</th>\n",
       "      <th>car_type</th>\n",
       "      <th>private_parking_available</th>\n",
       "      <th>has_gps</th>\n",
       "      <th>has_air_conditioning</th>\n",
       "      <th>automatic_car</th>\n",
       "      <th>has_getaround_connect</th>\n",
       "      <th>has_speed_regulator</th>\n",
       "      <th>winter_tires</th>\n",
       "      <th>rental_price_per_day</th>\n",
       "    </tr>\n",
       "  </thead>\n",
       "  <tbody>\n",
       "    <tr>\n",
       "      <th>3732</th>\n",
       "      <td>Citroën</td>\n",
       "      <td>1000376</td>\n",
       "      <td>90</td>\n",
       "      <td>diesel</td>\n",
       "      <td>black</td>\n",
       "      <td>subcompact</td>\n",
       "      <td>True</td>\n",
       "      <td>False</td>\n",
       "      <td>False</td>\n",
       "      <td>False</td>\n",
       "      <td>False</td>\n",
       "      <td>False</td>\n",
       "      <td>True</td>\n",
       "      <td>37</td>\n",
       "    </tr>\n",
       "  </tbody>\n",
       "</table>\n",
       "</div>"
      ],
      "text/plain": [
       "     model_key  mileage  engine_power    fuel paint_color    car_type  \\\n",
       "3732   Citroën  1000376            90  diesel       black  subcompact   \n",
       "\n",
       "      private_parking_available  has_gps  has_air_conditioning  automatic_car  \\\n",
       "3732                       True    False                 False          False   \n",
       "\n",
       "      has_getaround_connect  has_speed_regulator  winter_tires  \\\n",
       "3732                  False                False          True   \n",
       "\n",
       "      rental_price_per_day  \n",
       "3732                    37  "
      ]
     },
     "execution_count": 63,
     "metadata": {},
     "output_type": "execute_result"
    }
   ],
   "source": [
    "df_pricing[df_pricing.mileage > 0.8*1e6]"
   ]
  },
  {
   "cell_type": "code",
   "execution_count": 64,
   "id": "702221ba-e137-4d01-b86c-5928c2ef97a8",
   "metadata": {},
   "outputs": [
    {
     "name": "stdout",
     "output_type": "stream",
     "text": [
      "Row count before filtering : 4842\n",
      "Row count after filtering : 4841\n"
     ]
    }
   ],
   "source": [
    "print(\"Row count before filtering :\", df_pricing.shape[0])\n",
    "df_pricing = df_pricing[df_pricing.mileage <= 0.8*1e6]\n",
    "print(\"Row count after filtering :\", df_pricing.shape[0])"
   ]
  },
  {
   "cell_type": "markdown",
   "id": "e2345412-1427-46cf-82d3-65a4e747fca0",
   "metadata": {},
   "source": [
    "### Engine power check"
   ]
  },
  {
   "cell_type": "code",
   "execution_count": 65,
   "id": "54811581-8097-441d-aa0a-6171bf79f591",
   "metadata": {},
   "outputs": [
    {
     "data": {
      "text/plain": [
       "True     4840\n",
       "False       1\n",
       "Name: engine_power, dtype: int64"
      ]
     },
     "execution_count": 65,
     "metadata": {},
     "output_type": "execute_result"
    }
   ],
   "source": [
    "(df_pricing.engine_power > 0).value_counts()"
   ]
  },
  {
   "cell_type": "markdown",
   "id": "f03b27d6-5979-4467-b97a-b316ab7d77a4",
   "metadata": {},
   "source": [
    "### There is one rental with a car's engine power that is negative or 0. We remove it. "
   ]
  },
  {
   "cell_type": "code",
   "execution_count": 66,
   "id": "cbc8865e-4922-4934-941d-14e5aa9d89e1",
   "metadata": {},
   "outputs": [
    {
     "name": "stdout",
     "output_type": "stream",
     "text": [
      "Row count before filtering : 4841\n",
      "Row count after filtering : 4840\n"
     ]
    }
   ],
   "source": [
    "print(\"Row count before filtering :\", df_pricing.shape[0])\n",
    "df_pricing = df_pricing[df_pricing.engine_power > 0]\n",
    "print(\"Row count after filtering :\", df_pricing.shape[0])"
   ]
  },
  {
   "cell_type": "code",
   "execution_count": 67,
   "id": "b1db2a11-b938-42e2-a343-c9ce121d07be",
   "metadata": {},
   "outputs": [
    {
     "data": {
      "text/plain": [
       "<AxesSubplot: >"
      ]
     },
     "execution_count": 67,
     "metadata": {},
     "output_type": "execute_result"
    },
    {
     "data": {
      "image/png": "[encoded data removed]",
      "text/plain": [
       "<Figure size 1500x200 with 1 Axes>"
      ]
     },
     "metadata": {},
     "output_type": "display_data"
    }
   ],
   "source": [
    "from matplotlib import pyplot\n",
    "import seaborn as sns\n",
    "fig, ax = pyplot.subplots(figsize=(15,2))\n",
    "sns.boxplot(ax=ax, data=df_pricing.engine_power, orient=\"h\")"
   ]
  },
  {
   "cell_type": "markdown",
   "id": "2a821a78-9655-4660-923d-33c149045135",
   "metadata": {},
   "source": [
    "### There are some cars with engine power too low (<50) and too high (>400). We are going to remove it."
   ]
  },
  {
   "cell_type": "code",
   "execution_count": 68,
   "id": "8c4c56ad-cd19-4a40-b38d-146d6a9a4fd8",
   "metadata": {},
   "outputs": [
    {
     "name": "stdout",
     "output_type": "stream",
     "text": [
      "Row count before filtering : 4840\n",
      "Row count after filtering : 4836\n"
     ]
    }
   ],
   "source": [
    "print(\"Row count before filtering :\", df_pricing.shape[0])\n",
    "df_pricing = df_pricing[(df_pricing.engine_power > 50) & (df_pricing.engine_power < 400)]\n",
    "print(\"Row count after filtering :\", df_pricing.shape[0])"
   ]
  },
  {
   "cell_type": "markdown",
   "id": "1882e3cb-bdf5-4d6a-83b0-d165a629d61f",
   "metadata": {},
   "source": [
    "### Fuel type study"
   ]
  },
  {
   "cell_type": "code",
   "execution_count": 69,
   "id": "ef3aa981-487e-4b9c-bd8e-d51117d0a030",
   "metadata": {},
   "outputs": [
    {
     "data": {
      "text/plain": [
       "diesel           4638\n",
       "petrol            189\n",
       "hybrid_petrol       6\n",
       "electro             3\n",
       "Name: fuel, dtype: int64"
      ]
     },
     "execution_count": 69,
     "metadata": {},
     "output_type": "execute_result"
    }
   ],
   "source": [
    "df_pricing.fuel.value_counts(dropna=False)"
   ]
  },
  {
   "cell_type": "markdown",
   "id": "9d0dcd6a-8d32-42dc-921f-b5e028d31d00",
   "metadata": {},
   "source": [
    "### There are some rare values but we chose to keep it as it is real values."
   ]
  },
  {
   "cell_type": "markdown",
   "id": "b03238ee-da6b-4db5-8918-8543f7b10a8c",
   "metadata": {},
   "source": [
    "### Paint color study"
   ]
  },
  {
   "cell_type": "code",
   "execution_count": 70,
   "id": "791ba1ee-ad38-42bf-8339-2efd73bec2de",
   "metadata": {},
   "outputs": [
    {
     "data": {
      "text/plain": [
       "black     1629\n",
       "grey      1175\n",
       "blue       710\n",
       "white      536\n",
       "brown      341\n",
       "silver     329\n",
       "red         51\n",
       "beige       41\n",
       "green       18\n",
       "orange       6\n",
       "Name: paint_color, dtype: int64"
      ]
     },
     "execution_count": 70,
     "metadata": {},
     "output_type": "execute_result"
    }
   ],
   "source": [
    "df_pricing.paint_color.value_counts(dropna=False)"
   ]
  },
  {
   "cell_type": "markdown",
   "id": "ce1691bb-8739-49db-a53a-61f4ebcac1f8",
   "metadata": {},
   "source": [
    "### Nothing to remove or change for car paint color"
   ]
  },
  {
   "cell_type": "markdown",
   "id": "aac52bdf-4331-4068-a007-1c171d90619a",
   "metadata": {},
   "source": [
    "### Car type study"
   ]
  },
  {
   "cell_type": "code",
   "execution_count": 71,
   "id": "891552b4-2f36-48a9-bcad-79478d27315e",
   "metadata": {},
   "outputs": [
    {
     "data": {
      "text/plain": [
       "estate         1606\n",
       "sedan          1166\n",
       "suv            1056\n",
       "hatchback       697\n",
       "subcompact      116\n",
       "coupe           104\n",
       "convertible      47\n",
       "van              44\n",
       "Name: car_type, dtype: int64"
      ]
     },
     "execution_count": 71,
     "metadata": {},
     "output_type": "execute_result"
    }
   ],
   "source": [
    "df_pricing.car_type.value_counts(dropna=False)"
   ]
  },
  {
   "cell_type": "markdown",
   "id": "f7d6920c-fc85-4433-b628-f75b4017588f",
   "metadata": {},
   "source": [
    "### Nothing to remove or change for car type"
   ]
  },
  {
   "cell_type": "markdown",
   "id": "d424b57b-b3bd-4d48-b383-0722524bfaa6",
   "metadata": {},
   "source": [
    "### private_parking_available, has_gps, has_air_conditioning, automatic_car, has_getaround_connect, has_speed_regulator, winter_tires study"
   ]
  },
  {
   "cell_type": "code",
   "execution_count": 72,
   "id": "d0207d8c-7ee7-4b7d-a8c0-c3ae9f506aeb",
   "metadata": {},
   "outputs": [
    {
     "name": "stdout",
     "output_type": "stream",
     "text": [
      "private_parking_available \n",
      " True     2658\n",
      "False    2178\n",
      "Name: private_parking_available, dtype: int64 \n",
      "\n",
      "has_gps \n",
      " True     3834\n",
      "False    1002\n",
      "Name: has_gps, dtype: int64 \n",
      "\n",
      "has_air_conditioning \n",
      " False    3860\n",
      "True      976\n",
      "Name: has_air_conditioning, dtype: int64 \n",
      "\n",
      "automatic_car \n",
      " False    3875\n",
      "True      961\n",
      "Name: automatic_car, dtype: int64 \n",
      "\n",
      "has_getaround_connect \n",
      " False    2607\n",
      "True     2229\n",
      "Name: has_getaround_connect, dtype: int64 \n",
      "\n",
      "has_speed_regulator \n",
      " False    3668\n",
      "True     1168\n",
      "Name: has_speed_regulator, dtype: int64 \n",
      "\n",
      "winter_tires \n",
      " True     4508\n",
      "False     328\n",
      "Name: winter_tires, dtype: int64 \n",
      "\n"
     ]
    }
   ],
   "source": [
    "for field in ['private_parking_available', 'has_gps', 'has_air_conditioning', 'automatic_car', 'has_getaround_connect', 'has_speed_regulator', 'winter_tires']:\n",
    "    print(field, '\\n', df_pricing[field].value_counts(dropna=False), '\\n')"
   ]
  },
  {
   "cell_type": "markdown",
   "id": "6160fabc-42e5-45fc-a42d-f03c09a6204e",
   "metadata": {},
   "source": [
    "### Nothing to remove or change for all these fields"
   ]
  },
  {
   "cell_type": "markdown",
   "id": "485c66bd-178a-4584-a023-0d29810588a4",
   "metadata": {},
   "source": [
    "## At first glance, the rental_price_per_day data seems to be ok. Let's see the outliers."
   ]
  },
  {
   "cell_type": "code",
   "execution_count": 73,
   "id": "e5e8c289-5e97-433d-aff8-747a9ab83b55",
   "metadata": {},
   "outputs": [
    {
     "data": {
      "text/plain": [
       "<AxesSubplot: >"
      ]
     },
     "execution_count": 73,
     "metadata": {},
     "output_type": "execute_result"
    },
    {
     "data": {
      "image/png": "[encoded data removed]",
      "text/plain": [
       "<Figure size 1500x200 with 1 Axes>"
      ]
     },
     "metadata": {},
     "output_type": "display_data"
    }
   ],
   "source": [
    "from matplotlib import pyplot\n",
    "import seaborn as sns\n",
    "fig, ax = pyplot.subplots(figsize=(15,2))\n",
    "sns.boxplot(ax=ax, data=df_pricing.rental_price_per_day, orient=\"h\")"
   ]
  },
  {
   "cell_type": "markdown",
   "id": "0a3500d0-3269-46f3-a427-4684789070da",
   "metadata": {},
   "source": [
    "## We can decide to remove the rentals highers than 300."
   ]
  },
  {
   "cell_type": "code",
   "execution_count": 74,
   "id": "15143aa1-1a88-47d0-8eea-426540b6d62f",
   "metadata": {},
   "outputs": [
    {
     "name": "stdout",
     "output_type": "stream",
     "text": [
      "Row count before filtering : 4836\n",
      "Row count after filtering : 4833\n"
     ]
    }
   ],
   "source": [
    "print(\"Row count before filtering :\", df_pricing.shape[0])\n",
    "df_pricing = df_pricing[df_pricing.rental_price_per_day < 300]\n",
    "print(\"Row count after filtering :\", df_pricing.shape[0])"
   ]
  },
  {
   "cell_type": "markdown",
   "id": "43a287e7-fcde-4c43-a208-855d599cafd3",
   "metadata": {},
   "source": [
    "# The dataset is cleaned up. Let's try to predict the pricing following all others features !"
   ]
  },
  {
   "cell_type": "markdown",
   "id": "490c726a-176f-4e0b-ba9d-f4a4e470ee26",
   "metadata": {},
   "source": [
    "## Let's check correlations between some of the features"
   ]
  },
  {
   "cell_type": "code",
   "execution_count": 98,
   "id": "91ce5448-9d7c-4551-8fe5-78546217f587",
   "metadata": {},
   "outputs": [
    {
     "name": "stderr",
     "output_type": "stream",
     "text": [
      "C:\\Users\\ylequ\\AppData\\Local\\Temp\\ipykernel_2252\\1073128343.py:1: FutureWarning:\n",
      "\n",
      "The default value of numeric_only in DataFrame.corr is deprecated. In a future version, it will default to False. Select only valid columns or specify the value of numeric_only to silence this warning.\n",
      "\n"
     ]
    },
    {
     "data": {
      "application/vnd.plotly.v1+json": {
       "config": {
        "plotlyServerURL": "https://plot.ly"
       },
       "data": [
        {
         "colorscale": [
          [
           0,
           "#0d0887"
          ],
          [
           0.1111111111111111,
           "#46039f"
          ],
          [
           0.2222222222222222,
           "#7201a8"
          ],
          [
           0.3333333333333333,
           "#9c179e"
          ],
          [
           0.4444444444444444,
           "#bd3786"
          ],
          [
           0.5555555555555556,
           "#d8576b"
          ],
          [
           0.6666666666666666,
           "#ed7953"
          ],
          [
           0.7777777777777778,
           "#fb9f3a"
          ],
          [
           0.8888888888888888,
           "#fdca26"
          ],
          [
           1,
           "#f0f921"
          ]
         ],
         "reversescale": false,
         "showscale": false,
         "type": "heatmap",
         "x": [
          "mileage",
          "engine_power",
          "private_parking_available",
          "has_gps",
          "has_air_conditioning",
          "automatic_car",
          "has_getaround_connect",
          "has_speed_regulator",
          "winter_tires",
          "rental_price_per_day"
         ],
         "y": [
          "mileage",
          "engine_power",
          "private_parking_available",
          "has_gps",
          "has_air_conditioning",
          "automatic_car",
          "has_getaround_connect",
          "has_speed_regulator",
          "winter_tires",
          "rental_price_per_day"
         ],
         "z": [
          [
           1,
           0.04,
           0.07,
           0.02,
           0.01,
           0.05,
           0.05,
           0.03,
           0.16,
           0.45
          ],
          [
           0.04,
           1,
           0.33,
           0.2,
           0.31,
           0.45,
           0.35,
           0.23,
           0.01,
           0.63
          ],
          [
           0.07,
           0.33,
           1,
           0.31,
           0.26,
           0.23,
           0.28,
           0.13,
           0.24,
           0.29
          ],
          [
           0.02,
           0.2,
           0.31,
           1,
           0.15,
           0.15,
           0.29,
           0.14,
           0.37,
           0.32
          ],
          [
           0.01,
           0.31,
           0.26,
           0.15,
           1,
           0.2,
           0.2,
           0.14,
           0.06,
           0.25
          ],
          [
           0.05,
           0.45,
           0.23,
           0.15,
           0.2,
           1,
           0.25,
           0.15,
           0.13,
           0.43
          ],
          [
           0.05,
           0.35,
           0.28,
           0.29,
           0.2,
           0.25,
           1,
           0.26,
           0.2,
           0.33
          ],
          [
           0.03,
           0.23,
           0.13,
           0.14,
           0.14,
           0.15,
           0.26,
           1,
           0.13,
           0.24
          ],
          [
           0.16,
           0.01,
           0.24,
           0.37,
           0.06,
           0.13,
           0.2,
           0.13,
           1,
           0.03
          ],
          [
           0.45,
           0.63,
           0.29,
           0.32,
           0.25,
           0.43,
           0.33,
           0.24,
           0.03,
           1
          ]
         ]
        }
       ],
       "layout": {
        "annotations": [
         {
          "font": {
           "color": "#000000"
          },
          "showarrow": false,
          "text": "1.0",
          "x": "mileage",
          "xref": "x",
          "y": "mileage",
          "yref": "y"
         },
         {
          "font": {
           "color": "#FFFFFF"
          },
          "showarrow": false,
          "text": "0.04",
          "x": "engine_power",
          "xref": "x",
          "y": "mileage",
          "yref": "y"
         },
         {
          "font": {
           "color": "#FFFFFF"
          },
          "showarrow": false,
          "text": "0.07",
          "x": "private_parking_available",
          "xref": "x",
          "y": "mileage",
          "yref": "y"
         },
         {
          "font": {
           "color": "#FFFFFF"
          },
          "showarrow": false,
          "text": "0.02",
          "x": "has_gps",
          "xref": "x",
          "y": "mileage",
          "yref": "y"
         },
         {
          "font": {
           "color": "#FFFFFF"
          },
          "showarrow": false,
          "text": "0.01",
          "x": "has_air_conditioning",
          "xref": "x",
          "y": "mileage",
          "yref": "y"
         },
         {
          "font": {
           "color": "#FFFFFF"
          },
          "showarrow": false,
          "text": "0.05",
          "x": "automatic_car",
          "xref": "x",
          "y": "mileage",
          "yref": "y"
         },
         {
          "font": {
           "color": "#FFFFFF"
          },
          "showarrow": false,
          "text": "0.05",
          "x": "has_getaround_connect",
          "xref": "x",
          "y": "mileage",
          "yref": "y"
         },
         {
          "font": {
           "color": "#FFFFFF"
          },
          "showarrow": false,
          "text": "0.03",
          "x": "has_speed_regulator",
          "xref": "x",
          "y": "mileage",
          "yref": "y"
         },
         {
          "font": {
           "color": "#FFFFFF"
          },
          "showarrow": false,
          "text": "0.16",
          "x": "winter_tires",
          "xref": "x",
          "y": "mileage",
          "yref": "y"
         },
         {
          "font": {
           "color": "#FFFFFF"
          },
          "showarrow": false,
          "text": "0.45",
          "x": "rental_price_per_day",
          "xref": "x",
          "y": "mileage",
          "yref": "y"
         },
         {
          "font": {
           "color": "#FFFFFF"
          },
          "showarrow": false,
          "text": "0.04",
          "x": "mileage",
          "xref": "x",
          "y": "engine_power",
          "yref": "y"
         },
         {
          "font": {
           "color": "#000000"
          },
          "showarrow": false,
          "text": "1.0",
          "x": "engine_power",
          "xref": "x",
          "y": "engine_power",
          "yref": "y"
         },
         {
          "font": {
           "color": "#FFFFFF"
          },
          "showarrow": false,
          "text": "0.33",
          "x": "private_parking_available",
          "xref": "x",
          "y": "engine_power",
          "yref": "y"
         },
         {
          "font": {
           "color": "#FFFFFF"
          },
          "showarrow": false,
          "text": "0.2",
          "x": "has_gps",
          "xref": "x",
          "y": "engine_power",
          "yref": "y"
         },
         {
          "font": {
           "color": "#FFFFFF"
          },
          "showarrow": false,
          "text": "0.31",
          "x": "has_air_conditioning",
          "xref": "x",
          "y": "engine_power",
          "yref": "y"
         },
         {
          "font": {
           "color": "#FFFFFF"
          },
          "showarrow": false,
          "text": "0.45",
          "x": "automatic_car",
          "xref": "x",
          "y": "engine_power",
          "yref": "y"
         },
         {
          "font": {
           "color": "#FFFFFF"
          },
          "showarrow": false,
          "text": "0.35",
          "x": "has_getaround_connect",
          "xref": "x",
          "y": "engine_power",
          "yref": "y"
         },
         {
          "font": {
           "color": "#FFFFFF"
          },
          "showarrow": false,
          "text": "0.23",
          "x": "has_speed_regulator",
          "xref": "x",
          "y": "engine_power",
          "yref": "y"
         },
         {
          "font": {
           "color": "#FFFFFF"
          },
          "showarrow": false,
          "text": "0.01",
          "x": "winter_tires",
          "xref": "x",
          "y": "engine_power",
          "yref": "y"
         },
         {
          "font": {
           "color": "#000000"
          },
          "showarrow": false,
          "text": "0.63",
          "x": "rental_price_per_day",
          "xref": "x",
          "y": "engine_power",
          "yref": "y"
         },
         {
          "font": {
           "color": "#FFFFFF"
          },
          "showarrow": false,
          "text": "0.07",
          "x": "mileage",
          "xref": "x",
          "y": "private_parking_available",
          "yref": "y"
         },
         {
          "font": {
           "color": "#FFFFFF"
          },
          "showarrow": false,
          "text": "0.33",
          "x": "engine_power",
          "xref": "x",
          "y": "private_parking_available",
          "yref": "y"
         },
         {
          "font": {
           "color": "#000000"
          },
          "showarrow": false,
          "text": "1.0",
          "x": "private_parking_available",
          "xref": "x",
          "y": "private_parking_available",
          "yref": "y"
         },
         {
          "font": {
           "color": "#FFFFFF"
          },
          "showarrow": false,
          "text": "0.31",
          "x": "has_gps",
          "xref": "x",
          "y": "private_parking_available",
          "yref": "y"
         },
         {
          "font": {
           "color": "#FFFFFF"
          },
          "showarrow": false,
          "text": "0.26",
          "x": "has_air_conditioning",
          "xref": "x",
          "y": "private_parking_available",
          "yref": "y"
         },
         {
          "font": {
           "color": "#FFFFFF"
          },
          "showarrow": false,
          "text": "0.23",
          "x": "automatic_car",
          "xref": "x",
          "y": "private_parking_available",
          "yref": "y"
         },
         {
          "font": {
           "color": "#FFFFFF"
          },
          "showarrow": false,
          "text": "0.28",
          "x": "has_getaround_connect",
          "xref": "x",
          "y": "private_parking_available",
          "yref": "y"
         },
         {
          "font": {
           "color": "#FFFFFF"
          },
          "showarrow": false,
          "text": "0.13",
          "x": "has_speed_regulator",
          "xref": "x",
          "y": "private_parking_available",
          "yref": "y"
         },
         {
          "font": {
           "color": "#FFFFFF"
          },
          "showarrow": false,
          "text": "0.24",
          "x": "winter_tires",
          "xref": "x",
          "y": "private_parking_available",
          "yref": "y"
         },
         {
          "font": {
           "color": "#FFFFFF"
          },
          "showarrow": false,
          "text": "0.29",
          "x": "rental_price_per_day",
          "xref": "x",
          "y": "private_parking_available",
          "yref": "y"
         },
         {
          "font": {
           "color": "#FFFFFF"
          },
          "showarrow": false,
          "text": "0.02",
          "x": "mileage",
          "xref": "x",
          "y": "has_gps",
          "yref": "y"
         },
         {
          "font": {
           "color": "#FFFFFF"
          },
          "showarrow": false,
          "text": "0.2",
          "x": "engine_power",
          "xref": "x",
          "y": "has_gps",
          "yref": "y"
         },
         {
          "font": {
           "color": "#FFFFFF"
          },
          "showarrow": false,
          "text": "0.31",
          "x": "private_parking_available",
          "xref": "x",
          "y": "has_gps",
          "yref": "y"
         },
         {
          "font": {
           "color": "#000000"
          },
          "showarrow": false,
          "text": "1.0",
          "x": "has_gps",
          "xref": "x",
          "y": "has_gps",
          "yref": "y"
         },
         {
          "font": {
           "color": "#FFFFFF"
          },
          "showarrow": false,
          "text": "0.15",
          "x": "has_air_conditioning",
          "xref": "x",
          "y": "has_gps",
          "yref": "y"
         },
         {
          "font": {
           "color": "#FFFFFF"
          },
          "showarrow": false,
          "text": "0.15",
          "x": "automatic_car",
          "xref": "x",
          "y": "has_gps",
          "yref": "y"
         },
         {
          "font": {
           "color": "#FFFFFF"
          },
          "showarrow": false,
          "text": "0.29",
          "x": "has_getaround_connect",
          "xref": "x",
          "y": "has_gps",
          "yref": "y"
         },
         {
          "font": {
           "color": "#FFFFFF"
          },
          "showarrow": false,
          "text": "0.14",
          "x": "has_speed_regulator",
          "xref": "x",
          "y": "has_gps",
          "yref": "y"
         },
         {
          "font": {
           "color": "#FFFFFF"
          },
          "showarrow": false,
          "text": "0.37",
          "x": "winter_tires",
          "xref": "x",
          "y": "has_gps",
          "yref": "y"
         },
         {
          "font": {
           "color": "#FFFFFF"
          },
          "showarrow": false,
          "text": "0.32",
          "x": "rental_price_per_day",
          "xref": "x",
          "y": "has_gps",
          "yref": "y"
         },
         {
          "font": {
           "color": "#FFFFFF"
          },
          "showarrow": false,
          "text": "0.01",
          "x": "mileage",
          "xref": "x",
          "y": "has_air_conditioning",
          "yref": "y"
         },
         {
          "font": {
           "color": "#FFFFFF"
          },
          "showarrow": false,
          "text": "0.31",
          "x": "engine_power",
          "xref": "x",
          "y": "has_air_conditioning",
          "yref": "y"
         },
         {
          "font": {
           "color": "#FFFFFF"
          },
          "showarrow": false,
          "text": "0.26",
          "x": "private_parking_available",
          "xref": "x",
          "y": "has_air_conditioning",
          "yref": "y"
         },
         {
          "font": {
           "color": "#FFFFFF"
          },
          "showarrow": false,
          "text": "0.15",
          "x": "has_gps",
          "xref": "x",
          "y": "has_air_conditioning",
          "yref": "y"
         },
         {
          "font": {
           "color": "#000000"
          },
          "showarrow": false,
          "text": "1.0",
          "x": "has_air_conditioning",
          "xref": "x",
          "y": "has_air_conditioning",
          "yref": "y"
         },
         {
          "font": {
           "color": "#FFFFFF"
          },
          "showarrow": false,
          "text": "0.2",
          "x": "automatic_car",
          "xref": "x",
          "y": "has_air_conditioning",
          "yref": "y"
         },
         {
          "font": {
           "color": "#FFFFFF"
          },
          "showarrow": false,
          "text": "0.2",
          "x": "has_getaround_connect",
          "xref": "x",
          "y": "has_air_conditioning",
          "yref": "y"
         },
         {
          "font": {
           "color": "#FFFFFF"
          },
          "showarrow": false,
          "text": "0.14",
          "x": "has_speed_regulator",
          "xref": "x",
          "y": "has_air_conditioning",
          "yref": "y"
         },
         {
          "font": {
           "color": "#FFFFFF"
          },
          "showarrow": false,
          "text": "0.06",
          "x": "winter_tires",
          "xref": "x",
          "y": "has_air_conditioning",
          "yref": "y"
         },
         {
          "font": {
           "color": "#FFFFFF"
          },
          "showarrow": false,
          "text": "0.25",
          "x": "rental_price_per_day",
          "xref": "x",
          "y": "has_air_conditioning",
          "yref": "y"
         },
         {
          "font": {
           "color": "#FFFFFF"
          },
          "showarrow": false,
          "text": "0.05",
          "x": "mileage",
          "xref": "x",
          "y": "automatic_car",
          "yref": "y"
         },
         {
          "font": {
           "color": "#FFFFFF"
          },
          "showarrow": false,
          "text": "0.45",
          "x": "engine_power",
          "xref": "x",
          "y": "automatic_car",
          "yref": "y"
         },
         {
          "font": {
           "color": "#FFFFFF"
          },
          "showarrow": false,
          "text": "0.23",
          "x": "private_parking_available",
          "xref": "x",
          "y": "automatic_car",
          "yref": "y"
         },
         {
          "font": {
           "color": "#FFFFFF"
          },
          "showarrow": false,
          "text": "0.15",
          "x": "has_gps",
          "xref": "x",
          "y": "automatic_car",
          "yref": "y"
         },
         {
          "font": {
           "color": "#FFFFFF"
          },
          "showarrow": false,
          "text": "0.2",
          "x": "has_air_conditioning",
          "xref": "x",
          "y": "automatic_car",
          "yref": "y"
         },
         {
          "font": {
           "color": "#000000"
          },
          "showarrow": false,
          "text": "1.0",
          "x": "automatic_car",
          "xref": "x",
          "y": "automatic_car",
          "yref": "y"
         },
         {
          "font": {
           "color": "#FFFFFF"
          },
          "showarrow": false,
          "text": "0.25",
          "x": "has_getaround_connect",
          "xref": "x",
          "y": "automatic_car",
          "yref": "y"
         },
         {
          "font": {
           "color": "#FFFFFF"
          },
          "showarrow": false,
          "text": "0.15",
          "x": "has_speed_regulator",
          "xref": "x",
          "y": "automatic_car",
          "yref": "y"
         },
         {
          "font": {
           "color": "#FFFFFF"
          },
          "showarrow": false,
          "text": "0.13",
          "x": "winter_tires",
          "xref": "x",
          "y": "automatic_car",
          "yref": "y"
         },
         {
          "font": {
           "color": "#FFFFFF"
          },
          "showarrow": false,
          "text": "0.43",
          "x": "rental_price_per_day",
          "xref": "x",
          "y": "automatic_car",
          "yref": "y"
         },
         {
          "font": {
           "color": "#FFFFFF"
          },
          "showarrow": false,
          "text": "0.05",
          "x": "mileage",
          "xref": "x",
          "y": "has_getaround_connect",
          "yref": "y"
         },
         {
          "font": {
           "color": "#FFFFFF"
          },
          "showarrow": false,
          "text": "0.35",
          "x": "engine_power",
          "xref": "x",
          "y": "has_getaround_connect",
          "yref": "y"
         },
         {
          "font": {
           "color": "#FFFFFF"
          },
          "showarrow": false,
          "text": "0.28",
          "x": "private_parking_available",
          "xref": "x",
          "y": "has_getaround_connect",
          "yref": "y"
         },
         {
          "font": {
           "color": "#FFFFFF"
          },
          "showarrow": false,
          "text": "0.29",
          "x": "has_gps",
          "xref": "x",
          "y": "has_getaround_connect",
          "yref": "y"
         },
         {
          "font": {
           "color": "#FFFFFF"
          },
          "showarrow": false,
          "text": "0.2",
          "x": "has_air_conditioning",
          "xref": "x",
          "y": "has_getaround_connect",
          "yref": "y"
         },
         {
          "font": {
           "color": "#FFFFFF"
          },
          "showarrow": false,
          "text": "0.25",
          "x": "automatic_car",
          "xref": "x",
          "y": "has_getaround_connect",
          "yref": "y"
         },
         {
          "font": {
           "color": "#000000"
          },
          "showarrow": false,
          "text": "1.0",
          "x": "has_getaround_connect",
          "xref": "x",
          "y": "has_getaround_connect",
          "yref": "y"
         },
         {
          "font": {
           "color": "#FFFFFF"
          },
          "showarrow": false,
          "text": "0.26",
          "x": "has_speed_regulator",
          "xref": "x",
          "y": "has_getaround_connect",
          "yref": "y"
         },
         {
          "font": {
           "color": "#FFFFFF"
          },
          "showarrow": false,
          "text": "0.2",
          "x": "winter_tires",
          "xref": "x",
          "y": "has_getaround_connect",
          "yref": "y"
         },
         {
          "font": {
           "color": "#FFFFFF"
          },
          "showarrow": false,
          "text": "0.33",
          "x": "rental_price_per_day",
          "xref": "x",
          "y": "has_getaround_connect",
          "yref": "y"
         },
         {
          "font": {
           "color": "#FFFFFF"
          },
          "showarrow": false,
          "text": "0.03",
          "x": "mileage",
          "xref": "x",
          "y": "has_speed_regulator",
          "yref": "y"
         },
         {
          "font": {
           "color": "#FFFFFF"
          },
          "showarrow": false,
          "text": "0.23",
          "x": "engine_power",
          "xref": "x",
          "y": "has_speed_regulator",
          "yref": "y"
         },
         {
          "font": {
           "color": "#FFFFFF"
          },
          "showarrow": false,
          "text": "0.13",
          "x": "private_parking_available",
          "xref": "x",
          "y": "has_speed_regulator",
          "yref": "y"
         },
         {
          "font": {
           "color": "#FFFFFF"
          },
          "showarrow": false,
          "text": "0.14",
          "x": "has_gps",
          "xref": "x",
          "y": "has_speed_regulator",
          "yref": "y"
         },
         {
          "font": {
           "color": "#FFFFFF"
          },
          "showarrow": false,
          "text": "0.14",
          "x": "has_air_conditioning",
          "xref": "x",
          "y": "has_speed_regulator",
          "yref": "y"
         },
         {
          "font": {
           "color": "#FFFFFF"
          },
          "showarrow": false,
          "text": "0.15",
          "x": "automatic_car",
          "xref": "x",
          "y": "has_speed_regulator",
          "yref": "y"
         },
         {
          "font": {
           "color": "#FFFFFF"
          },
          "showarrow": false,
          "text": "0.26",
          "x": "has_getaround_connect",
          "xref": "x",
          "y": "has_speed_regulator",
          "yref": "y"
         },
         {
          "font": {
           "color": "#000000"
          },
          "showarrow": false,
          "text": "1.0",
          "x": "has_speed_regulator",
          "xref": "x",
          "y": "has_speed_regulator",
          "yref": "y"
         },
         {
          "font": {
           "color": "#FFFFFF"
          },
          "showarrow": false,
          "text": "0.13",
          "x": "winter_tires",
          "xref": "x",
          "y": "has_speed_regulator",
          "yref": "y"
         },
         {
          "font": {
           "color": "#FFFFFF"
          },
          "showarrow": false,
          "text": "0.24",
          "x": "rental_price_per_day",
          "xref": "x",
          "y": "has_speed_regulator",
          "yref": "y"
         },
         {
          "font": {
           "color": "#FFFFFF"
          },
          "showarrow": false,
          "text": "0.16",
          "x": "mileage",
          "xref": "x",
          "y": "winter_tires",
          "yref": "y"
         },
         {
          "font": {
           "color": "#FFFFFF"
          },
          "showarrow": false,
          "text": "0.01",
          "x": "engine_power",
          "xref": "x",
          "y": "winter_tires",
          "yref": "y"
         },
         {
          "font": {
           "color": "#FFFFFF"
          },
          "showarrow": false,
          "text": "0.24",
          "x": "private_parking_available",
          "xref": "x",
          "y": "winter_tires",
          "yref": "y"
         },
         {
          "font": {
           "color": "#FFFFFF"
          },
          "showarrow": false,
          "text": "0.37",
          "x": "has_gps",
          "xref": "x",
          "y": "winter_tires",
          "yref": "y"
         },
         {
          "font": {
           "color": "#FFFFFF"
          },
          "showarrow": false,
          "text": "0.06",
          "x": "has_air_conditioning",
          "xref": "x",
          "y": "winter_tires",
          "yref": "y"
         },
         {
          "font": {
           "color": "#FFFFFF"
          },
          "showarrow": false,
          "text": "0.13",
          "x": "automatic_car",
          "xref": "x",
          "y": "winter_tires",
          "yref": "y"
         },
         {
          "font": {
           "color": "#FFFFFF"
          },
          "showarrow": false,
          "text": "0.2",
          "x": "has_getaround_connect",
          "xref": "x",
          "y": "winter_tires",
          "yref": "y"
         },
         {
          "font": {
           "color": "#FFFFFF"
          },
          "showarrow": false,
          "text": "0.13",
          "x": "has_speed_regulator",
          "xref": "x",
          "y": "winter_tires",
          "yref": "y"
         },
         {
          "font": {
           "color": "#000000"
          },
          "showarrow": false,
          "text": "1.0",
          "x": "winter_tires",
          "xref": "x",
          "y": "winter_tires",
          "yref": "y"
         },
         {
          "font": {
           "color": "#FFFFFF"
          },
          "showarrow": false,
          "text": "0.03",
          "x": "rental_price_per_day",
          "xref": "x",
          "y": "winter_tires",
          "yref": "y"
         },
         {
          "font": {
           "color": "#FFFFFF"
          },
          "showarrow": false,
          "text": "0.45",
          "x": "mileage",
          "xref": "x",
          "y": "rental_price_per_day",
          "yref": "y"
         },
         {
          "font": {
           "color": "#000000"
          },
          "showarrow": false,
          "text": "0.63",
          "x": "engine_power",
          "xref": "x",
          "y": "rental_price_per_day",
          "yref": "y"
         },
         {
          "font": {
           "color": "#FFFFFF"
          },
          "showarrow": false,
          "text": "0.29",
          "x": "private_parking_available",
          "xref": "x",
          "y": "rental_price_per_day",
          "yref": "y"
         },
         {
          "font": {
           "color": "#FFFFFF"
          },
          "showarrow": false,
          "text": "0.32",
          "x": "has_gps",
          "xref": "x",
          "y": "rental_price_per_day",
          "yref": "y"
         },
         {
          "font": {
           "color": "#FFFFFF"
          },
          "showarrow": false,
          "text": "0.25",
          "x": "has_air_conditioning",
          "xref": "x",
          "y": "rental_price_per_day",
          "yref": "y"
         },
         {
          "font": {
           "color": "#FFFFFF"
          },
          "showarrow": false,
          "text": "0.43",
          "x": "automatic_car",
          "xref": "x",
          "y": "rental_price_per_day",
          "yref": "y"
         },
         {
          "font": {
           "color": "#FFFFFF"
          },
          "showarrow": false,
          "text": "0.33",
          "x": "has_getaround_connect",
          "xref": "x",
          "y": "rental_price_per_day",
          "yref": "y"
         },
         {
          "font": {
           "color": "#FFFFFF"
          },
          "showarrow": false,
          "text": "0.24",
          "x": "has_speed_regulator",
          "xref": "x",
          "y": "rental_price_per_day",
          "yref": "y"
         },
         {
          "font": {
           "color": "#FFFFFF"
          },
          "showarrow": false,
          "text": "0.03",
          "x": "winter_tires",
          "xref": "x",
          "y": "rental_price_per_day",
          "yref": "y"
         },
         {
          "font": {
           "color": "#000000"
          },
          "showarrow": false,
          "text": "1.0",
          "x": "rental_price_per_day",
          "xref": "x",
          "y": "rental_price_per_day",
          "yref": "y"
         }
        ],
        "autosize": true,
        "template": {
         "data": {
          "bar": [
           {
            "error_x": {
             "color": "#2a3f5f"
            },
            "error_y": {
             "color": "#2a3f5f"
            },
            "marker": {
             "line": {
              "color": "#E5ECF6",
              "width": 0.5
             },
             "pattern": {
              "fillmode": "overlay",
              "size": 10,
              "solidity": 0.2
             }
            },
            "type": "bar"
           }
          ],
          "barpolar": [
           {
            "marker": {
             "line": {
              "color": "#E5ECF6",
              "width": 0.5
             },
             "pattern": {
              "fillmode": "overlay",
              "size": 10,
              "solidity": 0.2
             }
            },
            "type": "barpolar"
           }
          ],
          "carpet": [
           {
            "aaxis": {
             "endlinecolor": "#2a3f5f",
             "gridcolor": "white",
             "linecolor": "white",
             "minorgridcolor": "white",
             "startlinecolor": "#2a3f5f"
            },
            "baxis": {
             "endlinecolor": "#2a3f5f",
             "gridcolor": "white",
             "linecolor": "white",
             "minorgridcolor": "white",
             "startlinecolor": "#2a3f5f"
            },
            "type": "carpet"
           }
          ],
          "choropleth": [
           {
            "colorbar": {
             "outlinewidth": 0,
             "ticks": ""
            },
            "type": "choropleth"
           }
          ],
          "contour": [
           {
            "colorbar": {
             "outlinewidth": 0,
             "ticks": ""
            },
            "colorscale": [
             [
              0,
              "#0d0887"
             ],
             [
              0.1111111111111111,
              "#46039f"
             ],
             [
              0.2222222222222222,
              "#7201a8"
             ],
             [
              0.3333333333333333,
              "#9c179e"
             ],
             [
              0.4444444444444444,
              "#bd3786"
             ],
             [
              0.5555555555555556,
              "#d8576b"
             ],
             [
              0.6666666666666666,
              "#ed7953"
             ],
             [
              0.7777777777777778,
              "#fb9f3a"
             ],
             [
              0.8888888888888888,
              "#fdca26"
             ],
             [
              1,
              "#f0f921"
             ]
            ],
            "type": "contour"
           }
          ],
          "contourcarpet": [
           {
            "colorbar": {
             "outlinewidth": 0,
             "ticks": ""
            },
            "type": "contourcarpet"
           }
          ],
          "heatmap": [
           {
            "colorbar": {
             "outlinewidth": 0,
             "ticks": ""
            },
            "colorscale": [
             [
              0,
              "#0d0887"
             ],
             [
              0.1111111111111111,
              "#46039f"
             ],
             [
              0.2222222222222222,
              "#7201a8"
             ],
             [
              0.3333333333333333,
              "#9c179e"
             ],
             [
              0.4444444444444444,
              "#bd3786"
             ],
             [
              0.5555555555555556,
              "#d8576b"
             ],
             [
              0.6666666666666666,
              "#ed7953"
             ],
             [
              0.7777777777777778,
              "#fb9f3a"
             ],
             [
              0.8888888888888888,
              "#fdca26"
             ],
             [
              1,
              "#f0f921"
             ]
            ],
            "type": "heatmap"
           }
          ],
          "heatmapgl": [
           {
            "colorbar": {
             "outlinewidth": 0,
             "ticks": ""
            },
            "colorscale": [
             [
              0,
              "#0d0887"
             ],
             [
              0.1111111111111111,
              "#46039f"
             ],
             [
              0.2222222222222222,
              "#7201a8"
             ],
             [
              0.3333333333333333,
              "#9c179e"
             ],
             [
              0.4444444444444444,
              "#bd3786"
             ],
             [
              0.5555555555555556,
              "#d8576b"
             ],
             [
              0.6666666666666666,
              "#ed7953"
             ],
             [
              0.7777777777777778,
              "#fb9f3a"
             ],
             [
              0.8888888888888888,
              "#fdca26"
             ],
             [
              1,
              "#f0f921"
             ]
            ],
            "type": "heatmapgl"
           }
          ],
          "histogram": [
           {
            "marker": {
             "pattern": {
              "fillmode": "overlay",
              "size": 10,
              "solidity": 0.2
             }
            },
            "type": "histogram"
           }
          ],
          "histogram2d": [
           {
            "colorbar": {
             "outlinewidth": 0,
             "ticks": ""
            },
            "colorscale": [
             [
              0,
              "#0d0887"
             ],
             [
              0.1111111111111111,
              "#46039f"
             ],
             [
              0.2222222222222222,
              "#7201a8"
             ],
             [
              0.3333333333333333,
              "#9c179e"
             ],
             [
              0.4444444444444444,
              "#bd3786"
             ],
             [
              0.5555555555555556,
              "#d8576b"
             ],
             [
              0.6666666666666666,
              "#ed7953"
             ],
             [
              0.7777777777777778,
              "#fb9f3a"
             ],
             [
              0.8888888888888888,
              "#fdca26"
             ],
             [
              1,
              "#f0f921"
             ]
            ],
            "type": "histogram2d"
           }
          ],
          "histogram2dcontour": [
           {
            "colorbar": {
             "outlinewidth": 0,
             "ticks": ""
            },
            "colorscale": [
             [
              0,
              "#0d0887"
             ],
             [
              0.1111111111111111,
              "#46039f"
             ],
             [
              0.2222222222222222,
              "#7201a8"
             ],
             [
              0.3333333333333333,
              "#9c179e"
             ],
             [
              0.4444444444444444,
              "#bd3786"
             ],
             [
              0.5555555555555556,
              "#d8576b"
             ],
             [
              0.6666666666666666,
              "#ed7953"
             ],
             [
              0.7777777777777778,
              "#fb9f3a"
             ],
             [
              0.8888888888888888,
              "#fdca26"
             ],
             [
              1,
              "#f0f921"
             ]
            ],
            "type": "histogram2dcontour"
           }
          ],
          "mesh3d": [
           {
            "colorbar": {
             "outlinewidth": 0,
             "ticks": ""
            },
            "type": "mesh3d"
           }
          ],
          "parcoords": [
           {
            "line": {
             "colorbar": {
              "outlinewidth": 0,
              "ticks": ""
             }
            },
            "type": "parcoords"
           }
          ],
          "pie": [
           {
            "automargin": true,
            "type": "pie"
           }
          ],
          "scatter": [
           {
            "fillpattern": {
             "fillmode": "overlay",
             "size": 10,
             "solidity": 0.2
            },
            "type": "scatter"
           }
          ],
          "scatter3d": [
           {
            "line": {
             "colorbar": {
              "outlinewidth": 0,
              "ticks": ""
             }
            },
            "marker": {
             "colorbar": {
              "outlinewidth": 0,
              "ticks": ""
             }
            },
            "type": "scatter3d"
           }
          ],
          "scattercarpet": [
           {
            "marker": {
             "colorbar": {
              "outlinewidth": 0,
              "ticks": ""
             }
            },
            "type": "scattercarpet"
           }
          ],
          "scattergeo": [
           {
            "marker": {
             "colorbar": {
              "outlinewidth": 0,
              "ticks": ""
             }
            },
            "type": "scattergeo"
           }
          ],
          "scattergl": [
           {
            "marker": {
             "colorbar": {
              "outlinewidth": 0,
              "ticks": ""
             }
            },
            "type": "scattergl"
           }
          ],
          "scattermapbox": [
           {
            "marker": {
             "colorbar": {
              "outlinewidth": 0,
              "ticks": ""
             }
            },
            "type": "scattermapbox"
           }
          ],
          "scatterpolar": [
           {
            "marker": {
             "colorbar": {
              "outlinewidth": 0,
              "ticks": ""
             }
            },
            "type": "scatterpolar"
           }
          ],
          "scatterpolargl": [
           {
            "marker": {
             "colorbar": {
              "outlinewidth": 0,
              "ticks": ""
             }
            },
            "type": "scatterpolargl"
           }
          ],
          "scatterternary": [
           {
            "marker": {
             "colorbar": {
              "outlinewidth": 0,
              "ticks": ""
             }
            },
            "type": "scatterternary"
           }
          ],
          "surface": [
           {
            "colorbar": {
             "outlinewidth": 0,
             "ticks": ""
            },
            "colorscale": [
             [
              0,
              "#0d0887"
             ],
             [
              0.1111111111111111,
              "#46039f"
             ],
             [
              0.2222222222222222,
              "#7201a8"
             ],
             [
              0.3333333333333333,
              "#9c179e"
             ],
             [
              0.4444444444444444,
              "#bd3786"
             ],
             [
              0.5555555555555556,
              "#d8576b"
             ],
             [
              0.6666666666666666,
              "#ed7953"
             ],
             [
              0.7777777777777778,
              "#fb9f3a"
             ],
             [
              0.8888888888888888,
              "#fdca26"
             ],
             [
              1,
              "#f0f921"
             ]
            ],
            "type": "surface"
           }
          ],
          "table": [
           {
            "cells": {
             "fill": {
              "color": "#EBF0F8"
             },
             "line": {
              "color": "white"
             }
            },
            "header": {
             "fill": {
              "color": "#C8D4E3"
             },
             "line": {
              "color": "white"
             }
            },
            "type": "table"
           }
          ]
         },
         "layout": {
          "annotationdefaults": {
           "arrowcolor": "#2a3f5f",
           "arrowhead": 0,
           "arrowwidth": 1
          },
          "autotypenumbers": "strict",
          "coloraxis": {
           "colorbar": {
            "outlinewidth": 0,
            "ticks": ""
           }
          },
          "colorscale": {
           "diverging": [
            [
             0,
             "#8e0152"
            ],
            [
             0.1,
             "#c51b7d"
            ],
            [
             0.2,
             "#de77ae"
            ],
            [
             0.3,
             "#f1b6da"
            ],
            [
             0.4,
             "#fde0ef"
            ],
            [
             0.5,
             "#f7f7f7"
            ],
            [
             0.6,
             "#e6f5d0"
            ],
            [
             0.7,
             "#b8e186"
            ],
            [
             0.8,
             "#7fbc41"
            ],
            [
             0.9,
             "#4d9221"
            ],
            [
             1,
             "#276419"
            ]
           ],
           "sequential": [
            [
             0,
             "#0d0887"
            ],
            [
             0.1111111111111111,
             "#46039f"
            ],
            [
             0.2222222222222222,
             "#7201a8"
            ],
            [
             0.3333333333333333,
             "#9c179e"
            ],
            [
             0.4444444444444444,
             "#bd3786"
            ],
            [
             0.5555555555555556,
             "#d8576b"
            ],
            [
             0.6666666666666666,
             "#ed7953"
            ],
            [
             0.7777777777777778,
             "#fb9f3a"
            ],
            [
             0.8888888888888888,
             "#fdca26"
            ],
            [
             1,
             "#f0f921"
            ]
           ],
           "sequentialminus": [
            [
             0,
             "#0d0887"
            ],
            [
             0.1111111111111111,
             "#46039f"
            ],
            [
             0.2222222222222222,
             "#7201a8"
            ],
            [
             0.3333333333333333,
             "#9c179e"
            ],
            [
             0.4444444444444444,
             "#bd3786"
            ],
            [
             0.5555555555555556,
             "#d8576b"
            ],
            [
             0.6666666666666666,
             "#ed7953"
            ],
            [
             0.7777777777777778,
             "#fb9f3a"
            ],
            [
             0.8888888888888888,
             "#fdca26"
            ],
            [
             1,
             "#f0f921"
            ]
           ]
          },
          "colorway": [
           "#636efa",
           "#EF553B",
           "#00cc96",
           "#ab63fa",
           "#FFA15A",
           "#19d3f3",
           "#FF6692",
           "#B6E880",
           "#FF97FF",
           "#FECB52"
          ],
          "font": {
           "color": "#2a3f5f"
          },
          "geo": {
           "bgcolor": "white",
           "lakecolor": "white",
           "landcolor": "#E5ECF6",
           "showlakes": true,
           "showland": true,
           "subunitcolor": "white"
          },
          "hoverlabel": {
           "align": "left"
          },
          "hovermode": "closest",
          "mapbox": {
           "style": "light"
          },
          "paper_bgcolor": "white",
          "plot_bgcolor": "#E5ECF6",
          "polar": {
           "angularaxis": {
            "gridcolor": "white",
            "linecolor": "white",
            "ticks": ""
           },
           "bgcolor": "#E5ECF6",
           "radialaxis": {
            "gridcolor": "white",
            "linecolor": "white",
            "ticks": ""
           }
          },
          "scene": {
           "xaxis": {
            "backgroundcolor": "#E5ECF6",
            "gridcolor": "white",
            "gridwidth": 2,
            "linecolor": "white",
            "showbackground": true,
            "ticks": "",
            "zerolinecolor": "white"
           },
           "yaxis": {
            "backgroundcolor": "#E5ECF6",
            "gridcolor": "white",
            "gridwidth": 2,
            "linecolor": "white",
            "showbackground": true,
            "ticks": "",
            "zerolinecolor": "white"
           },
           "zaxis": {
            "backgroundcolor": "#E5ECF6",
            "gridcolor": "white",
            "gridwidth": 2,
            "linecolor": "white",
            "showbackground": true,
            "ticks": "",
            "zerolinecolor": "white"
           }
          },
          "shapedefaults": {
           "line": {
            "color": "#2a3f5f"
           }
          },
          "ternary": {
           "aaxis": {
            "gridcolor": "white",
            "linecolor": "white",
            "ticks": ""
           },
           "baxis": {
            "gridcolor": "white",
            "linecolor": "white",
            "ticks": ""
           },
           "bgcolor": "#E5ECF6",
           "caxis": {
            "gridcolor": "white",
            "linecolor": "white",
            "ticks": ""
           }
          },
          "title": {
           "x": 0.05
          },
          "xaxis": {
           "automargin": true,
           "gridcolor": "white",
           "linecolor": "white",
           "ticks": "",
           "title": {
            "standoff": 15
           },
           "zerolinecolor": "white",
           "zerolinewidth": 2
          },
          "yaxis": {
           "automargin": true,
           "gridcolor": "white",
           "linecolor": "white",
           "ticks": "",
           "title": {
            "standoff": 15
           },
           "zerolinecolor": "white",
           "zerolinewidth": 2
          }
         }
        },
        "xaxis": {
         "autorange": true,
         "dtick": 1,
         "gridcolor": "rgb(0, 0, 0)",
         "range": [
          -0.5,
          9.5
         ],
         "side": "top",
         "ticks": "",
         "type": "category"
        },
        "yaxis": {
         "autorange": true,
         "dtick": 1,
         "range": [
          -0.5310559006211181,
          9.531055900621118
         ],
         "ticks": "",
         "ticksuffix": "  ",
         "type": "category"
        }
       }
      },
      "image/png": "[encoded data removed]",
      "text/html": [
       "<div>                            <div id=\"e6e1509a-5a64-4584-81d6-367371324e2b\" class=\"plotly-graph-div\" style=\"height:525px; width:100%;\"></div>            <script type=\"text/javascript\">                require([\"plotly\"], function(Plotly) {                    window.PLOTLYENV=window.PLOTLYENV || {};                                    if (document.getElementById(\"e6e1509a-5a64-4584-81d6-367371324e2b\")) {                    Plotly.newPlot(                        \"e6e1509a-5a64-4584-81d6-367371324e2b\",                        [{\"colorscale\":[[0.0,\"#0d0887\"],[0.1111111111111111,\"#46039f\"],[0.2222222222222222,\"#7201a8\"],[0.3333333333333333,\"#9c179e\"],[0.4444444444444444,\"#bd3786\"],[0.5555555555555556,\"#d8576b\"],[0.6666666666666666,\"#ed7953\"],[0.7777777777777778,\"#fb9f3a\"],[0.8888888888888888,\"#fdca26\"],[1.0,\"#f0f921\"]],\"reversescale\":false,\"showscale\":false,\"x\":[\"mileage\",\"engine_power\",\"private_parking_available\",\"has_gps\",\"has_air_conditioning\",\"automatic_car\",\"has_getaround_connect\",\"has_speed_regulator\",\"winter_tires\",\"rental_price_per_day\"],\"y\":[\"mileage\",\"engine_power\",\"private_parking_available\",\"has_gps\",\"has_air_conditioning\",\"automatic_car\",\"has_getaround_connect\",\"has_speed_regulator\",\"winter_tires\",\"rental_price_per_day\"],\"z\":[[1.0,0.04,0.07,0.02,0.01,0.05,0.05,0.03,0.16,0.45],[0.04,1.0,0.33,0.2,0.31,0.45,0.35,0.23,0.01,0.63],[0.07,0.33,1.0,0.31,0.26,0.23,0.28,0.13,0.24,0.29],[0.02,0.2,0.31,1.0,0.15,0.15,0.29,0.14,0.37,0.32],[0.01,0.31,0.26,0.15,1.0,0.2,0.2,0.14,0.06,0.25],[0.05,0.45,0.23,0.15,0.2,1.0,0.25,0.15,0.13,0.43],[0.05,0.35,0.28,0.29,0.2,0.25,1.0,0.26,0.2,0.33],[0.03,0.23,0.13,0.14,0.14,0.15,0.26,1.0,0.13,0.24],[0.16,0.01,0.24,0.37,0.06,0.13,0.2,0.13,1.0,0.03],[0.45,0.63,0.29,0.32,0.25,0.43,0.33,0.24,0.03,1.0]],\"type\":\"heatmap\"}],                        {\"annotations\":[{\"font\":{\"color\":\"#000000\"},\"showarrow\":false,\"text\":\"1.0\",\"x\":\"mileage\",\"xref\":\"x\",\"y\":\"mileage\",\"yref\":\"y\"},{\"font\":{\"color\":\"#FFFFFF\"},\"showarrow\":false,\"text\":\"0.04\",\"x\":\"engine_power\",\"xref\":\"x\",\"y\":\"mileage\",\"yref\":\"y\"},{\"font\":{\"color\":\"#FFFFFF\"},\"showarrow\":false,\"text\":\"0.07\",\"x\":\"private_parking_available\",\"xref\":\"x\",\"y\":\"mileage\",\"yref\":\"y\"},{\"font\":{\"color\":\"#FFFFFF\"},\"showarrow\":false,\"text\":\"0.02\",\"x\":\"has_gps\",\"xref\":\"x\",\"y\":\"mileage\",\"yref\":\"y\"},{\"font\":{\"color\":\"#FFFFFF\"},\"showarrow\":false,\"text\":\"0.01\",\"x\":\"has_air_conditioning\",\"xref\":\"x\",\"y\":\"mileage\",\"yref\":\"y\"},{\"font\":{\"color\":\"#FFFFFF\"},\"showarrow\":false,\"text\":\"0.05\",\"x\":\"automatic_car\",\"xref\":\"x\",\"y\":\"mileage\",\"yref\":\"y\"},{\"font\":{\"color\":\"#FFFFFF\"},\"showarrow\":false,\"text\":\"0.05\",\"x\":\"has_getaround_connect\",\"xref\":\"x\",\"y\":\"mileage\",\"yref\":\"y\"},{\"font\":{\"color\":\"#FFFFFF\"},\"showarrow\":false,\"text\":\"0.03\",\"x\":\"has_speed_regulator\",\"xref\":\"x\",\"y\":\"mileage\",\"yref\":\"y\"},{\"font\":{\"color\":\"#FFFFFF\"},\"showarrow\":false,\"text\":\"0.16\",\"x\":\"winter_tires\",\"xref\":\"x\",\"y\":\"mileage\",\"yref\":\"y\"},{\"font\":{\"color\":\"#FFFFFF\"},\"showarrow\":false,\"text\":\"0.45\",\"x\":\"rental_price_per_day\",\"xref\":\"x\",\"y\":\"mileage\",\"yref\":\"y\"},{\"font\":{\"color\":\"#FFFFFF\"},\"showarrow\":false,\"text\":\"0.04\",\"x\":\"mileage\",\"xref\":\"x\",\"y\":\"engine_power\",\"yref\":\"y\"},{\"font\":{\"color\":\"#000000\"},\"showarrow\":false,\"text\":\"1.0\",\"x\":\"engine_power\",\"xref\":\"x\",\"y\":\"engine_power\",\"yref\":\"y\"},{\"font\":{\"color\":\"#FFFFFF\"},\"showarrow\":false,\"text\":\"0.33\",\"x\":\"private_parking_available\",\"xref\":\"x\",\"y\":\"engine_power\",\"yref\":\"y\"},{\"font\":{\"color\":\"#FFFFFF\"},\"showarrow\":false,\"text\":\"0.2\",\"x\":\"has_gps\",\"xref\":\"x\",\"y\":\"engine_power\",\"yref\":\"y\"},{\"font\":{\"color\":\"#FFFFFF\"},\"showarrow\":false,\"text\":\"0.31\",\"x\":\"has_air_conditioning\",\"xref\":\"x\",\"y\":\"engine_power\",\"yref\":\"y\"},{\"font\":{\"color\":\"#FFFFFF\"},\"showarrow\":false,\"text\":\"0.45\",\"x\":\"automatic_car\",\"xref\":\"x\",\"y\":\"engine_power\",\"yref\":\"y\"},{\"font\":{\"color\":\"#FFFFFF\"},\"showarrow\":false,\"text\":\"0.35\",\"x\":\"has_getaround_connect\",\"xref\":\"x\",\"y\":\"engine_power\",\"yref\":\"y\"},{\"font\":{\"color\":\"#FFFFFF\"},\"showarrow\":false,\"text\":\"0.23\",\"x\":\"has_speed_regulator\",\"xref\":\"x\",\"y\":\"engine_power\",\"yref\":\"y\"},{\"font\":{\"color\":\"#FFFFFF\"},\"showarrow\":false,\"text\":\"0.01\",\"x\":\"winter_tires\",\"xref\":\"x\",\"y\":\"engine_power\",\"yref\":\"y\"},{\"font\":{\"color\":\"#000000\"},\"showarrow\":false,\"text\":\"0.63\",\"x\":\"rental_price_per_day\",\"xref\":\"x\",\"y\":\"engine_power\",\"yref\":\"y\"},{\"font\":{\"color\":\"#FFFFFF\"},\"showarrow\":false,\"text\":\"0.07\",\"x\":\"mileage\",\"xref\":\"x\",\"y\":\"private_parking_available\",\"yref\":\"y\"},{\"font\":{\"color\":\"#FFFFFF\"},\"showarrow\":false,\"text\":\"0.33\",\"x\":\"engine_power\",\"xref\":\"x\",\"y\":\"private_parking_available\",\"yref\":\"y\"},{\"font\":{\"color\":\"#000000\"},\"showarrow\":false,\"text\":\"1.0\",\"x\":\"private_parking_available\",\"xref\":\"x\",\"y\":\"private_parking_available\",\"yref\":\"y\"},{\"font\":{\"color\":\"#FFFFFF\"},\"showarrow\":false,\"text\":\"0.31\",\"x\":\"has_gps\",\"xref\":\"x\",\"y\":\"private_parking_available\",\"yref\":\"y\"},{\"font\":{\"color\":\"#FFFFFF\"},\"showarrow\":false,\"text\":\"0.26\",\"x\":\"has_air_conditioning\",\"xref\":\"x\",\"y\":\"private_parking_available\",\"yref\":\"y\"},{\"font\":{\"color\":\"#FFFFFF\"},\"showarrow\":false,\"text\":\"0.23\",\"x\":\"automatic_car\",\"xref\":\"x\",\"y\":\"private_parking_available\",\"yref\":\"y\"},{\"font\":{\"color\":\"#FFFFFF\"},\"showarrow\":false,\"text\":\"0.28\",\"x\":\"has_getaround_connect\",\"xref\":\"x\",\"y\":\"private_parking_available\",\"yref\":\"y\"},{\"font\":{\"color\":\"#FFFFFF\"},\"showarrow\":false,\"text\":\"0.13\",\"x\":\"has_speed_regulator\",\"xref\":\"x\",\"y\":\"private_parking_available\",\"yref\":\"y\"},{\"font\":{\"color\":\"#FFFFFF\"},\"showarrow\":false,\"text\":\"0.24\",\"x\":\"winter_tires\",\"xref\":\"x\",\"y\":\"private_parking_available\",\"yref\":\"y\"},{\"font\":{\"color\":\"#FFFFFF\"},\"showarrow\":false,\"text\":\"0.29\",\"x\":\"rental_price_per_day\",\"xref\":\"x\",\"y\":\"private_parking_available\",\"yref\":\"y\"},{\"font\":{\"color\":\"#FFFFFF\"},\"showarrow\":false,\"text\":\"0.02\",\"x\":\"mileage\",\"xref\":\"x\",\"y\":\"has_gps\",\"yref\":\"y\"},{\"font\":{\"color\":\"#FFFFFF\"},\"showarrow\":false,\"text\":\"0.2\",\"x\":\"engine_power\",\"xref\":\"x\",\"y\":\"has_gps\",\"yref\":\"y\"},{\"font\":{\"color\":\"#FFFFFF\"},\"showarrow\":false,\"text\":\"0.31\",\"x\":\"private_parking_available\",\"xref\":\"x\",\"y\":\"has_gps\",\"yref\":\"y\"},{\"font\":{\"color\":\"#000000\"},\"showarrow\":false,\"text\":\"1.0\",\"x\":\"has_gps\",\"xref\":\"x\",\"y\":\"has_gps\",\"yref\":\"y\"},{\"font\":{\"color\":\"#FFFFFF\"},\"showarrow\":false,\"text\":\"0.15\",\"x\":\"has_air_conditioning\",\"xref\":\"x\",\"y\":\"has_gps\",\"yref\":\"y\"},{\"font\":{\"color\":\"#FFFFFF\"},\"showarrow\":false,\"text\":\"0.15\",\"x\":\"automatic_car\",\"xref\":\"x\",\"y\":\"has_gps\",\"yref\":\"y\"},{\"font\":{\"color\":\"#FFFFFF\"},\"showarrow\":false,\"text\":\"0.29\",\"x\":\"has_getaround_connect\",\"xref\":\"x\",\"y\":\"has_gps\",\"yref\":\"y\"},{\"font\":{\"color\":\"#FFFFFF\"},\"showarrow\":false,\"text\":\"0.14\",\"x\":\"has_speed_regulator\",\"xref\":\"x\",\"y\":\"has_gps\",\"yref\":\"y\"},{\"font\":{\"color\":\"#FFFFFF\"},\"showarrow\":false,\"text\":\"0.37\",\"x\":\"winter_tires\",\"xref\":\"x\",\"y\":\"has_gps\",\"yref\":\"y\"},{\"font\":{\"color\":\"#FFFFFF\"},\"showarrow\":false,\"text\":\"0.32\",\"x\":\"rental_price_per_day\",\"xref\":\"x\",\"y\":\"has_gps\",\"yref\":\"y\"},{\"font\":{\"color\":\"#FFFFFF\"},\"showarrow\":false,\"text\":\"0.01\",\"x\":\"mileage\",\"xref\":\"x\",\"y\":\"has_air_conditioning\",\"yref\":\"y\"},{\"font\":{\"color\":\"#FFFFFF\"},\"showarrow\":false,\"text\":\"0.31\",\"x\":\"engine_power\",\"xref\":\"x\",\"y\":\"has_air_conditioning\",\"yref\":\"y\"},{\"font\":{\"color\":\"#FFFFFF\"},\"showarrow\":false,\"text\":\"0.26\",\"x\":\"private_parking_available\",\"xref\":\"x\",\"y\":\"has_air_conditioning\",\"yref\":\"y\"},{\"font\":{\"color\":\"#FFFFFF\"},\"showarrow\":false,\"text\":\"0.15\",\"x\":\"has_gps\",\"xref\":\"x\",\"y\":\"has_air_conditioning\",\"yref\":\"y\"},{\"font\":{\"color\":\"#000000\"},\"showarrow\":false,\"text\":\"1.0\",\"x\":\"has_air_conditioning\",\"xref\":\"x\",\"y\":\"has_air_conditioning\",\"yref\":\"y\"},{\"font\":{\"color\":\"#FFFFFF\"},\"showarrow\":false,\"text\":\"0.2\",\"x\":\"automatic_car\",\"xref\":\"x\",\"y\":\"has_air_conditioning\",\"yref\":\"y\"},{\"font\":{\"color\":\"#FFFFFF\"},\"showarrow\":false,\"text\":\"0.2\",\"x\":\"has_getaround_connect\",\"xref\":\"x\",\"y\":\"has_air_conditioning\",\"yref\":\"y\"},{\"font\":{\"color\":\"#FFFFFF\"},\"showarrow\":false,\"text\":\"0.14\",\"x\":\"has_speed_regulator\",\"xref\":\"x\",\"y\":\"has_air_conditioning\",\"yref\":\"y\"},{\"font\":{\"color\":\"#FFFFFF\"},\"showarrow\":false,\"text\":\"0.06\",\"x\":\"winter_tires\",\"xref\":\"x\",\"y\":\"has_air_conditioning\",\"yref\":\"y\"},{\"font\":{\"color\":\"#FFFFFF\"},\"showarrow\":false,\"text\":\"0.25\",\"x\":\"rental_price_per_day\",\"xref\":\"x\",\"y\":\"has_air_conditioning\",\"yref\":\"y\"},{\"font\":{\"color\":\"#FFFFFF\"},\"showarrow\":false,\"text\":\"0.05\",\"x\":\"mileage\",\"xref\":\"x\",\"y\":\"automatic_car\",\"yref\":\"y\"},{\"font\":{\"color\":\"#FFFFFF\"},\"showarrow\":false,\"text\":\"0.45\",\"x\":\"engine_power\",\"xref\":\"x\",\"y\":\"automatic_car\",\"yref\":\"y\"},{\"font\":{\"color\":\"#FFFFFF\"},\"showarrow\":false,\"text\":\"0.23\",\"x\":\"private_parking_available\",\"xref\":\"x\",\"y\":\"automatic_car\",\"yref\":\"y\"},{\"font\":{\"color\":\"#FFFFFF\"},\"showarrow\":false,\"text\":\"0.15\",\"x\":\"has_gps\",\"xref\":\"x\",\"y\":\"automatic_car\",\"yref\":\"y\"},{\"font\":{\"color\":\"#FFFFFF\"},\"showarrow\":false,\"text\":\"0.2\",\"x\":\"has_air_conditioning\",\"xref\":\"x\",\"y\":\"automatic_car\",\"yref\":\"y\"},{\"font\":{\"color\":\"#000000\"},\"showarrow\":false,\"text\":\"1.0\",\"x\":\"automatic_car\",\"xref\":\"x\",\"y\":\"automatic_car\",\"yref\":\"y\"},{\"font\":{\"color\":\"#FFFFFF\"},\"showarrow\":false,\"text\":\"0.25\",\"x\":\"has_getaround_connect\",\"xref\":\"x\",\"y\":\"automatic_car\",\"yref\":\"y\"},{\"font\":{\"color\":\"#FFFFFF\"},\"showarrow\":false,\"text\":\"0.15\",\"x\":\"has_speed_regulator\",\"xref\":\"x\",\"y\":\"automatic_car\",\"yref\":\"y\"},{\"font\":{\"color\":\"#FFFFFF\"},\"showarrow\":false,\"text\":\"0.13\",\"x\":\"winter_tires\",\"xref\":\"x\",\"y\":\"automatic_car\",\"yref\":\"y\"},{\"font\":{\"color\":\"#FFFFFF\"},\"showarrow\":false,\"text\":\"0.43\",\"x\":\"rental_price_per_day\",\"xref\":\"x\",\"y\":\"automatic_car\",\"yref\":\"y\"},{\"font\":{\"color\":\"#FFFFFF\"},\"showarrow\":false,\"text\":\"0.05\",\"x\":\"mileage\",\"xref\":\"x\",\"y\":\"has_getaround_connect\",\"yref\":\"y\"},{\"font\":{\"color\":\"#FFFFFF\"},\"showarrow\":false,\"text\":\"0.35\",\"x\":\"engine_power\",\"xref\":\"x\",\"y\":\"has_getaround_connect\",\"yref\":\"y\"},{\"font\":{\"color\":\"#FFFFFF\"},\"showarrow\":false,\"text\":\"0.28\",\"x\":\"private_parking_available\",\"xref\":\"x\",\"y\":\"has_getaround_connect\",\"yref\":\"y\"},{\"font\":{\"color\":\"#FFFFFF\"},\"showarrow\":false,\"text\":\"0.29\",\"x\":\"has_gps\",\"xref\":\"x\",\"y\":\"has_getaround_connect\",\"yref\":\"y\"},{\"font\":{\"color\":\"#FFFFFF\"},\"showarrow\":false,\"text\":\"0.2\",\"x\":\"has_air_conditioning\",\"xref\":\"x\",\"y\":\"has_getaround_connect\",\"yref\":\"y\"},{\"font\":{\"color\":\"#FFFFFF\"},\"showarrow\":false,\"text\":\"0.25\",\"x\":\"automatic_car\",\"xref\":\"x\",\"y\":\"has_getaround_connect\",\"yref\":\"y\"},{\"font\":{\"color\":\"#000000\"},\"showarrow\":false,\"text\":\"1.0\",\"x\":\"has_getaround_connect\",\"xref\":\"x\",\"y\":\"has_getaround_connect\",\"yref\":\"y\"},{\"font\":{\"color\":\"#FFFFFF\"},\"showarrow\":false,\"text\":\"0.26\",\"x\":\"has_speed_regulator\",\"xref\":\"x\",\"y\":\"has_getaround_connect\",\"yref\":\"y\"},{\"font\":{\"color\":\"#FFFFFF\"},\"showarrow\":false,\"text\":\"0.2\",\"x\":\"winter_tires\",\"xref\":\"x\",\"y\":\"has_getaround_connect\",\"yref\":\"y\"},{\"font\":{\"color\":\"#FFFFFF\"},\"showarrow\":false,\"text\":\"0.33\",\"x\":\"rental_price_per_day\",\"xref\":\"x\",\"y\":\"has_getaround_connect\",\"yref\":\"y\"},{\"font\":{\"color\":\"#FFFFFF\"},\"showarrow\":false,\"text\":\"0.03\",\"x\":\"mileage\",\"xref\":\"x\",\"y\":\"has_speed_regulator\",\"yref\":\"y\"},{\"font\":{\"color\":\"#FFFFFF\"},\"showarrow\":false,\"text\":\"0.23\",\"x\":\"engine_power\",\"xref\":\"x\",\"y\":\"has_speed_regulator\",\"yref\":\"y\"},{\"font\":{\"color\":\"#FFFFFF\"},\"showarrow\":false,\"text\":\"0.13\",\"x\":\"private_parking_available\",\"xref\":\"x\",\"y\":\"has_speed_regulator\",\"yref\":\"y\"},{\"font\":{\"color\":\"#FFFFFF\"},\"showarrow\":false,\"text\":\"0.14\",\"x\":\"has_gps\",\"xref\":\"x\",\"y\":\"has_speed_regulator\",\"yref\":\"y\"},{\"font\":{\"color\":\"#FFFFFF\"},\"showarrow\":false,\"text\":\"0.14\",\"x\":\"has_air_conditioning\",\"xref\":\"x\",\"y\":\"has_speed_regulator\",\"yref\":\"y\"},{\"font\":{\"color\":\"#FFFFFF\"},\"showarrow\":false,\"text\":\"0.15\",\"x\":\"automatic_car\",\"xref\":\"x\",\"y\":\"has_speed_regulator\",\"yref\":\"y\"},{\"font\":{\"color\":\"#FFFFFF\"},\"showarrow\":false,\"text\":\"0.26\",\"x\":\"has_getaround_connect\",\"xref\":\"x\",\"y\":\"has_speed_regulator\",\"yref\":\"y\"},{\"font\":{\"color\":\"#000000\"},\"showarrow\":false,\"text\":\"1.0\",\"x\":\"has_speed_regulator\",\"xref\":\"x\",\"y\":\"has_speed_regulator\",\"yref\":\"y\"},{\"font\":{\"color\":\"#FFFFFF\"},\"showarrow\":false,\"text\":\"0.13\",\"x\":\"winter_tires\",\"xref\":\"x\",\"y\":\"has_speed_regulator\",\"yref\":\"y\"},{\"font\":{\"color\":\"#FFFFFF\"},\"showarrow\":false,\"text\":\"0.24\",\"x\":\"rental_price_per_day\",\"xref\":\"x\",\"y\":\"has_speed_regulator\",\"yref\":\"y\"},{\"font\":{\"color\":\"#FFFFFF\"},\"showarrow\":false,\"text\":\"0.16\",\"x\":\"mileage\",\"xref\":\"x\",\"y\":\"winter_tires\",\"yref\":\"y\"},{\"font\":{\"color\":\"#FFFFFF\"},\"showarrow\":false,\"text\":\"0.01\",\"x\":\"engine_power\",\"xref\":\"x\",\"y\":\"winter_tires\",\"yref\":\"y\"},{\"font\":{\"color\":\"#FFFFFF\"},\"showarrow\":false,\"text\":\"0.24\",\"x\":\"private_parking_available\",\"xref\":\"x\",\"y\":\"winter_tires\",\"yref\":\"y\"},{\"font\":{\"color\":\"#FFFFFF\"},\"showarrow\":false,\"text\":\"0.37\",\"x\":\"has_gps\",\"xref\":\"x\",\"y\":\"winter_tires\",\"yref\":\"y\"},{\"font\":{\"color\":\"#FFFFFF\"},\"showarrow\":false,\"text\":\"0.06\",\"x\":\"has_air_conditioning\",\"xref\":\"x\",\"y\":\"winter_tires\",\"yref\":\"y\"},{\"font\":{\"color\":\"#FFFFFF\"},\"showarrow\":false,\"text\":\"0.13\",\"x\":\"automatic_car\",\"xref\":\"x\",\"y\":\"winter_tires\",\"yref\":\"y\"},{\"font\":{\"color\":\"#FFFFFF\"},\"showarrow\":false,\"text\":\"0.2\",\"x\":\"has_getaround_connect\",\"xref\":\"x\",\"y\":\"winter_tires\",\"yref\":\"y\"},{\"font\":{\"color\":\"#FFFFFF\"},\"showarrow\":false,\"text\":\"0.13\",\"x\":\"has_speed_regulator\",\"xref\":\"x\",\"y\":\"winter_tires\",\"yref\":\"y\"},{\"font\":{\"color\":\"#000000\"},\"showarrow\":false,\"text\":\"1.0\",\"x\":\"winter_tires\",\"xref\":\"x\",\"y\":\"winter_tires\",\"yref\":\"y\"},{\"font\":{\"color\":\"#FFFFFF\"},\"showarrow\":false,\"text\":\"0.03\",\"x\":\"rental_price_per_day\",\"xref\":\"x\",\"y\":\"winter_tires\",\"yref\":\"y\"},{\"font\":{\"color\":\"#FFFFFF\"},\"showarrow\":false,\"text\":\"0.45\",\"x\":\"mileage\",\"xref\":\"x\",\"y\":\"rental_price_per_day\",\"yref\":\"y\"},{\"font\":{\"color\":\"#000000\"},\"showarrow\":false,\"text\":\"0.63\",\"x\":\"engine_power\",\"xref\":\"x\",\"y\":\"rental_price_per_day\",\"yref\":\"y\"},{\"font\":{\"color\":\"#FFFFFF\"},\"showarrow\":false,\"text\":\"0.29\",\"x\":\"private_parking_available\",\"xref\":\"x\",\"y\":\"rental_price_per_day\",\"yref\":\"y\"},{\"font\":{\"color\":\"#FFFFFF\"},\"showarrow\":false,\"text\":\"0.32\",\"x\":\"has_gps\",\"xref\":\"x\",\"y\":\"rental_price_per_day\",\"yref\":\"y\"},{\"font\":{\"color\":\"#FFFFFF\"},\"showarrow\":false,\"text\":\"0.25\",\"x\":\"has_air_conditioning\",\"xref\":\"x\",\"y\":\"rental_price_per_day\",\"yref\":\"y\"},{\"font\":{\"color\":\"#FFFFFF\"},\"showarrow\":false,\"text\":\"0.43\",\"x\":\"automatic_car\",\"xref\":\"x\",\"y\":\"rental_price_per_day\",\"yref\":\"y\"},{\"font\":{\"color\":\"#FFFFFF\"},\"showarrow\":false,\"text\":\"0.33\",\"x\":\"has_getaround_connect\",\"xref\":\"x\",\"y\":\"rental_price_per_day\",\"yref\":\"y\"},{\"font\":{\"color\":\"#FFFFFF\"},\"showarrow\":false,\"text\":\"0.24\",\"x\":\"has_speed_regulator\",\"xref\":\"x\",\"y\":\"rental_price_per_day\",\"yref\":\"y\"},{\"font\":{\"color\":\"#FFFFFF\"},\"showarrow\":false,\"text\":\"0.03\",\"x\":\"winter_tires\",\"xref\":\"x\",\"y\":\"rental_price_per_day\",\"yref\":\"y\"},{\"font\":{\"color\":\"#000000\"},\"showarrow\":false,\"text\":\"1.0\",\"x\":\"rental_price_per_day\",\"xref\":\"x\",\"y\":\"rental_price_per_day\",\"yref\":\"y\"}],\"xaxis\":{\"dtick\":1,\"gridcolor\":\"rgb(0, 0, 0)\",\"side\":\"top\",\"ticks\":\"\"},\"yaxis\":{\"dtick\":1,\"ticks\":\"\",\"ticksuffix\":\"  \"},\"template\":{\"data\":{\"histogram2dcontour\":[{\"type\":\"histogram2dcontour\",\"colorbar\":{\"outlinewidth\":0,\"ticks\":\"\"},\"colorscale\":[[0.0,\"#0d0887\"],[0.1111111111111111,\"#46039f\"],[0.2222222222222222,\"#7201a8\"],[0.3333333333333333,\"#9c179e\"],[0.4444444444444444,\"#bd3786\"],[0.5555555555555556,\"#d8576b\"],[0.6666666666666666,\"#ed7953\"],[0.7777777777777778,\"#fb9f3a\"],[0.8888888888888888,\"#fdca26\"],[1.0,\"#f0f921\"]]}],\"choropleth\":[{\"type\":\"choropleth\",\"colorbar\":{\"outlinewidth\":0,\"ticks\":\"\"}}],\"histogram2d\":[{\"type\":\"histogram2d\",\"colorbar\":{\"outlinewidth\":0,\"ticks\":\"\"},\"colorscale\":[[0.0,\"#0d0887\"],[0.1111111111111111,\"#46039f\"],[0.2222222222222222,\"#7201a8\"],[0.3333333333333333,\"#9c179e\"],[0.4444444444444444,\"#bd3786\"],[0.5555555555555556,\"#d8576b\"],[0.6666666666666666,\"#ed7953\"],[0.7777777777777778,\"#fb9f3a\"],[0.8888888888888888,\"#fdca26\"],[1.0,\"#f0f921\"]]}],\"heatmap\":[{\"type\":\"heatmap\",\"colorbar\":{\"outlinewidth\":0,\"ticks\":\"\"},\"colorscale\":[[0.0,\"#0d0887\"],[0.1111111111111111,\"#46039f\"],[0.2222222222222222,\"#7201a8\"],[0.3333333333333333,\"#9c179e\"],[0.4444444444444444,\"#bd3786\"],[0.5555555555555556,\"#d8576b\"],[0.6666666666666666,\"#ed7953\"],[0.7777777777777778,\"#fb9f3a\"],[0.8888888888888888,\"#fdca26\"],[1.0,\"#f0f921\"]]}],\"heatmapgl\":[{\"type\":\"heatmapgl\",\"colorbar\":{\"outlinewidth\":0,\"ticks\":\"\"},\"colorscale\":[[0.0,\"#0d0887\"],[0.1111111111111111,\"#46039f\"],[0.2222222222222222,\"#7201a8\"],[0.3333333333333333,\"#9c179e\"],[0.4444444444444444,\"#bd3786\"],[0.5555555555555556,\"#d8576b\"],[0.6666666666666666,\"#ed7953\"],[0.7777777777777778,\"#fb9f3a\"],[0.8888888888888888,\"#fdca26\"],[1.0,\"#f0f921\"]]}],\"contourcarpet\":[{\"type\":\"contourcarpet\",\"colorbar\":{\"outlinewidth\":0,\"ticks\":\"\"}}],\"contour\":[{\"type\":\"contour\",\"colorbar\":{\"outlinewidth\":0,\"ticks\":\"\"},\"colorscale\":[[0.0,\"#0d0887\"],[0.1111111111111111,\"#46039f\"],[0.2222222222222222,\"#7201a8\"],[0.3333333333333333,\"#9c179e\"],[0.4444444444444444,\"#bd3786\"],[0.5555555555555556,\"#d8576b\"],[0.6666666666666666,\"#ed7953\"],[0.7777777777777778,\"#fb9f3a\"],[0.8888888888888888,\"#fdca26\"],[1.0,\"#f0f921\"]]}],\"surface\":[{\"type\":\"surface\",\"colorbar\":{\"outlinewidth\":0,\"ticks\":\"\"},\"colorscale\":[[0.0,\"#0d0887\"],[0.1111111111111111,\"#46039f\"],[0.2222222222222222,\"#7201a8\"],[0.3333333333333333,\"#9c179e\"],[0.4444444444444444,\"#bd3786\"],[0.5555555555555556,\"#d8576b\"],[0.6666666666666666,\"#ed7953\"],[0.7777777777777778,\"#fb9f3a\"],[0.8888888888888888,\"#fdca26\"],[1.0,\"#f0f921\"]]}],\"mesh3d\":[{\"type\":\"mesh3d\",\"colorbar\":{\"outlinewidth\":0,\"ticks\":\"\"}}],\"scatter\":[{\"fillpattern\":{\"fillmode\":\"overlay\",\"size\":10,\"solidity\":0.2},\"type\":\"scatter\"}],\"parcoords\":[{\"type\":\"parcoords\",\"line\":{\"colorbar\":{\"outlinewidth\":0,\"ticks\":\"\"}}}],\"scatterpolargl\":[{\"type\":\"scatterpolargl\",\"marker\":{\"colorbar\":{\"outlinewidth\":0,\"ticks\":\"\"}}}],\"bar\":[{\"error_x\":{\"color\":\"#2a3f5f\"},\"error_y\":{\"color\":\"#2a3f5f\"},\"marker\":{\"line\":{\"color\":\"#E5ECF6\",\"width\":0.5},\"pattern\":{\"fillmode\":\"overlay\",\"size\":10,\"solidity\":0.2}},\"type\":\"bar\"}],\"scattergeo\":[{\"type\":\"scattergeo\",\"marker\":{\"colorbar\":{\"outlinewidth\":0,\"ticks\":\"\"}}}],\"scatterpolar\":[{\"type\":\"scatterpolar\",\"marker\":{\"colorbar\":{\"outlinewidth\":0,\"ticks\":\"\"}}}],\"histogram\":[{\"marker\":{\"pattern\":{\"fillmode\":\"overlay\",\"size\":10,\"solidity\":0.2}},\"type\":\"histogram\"}],\"scattergl\":[{\"type\":\"scattergl\",\"marker\":{\"colorbar\":{\"outlinewidth\":0,\"ticks\":\"\"}}}],\"scatter3d\":[{\"type\":\"scatter3d\",\"line\":{\"colorbar\":{\"outlinewidth\":0,\"ticks\":\"\"}},\"marker\":{\"colorbar\":{\"outlinewidth\":0,\"ticks\":\"\"}}}],\"scattermapbox\":[{\"type\":\"scattermapbox\",\"marker\":{\"colorbar\":{\"outlinewidth\":0,\"ticks\":\"\"}}}],\"scatterternary\":[{\"type\":\"scatterternary\",\"marker\":{\"colorbar\":{\"outlinewidth\":0,\"ticks\":\"\"}}}],\"scattercarpet\":[{\"type\":\"scattercarpet\",\"marker\":{\"colorbar\":{\"outlinewidth\":0,\"ticks\":\"\"}}}],\"carpet\":[{\"aaxis\":{\"endlinecolor\":\"#2a3f5f\",\"gridcolor\":\"white\",\"linecolor\":\"white\",\"minorgridcolor\":\"white\",\"startlinecolor\":\"#2a3f5f\"},\"baxis\":{\"endlinecolor\":\"#2a3f5f\",\"gridcolor\":\"white\",\"linecolor\":\"white\",\"minorgridcolor\":\"white\",\"startlinecolor\":\"#2a3f5f\"},\"type\":\"carpet\"}],\"table\":[{\"cells\":{\"fill\":{\"color\":\"#EBF0F8\"},\"line\":{\"color\":\"white\"}},\"header\":{\"fill\":{\"color\":\"#C8D4E3\"},\"line\":{\"color\":\"white\"}},\"type\":\"table\"}],\"barpolar\":[{\"marker\":{\"line\":{\"color\":\"#E5ECF6\",\"width\":0.5},\"pattern\":{\"fillmode\":\"overlay\",\"size\":10,\"solidity\":0.2}},\"type\":\"barpolar\"}],\"pie\":[{\"automargin\":true,\"type\":\"pie\"}]},\"layout\":{\"autotypenumbers\":\"strict\",\"colorway\":[\"#636efa\",\"#EF553B\",\"#00cc96\",\"#ab63fa\",\"#FFA15A\",\"#19d3f3\",\"#FF6692\",\"#B6E880\",\"#FF97FF\",\"#FECB52\"],\"font\":{\"color\":\"#2a3f5f\"},\"hovermode\":\"closest\",\"hoverlabel\":{\"align\":\"left\"},\"paper_bgcolor\":\"white\",\"plot_bgcolor\":\"#E5ECF6\",\"polar\":{\"bgcolor\":\"#E5ECF6\",\"angularaxis\":{\"gridcolor\":\"white\",\"linecolor\":\"white\",\"ticks\":\"\"},\"radialaxis\":{\"gridcolor\":\"white\",\"linecolor\":\"white\",\"ticks\":\"\"}},\"ternary\":{\"bgcolor\":\"#E5ECF6\",\"aaxis\":{\"gridcolor\":\"white\",\"linecolor\":\"white\",\"ticks\":\"\"},\"baxis\":{\"gridcolor\":\"white\",\"linecolor\":\"white\",\"ticks\":\"\"},\"caxis\":{\"gridcolor\":\"white\",\"linecolor\":\"white\",\"ticks\":\"\"}},\"coloraxis\":{\"colorbar\":{\"outlinewidth\":0,\"ticks\":\"\"}},\"colorscale\":{\"sequential\":[[0.0,\"#0d0887\"],[0.1111111111111111,\"#46039f\"],[0.2222222222222222,\"#7201a8\"],[0.3333333333333333,\"#9c179e\"],[0.4444444444444444,\"#bd3786\"],[0.5555555555555556,\"#d8576b\"],[0.6666666666666666,\"#ed7953\"],[0.7777777777777778,\"#fb9f3a\"],[0.8888888888888888,\"#fdca26\"],[1.0,\"#f0f921\"]],\"sequentialminus\":[[0.0,\"#0d0887\"],[0.1111111111111111,\"#46039f\"],[0.2222222222222222,\"#7201a8\"],[0.3333333333333333,\"#9c179e\"],[0.4444444444444444,\"#bd3786\"],[0.5555555555555556,\"#d8576b\"],[0.6666666666666666,\"#ed7953\"],[0.7777777777777778,\"#fb9f3a\"],[0.8888888888888888,\"#fdca26\"],[1.0,\"#f0f921\"]],\"diverging\":[[0,\"#8e0152\"],[0.1,\"#c51b7d\"],[0.2,\"#de77ae\"],[0.3,\"#f1b6da\"],[0.4,\"#fde0ef\"],[0.5,\"#f7f7f7\"],[0.6,\"#e6f5d0\"],[0.7,\"#b8e186\"],[0.8,\"#7fbc41\"],[0.9,\"#4d9221\"],[1,\"#276419\"]]},\"xaxis\":{\"gridcolor\":\"white\",\"linecolor\":\"white\",\"ticks\":\"\",\"title\":{\"standoff\":15},\"zerolinecolor\":\"white\",\"automargin\":true,\"zerolinewidth\":2},\"yaxis\":{\"gridcolor\":\"white\",\"linecolor\":\"white\",\"ticks\":\"\",\"title\":{\"standoff\":15},\"zerolinecolor\":\"white\",\"automargin\":true,\"zerolinewidth\":2},\"scene\":{\"xaxis\":{\"backgroundcolor\":\"#E5ECF6\",\"gridcolor\":\"white\",\"linecolor\":\"white\",\"showbackground\":true,\"ticks\":\"\",\"zerolinecolor\":\"white\",\"gridwidth\":2},\"yaxis\":{\"backgroundcolor\":\"#E5ECF6\",\"gridcolor\":\"white\",\"linecolor\":\"white\",\"showbackground\":true,\"ticks\":\"\",\"zerolinecolor\":\"white\",\"gridwidth\":2},\"zaxis\":{\"backgroundcolor\":\"#E5ECF6\",\"gridcolor\":\"white\",\"linecolor\":\"white\",\"showbackground\":true,\"ticks\":\"\",\"zerolinecolor\":\"white\",\"gridwidth\":2}},\"shapedefaults\":{\"line\":{\"color\":\"#2a3f5f\"}},\"annotationdefaults\":{\"arrowcolor\":\"#2a3f5f\",\"arrowhead\":0,\"arrowwidth\":1},\"geo\":{\"bgcolor\":\"white\",\"landcolor\":\"#E5ECF6\",\"subunitcolor\":\"white\",\"showland\":true,\"showlakes\":true,\"lakecolor\":\"white\"},\"title\":{\"x\":0.05},\"mapbox\":{\"style\":\"light\"}}}},                        {\"responsive\": true}                    ).then(function(){\n",
       "                            \n",
       "var gd = document.getElementById('e6e1509a-5a64-4584-81d6-367371324e2b');\n",
       "var x = new MutationObserver(function (mutations, observer) {{\n",
       "        var display = window.getComputedStyle(gd).display;\n",
       "        if (!display || display === 'none') {{\n",
       "            console.log([gd, 'removed!']);\n",
       "            Plotly.purge(gd);\n",
       "            observer.disconnect();\n",
       "        }}\n",
       "}});\n",
       "\n",
       "// Listen for the removal of the full notebook cells\n",
       "var notebookContainer = gd.closest('#notebook-container');\n",
       "if (notebookContainer) {{\n",
       "    x.observe(notebookContainer, {childList: true});\n",
       "}}\n",
       "\n",
       "// Listen for the clearing of the current output cell\n",
       "var outputEl = gd.closest('.output');\n",
       "if (outputEl) {{\n",
       "    x.observe(outputEl, {childList: true});\n",
       "}}\n",
       "\n",
       "                        })                };                });            </script>        </div>"
      ]
     },
     "metadata": {},
     "output_type": "display_data"
    }
   ],
   "source": [
    "corr_matrix = df_pricing.corr().abs().round(2)\n",
    "import plotly.figure_factory as ff\n",
    "fig = ff.create_annotated_heatmap(corr_matrix.values,\n",
    "                                  x = corr_matrix.columns.tolist(),\n",
    "                                  y = corr_matrix.index.tolist())\n",
    "fig.show()"
   ]
  },
  {
   "cell_type": "markdown",
   "id": "cc847250-1a21-4155-9552-3c318b6cfffe",
   "metadata": {},
   "source": [
    "### We can see that engine power is rather correlated with rental price whereas winter tires is not.\n",
    "### The automatic data and mileage are important too !"
   ]
  },
  {
   "cell_type": "markdown",
   "id": "abe49727-723f-454d-b093-28debbd56e39",
   "metadata": {},
   "source": [
    "## BASELINE MODEL - LINEAR REGRESSION"
   ]
  },
  {
   "cell_type": "code",
   "execution_count": 134,
   "id": "44f6e8aa-6d00-4639-9432-496a5530bd9f",
   "metadata": {},
   "outputs": [],
   "source": [
    "from sklearn.model_selection import train_test_split\n",
    "target = \"rental_price_per_day\"\n",
    "X = df_pricing.drop(target, axis=1)\n",
    "Y = df_pricing[target]\n",
    "X_train, X_test, Y_train, Y_test = train_test_split(X, Y, test_size=0.2, random_state=0)"
   ]
  },
  {
   "cell_type": "markdown",
   "id": "e14c9308-5656-483e-812a-0cdf736860e8",
   "metadata": {},
   "source": [
    "### Standardization"
   ]
  },
  {
   "cell_type": "code",
   "execution_count": 135,
   "id": "ec813a39-cf1b-43ff-927d-30ddd7154d66",
   "metadata": {},
   "outputs": [
    {
     "data": {
      "text/html": [
       "<style>#sk-container-id-8 {color: black;background-color: white;}#sk-container-id-8 pre{padding: 0;}#sk-container-id-8 div.sk-toggleable {background-color: white;}#sk-container-id-8 label.sk-toggleable__label {cursor: pointer;display: block;width: 100%;margin-bottom: 0;padding: 0.3em;box-sizing: border-box;text-align: center;}#sk-container-id-8 label.sk-toggleable__label-arrow:before {content: \"▸\";float: left;margin-right: 0.25em;color: #696969;}#sk-container-id-8 label.sk-toggleable__label-arrow:hover:before {color: black;}#sk-container-id-8 div.sk-estimator:hover label.sk-toggleable__label-arrow:before {color: black;}#sk-container-id-8 div.sk-toggleable__content {max-height: 0;max-width: 0;overflow: hidden;text-align: left;background-color: #f0f8ff;}#sk-container-id-8 div.sk-toggleable__content pre {margin: 0.2em;color: black;border-radius: 0.25em;background-color: #f0f8ff;}#sk-container-id-8 input.sk-toggleable__control:checked~div.sk-toggleable__content {max-height: 200px;max-width: 100%;overflow: auto;}#sk-container-id-8 input.sk-toggleable__control:checked~label.sk-toggleable__label-arrow:before {content: \"▾\";}#sk-container-id-8 div.sk-estimator input.sk-toggleable__control:checked~label.sk-toggleable__label {background-color: #d4ebff;}#sk-container-id-8 div.sk-label input.sk-toggleable__control:checked~label.sk-toggleable__label {background-color: #d4ebff;}#sk-container-id-8 input.sk-hidden--visually {border: 0;clip: rect(1px 1px 1px 1px);clip: rect(1px, 1px, 1px, 1px);height: 1px;margin: -1px;overflow: hidden;padding: 0;position: absolute;width: 1px;}#sk-container-id-8 div.sk-estimator {font-family: monospace;background-color: #f0f8ff;border: 1px dotted black;border-radius: 0.25em;box-sizing: border-box;margin-bottom: 0.5em;}#sk-container-id-8 div.sk-estimator:hover {background-color: #d4ebff;}#sk-container-id-8 div.sk-parallel-item::after {content: \"\";width: 100%;border-bottom: 1px solid gray;flex-grow: 1;}#sk-container-id-8 div.sk-label:hover label.sk-toggleable__label {background-color: #d4ebff;}#sk-container-id-8 div.sk-serial::before {content: \"\";position: absolute;border-left: 1px solid gray;box-sizing: border-box;top: 0;bottom: 0;left: 50%;z-index: 0;}#sk-container-id-8 div.sk-serial {display: flex;flex-direction: column;align-items: center;background-color: white;padding-right: 0.2em;padding-left: 0.2em;position: relative;}#sk-container-id-8 div.sk-item {position: relative;z-index: 1;}#sk-container-id-8 div.sk-parallel {display: flex;align-items: stretch;justify-content: center;background-color: white;position: relative;}#sk-container-id-8 div.sk-item::before, #sk-container-id-8 div.sk-parallel-item::before {content: \"\";position: absolute;border-left: 1px solid gray;box-sizing: border-box;top: 0;bottom: 0;left: 50%;z-index: -1;}#sk-container-id-8 div.sk-parallel-item {display: flex;flex-direction: column;z-index: 1;position: relative;background-color: white;}#sk-container-id-8 div.sk-parallel-item:first-child::after {align-self: flex-end;width: 50%;}#sk-container-id-8 div.sk-parallel-item:last-child::after {align-self: flex-start;width: 50%;}#sk-container-id-8 div.sk-parallel-item:only-child::after {width: 0;}#sk-container-id-8 div.sk-dashed-wrapped {border: 1px dashed gray;margin: 0 0.4em 0.5em 0.4em;box-sizing: border-box;padding-bottom: 0.4em;background-color: white;}#sk-container-id-8 div.sk-label label {font-family: monospace;font-weight: bold;display: inline-block;line-height: 1.2em;}#sk-container-id-8 div.sk-label-container {text-align: center;}#sk-container-id-8 div.sk-container {/* jupyter's `normalize.less` sets `[hidden] { display: none; }` but bootstrap.min.css set `[hidden] { display: none !important; }` so we also need the `!important` here to be able to override the default hidden behavior on the sphinx rendered scikit-learn.org. See: https://github.com/scikit-learn/scikit-learn/issues/21755 */display: inline-block !important;position: relative;}#sk-container-id-8 div.sk-text-repr-fallback {display: none;}</style><div id=\"sk-container-id-8\" class=\"sk-top-container\"><div class=\"sk-text-repr-fallback\"><pre>ColumnTransformer(transformers=[(&#x27;num&#x27;,\n",
       "                                 Pipeline(steps=[(&#x27;scaler&#x27;, MinMaxScaler())]),\n",
       "                                 [&#x27;mileage&#x27;, &#x27;engine_power&#x27;]),\n",
       "                                (&#x27;cat&#x27;, OneHotEncoder(drop=&#x27;first&#x27;),\n",
       "                                 [&#x27;model_key&#x27;, &#x27;fuel&#x27;, &#x27;paint_color&#x27;,\n",
       "                                  &#x27;car_type&#x27;, &#x27;private_parking_available&#x27;,\n",
       "                                  &#x27;has_gps&#x27;, &#x27;has_air_conditioning&#x27;,\n",
       "                                  &#x27;automatic_car&#x27;, &#x27;has_getaround_connect&#x27;,\n",
       "                                  &#x27;has_speed_regulator&#x27;, &#x27;winter_tires&#x27;])])</pre><b>In a Jupyter environment, please rerun this cell to show the HTML representation or trust the notebook. <br />On GitHub, the HTML representation is unable to render, please try loading this page with nbviewer.org.</b></div><div class=\"sk-container\" hidden><div class=\"sk-item sk-dashed-wrapped\"><div class=\"sk-label-container\"><div class=\"sk-label sk-toggleable\"><input class=\"sk-toggleable__control sk-hidden--visually\" id=\"sk-estimator-id-36\" type=\"checkbox\" ><label for=\"sk-estimator-id-36\" class=\"sk-toggleable__label sk-toggleable__label-arrow\">ColumnTransformer</label><div class=\"sk-toggleable__content\"><pre>ColumnTransformer(transformers=[(&#x27;num&#x27;,\n",
       "                                 Pipeline(steps=[(&#x27;scaler&#x27;, MinMaxScaler())]),\n",
       "                                 [&#x27;mileage&#x27;, &#x27;engine_power&#x27;]),\n",
       "                                (&#x27;cat&#x27;, OneHotEncoder(drop=&#x27;first&#x27;),\n",
       "                                 [&#x27;model_key&#x27;, &#x27;fuel&#x27;, &#x27;paint_color&#x27;,\n",
       "                                  &#x27;car_type&#x27;, &#x27;private_parking_available&#x27;,\n",
       "                                  &#x27;has_gps&#x27;, &#x27;has_air_conditioning&#x27;,\n",
       "                                  &#x27;automatic_car&#x27;, &#x27;has_getaround_connect&#x27;,\n",
       "                                  &#x27;has_speed_regulator&#x27;, &#x27;winter_tires&#x27;])])</pre></div></div></div><div class=\"sk-parallel\"><div class=\"sk-parallel-item\"><div class=\"sk-item\"><div class=\"sk-label-container\"><div class=\"sk-label sk-toggleable\"><input class=\"sk-toggleable__control sk-hidden--visually\" id=\"sk-estimator-id-37\" type=\"checkbox\" ><label for=\"sk-estimator-id-37\" class=\"sk-toggleable__label sk-toggleable__label-arrow\">num</label><div class=\"sk-toggleable__content\"><pre>[&#x27;mileage&#x27;, &#x27;engine_power&#x27;]</pre></div></div></div><div class=\"sk-serial\"><div class=\"sk-item\"><div class=\"sk-serial\"><div class=\"sk-item\"><div class=\"sk-estimator sk-toggleable\"><input class=\"sk-toggleable__control sk-hidden--visually\" id=\"sk-estimator-id-38\" type=\"checkbox\" ><label for=\"sk-estimator-id-38\" class=\"sk-toggleable__label sk-toggleable__label-arrow\">MinMaxScaler</label><div class=\"sk-toggleable__content\"><pre>MinMaxScaler()</pre></div></div></div></div></div></div></div></div><div class=\"sk-parallel-item\"><div class=\"sk-item\"><div class=\"sk-label-container\"><div class=\"sk-label sk-toggleable\"><input class=\"sk-toggleable__control sk-hidden--visually\" id=\"sk-estimator-id-39\" type=\"checkbox\" ><label for=\"sk-estimator-id-39\" class=\"sk-toggleable__label sk-toggleable__label-arrow\">cat</label><div class=\"sk-toggleable__content\"><pre>[&#x27;model_key&#x27;, &#x27;fuel&#x27;, &#x27;paint_color&#x27;, &#x27;car_type&#x27;, &#x27;private_parking_available&#x27;, &#x27;has_gps&#x27;, &#x27;has_air_conditioning&#x27;, &#x27;automatic_car&#x27;, &#x27;has_getaround_connect&#x27;, &#x27;has_speed_regulator&#x27;, &#x27;winter_tires&#x27;]</pre></div></div></div><div class=\"sk-serial\"><div class=\"sk-item\"><div class=\"sk-estimator sk-toggleable\"><input class=\"sk-toggleable__control sk-hidden--visually\" id=\"sk-estimator-id-40\" type=\"checkbox\" ><label for=\"sk-estimator-id-40\" class=\"sk-toggleable__label sk-toggleable__label-arrow\">OneHotEncoder</label><div class=\"sk-toggleable__content\"><pre>OneHotEncoder(drop=&#x27;first&#x27;)</pre></div></div></div></div></div></div></div></div></div></div>"
      ],
      "text/plain": [
       "ColumnTransformer(transformers=[('num',\n",
       "                                 Pipeline(steps=[('scaler', MinMaxScaler())]),\n",
       "                                 ['mileage', 'engine_power']),\n",
       "                                ('cat', OneHotEncoder(drop='first'),\n",
       "                                 ['model_key', 'fuel', 'paint_color',\n",
       "                                  'car_type', 'private_parking_available',\n",
       "                                  'has_gps', 'has_air_conditioning',\n",
       "                                  'automatic_car', 'has_getaround_connect',\n",
       "                                  'has_speed_regulator', 'winter_tires'])])"
      ]
     },
     "execution_count": 135,
     "metadata": {},
     "output_type": "execute_result"
    }
   ],
   "source": [
    "from sklearn.pipeline import Pipeline\n",
    "from sklearn.impute import SimpleImputer\n",
    "from sklearn.preprocessing import  OneHotEncoder, MinMaxScaler\n",
    "from sklearn.compose import ColumnTransformer\n",
    "\n",
    "numeric_features = ['mileage', 'engine_power']\n",
    "categorical_features = ['model_key', 'fuel', 'paint_color',\n",
    "       'car_type', 'private_parking_available', 'has_gps',\n",
    "       'has_air_conditioning', 'automatic_car', 'has_getaround_connect',\n",
    "       'has_speed_regulator', 'winter_tires']\n",
    "\n",
    "numeric_transformer = Pipeline(steps=[('scaler', MinMaxScaler())\n",
    "])\n",
    "\n",
    "categorical_transformer = OneHotEncoder(drop='first')\n",
    "\n",
    "preprocessor = ColumnTransformer(\n",
    "    transformers=[\n",
    "        ('num', numeric_transformer, numeric_features),\n",
    "        ('cat', categorical_transformer, categorical_features)\n",
    "    ])\n",
    "\n",
    "preprocessor.fit(X) # In order to get all the fields (even the one with few values on paint color or model)"
   ]
  },
  {
   "cell_type": "code",
   "execution_count": 136,
   "id": "192a0a12-96bd-4f03-a0cb-4d2d88fe5fc2",
   "metadata": {},
   "outputs": [
    {
     "name": "stdout",
     "output_type": "stream",
     "text": [
      "Preprocessing X_train & X_test...\n",
      "...Done.\n"
     ]
    }
   ],
   "source": [
    "print(\"Preprocessing X_train & X_test...\")\n",
    "X_train = preprocessor.transform(X_train)\n",
    "X_test = preprocessor.transform(X_test)\n",
    "print('...Done.')"
   ]
  },
  {
   "cell_type": "markdown",
   "id": "26af4f28-9efe-4a9b-828a-f39ba6092023",
   "metadata": {},
   "source": [
    "### Training model with simple linear regression to get a baseline"
   ]
  },
  {
   "cell_type": "code",
   "execution_count": 137,
   "id": "19acf1c3-58eb-4b1d-bf1d-08271e1a5416",
   "metadata": {},
   "outputs": [
    {
     "name": "stdout",
     "output_type": "stream",
     "text": [
      "Train model with linear regression ...\n",
      "...Done.\n"
     ]
    }
   ],
   "source": [
    "from sklearn.linear_model import LinearRegression\n",
    "\n",
    "print(\"Train model with linear regression ...\")\n",
    "regressor = LinearRegression()\n",
    "regressor.fit(X_train, Y_train)\n",
    "print(\"...Done.\")"
   ]
  },
  {
   "cell_type": "code",
   "execution_count": 138,
   "id": "04654c92-903b-45c5-bd22-3679c8110760",
   "metadata": {},
   "outputs": [
    {
     "name": "stdout",
     "output_type": "stream",
     "text": [
      "Predictions on training set...\n",
      "...Done.\n",
      "[ 98.75993911 106.64520897  99.09262467 ... 125.09572575 119.83903898\n",
      " 156.65573083]\n"
     ]
    }
   ],
   "source": [
    "# Predictions on training set\n",
    "print(\"Predictions on training set...\")\n",
    "Y_train_pred = regressor.predict(X_train)\n",
    "print(\"...Done.\")\n",
    "print(Y_train_pred)"
   ]
  },
  {
   "cell_type": "code",
   "execution_count": 139,
   "id": "3e6b0d93-14b1-44e9-ac92-fae3929147f5",
   "metadata": {},
   "outputs": [
    {
     "name": "stdout",
     "output_type": "stream",
     "text": [
      "Predictions on test set...\n",
      "...Done.\n",
      "[117.88954281 125.62348808 141.95306662 100.67251462 117.54003292]\n"
     ]
    }
   ],
   "source": [
    "# Predictions on test set\n",
    "print(\"Predictions on test set...\")\n",
    "Y_test_pred = regressor.predict(X_test)\n",
    "print(\"...Done.\")\n",
    "print(Y_test_pred[0:5])"
   ]
  },
  {
   "cell_type": "code",
   "execution_count": 140,
   "id": "f361e3b5-ba5a-47fc-b22c-96b6cd25bb9e",
   "metadata": {},
   "outputs": [
    {
     "name": "stdout",
     "output_type": "stream",
     "text": [
      "R2 score on training set :  0.7313816141581879\n",
      "R2 score on test set :  0.7182170653196109\n"
     ]
    }
   ],
   "source": [
    "from sklearn.metrics import r2_score\n",
    "print(\"R2 score on training set : \", r2_score(Y_train, Y_train_pred))\n",
    "print(\"R2 score on test set : \", r2_score(Y_test, Y_test_pred))"
   ]
  },
  {
   "cell_type": "markdown",
   "id": "07ac8d88-af90-4e3b-b09b-65520e1e9804",
   "metadata": {},
   "source": [
    "### Resutls are not so bad. Let's check the most important features !"
   ]
  },
  {
   "cell_type": "code",
   "execution_count": 126,
   "id": "2a92d864-ea26-4db0-b450-44ee1719ac8b",
   "metadata": {},
   "outputs": [
    {
     "data": {
      "application/vnd.plotly.v1+json": {
       "config": {
        "plotlyServerURL": "https://plot.ly"
       },
       "data": [
        {
         "alignmentgroup": "True",
         "hovertemplate": "variable=coefficients<br>value=%{x}<br>index=%{y}<extra></extra>",
         "legendgroup": "coefficients",
         "marker": {
          "color": "#636efa",
          "pattern": {
           "shape": ""
          }
         },
         "name": "coefficients",
         "offsetgroup": "coefficients",
         "orientation": "h",
         "showlegend": true,
         "textposition": "auto",
         "type": "bar",
         "x": [
          0,
          0,
          0,
          0.1386991032292114,
          0.2738497846612777,
          0.8460500979024755,
          0.8774705200534468,
          0.9439773641266722,
          0.966979932724311,
          1.1293896802591878,
          1.2761305944769172,
          1.526511311174976,
          2.1992942323762943,
          2.4849625122887233,
          2.957675553011109,
          3.0429082341596048,
          3.1570194033358363,
          3.2129179078067525,
          3.218290980959631,
          4.333595718002983,
          4.570068548774654,
          4.834954186839878,
          5.311135643307429,
          5.970510179577402,
          6.273337399737622,
          7.0323283177048586,
          7.920153487648238,
          7.975717072001416,
          8.384103934937029,
          8.967781503992683,
          9.285296014511616,
          9.532718909683071,
          9.761479881988503,
          9.910250797415417,
          11.449076246395398,
          12.377797550477123,
          13.05503661329981,
          15.811245962466943,
          20.695146023499753,
          20.940258251134885,
          21.557166416234878,
          21.761666395543674,
          22.303208427212613,
          24.415983866277713,
          27.113950245896266,
          28.064126157191485,
          30.364089040333052,
          31.524900277347843,
          32.46580206131628,
          32.975833633643326,
          39.60136383537784,
          42.039422293627695,
          89.13826044648847,
          108.6796373192407
         ],
         "xaxis": "x",
         "y": [
          "cat__model_key_Yamaha",
          "cat__model_key_Honda",
          "cat__model_key_Mazda",
          "cat__paint_color_black",
          "cat__has_air_conditioning_True",
          "cat__paint_color_orange",
          "cat__private_parking_available_True",
          "cat__paint_color_grey",
          "cat__paint_color_brown",
          "cat__model_key_Nissan",
          "cat__car_type_suv",
          "cat__winter_tires_True",
          "cat__model_key_Lamborghini",
          "cat__model_key_Citroën",
          "cat__car_type_coupe",
          "cat__car_type_sedan",
          "cat__paint_color_red",
          "cat__paint_color_blue",
          "cat__paint_color_white",
          "cat__paint_color_silver",
          "cat__automatic_car_True",
          "cat__has_speed_regulator_True",
          "cat__has_getaround_connect_True",
          "cat__model_key_BMW",
          "cat__model_key_Peugeot",
          "cat__model_key_PGO",
          "cat__model_key_KIA Motors",
          "cat__fuel_hybrid_petrol",
          "cat__model_key_Lexus",
          "cat__car_type_subcompact",
          "cat__car_type_hatchback",
          "cat__car_type_estate",
          "cat__fuel_electro",
          "cat__model_key_Audi",
          "cat__model_key_Ford",
          "cat__has_gps_True",
          "cat__model_key_Renault",
          "cat__model_key_Ferrari",
          "cat__paint_color_green",
          "cat__fuel_petrol",
          "cat__model_key_Mitsubishi",
          "cat__model_key_Mercedes",
          "cat__model_key_Subaru",
          "cat__model_key_Volkswagen",
          "cat__model_key_Opel",
          "cat__car_type_van",
          "cat__model_key_SEAT",
          "cat__model_key_Maserati",
          "cat__model_key_Toyota",
          "cat__model_key_Fiat",
          "cat__model_key_Porsche",
          "cat__model_key_Suzuki",
          "num__engine_power",
          "num__mileage"
         ],
         "yaxis": "y"
        }
       ],
       "layout": {
        "barmode": "relative",
        "height": 1000,
        "legend": {
         "title": {
          "text": "variable"
         },
         "tracegroupgap": 0
        },
        "margin": {
         "l": 200,
         "t": 60
        },
        "showlegend": false,
        "template": {
         "data": {
          "bar": [
           {
            "error_x": {
             "color": "#2a3f5f"
            },
            "error_y": {
             "color": "#2a3f5f"
            },
            "marker": {
             "line": {
              "color": "#E5ECF6",
              "width": 0.5
             },
             "pattern": {
              "fillmode": "overlay",
              "size": 10,
              "solidity": 0.2
             }
            },
            "type": "bar"
           }
          ],
          "barpolar": [
           {
            "marker": {
             "line": {
              "color": "#E5ECF6",
              "width": 0.5
             },
             "pattern": {
              "fillmode": "overlay",
              "size": 10,
              "solidity": 0.2
             }
            },
            "type": "barpolar"
           }
          ],
          "carpet": [
           {
            "aaxis": {
             "endlinecolor": "#2a3f5f",
             "gridcolor": "white",
             "linecolor": "white",
             "minorgridcolor": "white",
             "startlinecolor": "#2a3f5f"
            },
            "baxis": {
             "endlinecolor": "#2a3f5f",
             "gridcolor": "white",
             "linecolor": "white",
             "minorgridcolor": "white",
             "startlinecolor": "#2a3f5f"
            },
            "type": "carpet"
           }
          ],
          "choropleth": [
           {
            "colorbar": {
             "outlinewidth": 0,
             "ticks": ""
            },
            "type": "choropleth"
           }
          ],
          "contour": [
           {
            "colorbar": {
             "outlinewidth": 0,
             "ticks": ""
            },
            "colorscale": [
             [
              0,
              "#0d0887"
             ],
             [
              0.1111111111111111,
              "#46039f"
             ],
             [
              0.2222222222222222,
              "#7201a8"
             ],
             [
              0.3333333333333333,
              "#9c179e"
             ],
             [
              0.4444444444444444,
              "#bd3786"
             ],
             [
              0.5555555555555556,
              "#d8576b"
             ],
             [
              0.6666666666666666,
              "#ed7953"
             ],
             [
              0.7777777777777778,
              "#fb9f3a"
             ],
             [
              0.8888888888888888,
              "#fdca26"
             ],
             [
              1,
              "#f0f921"
             ]
            ],
            "type": "contour"
           }
          ],
          "contourcarpet": [
           {
            "colorbar": {
             "outlinewidth": 0,
             "ticks": ""
            },
            "type": "contourcarpet"
           }
          ],
          "heatmap": [
           {
            "colorbar": {
             "outlinewidth": 0,
             "ticks": ""
            },
            "colorscale": [
             [
              0,
              "#0d0887"
             ],
             [
              0.1111111111111111,
              "#46039f"
             ],
             [
              0.2222222222222222,
              "#7201a8"
             ],
             [
              0.3333333333333333,
              "#9c179e"
             ],
             [
              0.4444444444444444,
              "#bd3786"
             ],
             [
              0.5555555555555556,
              "#d8576b"
             ],
             [
              0.6666666666666666,
              "#ed7953"
             ],
             [
              0.7777777777777778,
              "#fb9f3a"
             ],
             [
              0.8888888888888888,
              "#fdca26"
             ],
             [
              1,
              "#f0f921"
             ]
            ],
            "type": "heatmap"
           }
          ],
          "heatmapgl": [
           {
            "colorbar": {
             "outlinewidth": 0,
             "ticks": ""
            },
            "colorscale": [
             [
              0,
              "#0d0887"
             ],
             [
              0.1111111111111111,
              "#46039f"
             ],
             [
              0.2222222222222222,
              "#7201a8"
             ],
             [
              0.3333333333333333,
              "#9c179e"
             ],
             [
              0.4444444444444444,
              "#bd3786"
             ],
             [
              0.5555555555555556,
              "#d8576b"
             ],
             [
              0.6666666666666666,
              "#ed7953"
             ],
             [
              0.7777777777777778,
              "#fb9f3a"
             ],
             [
              0.8888888888888888,
              "#fdca26"
             ],
             [
              1,
              "#f0f921"
             ]
            ],
            "type": "heatmapgl"
           }
          ],
          "histogram": [
           {
            "marker": {
             "pattern": {
              "fillmode": "overlay",
              "size": 10,
              "solidity": 0.2
             }
            },
            "type": "histogram"
           }
          ],
          "histogram2d": [
           {
            "colorbar": {
             "outlinewidth": 0,
             "ticks": ""
            },
            "colorscale": [
             [
              0,
              "#0d0887"
             ],
             [
              0.1111111111111111,
              "#46039f"
             ],
             [
              0.2222222222222222,
              "#7201a8"
             ],
             [
              0.3333333333333333,
              "#9c179e"
             ],
             [
              0.4444444444444444,
              "#bd3786"
             ],
             [
              0.5555555555555556,
              "#d8576b"
             ],
             [
              0.6666666666666666,
              "#ed7953"
             ],
             [
              0.7777777777777778,
              "#fb9f3a"
             ],
             [
              0.8888888888888888,
              "#fdca26"
             ],
             [
              1,
              "#f0f921"
             ]
            ],
            "type": "histogram2d"
           }
          ],
          "histogram2dcontour": [
           {
            "colorbar": {
             "outlinewidth": 0,
             "ticks": ""
            },
            "colorscale": [
             [
              0,
              "#0d0887"
             ],
             [
              0.1111111111111111,
              "#46039f"
             ],
             [
              0.2222222222222222,
              "#7201a8"
             ],
             [
              0.3333333333333333,
              "#9c179e"
             ],
             [
              0.4444444444444444,
              "#bd3786"
             ],
             [
              0.5555555555555556,
              "#d8576b"
             ],
             [
              0.6666666666666666,
              "#ed7953"
             ],
             [
              0.7777777777777778,
              "#fb9f3a"
             ],
             [
              0.8888888888888888,
              "#fdca26"
             ],
             [
              1,
              "#f0f921"
             ]
            ],
            "type": "histogram2dcontour"
           }
          ],
          "mesh3d": [
           {
            "colorbar": {
             "outlinewidth": 0,
             "ticks": ""
            },
            "type": "mesh3d"
           }
          ],
          "parcoords": [
           {
            "line": {
             "colorbar": {
              "outlinewidth": 0,
              "ticks": ""
             }
            },
            "type": "parcoords"
           }
          ],
          "pie": [
           {
            "automargin": true,
            "type": "pie"
           }
          ],
          "scatter": [
           {
            "fillpattern": {
             "fillmode": "overlay",
             "size": 10,
             "solidity": 0.2
            },
            "type": "scatter"
           }
          ],
          "scatter3d": [
           {
            "line": {
             "colorbar": {
              "outlinewidth": 0,
              "ticks": ""
             }
            },
            "marker": {
             "colorbar": {
              "outlinewidth": 0,
              "ticks": ""
             }
            },
            "type": "scatter3d"
           }
          ],
          "scattercarpet": [
           {
            "marker": {
             "colorbar": {
              "outlinewidth": 0,
              "ticks": ""
             }
            },
            "type": "scattercarpet"
           }
          ],
          "scattergeo": [
           {
            "marker": {
             "colorbar": {
              "outlinewidth": 0,
              "ticks": ""
             }
            },
            "type": "scattergeo"
           }
          ],
          "scattergl": [
           {
            "marker": {
             "colorbar": {
              "outlinewidth": 0,
              "ticks": ""
             }
            },
            "type": "scattergl"
           }
          ],
          "scattermapbox": [
           {
            "marker": {
             "colorbar": {
              "outlinewidth": 0,
              "ticks": ""
             }
            },
            "type": "scattermapbox"
           }
          ],
          "scatterpolar": [
           {
            "marker": {
             "colorbar": {
              "outlinewidth": 0,
              "ticks": ""
             }
            },
            "type": "scatterpolar"
           }
          ],
          "scatterpolargl": [
           {
            "marker": {
             "colorbar": {
              "outlinewidth": 0,
              "ticks": ""
             }
            },
            "type": "scatterpolargl"
           }
          ],
          "scatterternary": [
           {
            "marker": {
             "colorbar": {
              "outlinewidth": 0,
              "ticks": ""
             }
            },
            "type": "scatterternary"
           }
          ],
          "surface": [
           {
            "colorbar": {
             "outlinewidth": 0,
             "ticks": ""
            },
            "colorscale": [
             [
              0,
              "#0d0887"
             ],
             [
              0.1111111111111111,
              "#46039f"
             ],
             [
              0.2222222222222222,
              "#7201a8"
             ],
             [
              0.3333333333333333,
              "#9c179e"
             ],
             [
              0.4444444444444444,
              "#bd3786"
             ],
             [
              0.5555555555555556,
              "#d8576b"
             ],
             [
              0.6666666666666666,
              "#ed7953"
             ],
             [
              0.7777777777777778,
              "#fb9f3a"
             ],
             [
              0.8888888888888888,
              "#fdca26"
             ],
             [
              1,
              "#f0f921"
             ]
            ],
            "type": "surface"
           }
          ],
          "table": [
           {
            "cells": {
             "fill": {
              "color": "#EBF0F8"
             },
             "line": {
              "color": "white"
             }
            },
            "header": {
             "fill": {
              "color": "#C8D4E3"
             },
             "line": {
              "color": "white"
             }
            },
            "type": "table"
           }
          ]
         },
         "layout": {
          "annotationdefaults": {
           "arrowcolor": "#2a3f5f",
           "arrowhead": 0,
           "arrowwidth": 1
          },
          "autotypenumbers": "strict",
          "coloraxis": {
           "colorbar": {
            "outlinewidth": 0,
            "ticks": ""
           }
          },
          "colorscale": {
           "diverging": [
            [
             0,
             "#8e0152"
            ],
            [
             0.1,
             "#c51b7d"
            ],
            [
             0.2,
             "#de77ae"
            ],
            [
             0.3,
             "#f1b6da"
            ],
            [
             0.4,
             "#fde0ef"
            ],
            [
             0.5,
             "#f7f7f7"
            ],
            [
             0.6,
             "#e6f5d0"
            ],
            [
             0.7,
             "#b8e186"
            ],
            [
             0.8,
             "#7fbc41"
            ],
            [
             0.9,
             "#4d9221"
            ],
            [
             1,
             "#276419"
            ]
           ],
           "sequential": [
            [
             0,
             "#0d0887"
            ],
            [
             0.1111111111111111,
             "#46039f"
            ],
            [
             0.2222222222222222,
             "#7201a8"
            ],
            [
             0.3333333333333333,
             "#9c179e"
            ],
            [
             0.4444444444444444,
             "#bd3786"
            ],
            [
             0.5555555555555556,
             "#d8576b"
            ],
            [
             0.6666666666666666,
             "#ed7953"
            ],
            [
             0.7777777777777778,
             "#fb9f3a"
            ],
            [
             0.8888888888888888,
             "#fdca26"
            ],
            [
             1,
             "#f0f921"
            ]
           ],
           "sequentialminus": [
            [
             0,
             "#0d0887"
            ],
            [
             0.1111111111111111,
             "#46039f"
            ],
            [
             0.2222222222222222,
             "#7201a8"
            ],
            [
             0.3333333333333333,
             "#9c179e"
            ],
            [
             0.4444444444444444,
             "#bd3786"
            ],
            [
             0.5555555555555556,
             "#d8576b"
            ],
            [
             0.6666666666666666,
             "#ed7953"
            ],
            [
             0.7777777777777778,
             "#fb9f3a"
            ],
            [
             0.8888888888888888,
             "#fdca26"
            ],
            [
             1,
             "#f0f921"
            ]
           ]
          },
          "colorway": [
           "#636efa",
           "#EF553B",
           "#00cc96",
           "#ab63fa",
           "#FFA15A",
           "#19d3f3",
           "#FF6692",
           "#B6E880",
           "#FF97FF",
           "#FECB52"
          ],
          "font": {
           "color": "#2a3f5f"
          },
          "geo": {
           "bgcolor": "white",
           "lakecolor": "white",
           "landcolor": "#E5ECF6",
           "showlakes": true,
           "showland": true,
           "subunitcolor": "white"
          },
          "hoverlabel": {
           "align": "left"
          },
          "hovermode": "closest",
          "mapbox": {
           "style": "light"
          },
          "paper_bgcolor": "white",
          "plot_bgcolor": "#E5ECF6",
          "polar": {
           "angularaxis": {
            "gridcolor": "white",
            "linecolor": "white",
            "ticks": ""
           },
           "bgcolor": "#E5ECF6",
           "radialaxis": {
            "gridcolor": "white",
            "linecolor": "white",
            "ticks": ""
           }
          },
          "scene": {
           "xaxis": {
            "backgroundcolor": "#E5ECF6",
            "gridcolor": "white",
            "gridwidth": 2,
            "linecolor": "white",
            "showbackground": true,
            "ticks": "",
            "zerolinecolor": "white"
           },
           "yaxis": {
            "backgroundcolor": "#E5ECF6",
            "gridcolor": "white",
            "gridwidth": 2,
            "linecolor": "white",
            "showbackground": true,
            "ticks": "",
            "zerolinecolor": "white"
           },
           "zaxis": {
            "backgroundcolor": "#E5ECF6",
            "gridcolor": "white",
            "gridwidth": 2,
            "linecolor": "white",
            "showbackground": true,
            "ticks": "",
            "zerolinecolor": "white"
           }
          },
          "shapedefaults": {
           "line": {
            "color": "#2a3f5f"
           }
          },
          "ternary": {
           "aaxis": {
            "gridcolor": "white",
            "linecolor": "white",
            "ticks": ""
           },
           "baxis": {
            "gridcolor": "white",
            "linecolor": "white",
            "ticks": ""
           },
           "bgcolor": "#E5ECF6",
           "caxis": {
            "gridcolor": "white",
            "linecolor": "white",
            "ticks": ""
           }
          },
          "title": {
           "x": 0.05
          },
          "xaxis": {
           "automargin": true,
           "gridcolor": "white",
           "linecolor": "white",
           "ticks": "",
           "title": {
            "standoff": 15
           },
           "zerolinecolor": "white",
           "zerolinewidth": 2
          },
          "yaxis": {
           "automargin": true,
           "gridcolor": "white",
           "linecolor": "white",
           "ticks": "",
           "title": {
            "standoff": 15
           },
           "zerolinecolor": "white",
           "zerolinewidth": 2
          }
         }
        },
        "width": 1000,
        "xaxis": {
         "anchor": "y",
         "autorange": true,
         "domain": [
          0,
          1
         ],
         "range": [
          0,
          114.39961823077968
         ],
         "title": {
          "text": "value"
         },
         "type": "linear"
        },
        "yaxis": {
         "anchor": "x",
         "autorange": true,
         "domain": [
          0,
          1
         ],
         "range": [
          -0.5,
          53.5
         ],
         "title": {
          "text": "index"
         },
         "type": "category"
        }
       }
      },
      "image/png": "[encoded data removed]",
      "text/html": [
       "<div>                            <div id=\"b837832d-fcf5-457f-8c69-f9dd5fb08205\" class=\"plotly-graph-div\" style=\"height:1000px; width:1000px;\"></div>            <script type=\"text/javascript\">                require([\"plotly\"], function(Plotly) {                    window.PLOTLYENV=window.PLOTLYENV || {};                                    if (document.getElementById(\"b837832d-fcf5-457f-8c69-f9dd5fb08205\")) {                    Plotly.newPlot(                        \"b837832d-fcf5-457f-8c69-f9dd5fb08205\",                        [{\"alignmentgroup\":\"True\",\"hovertemplate\":\"variable=coefficients<br>value=%{x}<br>index=%{y}<extra></extra>\",\"legendgroup\":\"coefficients\",\"marker\":{\"color\":\"#636efa\",\"pattern\":{\"shape\":\"\"}},\"name\":\"coefficients\",\"offsetgroup\":\"coefficients\",\"orientation\":\"h\",\"showlegend\":true,\"textposition\":\"auto\",\"x\":[0.0,0.0,0.0,0.1386991032292114,0.2738497846612777,0.8460500979024755,0.8774705200534468,0.9439773641266722,0.966979932724311,1.1293896802591878,1.2761305944769172,1.526511311174976,2.1992942323762943,2.4849625122887233,2.957675553011109,3.0429082341596048,3.1570194033358363,3.2129179078067525,3.218290980959631,4.333595718002983,4.570068548774654,4.834954186839878,5.311135643307429,5.970510179577402,6.273337399737622,7.0323283177048586,7.920153487648238,7.975717072001416,8.384103934937029,8.967781503992683,9.285296014511616,9.532718909683071,9.761479881988503,9.910250797415417,11.449076246395398,12.377797550477123,13.05503661329981,15.811245962466943,20.695146023499753,20.940258251134885,21.557166416234878,21.761666395543674,22.303208427212613,24.415983866277713,27.113950245896266,28.064126157191485,30.364089040333052,31.524900277347843,32.46580206131628,32.975833633643326,39.60136383537784,42.039422293627695,89.13826044648847,108.6796373192407],\"xaxis\":\"x\",\"y\":[\"cat__model_key_Yamaha\",\"cat__model_key_Honda\",\"cat__model_key_Mazda\",\"cat__paint_color_black\",\"cat__has_air_conditioning_True\",\"cat__paint_color_orange\",\"cat__private_parking_available_True\",\"cat__paint_color_grey\",\"cat__paint_color_brown\",\"cat__model_key_Nissan\",\"cat__car_type_suv\",\"cat__winter_tires_True\",\"cat__model_key_Lamborghini\",\"cat__model_key_Citroën\",\"cat__car_type_coupe\",\"cat__car_type_sedan\",\"cat__paint_color_red\",\"cat__paint_color_blue\",\"cat__paint_color_white\",\"cat__paint_color_silver\",\"cat__automatic_car_True\",\"cat__has_speed_regulator_True\",\"cat__has_getaround_connect_True\",\"cat__model_key_BMW\",\"cat__model_key_Peugeot\",\"cat__model_key_PGO\",\"cat__model_key_KIA Motors\",\"cat__fuel_hybrid_petrol\",\"cat__model_key_Lexus\",\"cat__car_type_subcompact\",\"cat__car_type_hatchback\",\"cat__car_type_estate\",\"cat__fuel_electro\",\"cat__model_key_Audi\",\"cat__model_key_Ford\",\"cat__has_gps_True\",\"cat__model_key_Renault\",\"cat__model_key_Ferrari\",\"cat__paint_color_green\",\"cat__fuel_petrol\",\"cat__model_key_Mitsubishi\",\"cat__model_key_Mercedes\",\"cat__model_key_Subaru\",\"cat__model_key_Volkswagen\",\"cat__model_key_Opel\",\"cat__car_type_van\",\"cat__model_key_SEAT\",\"cat__model_key_Maserati\",\"cat__model_key_Toyota\",\"cat__model_key_Fiat\",\"cat__model_key_Porsche\",\"cat__model_key_Suzuki\",\"num__engine_power\",\"num__mileage\"],\"yaxis\":\"y\",\"type\":\"bar\"}],                        {\"template\":{\"data\":{\"histogram2dcontour\":[{\"type\":\"histogram2dcontour\",\"colorbar\":{\"outlinewidth\":0,\"ticks\":\"\"},\"colorscale\":[[0.0,\"#0d0887\"],[0.1111111111111111,\"#46039f\"],[0.2222222222222222,\"#7201a8\"],[0.3333333333333333,\"#9c179e\"],[0.4444444444444444,\"#bd3786\"],[0.5555555555555556,\"#d8576b\"],[0.6666666666666666,\"#ed7953\"],[0.7777777777777778,\"#fb9f3a\"],[0.8888888888888888,\"#fdca26\"],[1.0,\"#f0f921\"]]}],\"choropleth\":[{\"type\":\"choropleth\",\"colorbar\":{\"outlinewidth\":0,\"ticks\":\"\"}}],\"histogram2d\":[{\"type\":\"histogram2d\",\"colorbar\":{\"outlinewidth\":0,\"ticks\":\"\"},\"colorscale\":[[0.0,\"#0d0887\"],[0.1111111111111111,\"#46039f\"],[0.2222222222222222,\"#7201a8\"],[0.3333333333333333,\"#9c179e\"],[0.4444444444444444,\"#bd3786\"],[0.5555555555555556,\"#d8576b\"],[0.6666666666666666,\"#ed7953\"],[0.7777777777777778,\"#fb9f3a\"],[0.8888888888888888,\"#fdca26\"],[1.0,\"#f0f921\"]]}],\"heatmap\":[{\"type\":\"heatmap\",\"colorbar\":{\"outlinewidth\":0,\"ticks\":\"\"},\"colorscale\":[[0.0,\"#0d0887\"],[0.1111111111111111,\"#46039f\"],[0.2222222222222222,\"#7201a8\"],[0.3333333333333333,\"#9c179e\"],[0.4444444444444444,\"#bd3786\"],[0.5555555555555556,\"#d8576b\"],[0.6666666666666666,\"#ed7953\"],[0.7777777777777778,\"#fb9f3a\"],[0.8888888888888888,\"#fdca26\"],[1.0,\"#f0f921\"]]}],\"heatmapgl\":[{\"type\":\"heatmapgl\",\"colorbar\":{\"outlinewidth\":0,\"ticks\":\"\"},\"colorscale\":[[0.0,\"#0d0887\"],[0.1111111111111111,\"#46039f\"],[0.2222222222222222,\"#7201a8\"],[0.3333333333333333,\"#9c179e\"],[0.4444444444444444,\"#bd3786\"],[0.5555555555555556,\"#d8576b\"],[0.6666666666666666,\"#ed7953\"],[0.7777777777777778,\"#fb9f3a\"],[0.8888888888888888,\"#fdca26\"],[1.0,\"#f0f921\"]]}],\"contourcarpet\":[{\"type\":\"contourcarpet\",\"colorbar\":{\"outlinewidth\":0,\"ticks\":\"\"}}],\"contour\":[{\"type\":\"contour\",\"colorbar\":{\"outlinewidth\":0,\"ticks\":\"\"},\"colorscale\":[[0.0,\"#0d0887\"],[0.1111111111111111,\"#46039f\"],[0.2222222222222222,\"#7201a8\"],[0.3333333333333333,\"#9c179e\"],[0.4444444444444444,\"#bd3786\"],[0.5555555555555556,\"#d8576b\"],[0.6666666666666666,\"#ed7953\"],[0.7777777777777778,\"#fb9f3a\"],[0.8888888888888888,\"#fdca26\"],[1.0,\"#f0f921\"]]}],\"surface\":[{\"type\":\"surface\",\"colorbar\":{\"outlinewidth\":0,\"ticks\":\"\"},\"colorscale\":[[0.0,\"#0d0887\"],[0.1111111111111111,\"#46039f\"],[0.2222222222222222,\"#7201a8\"],[0.3333333333333333,\"#9c179e\"],[0.4444444444444444,\"#bd3786\"],[0.5555555555555556,\"#d8576b\"],[0.6666666666666666,\"#ed7953\"],[0.7777777777777778,\"#fb9f3a\"],[0.8888888888888888,\"#fdca26\"],[1.0,\"#f0f921\"]]}],\"mesh3d\":[{\"type\":\"mesh3d\",\"colorbar\":{\"outlinewidth\":0,\"ticks\":\"\"}}],\"scatter\":[{\"fillpattern\":{\"fillmode\":\"overlay\",\"size\":10,\"solidity\":0.2},\"type\":\"scatter\"}],\"parcoords\":[{\"type\":\"parcoords\",\"line\":{\"colorbar\":{\"outlinewidth\":0,\"ticks\":\"\"}}}],\"scatterpolargl\":[{\"type\":\"scatterpolargl\",\"marker\":{\"colorbar\":{\"outlinewidth\":0,\"ticks\":\"\"}}}],\"bar\":[{\"error_x\":{\"color\":\"#2a3f5f\"},\"error_y\":{\"color\":\"#2a3f5f\"},\"marker\":{\"line\":{\"color\":\"#E5ECF6\",\"width\":0.5},\"pattern\":{\"fillmode\":\"overlay\",\"size\":10,\"solidity\":0.2}},\"type\":\"bar\"}],\"scattergeo\":[{\"type\":\"scattergeo\",\"marker\":{\"colorbar\":{\"outlinewidth\":0,\"ticks\":\"\"}}}],\"scatterpolar\":[{\"type\":\"scatterpolar\",\"marker\":{\"colorbar\":{\"outlinewidth\":0,\"ticks\":\"\"}}}],\"histogram\":[{\"marker\":{\"pattern\":{\"fillmode\":\"overlay\",\"size\":10,\"solidity\":0.2}},\"type\":\"histogram\"}],\"scattergl\":[{\"type\":\"scattergl\",\"marker\":{\"colorbar\":{\"outlinewidth\":0,\"ticks\":\"\"}}}],\"scatter3d\":[{\"type\":\"scatter3d\",\"line\":{\"colorbar\":{\"outlinewidth\":0,\"ticks\":\"\"}},\"marker\":{\"colorbar\":{\"outlinewidth\":0,\"ticks\":\"\"}}}],\"scattermapbox\":[{\"type\":\"scattermapbox\",\"marker\":{\"colorbar\":{\"outlinewidth\":0,\"ticks\":\"\"}}}],\"scatterternary\":[{\"type\":\"scatterternary\",\"marker\":{\"colorbar\":{\"outlinewidth\":0,\"ticks\":\"\"}}}],\"scattercarpet\":[{\"type\":\"scattercarpet\",\"marker\":{\"colorbar\":{\"outlinewidth\":0,\"ticks\":\"\"}}}],\"carpet\":[{\"aaxis\":{\"endlinecolor\":\"#2a3f5f\",\"gridcolor\":\"white\",\"linecolor\":\"white\",\"minorgridcolor\":\"white\",\"startlinecolor\":\"#2a3f5f\"},\"baxis\":{\"endlinecolor\":\"#2a3f5f\",\"gridcolor\":\"white\",\"linecolor\":\"white\",\"minorgridcolor\":\"white\",\"startlinecolor\":\"#2a3f5f\"},\"type\":\"carpet\"}],\"table\":[{\"cells\":{\"fill\":{\"color\":\"#EBF0F8\"},\"line\":{\"color\":\"white\"}},\"header\":{\"fill\":{\"color\":\"#C8D4E3\"},\"line\":{\"color\":\"white\"}},\"type\":\"table\"}],\"barpolar\":[{\"marker\":{\"line\":{\"color\":\"#E5ECF6\",\"width\":0.5},\"pattern\":{\"fillmode\":\"overlay\",\"size\":10,\"solidity\":0.2}},\"type\":\"barpolar\"}],\"pie\":[{\"automargin\":true,\"type\":\"pie\"}]},\"layout\":{\"autotypenumbers\":\"strict\",\"colorway\":[\"#636efa\",\"#EF553B\",\"#00cc96\",\"#ab63fa\",\"#FFA15A\",\"#19d3f3\",\"#FF6692\",\"#B6E880\",\"#FF97FF\",\"#FECB52\"],\"font\":{\"color\":\"#2a3f5f\"},\"hovermode\":\"closest\",\"hoverlabel\":{\"align\":\"left\"},\"paper_bgcolor\":\"white\",\"plot_bgcolor\":\"#E5ECF6\",\"polar\":{\"bgcolor\":\"#E5ECF6\",\"angularaxis\":{\"gridcolor\":\"white\",\"linecolor\":\"white\",\"ticks\":\"\"},\"radialaxis\":{\"gridcolor\":\"white\",\"linecolor\":\"white\",\"ticks\":\"\"}},\"ternary\":{\"bgcolor\":\"#E5ECF6\",\"aaxis\":{\"gridcolor\":\"white\",\"linecolor\":\"white\",\"ticks\":\"\"},\"baxis\":{\"gridcolor\":\"white\",\"linecolor\":\"white\",\"ticks\":\"\"},\"caxis\":{\"gridcolor\":\"white\",\"linecolor\":\"white\",\"ticks\":\"\"}},\"coloraxis\":{\"colorbar\":{\"outlinewidth\":0,\"ticks\":\"\"}},\"colorscale\":{\"sequential\":[[0.0,\"#0d0887\"],[0.1111111111111111,\"#46039f\"],[0.2222222222222222,\"#7201a8\"],[0.3333333333333333,\"#9c179e\"],[0.4444444444444444,\"#bd3786\"],[0.5555555555555556,\"#d8576b\"],[0.6666666666666666,\"#ed7953\"],[0.7777777777777778,\"#fb9f3a\"],[0.8888888888888888,\"#fdca26\"],[1.0,\"#f0f921\"]],\"sequentialminus\":[[0.0,\"#0d0887\"],[0.1111111111111111,\"#46039f\"],[0.2222222222222222,\"#7201a8\"],[0.3333333333333333,\"#9c179e\"],[0.4444444444444444,\"#bd3786\"],[0.5555555555555556,\"#d8576b\"],[0.6666666666666666,\"#ed7953\"],[0.7777777777777778,\"#fb9f3a\"],[0.8888888888888888,\"#fdca26\"],[1.0,\"#f0f921\"]],\"diverging\":[[0,\"#8e0152\"],[0.1,\"#c51b7d\"],[0.2,\"#de77ae\"],[0.3,\"#f1b6da\"],[0.4,\"#fde0ef\"],[0.5,\"#f7f7f7\"],[0.6,\"#e6f5d0\"],[0.7,\"#b8e186\"],[0.8,\"#7fbc41\"],[0.9,\"#4d9221\"],[1,\"#276419\"]]},\"xaxis\":{\"gridcolor\":\"white\",\"linecolor\":\"white\",\"ticks\":\"\",\"title\":{\"standoff\":15},\"zerolinecolor\":\"white\",\"automargin\":true,\"zerolinewidth\":2},\"yaxis\":{\"gridcolor\":\"white\",\"linecolor\":\"white\",\"ticks\":\"\",\"title\":{\"standoff\":15},\"zerolinecolor\":\"white\",\"automargin\":true,\"zerolinewidth\":2},\"scene\":{\"xaxis\":{\"backgroundcolor\":\"#E5ECF6\",\"gridcolor\":\"white\",\"linecolor\":\"white\",\"showbackground\":true,\"ticks\":\"\",\"zerolinecolor\":\"white\",\"gridwidth\":2},\"yaxis\":{\"backgroundcolor\":\"#E5ECF6\",\"gridcolor\":\"white\",\"linecolor\":\"white\",\"showbackground\":true,\"ticks\":\"\",\"zerolinecolor\":\"white\",\"gridwidth\":2},\"zaxis\":{\"backgroundcolor\":\"#E5ECF6\",\"gridcolor\":\"white\",\"linecolor\":\"white\",\"showbackground\":true,\"ticks\":\"\",\"zerolinecolor\":\"white\",\"gridwidth\":2}},\"shapedefaults\":{\"line\":{\"color\":\"#2a3f5f\"}},\"annotationdefaults\":{\"arrowcolor\":\"#2a3f5f\",\"arrowhead\":0,\"arrowwidth\":1},\"geo\":{\"bgcolor\":\"white\",\"landcolor\":\"#E5ECF6\",\"subunitcolor\":\"white\",\"showland\":true,\"showlakes\":true,\"lakecolor\":\"white\"},\"title\":{\"x\":0.05},\"mapbox\":{\"style\":\"light\"}}},\"xaxis\":{\"anchor\":\"y\",\"domain\":[0.0,1.0],\"title\":{\"text\":\"value\"}},\"yaxis\":{\"anchor\":\"x\",\"domain\":[0.0,1.0],\"title\":{\"text\":\"index\"}},\"legend\":{\"title\":{\"text\":\"variable\"},\"tracegroupgap\":0},\"margin\":{\"t\":60,\"l\":200},\"barmode\":\"relative\",\"showlegend\":false,\"width\":1000,\"height\":1000},                        {\"responsive\": true}                    ).then(function(){\n",
       "                            \n",
       "var gd = document.getElementById('b837832d-fcf5-457f-8c69-f9dd5fb08205');\n",
       "var x = new MutationObserver(function (mutations, observer) {{\n",
       "        var display = window.getComputedStyle(gd).display;\n",
       "        if (!display || display === 'none') {{\n",
       "            console.log([gd, 'removed!']);\n",
       "            Plotly.purge(gd);\n",
       "            observer.disconnect();\n",
       "        }}\n",
       "}});\n",
       "\n",
       "// Listen for the removal of the full notebook cells\n",
       "var notebookContainer = gd.closest('#notebook-container');\n",
       "if (notebookContainer) {{\n",
       "    x.observe(notebookContainer, {childList: true});\n",
       "}}\n",
       "\n",
       "// Listen for the clearing of the current output cell\n",
       "var outputEl = gd.closest('.output');\n",
       "if (outputEl) {{\n",
       "    x.observe(outputEl, {childList: true});\n",
       "}}\n",
       "\n",
       "                        })                };                });            </script>        </div>"
      ]
     },
     "metadata": {},
     "output_type": "display_data"
    }
   ],
   "source": [
    "import plotly.express as px\n",
    "coefs = pd.DataFrame(index = preprocessor.get_feature_names_out(), data = regressor.coef_.transpose(), columns=[\"coefficients\"])\n",
    "feature_importance = abs(coefs).sort_values(by = 'coefficients')\n",
    "feature_importance\n",
    "fig = px.bar(feature_importance, orientation = 'h')\n",
    "fig.update_layout(showlegend = False, margin = {'l': 200}, width=1000, height=1000)\n",
    "fig.show()"
   ]
  },
  {
   "cell_type": "markdown",
   "id": "6bdaa173-b418-4778-a419-882b6dee7b57",
   "metadata": {},
   "source": [
    "## Let's try with a Random forest regressor model !"
   ]
  },
  {
   "cell_type": "code",
   "execution_count": 141,
   "id": "fd2d492a-0253-4dd0-ac50-8c6782393818",
   "metadata": {},
   "outputs": [
    {
     "name": "stdout",
     "output_type": "stream",
     "text": [
      "R2 score on training set :  0.9688353272204655\n",
      "R2 score on test set :  0.7626029556738074\n"
     ]
    }
   ],
   "source": [
    "from sklearn.ensemble import RandomForestRegressor\n",
    "regressor = RandomForestRegressor()\n",
    "regressor.fit(X_train, Y_train)\n",
    "Y_train_pred = regressor.predict(X_train)\n",
    "Y_test_pred = regressor.predict(X_test)\n",
    "print(\"R2 score on training set : \", r2_score(Y_train, Y_train_pred))\n",
    "print(\"R2 score on test set : \", r2_score(Y_test, Y_test_pred))"
   ]
  },
  {
   "cell_type": "markdown",
   "id": "49d589b7-8f92-4f49-b157-762ae49f47b8",
   "metadata": {},
   "source": [
    "### Results are good but it overfits too much !"
   ]
  },
  {
   "cell_type": "markdown",
   "id": "c4e6e227-1f72-4826-9249-dce4e26339ab",
   "metadata": {},
   "source": [
    "### Let's try to fight overfitting with cross validation."
   ]
  },
  {
   "cell_type": "code",
   "execution_count": 143,
   "id": "98a3e4e9-eebe-4158-81c7-175faa322ac8",
   "metadata": {},
   "outputs": [
    {
     "data": {
      "text/plain": [
       "{'bootstrap': True,\n",
       " 'ccp_alpha': 0.0,\n",
       " 'criterion': 'squared_error',\n",
       " 'max_depth': None,\n",
       " 'max_features': 1.0,\n",
       " 'max_leaf_nodes': None,\n",
       " 'max_samples': None,\n",
       " 'min_impurity_decrease': 0.0,\n",
       " 'min_samples_leaf': 1,\n",
       " 'min_samples_split': 2,\n",
       " 'min_weight_fraction_leaf': 0.0,\n",
       " 'n_estimators': 100,\n",
       " 'n_jobs': None,\n",
       " 'oob_score': False,\n",
       " 'random_state': None,\n",
       " 'verbose': 0,\n",
       " 'warm_start': False}"
      ]
     },
     "execution_count": 143,
     "metadata": {},
     "output_type": "execute_result"
    }
   ],
   "source": [
    "regressor.get_params()"
   ]
  },
  {
   "cell_type": "code",
   "execution_count": 147,
   "id": "4a62aba5-29c0-4c46-8bc7-5b93d3321e11",
   "metadata": {},
   "outputs": [
    {
     "name": "stdout",
     "output_type": "stream",
     "text": [
      "...Done.\n",
      "Best hyperparameters :  {'max_depth': 10, 'min_samples_leaf': 1, 'min_samples_split': 2, 'n_estimators': 80, 'n_jobs': -1}\n",
      "Best validation accuracy :  0.747548095980581\n"
     ]
    }
   ],
   "source": [
    "from sklearn.model_selection import GridSearchCV\n",
    "# Grid of values to be tested\n",
    "params = {\n",
    "    'n_jobs':[-1],\n",
    "    'max_depth': [2, 4, 6, 8, 10],\n",
    "    'min_samples_leaf': [1, 2, 5],\n",
    "    'min_samples_split': [2, 4, 8],\n",
    "    'n_estimators': [10, 20, 40, 60, 80, 100]\n",
    "}\n",
    "gridsearch = GridSearchCV(regressor, param_grid = params, cv = 3) # cv : the number of folds to be used for CV\n",
    "gridsearch.fit(X_train, Y_train)\n",
    "print(\"...Done.\")\n",
    "print(\"Best hyperparameters : \", gridsearch.best_params_)\n",
    "print(\"Best validation accuracy : \", gridsearch.best_score_)"
   ]
  },
  {
   "cell_type": "code",
   "execution_count": 148,
   "id": "b5c6f118-2053-4949-8e7a-cd0099d5ef10",
   "metadata": {},
   "outputs": [
    {
     "name": "stdout",
     "output_type": "stream",
     "text": [
      "R2 score on training set :  0.8897074559003001\n",
      "R2 score on test set :  0.7527465123473241\n"
     ]
    }
   ],
   "source": [
    "Y_train_pred = gridsearch.predict(X_train)\n",
    "Y_test_pred = gridsearch.predict(X_test)\n",
    "print(\"R2 score on training set : \", r2_score(Y_train, Y_train_pred))\n",
    "print(\"R2 score on test set : \", r2_score(Y_test, Y_test_pred))"
   ]
  },
  {
   "cell_type": "markdown",
   "id": "058adcb2-0d7d-460a-9fda-56e60185338f",
   "metadata": {},
   "source": [
    "### We did not improve the testing score but there is less overfitting ! "
   ]
  },
  {
   "cell_type": "markdown",
   "id": "3f94dd36-2acd-4b15-b8c8-14fad0eb4dab",
   "metadata": {},
   "source": [
    "## Let's try with XGBoost regressor !"
   ]
  },
  {
   "cell_type": "code",
   "execution_count": 149,
   "id": "f48ab3be-36d7-4e91-bfc3-992424502b09",
   "metadata": {},
   "outputs": [
    {
     "name": "stdout",
     "output_type": "stream",
     "text": [
      "R2 score on training set :  0.9504629565506363\n",
      "R2 score on test set :  0.7825567595787086\n"
     ]
    }
   ],
   "source": [
    "from xgboost import XGBRegressor\n",
    "regressor = XGBRegressor(n_jobs=-1) \n",
    "regressor.fit(X_train, Y_train)\n",
    "Y_train_pred = regressor.predict(X_train)\n",
    "Y_test_pred = regressor.predict(X_test)\n",
    "print(\"R2 score on training set : \", r2_score(Y_train, Y_train_pred))\n",
    "print(\"R2 score on test set : \", r2_score(Y_test, Y_test_pred))"
   ]
  },
  {
   "cell_type": "markdown",
   "id": "70fe8d96-0c30-4dc7-83e6-35546059c045",
   "metadata": {},
   "source": [
    "### Score is better but there is still overfitting. Let's try to fight it !"
   ]
  },
  {
   "cell_type": "code",
   "execution_count": 150,
   "id": "bdcf4160-6ee1-4dec-8150-d0fba9c504ca",
   "metadata": {},
   "outputs": [
    {
     "data": {
      "text/plain": [
       "{'objective': 'reg:squarederror',\n",
       " 'base_score': 0.5,\n",
       " 'booster': 'gbtree',\n",
       " 'callbacks': None,\n",
       " 'colsample_bylevel': 1,\n",
       " 'colsample_bynode': 1,\n",
       " 'colsample_bytree': 1,\n",
       " 'early_stopping_rounds': None,\n",
       " 'enable_categorical': False,\n",
       " 'eval_metric': None,\n",
       " 'feature_types': None,\n",
       " 'gamma': 0,\n",
       " 'gpu_id': -1,\n",
       " 'grow_policy': 'depthwise',\n",
       " 'importance_type': None,\n",
       " 'interaction_constraints': '',\n",
       " 'learning_rate': 0.300000012,\n",
       " 'max_bin': 256,\n",
       " 'max_cat_threshold': 64,\n",
       " 'max_cat_to_onehot': 4,\n",
       " 'max_delta_step': 0,\n",
       " 'max_depth': 6,\n",
       " 'max_leaves': 0,\n",
       " 'min_child_weight': 1,\n",
       " 'missing': nan,\n",
       " 'monotone_constraints': '()',\n",
       " 'n_estimators': 100,\n",
       " 'n_jobs': -1,\n",
       " 'num_parallel_tree': 1,\n",
       " 'predictor': 'auto',\n",
       " 'random_state': 0,\n",
       " 'reg_alpha': 0,\n",
       " 'reg_lambda': 1,\n",
       " 'sampling_method': 'uniform',\n",
       " 'scale_pos_weight': 1,\n",
       " 'subsample': 1,\n",
       " 'tree_method': 'exact',\n",
       " 'validate_parameters': 1,\n",
       " 'verbosity': None}"
      ]
     },
     "execution_count": 150,
     "metadata": {},
     "output_type": "execute_result"
    }
   ],
   "source": [
    "regressor.get_params()"
   ]
  },
  {
   "cell_type": "code",
   "execution_count": 152,
   "id": "867d5341-3af7-46d9-b60e-d8813acbf7c6",
   "metadata": {},
   "outputs": [
    {
     "name": "stdout",
     "output_type": "stream",
     "text": [
      "...Done.\n",
      "Best hyperparameters :  {'gamma': 5, 'max_depth': 6, 'min_child_weight': 5, 'n_estimators': 40, 'n_jobs': -1}\n",
      "Best validation accuracy :  0.7659184232119888\n"
     ]
    }
   ],
   "source": [
    "params = {\n",
    "    'n_jobs':[-1],\n",
    "    'max_depth': [2, 4, 6, 8, 10],\n",
    "    'min_child_weight': [0, 1, 2, 5],\n",
    "    'gamma': [0, 1, 2, 5],\n",
    "    'n_estimators': [10, 20, 40, 60, 80, 100, 120, 140, 160]\n",
    "}\n",
    "gridsearch = GridSearchCV(regressor, param_grid = params, cv = 3) # cv : the number of folds to be used for CV\n",
    "gridsearch.fit(X_train, Y_train)\n",
    "print(\"...Done.\")\n",
    "print(\"Best hyperparameters : \", gridsearch.best_params_)\n",
    "print(\"Best validation accuracy : \", gridsearch.best_score_)"
   ]
  },
  {
   "cell_type": "code",
   "execution_count": 153,
   "id": "7920f2b6-b359-475c-8a87-572726355979",
   "metadata": {},
   "outputs": [
    {
     "name": "stdout",
     "output_type": "stream",
     "text": [
      "R2 score on training set :  0.8796766680103631\n",
      "R2 score on test set :  0.7765098454330447\n"
     ]
    }
   ],
   "source": [
    "Y_train_pred = gridsearch.predict(X_train)\n",
    "Y_test_pred = gridsearch.predict(X_test)\n",
    "print(\"R2 score on training set : \", r2_score(Y_train, Y_train_pred))\n",
    "print(\"R2 score on test set : \", r2_score(Y_test, Y_test_pred))"
   ]
  },
  {
   "cell_type": "markdown",
   "id": "040a69fe-e6dd-4987-b49e-da68b21dc3f2",
   "metadata": {},
   "source": [
    "### Test score is almost the same but there is less overfitting."
   ]
  },
  {
   "cell_type": "code",
   "execution_count": 157,
   "id": "77008810-ad46-49ea-9ff5-a064f66b44d3",
   "metadata": {},
   "outputs": [
    {
     "data": {
      "text/plain": [
       "{'gamma': 5,\n",
       " 'max_depth': 6,\n",
       " 'min_child_weight': 5,\n",
       " 'n_estimators': 40,\n",
       " 'n_jobs': -1}"
      ]
     },
     "execution_count": 157,
     "metadata": {},
     "output_type": "execute_result"
    }
   ],
   "source": [
    "gridsearch.best_params_"
   ]
  },
  {
   "cell_type": "markdown",
   "id": "c2d4f5f7-0954-45af-9e90-2682b2ae73bf",
   "metadata": {},
   "source": [
    "# Saving model and preprocessor to be used by web app predictor api"
   ]
  },
  {
   "cell_type": "code",
   "execution_count": 162,
   "id": "2cf32454-cfa0-4c1c-92a1-0a7e3bc21d21",
   "metadata": {},
   "outputs": [],
   "source": [
    "from pickle import dump\n",
    "dump(preprocessor, open('./Webapp_api/preprocessor.dmp', 'wb'))\n",
    "dump(gridsearch.best_estimator_, open('./Webapp_api/regressor.dmp', 'wb'))"
   ]
  },
  {
   "cell_type": "code",
   "execution_count": null,
   "id": "56fe56a3-8374-4525-9362-aa385ada7d24",
   "metadata": {},
   "outputs": [],
   "source": []
  }
 ],
 "metadata": {
  "kernelspec": {
   "display_name": "Python 3 (ipykernel)",
   "language": "python",
   "name": "python3"
  },
  "language_info": {
   "codemirror_mode": {
    "name": "ipython",
    "version": 3
   },
   "file_extension": ".py",
   "mimetype": "text/x-python",
   "name": "python",
   "nbconvert_exporter": "python",
   "pygments_lexer": "ipython3",
   "version": "3.10.7"
  }
 },
 "nbformat": 4,
 "nbformat_minor": 5
}
